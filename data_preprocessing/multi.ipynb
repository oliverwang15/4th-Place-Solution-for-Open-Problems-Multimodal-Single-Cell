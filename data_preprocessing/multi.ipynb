{
 "cells": [
  {
   "cell_type": "code",
   "execution_count": null,
   "metadata": {},
   "outputs": [],
   "source": [
    "import pandas as pd\n",
    "import numpy as np\n",
    "import pickle\n",
    "import scipy\n",
    "import gc\n",
    "from sklearn.decomposition import PCA, TruncatedSVD,KernelPCA\n",
    "from sklearn.manifold import TSNE\n",
    "from sklearn.preprocessing import StandardScaler,MinMaxScaler,LabelEncoder, OneHotEncoder,Normalizer\n",
    "import seaborn as sns\n",
    "from umap import UMAP\n",
    "from tqdm.notebook import tqdm\n",
    "import seaborn as sns\n",
    "import matplotlib.pyplot as plt\n",
    "import numpy as np"
   ]
  },
  {
   "cell_type": "code",
   "execution_count": null,
   "metadata": {},
   "outputs": [],
   "source": [
    "root_path = \"../../../input/open-problems-raw-counts/\""
   ]
  },
  {
   "cell_type": "markdown",
   "metadata": {},
   "source": [
    "## Inputs"
   ]
  },
  {
   "cell_type": "code",
   "execution_count": null,
   "metadata": {},
   "outputs": [],
   "source": [
    "def tfidf(X):\n",
    "    r\"\"\"\n",
    "    TF-IDF normalization (following the Seurat v3 approach)\n",
    "    Parameters\n",
    "    ----------\n",
    "    X\n",
    "        Input matrix\n",
    "    Returns\n",
    "    -------\n",
    "    X_tfidf\n",
    "        TF-IDF normalized matrix\n",
    "    \"\"\"\n",
    "    idf = X.shape[0] / X.sum(axis=0)\n",
    "    if scipy.sparse.issparse(X):\n",
    "        tf = X.multiply(1 / X.sum(axis=1))\n",
    "        return tf.multiply(idf)\n",
    "    else:\n",
    "        tf = X / X.sum(axis=1, keepdims=True)\n",
    "        return tf * idf"
   ]
  },
  {
   "cell_type": "code",
   "execution_count": null,
   "metadata": {},
   "outputs": [],
   "source": [
    "train = pd.read_pickle(f\"{root_path}train_multi_inputs_raw.pkl\")\n",
    "train_indexes = train.index\n",
    "train = scipy.sparse.csr_matrix(train)\n",
    "train.shape"
   ]
  },
  {
   "cell_type": "code",
   "execution_count": null,
   "metadata": {},
   "outputs": [],
   "source": [
    "test = pd.read_pickle(f\"{root_path}test_multi_inputs_raw.pkl\")\n",
    "test = scipy.sparse.csr_matrix(test)\n",
    "test.shape"
   ]
  },
  {
   "cell_type": "code",
   "execution_count": null,
   "metadata": {},
   "outputs": [],
   "source": [
    "all = scipy.sparse.vstack([train,test])\n",
    "del train,test\n",
    "gc.collect()\n",
    "all.shape"
   ]
  },
  {
   "cell_type": "code",
   "execution_count": null,
   "metadata": {},
   "outputs": [],
   "source": [
    "all = tfidf(all)\n",
    "all = np.log1p(all * 1e4)"
   ]
  },
  {
   "cell_type": "code",
   "execution_count": null,
   "metadata": {},
   "outputs": [],
   "source": [
    "pure_tsvd = TruncatedSVD(n_components=512, random_state=42)\n",
    "all_tsvd = pure_tsvd.fit_transform(all)\n",
    "print(pure_tsvd.explained_variance_ratio_.sum())"
   ]
  },
  {
   "cell_type": "code",
   "execution_count": null,
   "metadata": {},
   "outputs": [],
   "source": [
    "np.savez(\"../new_multi_train_tsvd.npz\",all_tsvd[:105933])\n",
    "np.savez(\"../new_multi_test_tsvd.npz\",all_tsvd[105933:])"
   ]
  },
  {
   "cell_type": "markdown",
   "metadata": {},
   "source": [
    "## Targets"
   ]
  },
  {
   "cell_type": "code",
   "execution_count": null,
   "metadata": {},
   "outputs": [],
   "source": [
    "targets = pd.read_hdf(\"../../../input/open-problems-multimodal/train_multi_targets.h5\")\n",
    "targets.shape"
   ]
  },
  {
   "cell_type": "code",
   "execution_count": null,
   "metadata": {},
   "outputs": [],
   "source": [
    "targets = targets.values\n",
    "targets -= targets.mean(axis=1, keepdims=True)\n",
    "targets /= targets.std(axis=1, ddof=1, keepdims=True)"
   ]
  },
  {
   "cell_type": "code",
   "execution_count": null,
   "metadata": {},
   "outputs": [],
   "source": [
    "pure_tsvd_ = TruncatedSVD(n_components=1024, random_state=42)\n",
    "targets_other = pure_tsvd_.fit_transform(targets)\n",
    "print(pure_tsvd_.explained_variance_ratio_.sum())"
   ]
  },
  {
   "cell_type": "code",
   "execution_count": null,
   "metadata": {},
   "outputs": [],
   "source": [
    "with open(\"./new_multi_tsvd_1024.pkl\",\"wb\") as f:\n",
    "    pickle.dump(pure_tsvd_,f)"
   ]
  },
  {
   "cell_type": "code",
   "execution_count": null,
   "metadata": {},
   "outputs": [],
   "source": [
    "np.savez(\"new_multi_target_tsvd.npz\",targets_other)"
   ]
  },
  {
   "cell_type": "code",
   "execution_count": null,
   "metadata": {},
   "outputs": [],
   "source": [
    "np.savez_compressed(\"new_multi_target.npz\",targets)"
   ]
  },
  {
   "cell_type": "markdown",
   "metadata": {},
   "source": [
    "## Get new and old indexs"
   ]
  },
  {
   "cell_type": "code",
   "execution_count": null,
   "metadata": {},
   "outputs": [],
   "source": [
    "train_ori_col= np.load(\"../../../input/multimodal-single-cell-as-sparse-matrix/train_multi_inputs_idxcol.npz\",allow_pickle=True)[\"index\"]"
   ]
  },
  {
   "cell_type": "code",
   "execution_count": null,
   "metadata": {},
   "outputs": [],
   "source": [
    "in_ori = [i for i in tqdm(train_indexes) if i in train_ori_col]\n",
    "len(in_ori)  # 105868"
   ]
  },
  {
   "cell_type": "code",
   "execution_count": null,
   "metadata": {},
   "outputs": [],
   "source": [
    "in_ori_idx = [np.where(train_indexes==i)[0].item() for i in tqdm(in_ori)]\n",
    "in_ori_ori_idx = [np.where(train_ori_col==i)[0].item() for i in tqdm(in_ori)]"
   ]
  },
  {
   "cell_type": "code",
   "execution_count": null,
   "metadata": {},
   "outputs": [],
   "source": [
    "with open(\"multi_in_ori_raw_idx.pkl\",\"wb\") as f:\n",
    "    pickle.dump(in_ori_idx,f)\n",
    "with open(\"multi_in_ori_ori_idx.pkl\",\"wb\") as f:\n",
    "    pickle.dump(in_ori_ori_idx,f)"
   ]
  },
  {
   "cell_type": "code",
   "execution_count": null,
   "metadata": {},
   "outputs": [],
   "source": []
  }
 ],
 "metadata": {
  "kernelspec": {
   "display_name": "Python 3.9.12 ('base')",
   "language": "python",
   "name": "python3"
  },
  "language_info": {
   "name": "python",
   "version": "3.9.12"
  },
  "orig_nbformat": 4,
  "vscode": {
   "interpreter": {
    "hash": "ad2bdc8ecc057115af97d19610ffacc2b4e99fae6737bb82f5d7fb13d2f2c186"
   }
  }
 },
 "nbformat": 4,
 "nbformat_minor": 2
}
