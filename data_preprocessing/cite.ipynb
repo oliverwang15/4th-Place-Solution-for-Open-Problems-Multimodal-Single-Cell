{
 "cells": [
  {
   "cell_type": "code",
   "execution_count": 7,
   "metadata": {},
   "outputs": [],
   "source": [
    "import pandas as pd\n",
    "import numpy as np\n",
    "import pickle\n",
    "import scipy\n",
    "import gc\n",
    "from sklearn.decomposition import PCA, TruncatedSVD,KernelPCA\n",
    "from sklearn.manifold import TSNE\n",
    "from sklearn.preprocessing import StandardScaler,MinMaxScaler,LabelEncoder, OneHotEncoder\n",
    "from sklearn.ensemble import RandomForestRegressor\n",
    "import seaborn as sns\n",
    "from umap import UMAP\n",
    "from tqdm.notebook import tqdm\n",
    "import seaborn as sns\n",
    "import matplotlib.pyplot as plt\n",
    "import numpy as np\n",
    "import numba # for speed up"
   ]
  },
  {
   "cell_type": "markdown",
   "metadata": {},
   "source": [
    "## Dimension Reduction"
   ]
  },
  {
   "cell_type": "code",
   "execution_count": 3,
   "metadata": {},
   "outputs": [
    {
     "data": {
      "text/plain": [
       "(70988, 22085)"
      ]
     },
     "execution_count": 3,
     "metadata": {},
     "output_type": "execute_result"
    }
   ],
   "source": [
    "train = pd.read_hdf(\"../../../input/open-problems-raw-counts/train_cite_inputs_raw.h5\")\n",
    "train_columns = train.columns\n",
    "train_indexes = train.index\n",
    "train.shape"
   ]
  },
  {
   "cell_type": "code",
   "execution_count": 4,
   "metadata": {},
   "outputs": [
    {
     "data": {
      "text/plain": [
       "484"
      ]
     },
     "execution_count": 4,
     "metadata": {},
     "output_type": "execute_result"
    }
   ],
   "source": [
    "all_zeros_features = train.columns[train.sum()==0].to_list()\n",
    "none_zeros_features = [i for i in train.columns if i not in all_zeros_features]\n",
    "len(all_zeros_features)"
   ]
  },
  {
   "cell_type": "code",
   "execution_count": 5,
   "metadata": {},
   "outputs": [
    {
     "data": {
      "text/plain": [
       "(48203, 22085)"
      ]
     },
     "execution_count": 5,
     "metadata": {},
     "output_type": "execute_result"
    }
   ],
   "source": [
    "test = pd.read_hdf(\"../../../input/open-problems-raw-counts/test_cite_inputs_raw.h5\")\n",
    "test_indexes = test.index\n",
    "test.shape"
   ]
  },
  {
   "cell_type": "code",
   "execution_count": 6,
   "metadata": {},
   "outputs": [
    {
     "data": {
      "text/plain": [
       "(119191, 21601)"
      ]
     },
     "execution_count": 6,
     "metadata": {},
     "output_type": "execute_result"
    }
   ],
   "source": [
    "train = train[none_zeros_features]\n",
    "test = test[none_zeros_features]\n",
    "train = scipy.sparse.csr_matrix(train)\n",
    "test = scipy.sparse.csr_matrix(test)\n",
    "all = scipy.sparse.vstack([train,test])\n",
    "del train,test\n",
    "gc.collect()\n",
    "all.shape"
   ]
  },
  {
   "cell_type": "code",
   "execution_count": 22,
   "metadata": {},
   "outputs": [
    {
     "data": {
      "text/plain": [
       "1528"
      ]
     },
     "execution_count": 22,
     "metadata": {},
     "output_type": "execute_result"
    }
   ],
   "source": [
    "test_ori = pd.read_hdf(\"../../../input/open-problems-multimodal/test_cite_inputs.h5\")\n",
    "test_indexes_ori = test_ori.index\n",
    "del test_ori\n",
    "gc.collect()"
   ]
  },
  {
   "cell_type": "code",
   "execution_count": 8,
   "metadata": {},
   "outputs": [],
   "source": [
    "all_log = np.log1p(all)\n",
    "all_indexes = train_indexes.to_list()+test_indexes.to_list()"
   ]
  },
  {
   "cell_type": "markdown",
   "metadata": {},
   "source": [
    "### Tsvd"
   ]
  },
  {
   "cell_type": "code",
   "execution_count": 8,
   "metadata": {},
   "outputs": [
    {
     "name": "stdout",
     "output_type": "stream",
     "text": [
      "0.32744268\n",
      "CPU times: total: 1min 34s\n",
      "Wall time: 3min 12s\n"
     ]
    }
   ],
   "source": [
    "%%time\n",
    "pure_tsvd = TruncatedSVD(n_components=128, random_state=42)\n",
    "train_tsvd = pure_tsvd.fit_transform(all_log)\n",
    "print(pure_tsvd.explained_variance_ratio_.sum())"
   ]
  },
  {
   "cell_type": "code",
   "execution_count": 9,
   "metadata": {},
   "outputs": [
    {
     "data": {
      "text/plain": [
       "(48663, 128)"
      ]
     },
     "execution_count": 9,
     "metadata": {},
     "output_type": "execute_result"
    }
   ],
   "source": [
    "train_tsvd = pd.DataFrame(train_tsvd,index = all_indexes)\n",
    "test = train_tsvd.iloc[70988:]\n",
    "test = test.drop_duplicates()\n",
    "test = test.reindex(test_indexes_ori)\n",
    "test = test.fillna(0)\n",
    "test.shape"
   ]
  },
  {
   "cell_type": "code",
   "execution_count": 10,
   "metadata": {},
   "outputs": [],
   "source": [
    "np.savez(\"cite_train_tsvd.npz\", train_tsvd.iloc[:70988])\n",
    "np.savez(\"cite_test_tsvd.npz\",test)"
   ]
  },
  {
   "cell_type": "code",
   "execution_count": 11,
   "metadata": {},
   "outputs": [
    {
     "data": {
      "text/plain": [
       "0"
      ]
     },
     "execution_count": 11,
     "metadata": {},
     "output_type": "execute_result"
    }
   ],
   "source": [
    "del train_tsvd,pure_tsvd,test\n",
    "gc.collect()"
   ]
  },
  {
   "cell_type": "markdown",
   "metadata": {},
   "source": [
    "### UMAP"
   ]
  },
  {
   "cell_type": "code",
   "execution_count": 8,
   "metadata": {},
   "outputs": [
    {
     "name": "stdout",
     "output_type": "stream",
     "text": [
      "UMAP(n_components=128, n_neighbors=16, random_state=42, verbose=True)\n",
      "Thu Nov 17 19:02:07 2022 Construct fuzzy simplicial set\n",
      "Thu Nov 17 19:02:16 2022 Finding Nearest Neighbors\n",
      "Thu Nov 17 19:02:19 2022 Building RP forest with 22 trees\n",
      "Thu Nov 17 19:05:03 2022 NN descent for 17 iterations\n",
      "\t 1  /  17\n",
      "\t 2  /  17\n",
      "\t 3  /  17\n",
      "\t 4  /  17\n",
      "\t 5  /  17\n",
      "\t 6  /  17\n",
      "\tStopping threshold met -- exiting after 6 iterations\n",
      "Thu Nov 17 19:10:56 2022 Finished Nearest Neighbor Search\n",
      "Thu Nov 17 19:11:39 2022 Construct embedding\n"
     ]
    },
    {
     "data": {
      "application/vnd.jupyter.widget-view+json": {
       "model_id": "8537a12cce6144918480133e9670b9af",
       "version_major": 2,
       "version_minor": 0
      },
      "text/plain": [
       "Epochs completed:   0%|            0/200 [00:00]"
      ]
     },
     "metadata": {},
     "output_type": "display_data"
    },
    {
     "name": "stdout",
     "output_type": "stream",
     "text": [
      "Thu Nov 17 19:19:33 2022 Finished embedding\n",
      "CPU times: total: 36min 16s\n",
      "Wall time: 17min 56s\n"
     ]
    }
   ],
   "source": [
    "%%time\n",
    "umap = UMAP(n_neighbors = 16,n_components=128, random_state=42,verbose = True,low_memory = True,n_jobs = -1)\n",
    "train_umap = umap.fit_transform(all_log.toarray())"
   ]
  },
  {
   "cell_type": "code",
   "execution_count": 9,
   "metadata": {},
   "outputs": [
    {
     "data": {
      "text/plain": [
       "(48663, 128)"
      ]
     },
     "execution_count": 9,
     "metadata": {},
     "output_type": "execute_result"
    }
   ],
   "source": [
    "train_umap = pd.DataFrame(train_umap,index = all_indexes)\n",
    "test = train_umap.iloc[70988:]\n",
    "test = test.drop_duplicates()\n",
    "test = test.reindex(test_indexes_ori)\n",
    "test = test.fillna(0)\n",
    "test.shape"
   ]
  },
  {
   "cell_type": "code",
   "execution_count": 10,
   "metadata": {},
   "outputs": [],
   "source": [
    "np.savez(\"cite_train_umap.npz\", train_umap.iloc[:70988])\n",
    "np.savez(\"cite_test_umap.npz\",test)"
   ]
  },
  {
   "cell_type": "code",
   "execution_count": null,
   "metadata": {},
   "outputs": [],
   "source": [
    "del train_umap,umap,test\n",
    "gc.collect()"
   ]
  },
  {
   "cell_type": "markdown",
   "metadata": {},
   "source": [
    "### Novel's method [link](https://github.com/openproblems-bio/neurips2021_multimodal_topmethods/blob/dc7bd58dacbe804dcc7be047531d795b1b04741e/src/predict_modality/methods/novel/resources/helper_functions.py)"
   ]
  },
  {
   "cell_type": "code",
   "execution_count": 8,
   "metadata": {},
   "outputs": [],
   "source": [
    "def tfidf(X):\n",
    "    idf = X.shape[0] / X.sum(axis=0)\n",
    "    if scipy.sparse.issparse(X):\n",
    "        tf = X.multiply(1 / X.sum(axis=1))\n",
    "        return tf.multiply(idf)\n",
    "    else:\n",
    "        tf = X / X.sum(axis=1, keepdims=True)\n",
    "        return tf * idf"
   ]
  },
  {
   "cell_type": "code",
   "execution_count": 9,
   "metadata": {},
   "outputs": [],
   "source": [
    "all_novel = tfidf(all)\n",
    "all_novel = all_novel.tocsr()\n",
    "all_novel = np.log1p(all_novel * 1e4)"
   ]
  },
  {
   "cell_type": "code",
   "execution_count": 10,
   "metadata": {},
   "outputs": [
    {
     "name": "stdout",
     "output_type": "stream",
     "text": [
      "0.08021713892446569\n",
      "CPU times: total: 3min 52s\n",
      "Wall time: 10min 11s\n"
     ]
    }
   ],
   "source": [
    "%%time\n",
    "tsvd = TruncatedSVD(n_components=128, random_state=42)\n",
    "train_novel = tsvd.fit_transform(all_novel)\n",
    "print(tsvd.explained_variance_ratio_.sum())"
   ]
  },
  {
   "cell_type": "code",
   "execution_count": 11,
   "metadata": {},
   "outputs": [
    {
     "data": {
      "text/plain": [
       "(48663, 128)"
      ]
     },
     "execution_count": 11,
     "metadata": {},
     "output_type": "execute_result"
    }
   ],
   "source": [
    "train_novel = pd.DataFrame(train_novel,index = all_indexes)\n",
    "test = train_novel.iloc[70988:]\n",
    "test = test.drop_duplicates()\n",
    "test = test.reindex(test_indexes_ori)\n",
    "test = test.fillna(0)\n",
    "test.shape"
   ]
  },
  {
   "cell_type": "code",
   "execution_count": 13,
   "metadata": {},
   "outputs": [],
   "source": [
    "np.savez(\"cite_train_novel.npz\", train_novel.iloc[:70988])\n",
    "np.savez(\"cite_test_novel.npz\",test)"
   ]
  },
  {
   "cell_type": "code",
   "execution_count": 14,
   "metadata": {},
   "outputs": [
    {
     "data": {
      "text/plain": [
       "520"
      ]
     },
     "execution_count": 14,
     "metadata": {},
     "output_type": "execute_result"
    }
   ],
   "source": [
    "del train_novel,tsvd,test\n",
    "gc.collect()"
   ]
  },
  {
   "cell_type": "markdown",
   "metadata": {},
   "source": [
    "## Featurn impostance"
   ]
  },
  {
   "cell_type": "markdown",
   "metadata": {},
   "source": [
    "### name importance"
   ]
  },
  {
   "cell_type": "code",
   "execution_count": 3,
   "metadata": {},
   "outputs": [
    {
     "data": {
      "text/plain": [
       "(70988, 140)"
      ]
     },
     "execution_count": 3,
     "metadata": {},
     "output_type": "execute_result"
    }
   ],
   "source": [
    "target = pd.read_hdf(\"../../../input/open-problems-multimodal/train_cite_targets.h5\")\n",
    "target_columns = target.columns\n",
    "target.shape"
   ]
  },
  {
   "cell_type": "code",
   "execution_count": 15,
   "metadata": {},
   "outputs": [],
   "source": [
    "import mygene\n",
    "mg = mygene.MyGeneInfo()"
   ]
  },
  {
   "cell_type": "code",
   "execution_count": 18,
   "metadata": {},
   "outputs": [],
   "source": [
    "train_columns = [(i,i.split(\"_\")) for i in train_columns]\n",
    "train_columns = [(i,j[0],j[1]) for i,j in train_columns]"
   ]
  },
  {
   "cell_type": "code",
   "execution_count": 20,
   "metadata": {},
   "outputs": [
    {
     "data": {
      "text/plain": [
       "['ENSG00000121410',\n",
       " 'ENSG00000268895',\n",
       " 'ENSG00000175899',\n",
       " 'ENSG00000245105',\n",
       " 'ENSG00000166535']"
      ]
     },
     "execution_count": 20,
     "metadata": {},
     "output_type": "execute_result"
    }
   ],
   "source": [
    "gene_quary =[i for _,i,_ in train_columns]\n",
    "gene_quary[:5]"
   ]
  },
  {
   "cell_type": "code",
   "execution_count": 21,
   "metadata": {},
   "outputs": [
    {
     "name": "stdout",
     "output_type": "stream",
     "text": [
      "querying 1-1000...done.\n",
      "querying 1001-2000...done.\n",
      "querying 2001-3000...done.\n",
      "querying 3001-4000...done.\n",
      "querying 4001-5000...done.\n",
      "querying 5001-6000...done.\n",
      "querying 6001-7000...done.\n",
      "querying 7001-8000...done.\n",
      "querying 8001-9000...done.\n",
      "querying 9001-10000...done.\n",
      "querying 10001-11000...done.\n",
      "querying 11001-12000...done.\n",
      "querying 12001-13000...done.\n",
      "querying 13001-14000...done.\n",
      "querying 14001-15000...done.\n",
      "querying 15001-16000...done.\n",
      "querying 16001-17000...done.\n",
      "querying 17001-18000...done.\n",
      "querying 18001-19000...done.\n",
      "querying 19001-20000...done.\n",
      "querying 20001-21000...done.\n",
      "querying 21001-22000...done.\n",
      "querying 22001-22085...done.\n"
     ]
    }
   ],
   "source": [
    "gene_res = mg.getgenes(gene_quary,as_dataframe = True)"
   ]
  },
  {
   "cell_type": "code",
   "execution_count": 22,
   "metadata": {},
   "outputs": [
    {
     "data": {
      "text/html": [
       "<div>\n",
       "<style scoped>\n",
       "    .dataframe tbody tr th:only-of-type {\n",
       "        vertical-align: middle;\n",
       "    }\n",
       "\n",
       "    .dataframe tbody tr th {\n",
       "        vertical-align: top;\n",
       "    }\n",
       "\n",
       "    .dataframe thead th {\n",
       "        text-align: right;\n",
       "    }\n",
       "</style>\n",
       "<table border=\"1\" class=\"dataframe\">\n",
       "  <thead>\n",
       "    <tr style=\"text-align: right;\">\n",
       "      <th></th>\n",
       "      <th>colums_id</th>\n",
       "      <th>query</th>\n",
       "      <th>aias</th>\n",
       "    </tr>\n",
       "  </thead>\n",
       "  <tbody>\n",
       "    <tr>\n",
       "      <th>0</th>\n",
       "      <td>ENSG00000121410_A1BG</td>\n",
       "      <td>ENSG00000121410</td>\n",
       "      <td>A1BG</td>\n",
       "    </tr>\n",
       "  </tbody>\n",
       "</table>\n",
       "</div>"
      ],
      "text/plain": [
       "              colums_id            query  aias\n",
       "0  ENSG00000121410_A1BG  ENSG00000121410  A1BG"
      ]
     },
     "execution_count": 22,
     "metadata": {},
     "output_type": "execute_result"
    }
   ],
   "source": [
    "train_columns = pd.DataFrame(train_columns)\n",
    "train_columns.columns = [\"colums_id\",\"query\",\"aias\"]\n",
    "train_columns.head(1)"
   ]
  },
  {
   "cell_type": "code",
   "execution_count": 23,
   "metadata": {},
   "outputs": [
    {
     "data": {
      "text/html": [
       "<div>\n",
       "<style scoped>\n",
       "    .dataframe tbody tr th:only-of-type {\n",
       "        vertical-align: middle;\n",
       "    }\n",
       "\n",
       "    .dataframe tbody tr th {\n",
       "        vertical-align: top;\n",
       "    }\n",
       "\n",
       "    .dataframe thead th {\n",
       "        text-align: right;\n",
       "    }\n",
       "</style>\n",
       "<table border=\"1\" class=\"dataframe\">\n",
       "  <thead>\n",
       "    <tr style=\"text-align: right;\">\n",
       "      <th></th>\n",
       "      <th>colums_id</th>\n",
       "      <th>query</th>\n",
       "      <th>aias</th>\n",
       "      <th>alias</th>\n",
       "    </tr>\n",
       "  </thead>\n",
       "  <tbody>\n",
       "    <tr>\n",
       "      <th>0</th>\n",
       "      <td>ENSG00000121410_A1BG</td>\n",
       "      <td>ENSG00000121410</td>\n",
       "      <td>A1BG</td>\n",
       "      <td>[A1B, ABG, GAB, HYST2477]</td>\n",
       "    </tr>\n",
       "  </tbody>\n",
       "</table>\n",
       "</div>"
      ],
      "text/plain": [
       "              colums_id            query  aias                      alias\n",
       "0  ENSG00000121410_A1BG  ENSG00000121410  A1BG  [A1B, ABG, GAB, HYST2477]"
      ]
     },
     "execution_count": 23,
     "metadata": {},
     "output_type": "execute_result"
    }
   ],
   "source": [
    "train_columns_new = pd.merge(train_columns,gene_res.reset_index()[[\"query\",\"alias\"]],on = \"query\",how = \"inner\")\n",
    "train_columns_new.head(1)"
   ]
  },
  {
   "cell_type": "code",
   "execution_count": 25,
   "metadata": {},
   "outputs": [
    {
     "data": {
      "application/vnd.jupyter.widget-view+json": {
       "model_id": "0732911d51eb49cf84daa989bb851b96",
       "version_major": 2,
       "version_minor": 0
      },
      "text/plain": [
       "0it [00:00, ?it/s]"
      ]
     },
     "metadata": {},
     "output_type": "display_data"
    }
   ],
   "source": [
    "import warnings \n",
    "warnings.filterwarnings(\"ignore\")\n",
    "gene_res_df = pd.DataFrame()\n",
    "no_alias = pd.DataFrame()\n",
    "for i in enumerate(tqdm(train_columns_new.iterrows())):\n",
    "    _,i = i\n",
    "    _,i = i\n",
    "\n",
    "    if not i[\"alias\"] is np.nan:\n",
    "        if isinstance(i[\"alias\"],str):\n",
    "            temp_df = pd.DataFrame([[i[\"colums_id\"],i[\"alias\"]]],columns= [\"id\",\"name\"])\n",
    "            gene_res_df = gene_res_df.append(temp_df)\n",
    "        else:\n",
    "            for j in i[\"alias\"]:\n",
    "                temp_df = pd.DataFrame([[i[\"colums_id\"],j]],columns= [\"id\",\"name\"])\n",
    "                gene_res_df = gene_res_df.append(temp_df)\n",
    "    else:\n",
    "        no_alias = no_alias.append(pd.DataFrame([[id,i[\"query\"]]]))\n",
    "    temp_df = pd.DataFrame([[i[\"colums_id\"],i[\"aias\"]]],columns= [\"id\",\"name\"])\n",
    "    gene_res_df = gene_res_df.append(temp_df)"
   ]
  },
  {
   "cell_type": "code",
   "execution_count": 31,
   "metadata": {},
   "outputs": [
    {
     "data": {
      "text/html": [
       "<div>\n",
       "<style scoped>\n",
       "    .dataframe tbody tr th:only-of-type {\n",
       "        vertical-align: middle;\n",
       "    }\n",
       "\n",
       "    .dataframe tbody tr th {\n",
       "        vertical-align: top;\n",
       "    }\n",
       "\n",
       "    .dataframe thead th {\n",
       "        text-align: right;\n",
       "    }\n",
       "</style>\n",
       "<table border=\"1\" class=\"dataframe\">\n",
       "  <thead>\n",
       "    <tr style=\"text-align: right;\">\n",
       "      <th></th>\n",
       "      <th>id</th>\n",
       "      <th>name</th>\n",
       "    </tr>\n",
       "  </thead>\n",
       "  <tbody>\n",
       "    <tr>\n",
       "      <th>0</th>\n",
       "      <td>ENSG00000166825_ANPEP</td>\n",
       "      <td>CD13</td>\n",
       "    </tr>\n",
       "  </tbody>\n",
       "</table>\n",
       "</div>"
      ],
      "text/plain": [
       "                      id  name\n",
       "0  ENSG00000166825_ANPEP  CD13"
      ]
     },
     "execution_count": 31,
     "metadata": {},
     "output_type": "execute_result"
    }
   ],
   "source": [
    "gene_res_df_match = gene_res_df[gene_res_df.name.isin(target_columns)]\n",
    "gene_res_df_match.head(1)"
   ]
  },
  {
   "cell_type": "markdown",
   "metadata": {},
   "source": [
    "Adding online important features from [this notebok](https://www.kaggle.com/code/alekse1pakhomov/mmscel-magic-features-load-example-cell-cycle) "
   ]
  },
  {
   "cell_type": "code",
   "execution_count": 28,
   "metadata": {},
   "outputs": [],
   "source": [
    "cite_cols_important={\n",
    "            'CD86': ['ENSG00000114013_CD86'],\n",
    "             'CD274': ['ENSG00000120217_CD274'],\n",
    "             'CD270': ['ENSG00000157873_TNFRSF14'],\n",
    "             'CD155': ['ENSG00000073008_PVR'],\n",
    "             'CD112': ['ENSG00000130202_NECTIN2'],\n",
    "             'CD47': ['ENSG00000196776_CD47'],\n",
    "             'CD48': ['ENSG00000117091_CD48'],\n",
    "             'CD40': ['ENSG00000101017_CD40'],\n",
    "             'CD154': ['ENSG00000102245_CD40LG'],\n",
    "             'CD52': ['ENSG00000169442_CD52'],\n",
    "             'CD3': ['ENSG00000167286_CD3D'],\n",
    "             'CD8': [],\n",
    "             'CD56': ['ENSG00000149294_NCAM1'],\n",
    "             'CD19': ['ENSG00000177455_CD19'],\n",
    "             'CD33': ['ENSG00000105383_CD33'],\n",
    "             'CD11c': ['ENSG00000140678_ITGAX'],\n",
    "             'HLA-A-B-C': ['ENSG00000204525_HLA-C',\n",
    "              'ENSG00000206503_HLA-A',\n",
    "              'ENSG00000234745_HLA-B'],\n",
    "             'CD45RA': ['ENSG00000081237_PTPRC'],\n",
    "             'CD123': ['ENSG00000185291_IL3RA'],\n",
    "             'CD7': ['ENSG00000173762_CD7'],\n",
    "             'CD105': ['ENSG00000106991_ENG'],\n",
    "             'CD49f': ['ENSG00000091409_ITGA6'],\n",
    "             'CD194': ['ENSG00000183813_CCR4'],\n",
    "             'CD4': ['ENSG00000010610_CD4'],\n",
    "             'CD44': ['ENSG00000026508_CD44'],\n",
    "             'CD14': ['ENSG00000170458_CD14'],\n",
    "             'CD16': [],\n",
    "             'CD25': ['ENSG00000134460_IL2RA'],\n",
    "             'CD45RO': ['ENSG00000081237_PTPRC'],\n",
    "             'CD279': [],\n",
    "             'TIGIT': [],\n",
    "             'Mouse-IgG1': [],\n",
    "             'Mouse-IgG2a': [],\n",
    "             'Mouse-IgG2b': [],\n",
    "             'Rat-IgG2b': [],\n",
    "             'CD20': ['ENSG00000156738_MS4A1'],\n",
    "             'CD335': ['ENSG00000189430_NCR1'],\n",
    "             'CD31': ['ENSG00000261371_PECAM1'],\n",
    "             'Podoplanin': [],\n",
    "             'CD146': ['ENSG00000076706_MCAM'],\n",
    "             'IgM': ['ENSG00000211899_IGHM'],\n",
    "             'CD5': [],\n",
    "             'CD195': ['ENSG00000160791_CCR5'],\n",
    "             'CD32': ['ENSG00000143226_FCGR2A'],\n",
    "             'CD196': [],\n",
    "             'CD185': ['ENSG00000160683_CXCR5'],\n",
    "             'CD103': ['ENSG00000083457_ITGAE'],\n",
    "             'CD69': ['ENSG00000110848_CD69'],\n",
    "             'CD62L': ['ENSG00000188404_SELL'],\n",
    "             'CD161': ['ENSG00000111796_KLRB1'],\n",
    "             'CD152': [],\n",
    "             'CD223': ['ENSG00000089692_LAG3'],\n",
    "             'KLRG1': ['ENSG00000139187_KLRG1'],\n",
    "             'CD27': ['ENSG00000139193_CD27'],\n",
    "             'CD107a': ['ENSG00000185896_LAMP1'],\n",
    "             'CD95': ['ENSG00000026103_FAS'],\n",
    "             'CD134': ['ENSG00000186827_TNFRSF4'],\n",
    "             'HLA-DR': ['ENSG00000204287_HLA-DRA'],\n",
    "             'CD1c': ['ENSG00000158481_CD1C'],\n",
    "             'CD11b': ['ENSG00000169896_ITGAM'],\n",
    "             'CD64': ['ENSG00000150337_FCGR1A'],\n",
    "             'CD141': ['ENSG00000178726_THBD'],\n",
    "             'CD1d': ['ENSG00000158473_CD1D'],\n",
    "             'CD314': [],\n",
    "             'CD35': ['ENSG00000203710_CR1'],\n",
    "             'CD57': [],\n",
    "             'CD272': [],\n",
    "             'CD278': ['ENSG00000163600_ICOS'],\n",
    "             'CD58': ['ENSG00000116815_CD58'],\n",
    "             'CD39': ['ENSG00000138185_ENTPD1'],\n",
    "             'CX3CR1': ['ENSG00000168329_CX3CR1'],\n",
    "             'CD24': ['ENSG00000272398_CD24'],\n",
    "             'CD21': ['ENSG00000117322_CR2'],\n",
    "             'CD11a': ['ENSG00000005844_ITGAL'],\n",
    "             'CD79b': ['ENSG00000007312_CD79B'],\n",
    "             'CD244': ['ENSG00000122223_CD244'],\n",
    "             'CD169': [],\n",
    "             'integrinB7': ['ENSG00000139626_ITGB7'],\n",
    "             'CD268': ['ENSG00000159958_TNFRSF13C'],\n",
    "             'CD42b': ['ENSG00000185245_GP1BA'],\n",
    "             'CD54': ['ENSG00000090339_ICAM1'],\n",
    "             'CD62P': ['ENSG00000174175_SELP'],\n",
    "             'CD119': ['ENSG00000027697_IFNGR1'],\n",
    "             'TCR': [],\n",
    "             'Rat-IgG1': [],\n",
    "             'Rat-IgG2a': [],\n",
    "             'CD192': ['ENSG00000121807_CCR2'],\n",
    "             'CD122': ['ENSG00000100385_IL2RB'],\n",
    "             'FceRIa': ['ENSG00000179639_FCER1A'],\n",
    "             'CD41': ['ENSG00000005961_ITGA2B'],\n",
    "             'CD137': ['ENSG00000049249_TNFRSF9'],\n",
    "             'CD163': ['ENSG00000177575_CD163'],\n",
    "             'CD83': ['ENSG00000112149_CD83'],\n",
    "             'CD124': ['ENSG00000077238_IL4R'],\n",
    "             'CD13': ['ENSG00000166825_ANPEP'],\n",
    "             'CD2': ['ENSG00000116824_CD2'],\n",
    "             'CD226': ['ENSG00000150637_CD226'],\n",
    "             'CD29': ['ENSG00000150093_ITGB1'],\n",
    "             'CD303': ['ENSG00000198178_CLEC4C'],\n",
    "             'CD49b': ['ENSG00000164171_ITGA2'],\n",
    "             'CD81': ['ENSG00000110651_CD81'],\n",
    "             'IgD': ['ENSG00000211898_IGHD'],\n",
    "             'CD18': ['ENSG00000160255_ITGB2'],\n",
    "             'CD28': [],\n",
    "             'CD38': ['ENSG00000004468_CD38'],\n",
    "             'CD127': ['ENSG00000168685_IL7R'],\n",
    "             'CD45': ['ENSG00000081237_PTPRC'],\n",
    "             'CD22': ['ENSG00000012124_CD22'],\n",
    "             'CD71': ['ENSG00000072274_TFRC'],\n",
    "             'CD26': ['ENSG00000197635_DPP4'],\n",
    "             'CD115': ['ENSG00000182578_CSF1R'],\n",
    "             'CD63': ['ENSG00000135404_CD63'],\n",
    "             'CD304': ['ENSG00000099250_NRP1'],\n",
    "             'CD36': ['ENSG00000135218_CD36'],\n",
    "             'CD172a': ['ENSG00000198053_SIRPA'],\n",
    "             'CD72': ['ENSG00000137101_CD72'],\n",
    "             'CD158': [],\n",
    "             'CD93': ['ENSG00000125810_CD93'],\n",
    "             'CD49a': ['ENSG00000213949_ITGA1'],\n",
    "             'CD49d': ['ENSG00000115232_ITGA4'],\n",
    "             'CD73': [],\n",
    "             'CD9': ['ENSG00000010278_CD9'],\n",
    "             'TCRVa7.2': [],\n",
    "             'TCRVd2': [],\n",
    "             'LOX-1': ['ENSG00000173391_OLR1'],\n",
    "             'CD158b': [],\n",
    "             'CD158e1': [],\n",
    "             'CD142': ['ENSG00000117525_F3'],\n",
    "             'CD319': ['ENSG00000026751_SLAMF7'],\n",
    "             'CD352': ['ENSG00000162739_SLAMF6'],\n",
    "             'CD94': ['ENSG00000134539_KLRD1'],\n",
    "             'CD162': ['ENSG00000110876_SELPLG'],\n",
    "             'CD85j': ['ENSG00000104972_LILRB1'],\n",
    "             'CD23': ['ENSG00000104921_FCER2'],\n",
    "             'CD328': ['ENSG00000168995_SIGLEC7'],\n",
    "             'HLA-E': ['ENSG00000204592_HLA-E'],\n",
    "             'CD82': ['ENSG00000085117_CD82'],\n",
    "             'CD101': ['ENSG00000134256_CD101'],\n",
    "             'CD88': ['ENSG00000197405_C5AR1'],\n",
    "             'CD224': ['ENSG00000100031_GGT1']}"
   ]
  },
  {
   "cell_type": "code",
   "execution_count": 29,
   "metadata": {},
   "outputs": [
    {
     "data": {
      "text/plain": [
       "116"
      ]
     },
     "execution_count": 29,
     "metadata": {},
     "output_type": "execute_result"
    }
   ],
   "source": [
    "cite_cols_important  = [[j,i[0]] for i in cite_cols_important.items() for j in i[1] ]\n",
    "len(cite_cols_important)"
   ]
  },
  {
   "cell_type": "code",
   "execution_count": 33,
   "metadata": {},
   "outputs": [
    {
     "data": {
      "text/html": [
       "<div>\n",
       "<style scoped>\n",
       "    .dataframe tbody tr th:only-of-type {\n",
       "        vertical-align: middle;\n",
       "    }\n",
       "\n",
       "    .dataframe tbody tr th {\n",
       "        vertical-align: top;\n",
       "    }\n",
       "\n",
       "    .dataframe thead th {\n",
       "        text-align: right;\n",
       "    }\n",
       "</style>\n",
       "<table border=\"1\" class=\"dataframe\">\n",
       "  <thead>\n",
       "    <tr style=\"text-align: right;\">\n",
       "      <th></th>\n",
       "      <th>id</th>\n",
       "      <th>name</th>\n",
       "    </tr>\n",
       "  </thead>\n",
       "  <tbody>\n",
       "    <tr>\n",
       "      <th>0</th>\n",
       "      <td>ENSG00000114013_CD86</td>\n",
       "      <td>CD86</td>\n",
       "    </tr>\n",
       "  </tbody>\n",
       "</table>\n",
       "</div>"
      ],
      "text/plain": [
       "                     id  name\n",
       "0  ENSG00000114013_CD86  CD86"
      ]
     },
     "execution_count": 33,
     "metadata": {},
     "output_type": "execute_result"
    }
   ],
   "source": [
    "cite_cols_important = pd.DataFrame(cite_cols_important,columns= gene_res_df_match.columns )\n",
    "cite_cols_important.head(1)"
   ]
  },
  {
   "cell_type": "code",
   "execution_count": 34,
   "metadata": {},
   "outputs": [],
   "source": [
    "cite_cols_important = pd.concat([gene_res_df_match,cite_cols_important],axis = 0)"
   ]
  },
  {
   "cell_type": "code",
   "execution_count": 35,
   "metadata": {},
   "outputs": [
    {
     "data": {
      "text/plain": [
       "(119, 2)"
      ]
     },
     "execution_count": 35,
     "metadata": {},
     "output_type": "execute_result"
    }
   ],
   "source": [
    "cite_cols_important = cite_cols_important.drop_duplicates()\n",
    "cite_cols_important.shape"
   ]
  },
  {
   "cell_type": "code",
   "execution_count": 36,
   "metadata": {},
   "outputs": [
    {
     "data": {
      "text/plain": [
       "['ENSG00000166825_ANPEP',\n",
       " 'ENSG00000197405_C5AR1',\n",
       " 'ENSG00000121807_CCR2',\n",
       " 'ENSG00000183813_CCR4',\n",
       " 'ENSG00000160791_CCR5']"
      ]
     },
     "execution_count": 36,
     "metadata": {},
     "output_type": "execute_result"
    }
   ],
   "source": [
    "important_columns = cite_cols_important[\"id\"].to_list()\n",
    "important_columns[:5]"
   ]
  },
  {
   "cell_type": "code",
   "execution_count": 47,
   "metadata": {},
   "outputs": [],
   "source": [
    "with open(\"./name_important_cols.pkl\",\"wb\") as f:\n",
    "    pickle.dump(important_columns,f)"
   ]
  },
  {
   "cell_type": "markdown",
   "metadata": {},
   "source": [
    "### corr importance"
   ]
  },
  {
   "cell_type": "code",
   "execution_count": 13,
   "metadata": {},
   "outputs": [
    {
     "data": {
      "text/plain": [
       "(70988, 22085)"
      ]
     },
     "execution_count": 13,
     "metadata": {},
     "output_type": "execute_result"
    }
   ],
   "source": [
    "train = pd.read_hdf(\"../../../input/open-problems-raw-counts/train_cite_inputs_raw.h5\")\n",
    "train.shape"
   ]
  },
  {
   "cell_type": "code",
   "execution_count": 41,
   "metadata": {},
   "outputs": [],
   "source": [
    "# spead up correlation calculation\n",
    "@numba.jit(nopython=True)\n",
    "def calc_corr(train,target):\n",
    "    corr = np.zeros((train.shape[1],target.shape[1]),dtype=np.float32)\n",
    "    for tr in range(train.shape[1]):\n",
    "        for ta in range(target.shape[1]):\n",
    "            a = train[:,tr]\n",
    "            b = target[:,ta]\n",
    "            corr[tr,ta] += np.corrcoef(a,b)[0,1]\n",
    "    return corr"
   ]
  },
  {
   "cell_type": "code",
   "execution_count": 42,
   "metadata": {},
   "outputs": [
    {
     "name": "stdout",
     "output_type": "stream",
     "text": [
      "CPU times: total: 7min 28s\n",
      "Wall time: 51min 11s\n"
     ]
    }
   ],
   "source": [
    "%%time\n",
    "corr = calc_corr(train.values,target.values)"
   ]
  },
  {
   "cell_type": "code",
   "execution_count": 45,
   "metadata": {},
   "outputs": [
    {
     "data": {
      "text/html": [
       "<div>\n",
       "<style scoped>\n",
       "    .dataframe tbody tr th:only-of-type {\n",
       "        vertical-align: middle;\n",
       "    }\n",
       "\n",
       "    .dataframe tbody tr th {\n",
       "        vertical-align: top;\n",
       "    }\n",
       "\n",
       "    .dataframe thead th {\n",
       "        text-align: right;\n",
       "    }\n",
       "</style>\n",
       "<table border=\"1\" class=\"dataframe\">\n",
       "  <thead>\n",
       "    <tr style=\"text-align: right;\">\n",
       "      <th></th>\n",
       "      <th>0</th>\n",
       "      <th>1</th>\n",
       "      <th>2</th>\n",
       "      <th>3</th>\n",
       "      <th>4</th>\n",
       "      <th>5</th>\n",
       "      <th>6</th>\n",
       "      <th>7</th>\n",
       "      <th>8</th>\n",
       "      <th>9</th>\n",
       "      <th>...</th>\n",
       "      <th>130</th>\n",
       "      <th>131</th>\n",
       "      <th>132</th>\n",
       "      <th>133</th>\n",
       "      <th>134</th>\n",
       "      <th>135</th>\n",
       "      <th>136</th>\n",
       "      <th>137</th>\n",
       "      <th>138</th>\n",
       "      <th>139</th>\n",
       "    </tr>\n",
       "  </thead>\n",
       "  <tbody>\n",
       "    <tr>\n",
       "      <th>ENSG00000121410_A1BG</th>\n",
       "      <td>0.002002</td>\n",
       "      <td>0.00257</td>\n",
       "      <td>0.000948</td>\n",
       "      <td>0.006793</td>\n",
       "      <td>0.020365</td>\n",
       "      <td>0.018518</td>\n",
       "      <td>0.001882</td>\n",
       "      <td>0.000184</td>\n",
       "      <td>0.002991</td>\n",
       "      <td>0.009233</td>\n",
       "      <td>...</td>\n",
       "      <td>0.004043</td>\n",
       "      <td>0.005055</td>\n",
       "      <td>0.00014</td>\n",
       "      <td>0.000159</td>\n",
       "      <td>0.000346</td>\n",
       "      <td>0.001771</td>\n",
       "      <td>0.00937</td>\n",
       "      <td>0.007576</td>\n",
       "      <td>0.010965</td>\n",
       "      <td>0.001367</td>\n",
       "    </tr>\n",
       "  </tbody>\n",
       "</table>\n",
       "<p>1 rows × 140 columns</p>\n",
       "</div>"
      ],
      "text/plain": [
       "                           0        1         2         3         4    \\\n",
       "ENSG00000121410_A1BG  0.002002  0.00257  0.000948  0.006793  0.020365   \n",
       "\n",
       "                           5         6         7         8         9    ...  \\\n",
       "ENSG00000121410_A1BG  0.018518  0.001882  0.000184  0.002991  0.009233  ...   \n",
       "\n",
       "                           130       131      132       133       134  \\\n",
       "ENSG00000121410_A1BG  0.004043  0.005055  0.00014  0.000159  0.000346   \n",
       "\n",
       "                           135      136       137       138       139  \n",
       "ENSG00000121410_A1BG  0.001771  0.00937  0.007576  0.010965  0.001367  \n",
       "\n",
       "[1 rows x 140 columns]"
      ]
     },
     "execution_count": 45,
     "metadata": {},
     "output_type": "execute_result"
    }
   ],
   "source": [
    "corr = pd.DataFrame(corr,index = train.columns.to_list())\n",
    "corr = corr.abs()\n",
    "corr.head(1)"
   ]
  },
  {
   "cell_type": "code",
   "execution_count": 46,
   "metadata": {},
   "outputs": [
    {
     "data": {
      "text/plain": [
       "104"
      ]
     },
     "execution_count": 46,
     "metadata": {},
     "output_type": "execute_result"
    }
   ],
   "source": [
    "list_to_choose = []\n",
    "for i in range(140):\n",
    "    list_to_choose += corr[i].sort_values(ascending=False)[:3].index.to_list()\n",
    "list_to_choose = list(set(list_to_choose))\n",
    "len(list_to_choose)"
   ]
  },
  {
   "cell_type": "code",
   "execution_count": 48,
   "metadata": {},
   "outputs": [],
   "source": [
    "with open(\"./corr_important_cols.pkl\",\"wb\") as f:\n",
    "    pickle.dump(list_to_choose,f)"
   ]
  },
  {
   "cell_type": "markdown",
   "metadata": {},
   "source": [
    "### rf importance"
   ]
  },
  {
   "cell_type": "code",
   "execution_count": 4,
   "metadata": {},
   "outputs": [
    {
     "data": {
      "text/plain": [
       "((70988, 22085), (70988, 140))"
      ]
     },
     "execution_count": 4,
     "metadata": {},
     "output_type": "execute_result"
    }
   ],
   "source": [
    "train.shape,target.shape"
   ]
  },
  {
   "cell_type": "code",
   "execution_count": 7,
   "metadata": {},
   "outputs": [
    {
     "data": {
      "text/plain": [
       "(70988, 21601)"
      ]
     },
     "execution_count": 7,
     "metadata": {},
     "output_type": "execute_result"
    }
   ],
   "source": [
    "train = train[none_zeros_features]\n",
    "train.shape"
   ]
  },
  {
   "cell_type": "code",
   "execution_count": 8,
   "metadata": {},
   "outputs": [],
   "source": [
    "target = target.values\n",
    "target -= target.mean(axis=1).reshape(-1, 1)\n",
    "target /= target.std(axis=1).reshape(-1, 1)"
   ]
  },
  {
   "cell_type": "code",
   "execution_count": 9,
   "metadata": {},
   "outputs": [
    {
     "data": {
      "text/plain": [
       "(70988, 4)"
      ]
     },
     "execution_count": 9,
     "metadata": {},
     "output_type": "execute_result"
    }
   ],
   "source": [
    "meta = pd.read_csv(\"../input/open-problems-multimodal/metadata.csv\",index_col = \"cell_id\")\n",
    "meta = meta[meta.technology==\"citeseq\"]\n",
    "meta_train = meta.reindex(train_indexes)\n",
    "meta_train.shape"
   ]
  },
  {
   "cell_type": "code",
   "execution_count": 10,
   "metadata": {},
   "outputs": [
    {
     "data": {
      "text/plain": [
       "(70988, 7)"
      ]
     },
     "execution_count": 10,
     "metadata": {},
     "output_type": "execute_result"
    }
   ],
   "source": [
    "lbe = LabelEncoder()\n",
    "train_cell_type = lbe.fit_transform(meta_train[\"cell_type\"])\n",
    "ohe = OneHotEncoder(sparse = False)\n",
    "train_cell_type = ohe.fit_transform(train_cell_type.reshape(-1, 1))\n",
    "train_cell_type.shape"
   ]
  },
  {
   "cell_type": "code",
   "execution_count": 11,
   "metadata": {},
   "outputs": [
    {
     "data": {
      "text/plain": [
       "(70988, 7)"
      ]
     },
     "execution_count": 11,
     "metadata": {},
     "output_type": "execute_result"
    }
   ],
   "source": [
    "train_cell_type_col = [f\"cell_type_{i}\" for i in range(7)]\n",
    "train_cell_type = pd.DataFrame(train_cell_type,columns=train_cell_type_col,index=train.index)\n",
    "train_cell_type.shape"
   ]
  },
  {
   "cell_type": "code",
   "execution_count": 12,
   "metadata": {},
   "outputs": [
    {
     "data": {
      "text/plain": [
       "(70988, 21608)"
      ]
     },
     "execution_count": 12,
     "metadata": {},
     "output_type": "execute_result"
    }
   ],
   "source": [
    "train = pd.concat([train,train_cell_type],axis = 1)\n",
    "train.shape"
   ]
  },
  {
   "cell_type": "code",
   "execution_count": 13,
   "metadata": {},
   "outputs": [
    {
     "name": "stderr",
     "output_type": "stream",
     "text": [
      "[Parallel(n_jobs=-1)]: Using backend ThreadingBackend with 20 concurrent workers.\n",
      "[Parallel(n_jobs=-1)]: Done  10 tasks      | elapsed: 112.2min\n",
      "[Parallel(n_jobs=-1)]: Done 100 out of 100 | elapsed: 624.2min finished\n"
     ]
    },
    {
     "data": {
      "text/plain": [
       "RandomForestRegressor(n_jobs=-1, random_state=42, verbose=1)"
      ]
     },
     "execution_count": 13,
     "metadata": {},
     "output_type": "execute_result"
    }
   ],
   "source": [
    "rtr = RandomForestRegressor(n_jobs = -1,random_state =42,verbose=1)\n",
    "rtr.fit(train,target)"
   ]
  },
  {
   "cell_type": "code",
   "execution_count": 14,
   "metadata": {},
   "outputs": [],
   "source": [
    "fi = pd.DataFrame([rtr.feature_importances_],columns=train.columns).T\n",
    "rf_important_features = fi.drop(train_cell_type_col)[0].sort_values(ascending=False)[:128].index.to_list()"
   ]
  },
  {
   "cell_type": "code",
   "execution_count": 15,
   "metadata": {},
   "outputs": [],
   "source": [
    "with open(\"./rf_important_cols.pkl\",\"wb\") as f:\n",
    "    pickle.dump(rf_important_features,f)"
   ]
  },
  {
   "cell_type": "code",
   "execution_count": 19,
   "metadata": {},
   "outputs": [
    {
     "data": {
      "text/plain": [
       "7"
      ]
     },
     "execution_count": 19,
     "metadata": {},
     "output_type": "execute_result"
    }
   ],
   "source": [
    "del rtr\n",
    "gc.collect()"
   ]
  },
  {
   "cell_type": "markdown",
   "metadata": {},
   "source": [
    "### get features"
   ]
  },
  {
   "cell_type": "code",
   "execution_count": 13,
   "metadata": {},
   "outputs": [
    {
     "data": {
      "text/html": [
       "<div>\n",
       "<style scoped>\n",
       "    .dataframe tbody tr th:only-of-type {\n",
       "        vertical-align: middle;\n",
       "    }\n",
       "\n",
       "    .dataframe tbody tr th {\n",
       "        vertical-align: top;\n",
       "    }\n",
       "\n",
       "    .dataframe thead th {\n",
       "        text-align: right;\n",
       "    }\n",
       "</style>\n",
       "<table border=\"1\" class=\"dataframe\">\n",
       "  <thead>\n",
       "    <tr style=\"text-align: right;\">\n",
       "      <th>gene_id</th>\n",
       "      <th>ENSG00000121410_A1BG</th>\n",
       "      <th>ENSG00000268895_A1BG-AS1</th>\n",
       "      <th>ENSG00000175899_A2M</th>\n",
       "      <th>ENSG00000245105_A2M-AS1</th>\n",
       "      <th>ENSG00000166535_A2ML1</th>\n",
       "      <th>ENSG00000128274_A4GALT</th>\n",
       "      <th>ENSG00000094914_AAAS</th>\n",
       "      <th>ENSG00000081760_AACS</th>\n",
       "      <th>ENSG00000109576_AADAT</th>\n",
       "      <th>ENSG00000103591_AAGAB</th>\n",
       "      <th>...</th>\n",
       "      <th>ENSG00000153975_ZUP1</th>\n",
       "      <th>ENSG00000086827_ZW10</th>\n",
       "      <th>ENSG00000174442_ZWILCH</th>\n",
       "      <th>ENSG00000122952_ZWINT</th>\n",
       "      <th>ENSG00000198205_ZXDA</th>\n",
       "      <th>ENSG00000198455_ZXDB</th>\n",
       "      <th>ENSG00000070476_ZXDC</th>\n",
       "      <th>ENSG00000162378_ZYG11B</th>\n",
       "      <th>ENSG00000159840_ZYX</th>\n",
       "      <th>ENSG00000074755_ZZEF1</th>\n",
       "    </tr>\n",
       "    <tr>\n",
       "      <th>cell_id</th>\n",
       "      <th></th>\n",
       "      <th></th>\n",
       "      <th></th>\n",
       "      <th></th>\n",
       "      <th></th>\n",
       "      <th></th>\n",
       "      <th></th>\n",
       "      <th></th>\n",
       "      <th></th>\n",
       "      <th></th>\n",
       "      <th></th>\n",
       "      <th></th>\n",
       "      <th></th>\n",
       "      <th></th>\n",
       "      <th></th>\n",
       "      <th></th>\n",
       "      <th></th>\n",
       "      <th></th>\n",
       "      <th></th>\n",
       "      <th></th>\n",
       "      <th></th>\n",
       "    </tr>\n",
       "  </thead>\n",
       "  <tbody>\n",
       "    <tr>\n",
       "      <th>45006fe3e4c8</th>\n",
       "      <td>0.0</td>\n",
       "      <td>0.0</td>\n",
       "      <td>0.0</td>\n",
       "      <td>0.0</td>\n",
       "      <td>0.0</td>\n",
       "      <td>0.0</td>\n",
       "      <td>0.0</td>\n",
       "      <td>0.0</td>\n",
       "      <td>0.0</td>\n",
       "      <td>0.0</td>\n",
       "      <td>...</td>\n",
       "      <td>0.0</td>\n",
       "      <td>0.0</td>\n",
       "      <td>0.0</td>\n",
       "      <td>0.0</td>\n",
       "      <td>0.0</td>\n",
       "      <td>0.0</td>\n",
       "      <td>0.0</td>\n",
       "      <td>0.0</td>\n",
       "      <td>1.0</td>\n",
       "      <td>0.0</td>\n",
       "    </tr>\n",
       "  </tbody>\n",
       "</table>\n",
       "<p>1 rows × 22085 columns</p>\n",
       "</div>"
      ],
      "text/plain": [
       "gene_id       ENSG00000121410_A1BG  ENSG00000268895_A1BG-AS1  \\\n",
       "cell_id                                                        \n",
       "45006fe3e4c8                   0.0                       0.0   \n",
       "\n",
       "gene_id       ENSG00000175899_A2M  ENSG00000245105_A2M-AS1  \\\n",
       "cell_id                                                      \n",
       "45006fe3e4c8                  0.0                      0.0   \n",
       "\n",
       "gene_id       ENSG00000166535_A2ML1  ENSG00000128274_A4GALT  \\\n",
       "cell_id                                                       \n",
       "45006fe3e4c8                    0.0                     0.0   \n",
       "\n",
       "gene_id       ENSG00000094914_AAAS  ENSG00000081760_AACS  \\\n",
       "cell_id                                                    \n",
       "45006fe3e4c8                   0.0                   0.0   \n",
       "\n",
       "gene_id       ENSG00000109576_AADAT  ENSG00000103591_AAGAB  ...  \\\n",
       "cell_id                                                     ...   \n",
       "45006fe3e4c8                    0.0                    0.0  ...   \n",
       "\n",
       "gene_id       ENSG00000153975_ZUP1  ENSG00000086827_ZW10  \\\n",
       "cell_id                                                    \n",
       "45006fe3e4c8                   0.0                   0.0   \n",
       "\n",
       "gene_id       ENSG00000174442_ZWILCH  ENSG00000122952_ZWINT  \\\n",
       "cell_id                                                       \n",
       "45006fe3e4c8                     0.0                    0.0   \n",
       "\n",
       "gene_id       ENSG00000198205_ZXDA  ENSG00000198455_ZXDB  \\\n",
       "cell_id                                                    \n",
       "45006fe3e4c8                   0.0                   0.0   \n",
       "\n",
       "gene_id       ENSG00000070476_ZXDC  ENSG00000162378_ZYG11B  \\\n",
       "cell_id                                                      \n",
       "45006fe3e4c8                   0.0                     0.0   \n",
       "\n",
       "gene_id       ENSG00000159840_ZYX  ENSG00000074755_ZZEF1  \n",
       "cell_id                                                   \n",
       "45006fe3e4c8                  1.0                    0.0  \n",
       "\n",
       "[1 rows x 22085 columns]"
      ]
     },
     "execution_count": 13,
     "metadata": {},
     "output_type": "execute_result"
    }
   ],
   "source": [
    "train.head(1)"
   ]
  },
  {
   "cell_type": "code",
   "execution_count": 16,
   "metadata": {},
   "outputs": [
    {
     "data": {
      "text/plain": [
       "(117, 104, 128)"
      ]
     },
     "execution_count": 16,
     "metadata": {},
     "output_type": "execute_result"
    }
   ],
   "source": [
    "with open(\"./name_important_cols.pkl\",\"rb\") as f:\n",
    "    name_important_cols = pickle.load(f)\n",
    "    name_important_cols.remove('ENSG00000158481_CD1C') # those two are all zero columns\n",
    "    name_important_cols.remove('ENSG00000173391_OLR1')\n",
    "\n",
    "with open(\"./corr_important_cols.pkl\",\"rb\") as f:\n",
    "    corr_important_cols = pickle.load(f)\n",
    "\n",
    "with open(\"./rf_important_cols.pkl\",\"rb\") as f:\n",
    "    rf_important_cols = pickle.load(f)\n",
    "\n",
    "len(name_important_cols),len(corr_important_cols),len(rf_important_cols)"
   ]
  },
  {
   "cell_type": "code",
   "execution_count": 17,
   "metadata": {},
   "outputs": [
    {
     "data": {
      "text/plain": [
       "349"
      ]
     },
     "execution_count": 17,
     "metadata": {},
     "output_type": "execute_result"
    }
   ],
   "source": [
    "important_cols = name_important_cols + corr_important_cols + rf_important_cols\n",
    "len(important_cols)"
   ]
  },
  {
   "cell_type": "code",
   "execution_count": 18,
   "metadata": {},
   "outputs": [
    {
     "data": {
      "text/html": [
       "<div>\n",
       "<style scoped>\n",
       "    .dataframe tbody tr th:only-of-type {\n",
       "        vertical-align: middle;\n",
       "    }\n",
       "\n",
       "    .dataframe tbody tr th {\n",
       "        vertical-align: top;\n",
       "    }\n",
       "\n",
       "    .dataframe thead th {\n",
       "        text-align: right;\n",
       "    }\n",
       "</style>\n",
       "<table border=\"1\" class=\"dataframe\">\n",
       "  <thead>\n",
       "    <tr style=\"text-align: right;\">\n",
       "      <th>gene_id</th>\n",
       "      <th>ENSG00000166825_ANPEP</th>\n",
       "      <th>ENSG00000197405_C5AR1</th>\n",
       "      <th>ENSG00000121807_CCR2</th>\n",
       "      <th>ENSG00000183813_CCR4</th>\n",
       "      <th>ENSG00000160791_CCR5</th>\n",
       "      <th>ENSG00000134256_CD101</th>\n",
       "      <th>ENSG00000170458_CD14</th>\n",
       "      <th>ENSG00000177575_CD163</th>\n",
       "      <th>ENSG00000177455_CD19</th>\n",
       "      <th>ENSG00000116824_CD2</th>\n",
       "      <th>...</th>\n",
       "      <th>ENSG00000148303_RPL7A</th>\n",
       "      <th>ENSG00000143774_GUK1</th>\n",
       "      <th>ENSG00000125691_RPL23</th>\n",
       "      <th>ENSG00000134198_TSPAN2</th>\n",
       "      <th>ENSG00000197062_ZSCAN26</th>\n",
       "      <th>ENSG00000073008_PVR</th>\n",
       "      <th>ENSG00000166260_COX11</th>\n",
       "      <th>ENSG00000132763_MMACHC</th>\n",
       "      <th>ENSG00000231164_RPL7P56</th>\n",
       "      <th>ENSG00000197061_HIST1H4C</th>\n",
       "    </tr>\n",
       "    <tr>\n",
       "      <th>cell_id</th>\n",
       "      <th></th>\n",
       "      <th></th>\n",
       "      <th></th>\n",
       "      <th></th>\n",
       "      <th></th>\n",
       "      <th></th>\n",
       "      <th></th>\n",
       "      <th></th>\n",
       "      <th></th>\n",
       "      <th></th>\n",
       "      <th></th>\n",
       "      <th></th>\n",
       "      <th></th>\n",
       "      <th></th>\n",
       "      <th></th>\n",
       "      <th></th>\n",
       "      <th></th>\n",
       "      <th></th>\n",
       "      <th></th>\n",
       "      <th></th>\n",
       "      <th></th>\n",
       "    </tr>\n",
       "  </thead>\n",
       "  <tbody>\n",
       "    <tr>\n",
       "      <th>45006fe3e4c8</th>\n",
       "      <td>1.0</td>\n",
       "      <td>0.0</td>\n",
       "      <td>0.0</td>\n",
       "      <td>0.0</td>\n",
       "      <td>0.0</td>\n",
       "      <td>0.0</td>\n",
       "      <td>0.0</td>\n",
       "      <td>0.0</td>\n",
       "      <td>0.0</td>\n",
       "      <td>0.0</td>\n",
       "      <td>...</td>\n",
       "      <td>111.0</td>\n",
       "      <td>1.0</td>\n",
       "      <td>21.0</td>\n",
       "      <td>0.0</td>\n",
       "      <td>0.0</td>\n",
       "      <td>0.0</td>\n",
       "      <td>1.0</td>\n",
       "      <td>0.0</td>\n",
       "      <td>0.0</td>\n",
       "      <td>11.0</td>\n",
       "    </tr>\n",
       "  </tbody>\n",
       "</table>\n",
       "<p>1 rows × 349 columns</p>\n",
       "</div>"
      ],
      "text/plain": [
       "gene_id       ENSG00000166825_ANPEP  ENSG00000197405_C5AR1  \\\n",
       "cell_id                                                      \n",
       "45006fe3e4c8                    1.0                    0.0   \n",
       "\n",
       "gene_id       ENSG00000121807_CCR2  ENSG00000183813_CCR4  \\\n",
       "cell_id                                                    \n",
       "45006fe3e4c8                   0.0                   0.0   \n",
       "\n",
       "gene_id       ENSG00000160791_CCR5  ENSG00000134256_CD101  \\\n",
       "cell_id                                                     \n",
       "45006fe3e4c8                   0.0                    0.0   \n",
       "\n",
       "gene_id       ENSG00000170458_CD14  ENSG00000177575_CD163  \\\n",
       "cell_id                                                     \n",
       "45006fe3e4c8                   0.0                    0.0   \n",
       "\n",
       "gene_id       ENSG00000177455_CD19  ENSG00000116824_CD2  ...  \\\n",
       "cell_id                                                  ...   \n",
       "45006fe3e4c8                   0.0                  0.0  ...   \n",
       "\n",
       "gene_id       ENSG00000148303_RPL7A  ENSG00000143774_GUK1  \\\n",
       "cell_id                                                     \n",
       "45006fe3e4c8                  111.0                   1.0   \n",
       "\n",
       "gene_id       ENSG00000125691_RPL23  ENSG00000134198_TSPAN2  \\\n",
       "cell_id                                                       \n",
       "45006fe3e4c8                   21.0                     0.0   \n",
       "\n",
       "gene_id       ENSG00000197062_ZSCAN26  ENSG00000073008_PVR  \\\n",
       "cell_id                                                      \n",
       "45006fe3e4c8                      0.0                  0.0   \n",
       "\n",
       "gene_id       ENSG00000166260_COX11  ENSG00000132763_MMACHC  \\\n",
       "cell_id                                                       \n",
       "45006fe3e4c8                    1.0                     0.0   \n",
       "\n",
       "gene_id       ENSG00000231164_RPL7P56  ENSG00000197061_HIST1H4C  \n",
       "cell_id                                                          \n",
       "45006fe3e4c8                      0.0                      11.0  \n",
       "\n",
       "[1 rows x 349 columns]"
      ]
     },
     "execution_count": 18,
     "metadata": {},
     "output_type": "execute_result"
    }
   ],
   "source": [
    "train_imp = train[important_cols]\n",
    "train_imp.head(1)"
   ]
  },
  {
   "cell_type": "code",
   "execution_count": 20,
   "metadata": {},
   "outputs": [
    {
     "data": {
      "text/plain": [
       "(48203, 22085)"
      ]
     },
     "execution_count": 20,
     "metadata": {},
     "output_type": "execute_result"
    }
   ],
   "source": [
    "test = pd.read_hdf(\"../../../input/open-problems-raw-counts/test_cite_inputs_raw.h5\")\n",
    "test_indexes = test.index\n",
    "test.shape"
   ]
  },
  {
   "cell_type": "code",
   "execution_count": 21,
   "metadata": {},
   "outputs": [
    {
     "data": {
      "text/html": [
       "<div>\n",
       "<style scoped>\n",
       "    .dataframe tbody tr th:only-of-type {\n",
       "        vertical-align: middle;\n",
       "    }\n",
       "\n",
       "    .dataframe tbody tr th {\n",
       "        vertical-align: top;\n",
       "    }\n",
       "\n",
       "    .dataframe thead th {\n",
       "        text-align: right;\n",
       "    }\n",
       "</style>\n",
       "<table border=\"1\" class=\"dataframe\">\n",
       "  <thead>\n",
       "    <tr style=\"text-align: right;\">\n",
       "      <th>gene_id</th>\n",
       "      <th>ENSG00000121410_A1BG</th>\n",
       "      <th>ENSG00000268895_A1BG-AS1</th>\n",
       "      <th>ENSG00000175899_A2M</th>\n",
       "      <th>ENSG00000245105_A2M-AS1</th>\n",
       "      <th>ENSG00000166535_A2ML1</th>\n",
       "      <th>ENSG00000128274_A4GALT</th>\n",
       "      <th>ENSG00000094914_AAAS</th>\n",
       "      <th>ENSG00000081760_AACS</th>\n",
       "      <th>ENSG00000109576_AADAT</th>\n",
       "      <th>ENSG00000103591_AAGAB</th>\n",
       "      <th>...</th>\n",
       "      <th>ENSG00000153975_ZUP1</th>\n",
       "      <th>ENSG00000086827_ZW10</th>\n",
       "      <th>ENSG00000174442_ZWILCH</th>\n",
       "      <th>ENSG00000122952_ZWINT</th>\n",
       "      <th>ENSG00000198205_ZXDA</th>\n",
       "      <th>ENSG00000198455_ZXDB</th>\n",
       "      <th>ENSG00000070476_ZXDC</th>\n",
       "      <th>ENSG00000162378_ZYG11B</th>\n",
       "      <th>ENSG00000159840_ZYX</th>\n",
       "      <th>ENSG00000074755_ZZEF1</th>\n",
       "    </tr>\n",
       "    <tr>\n",
       "      <th>cell_id</th>\n",
       "      <th></th>\n",
       "      <th></th>\n",
       "      <th></th>\n",
       "      <th></th>\n",
       "      <th></th>\n",
       "      <th></th>\n",
       "      <th></th>\n",
       "      <th></th>\n",
       "      <th></th>\n",
       "      <th></th>\n",
       "      <th></th>\n",
       "      <th></th>\n",
       "      <th></th>\n",
       "      <th></th>\n",
       "      <th></th>\n",
       "      <th></th>\n",
       "      <th></th>\n",
       "      <th></th>\n",
       "      <th></th>\n",
       "      <th></th>\n",
       "      <th></th>\n",
       "    </tr>\n",
       "  </thead>\n",
       "  <tbody>\n",
       "    <tr>\n",
       "      <th>83d6659a6a32</th>\n",
       "      <td>0.0</td>\n",
       "      <td>0.0</td>\n",
       "      <td>0.0</td>\n",
       "      <td>1.0</td>\n",
       "      <td>0.0</td>\n",
       "      <td>0.0</td>\n",
       "      <td>3.0</td>\n",
       "      <td>2.0</td>\n",
       "      <td>1.0</td>\n",
       "      <td>0.0</td>\n",
       "      <td>...</td>\n",
       "      <td>0.0</td>\n",
       "      <td>2.0</td>\n",
       "      <td>4.0</td>\n",
       "      <td>7.0</td>\n",
       "      <td>0.0</td>\n",
       "      <td>0.0</td>\n",
       "      <td>0.0</td>\n",
       "      <td>0.0</td>\n",
       "      <td>3.0</td>\n",
       "      <td>0.0</td>\n",
       "    </tr>\n",
       "  </tbody>\n",
       "</table>\n",
       "<p>1 rows × 22085 columns</p>\n",
       "</div>"
      ],
      "text/plain": [
       "gene_id       ENSG00000121410_A1BG  ENSG00000268895_A1BG-AS1  \\\n",
       "cell_id                                                        \n",
       "83d6659a6a32                   0.0                       0.0   \n",
       "\n",
       "gene_id       ENSG00000175899_A2M  ENSG00000245105_A2M-AS1  \\\n",
       "cell_id                                                      \n",
       "83d6659a6a32                  0.0                      1.0   \n",
       "\n",
       "gene_id       ENSG00000166535_A2ML1  ENSG00000128274_A4GALT  \\\n",
       "cell_id                                                       \n",
       "83d6659a6a32                    0.0                     0.0   \n",
       "\n",
       "gene_id       ENSG00000094914_AAAS  ENSG00000081760_AACS  \\\n",
       "cell_id                                                    \n",
       "83d6659a6a32                   3.0                   2.0   \n",
       "\n",
       "gene_id       ENSG00000109576_AADAT  ENSG00000103591_AAGAB  ...  \\\n",
       "cell_id                                                     ...   \n",
       "83d6659a6a32                    1.0                    0.0  ...   \n",
       "\n",
       "gene_id       ENSG00000153975_ZUP1  ENSG00000086827_ZW10  \\\n",
       "cell_id                                                    \n",
       "83d6659a6a32                   0.0                   2.0   \n",
       "\n",
       "gene_id       ENSG00000174442_ZWILCH  ENSG00000122952_ZWINT  \\\n",
       "cell_id                                                       \n",
       "83d6659a6a32                     4.0                    7.0   \n",
       "\n",
       "gene_id       ENSG00000198205_ZXDA  ENSG00000198455_ZXDB  \\\n",
       "cell_id                                                    \n",
       "83d6659a6a32                   0.0                   0.0   \n",
       "\n",
       "gene_id       ENSG00000070476_ZXDC  ENSG00000162378_ZYG11B  \\\n",
       "cell_id                                                      \n",
       "83d6659a6a32                   0.0                     0.0   \n",
       "\n",
       "gene_id       ENSG00000159840_ZYX  ENSG00000074755_ZZEF1  \n",
       "cell_id                                                   \n",
       "83d6659a6a32                  3.0                    0.0  \n",
       "\n",
       "[1 rows x 22085 columns]"
      ]
     },
     "execution_count": 21,
     "metadata": {},
     "output_type": "execute_result"
    }
   ],
   "source": [
    "test_imp = test[important_cols]\n",
    "test.head(1)"
   ]
  },
  {
   "cell_type": "code",
   "execution_count": 23,
   "metadata": {},
   "outputs": [
    {
     "data": {
      "text/plain": [
       "(48663, 349)"
      ]
     },
     "execution_count": 23,
     "metadata": {},
     "output_type": "execute_result"
    }
   ],
   "source": [
    "test_imp = pd.DataFrame(test_imp,index = test_indexes)\n",
    "test_imp = test_imp.drop_duplicates()\n",
    "test_imp = test_imp.reindex(test_indexes_ori)\n",
    "test_imp = test_imp.fillna(0)\n",
    "test_imp.shape"
   ]
  },
  {
   "cell_type": "code",
   "execution_count": 24,
   "metadata": {},
   "outputs": [],
   "source": [
    "np.savez(\"cite_train_imp.npz\", train_imp)\n",
    "np.savez(\"cite_test_imp.npz\",test_imp)"
   ]
  },
  {
   "cell_type": "markdown",
   "metadata": {},
   "source": [
    "## ALL"
   ]
  },
  {
   "cell_type": "code",
   "execution_count": 2,
   "metadata": {},
   "outputs": [],
   "source": [
    "import numpy as np"
   ]
  },
  {
   "cell_type": "code",
   "execution_count": 28,
   "metadata": {},
   "outputs": [],
   "source": [
    "train_tsvd = np.load(\"cite_train_tsvd.npz\")[\"arr_0\"]\n",
    "train_umap = np.load(\"cite_train_umap.npz\")[\"arr_0\"]\n",
    "train_novel = np.load(\"cite_train_novel.npz\")[\"arr_0\"]\n",
    "train_imp = np.load(\"cite_train_imp.npz\")[\"arr_0\"]\n",
    "\n",
    "train_all  = np.concatenate([train_tsvd, train_umap, train_novel, train_imp],axis = 1)"
   ]
  },
  {
   "cell_type": "code",
   "execution_count": 29,
   "metadata": {},
   "outputs": [],
   "source": [
    "test_tsvd = np.load(\"cite_test_tsvd.npz\")[\"arr_0\"]\n",
    "test_umap = np.load(\"cite_test_umap.npz\")[\"arr_0\"]\n",
    "test_novel = np.load(\"cite_test_novel.npz\")[\"arr_0\"]\n",
    "test_imp = np.load(\"cite_test_imp.npz\")[\"arr_0\"]\n",
    "\n",
    "test_all  = np.concatenate([test_tsvd, test_umap, test_novel, test_imp],axis = 1)"
   ]
  },
  {
   "cell_type": "code",
   "execution_count": 30,
   "metadata": {},
   "outputs": [
    {
     "data": {
      "text/plain": [
       "((70988, 733), (48663, 733))"
      ]
     },
     "execution_count": 30,
     "metadata": {},
     "output_type": "execute_result"
    }
   ],
   "source": [
    "np.savez(\"cite_train_all.npz\", train_all)\n",
    "np.savez(\"cite_test_all.npz\",test_all)\n",
    "train_all.shape,test_all.shape"
   ]
  }
 ],
 "metadata": {
  "kernelspec": {
   "display_name": "Python 3.9.12 ('base')",
   "language": "python",
   "name": "python3"
  },
  "language_info": {
   "codemirror_mode": {
    "name": "ipython",
    "version": 3
   },
   "file_extension": ".py",
   "mimetype": "text/x-python",
   "name": "python",
   "nbconvert_exporter": "python",
   "pygments_lexer": "ipython3",
   "version": "3.9.12"
  },
  "orig_nbformat": 4,
  "vscode": {
   "interpreter": {
    "hash": "ad2bdc8ecc057115af97d19610ffacc2b4e99fae6737bb82f5d7fb13d2f2c186"
   }
  }
 },
 "nbformat": 4,
 "nbformat_minor": 2
}
