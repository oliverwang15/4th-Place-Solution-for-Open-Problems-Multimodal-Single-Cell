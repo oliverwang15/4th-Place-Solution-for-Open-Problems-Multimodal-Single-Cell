{
 "cells": [
  {
   "cell_type": "code",
   "execution_count": 1,
   "metadata": {},
   "outputs": [],
   "source": [
    "import sys\n",
    "sys.path.append(\"../../utils/\")\n",
    "import time\n",
    "from tqdm.notebook import tqdm\n",
    "import gc\n",
    "import glob\n",
    "import pickle\n",
    "import torch\n",
    "import numpy as np\n",
    "import pandas as pd\n",
    "from sklearn.model_selection import KFold,GroupKFold\n",
    "from sklearn.preprocessing import LabelEncoder\n",
    "\n",
    "from loss import correl_loss\n",
    "from trainer import Cite_Trainer"
   ]
  },
  {
   "cell_type": "code",
   "execution_count": 3,
   "metadata": {},
   "outputs": [
    {
     "name": "stdout",
     "output_type": "stream",
     "text": [
      "(70988, 735) (70988, 140)\n"
     ]
    }
   ],
   "source": [
    "root_path = \"../../../input/\"\n",
    "train = np.load(\"../../data_preprocessing/new_cite_train_final.npz\")[\"arr_0\"]\n",
    "target = pd.read_hdf(f\"{root_path}open-problems-multimodal/train_cite_targets.h5\").values\n",
    "\n",
    "print(train.shape,target.shape)"
   ]
  },
  {
   "cell_type": "code",
   "execution_count": 4,
   "metadata": {},
   "outputs": [],
   "source": [
    "config = dict(\n",
    "    atte_dims = 128,\n",
    "    output_num = target.shape[1],\n",
    "    input_num = train.shape[1],\n",
    "    dropout = 0.1,\n",
    "    \n",
    "    patience = 5,\n",
    "    max_epochs = 100,\n",
    "    criterion = correl_loss,\n",
    "    batch_size = 128,\n",
    "\n",
    "    n_folds = 3,\n",
    "    folds_to_train = [0,1,2],\n",
    "    kfold_random_state = 42,\n",
    "\n",
    "    tb_dir = \"./log/\",\n",
    "\n",
    "    optimizer = torch.optim.AdamW,\n",
    "    optimizerparams = dict(lr=1e-4, weight_decay=1e-2,amsgrad= True),\n",
    "    \n",
    "    scheduler = torch.optim.lr_scheduler.MultiStepLR,\n",
    "\n",
    "    schedulerparams = dict(milestones=[6,10,15,20,25,30], gamma=0.1,verbose  = True), #9,12,15,20,25,30\n",
    "    min_epoch = 11,\n",
    ")\n"
   ]
  },
  {
   "cell_type": "code",
   "execution_count": 5,
   "metadata": {},
   "outputs": [
    {
     "data": {
      "text/plain": [
       "(70988, 737)"
      ]
     },
     "execution_count": 5,
     "metadata": {},
     "output_type": "execute_result"
    }
   ],
   "source": [
    "train_index = np.load(f\"{root_path}/multimodal-single-cell-as-sparse-matrix/train_cite_inputs_idxcol.npz\",allow_pickle=True)\n",
    "meta = pd.read_csv(f\"{root_path}open-problems-multimodal/metadata.csv\",index_col = \"cell_id\")\n",
    "meta = meta[meta.technology==\"citeseq\"]\n",
    "lbe = LabelEncoder()\n",
    "meta[\"cell_type\"] = lbe.fit_transform(meta[\"cell_type\"])\n",
    "meta[\"gender\"] = meta.apply(lambda x:0 if x[\"donor\"]==13176 else 1,axis =1)\n",
    "meta_train = meta.reindex(train_index[\"index\"])\n",
    "train_meta = meta_train[\"gender\"].values.reshape(-1, 1)\n",
    "train = np.concatenate([train,train_meta],axis= -1)\n",
    "train_meta = meta_train[\"cell_type\"].values.reshape(-1, 1)\n",
    "train = np.concatenate([train,train_meta],axis= -1)\n",
    "train.shape"
   ]
  },
  {
   "cell_type": "code",
   "execution_count": 10,
   "metadata": {},
   "outputs": [],
   "source": [
    "class cell(torch.nn.Module):\n",
    "    def __init__(self,input_dim,out_dim,dropout=0.1):\n",
    "        super().__init__()\n",
    "        self.weight_1 = torch.nn.Sequential(\n",
    "            torch.nn.Linear(input_dim,input_dim),\n",
    "            # torch.nn.Mish(),\n",
    "            torch.nn.Softmax(dim= -1),\n",
    "        )\n",
    "        self.linear_0 = torch.nn.Sequential(\n",
    "            torch.nn.Linear(input_dim,input_dim),\n",
    "            torch.nn.Dropout(dropout),\n",
    "        ) \n",
    "        self.linear_1 = torch.nn.Sequential(\n",
    "            torch.nn.Linear(input_dim,input_dim),\n",
    "            torch.nn.Mish(),\n",
    "            )\n",
    "\n",
    "        self.bn_1 = torch.nn.LayerNorm((input_dim))\n",
    "        self.bn_2 = torch.nn.LayerNorm((out_dim))\n",
    "        self.bn_3 = torch.nn.LayerNorm((out_dim))\n",
    "\n",
    "        self.linear_2 = torch.nn.Sequential(\n",
    "\n",
    "            torch.nn.Linear(input_dim,out_dim),\n",
    "            torch.nn.Dropout(dropout),\n",
    "            # torch.nn.Mish(),\n",
    "            torch.nn.Linear(out_dim,out_dim),\n",
    "            # torch.nn.Dropout(dropout),\n",
    "            torch.nn.Mish(),\n",
    "            \n",
    "        )\n",
    "        self.linear_3 = torch.nn.Sequential(\n",
    "\n",
    "            torch.nn.Linear(input_dim,out_dim),\n",
    "            torch.nn.Dropout(dropout),\n",
    "            # torch.nn.Mish(),\n",
    "            torch.nn.Linear(out_dim,out_dim),\n",
    "            # torch.nn.Dropout(dropout),\n",
    "            torch.nn.Mish(),\n",
    "            \n",
    "        )\n",
    "\n",
    "    def forward(self,x):\n",
    "        x_1 = self.linear_1(self.linear_0(x) * self.weight_1(x))\n",
    "        x = self.bn_1(x_1+x)\n",
    "        x = self.bn_2(x+self.linear_2(x))\n",
    "        x = self.bn_3(x+self.linear_3(x))\n",
    "        return x"
   ]
  },
  {
   "cell_type": "code",
   "execution_count": 11,
   "metadata": {},
   "outputs": [],
   "source": [
    "class modules(torch.nn.Module):\n",
    "    def __init__(self,config):\n",
    "        super().__init__()\n",
    "        input_num = config[\"input_num\"]\n",
    "        dropout = config[\"dropout\"]\n",
    "        self.model = torch.nn.ModuleList()\n",
    "\n",
    "        in_dim_array = [\n",
    "            [input_num,input_num,input_num,input_num,input_num],\n",
    "            [input_num,input_num,input_num,input_num,input_num],\n",
    "            [input_num,input_num,input_num,input_num,input_num],\n",
    "\n",
    "        ]\n",
    "        self.out_dim_array = [\n",
    "            [input_num,input_num,input_num,input_num,input_num],\n",
    "            [input_num,input_num,input_num,input_num,input_num],\n",
    "            [input_num,input_num,input_num,input_num,input_num],\n",
    "        ]\n",
    "\n",
    "        for i in range(len(in_dim_array)): # 行\n",
    "            temp_model = torch.nn.ModuleList()\n",
    "            for j in range(len(in_dim_array[0])): # 列\n",
    "                dim_in = in_dim_array[i][j]\n",
    "                dim_out = self.out_dim_array[i][j]\n",
    "                temp_model.append(\n",
    "                    torch.nn.Sequential(\n",
    "                        cell(dim_in,dim_out,dropout),\n",
    "                        # cell(dim_in,dim_out,dropout),\n",
    "                    )\n",
    "                )\n",
    "            self.model.append(temp_model)"
   ]
  },
  {
   "cell_type": "code",
   "execution_count": 12,
   "metadata": {},
   "outputs": [],
   "source": [
    "class MLP(torch.nn.Module):\n",
    "    def __init__(self,config):\n",
    "        super().__init__()\n",
    "        output_num = config[\"output_num\"]\n",
    "        self.input_num = config[\"input_num\"]\n",
    "        dropout = config[\"dropout\"]\n",
    "\n",
    "        self.backbone = torch.nn.Linear(self.input_num ,self.input_num)\n",
    "        self.embedding_1 = torch.nn.Embedding(2,self.input_num)\n",
    "        self.embedding_2 = torch.nn.Embedding(7,self.input_num)\n",
    "\n",
    "        self.model = modules(config)\n",
    "\n",
    "        tail_input_dim = np.sum(np.array(self.model.out_dim_array)[-2:,-2:])\n",
    "        self.tail = torch.nn.Sequential(\n",
    "            torch.nn.Linear(tail_input_dim,self.input_num*4),\n",
    "            torch.nn.Mish(),\n",
    "            torch.nn.Dropout(dropout),\n",
    "            torch.nn.Linear(self.input_num*4,self.input_num*2),\n",
    "            torch.nn.Mish(),\n",
    "            torch.nn.Dropout(dropout),\n",
    "            torch.nn.Linear(self.input_num*2,output_num),\n",
    "            torch.nn.Mish(),\n",
    "        )\n",
    "        \n",
    "    def forward(self,xin):\n",
    "        # backbone\n",
    "        xin = self.backbone(xin[:,:self.input_num]) + self.embedding_2(xin[:,-1].int())  # + self.embedding_1(xin[:,-2].int())# \n",
    "\n",
    "        # neck\n",
    "        temp_model_list = self.model.model[0]\n",
    "        res_array = []\n",
    "        res_list  = []\n",
    "        temp_out = xin\n",
    "\n",
    "        for id,i in enumerate(temp_model_list):\n",
    "            temp_out = i(temp_out+xin)\n",
    "            res_list.append(temp_out) \n",
    "\n",
    "        temp_model_list = self.model.model[1]\n",
    "        temp_out = xin\n",
    "        for i in range(len(temp_model_list)):\n",
    "            temp_out = temp_model_list[i](res_list[i]+temp_out)\n",
    "            res_list[i] = temp_out\n",
    "        res_array += res_list[-2:]\n",
    "\n",
    "        temp_model_list = self.model.model[2]\n",
    "        temp_out = xin\n",
    "        for i in range(len(temp_model_list)):\n",
    "            temp_out = temp_model_list[i](res_list[i]+temp_out)\n",
    "            res_list[i] = temp_out\n",
    "        res_array += res_list[-2:]\n",
    "\n",
    "        # tail\n",
    "        res_array = torch.concat(res_array,dim = -1)\n",
    "        res_array = self.tail(res_array)\n",
    "        return res_array\n"
   ]
  },
  {
   "cell_type": "code",
   "execution_count": 13,
   "metadata": {},
   "outputs": [
    {
     "name": "stdout",
     "output_type": "stream",
     "text": [
      "machine has 1 cuda devices\n",
      "model of first cuda device is NVIDIA GeForce RTX 3070\n",
      "Training started\n",
      "Adjusting learning rate of group 0 to 1.0000e-04.\n"
     ]
    },
    {
     "data": {
      "application/vnd.jupyter.widget-view+json": {
       "model_id": "5d920bc1fc6d422ba7f7c6393e7dfee0",
       "version_major": 2,
       "version_minor": 0
      },
      "text/plain": [
       "  0%|          | 0/100 [00:00<?, ?it/s]"
      ]
     },
     "metadata": {},
     "output_type": "display_data"
    },
    {
     "name": "stdout",
     "output_type": "stream",
     "text": [
      "Adjusting learning rate of group 0 to 1.0000e-04.\n",
      "epoch-0 train_loss:-0.8841502012638505 val_loss:-0.8843342889215529 corr_score:0.8843487462454138\n",
      "Adjusting learning rate of group 0 to 1.0000e-04.\n",
      "epoch-1 train_loss:-0.9015916311839941 val_loss:-0.8903181724941608 corr_score:0.890333799086804\n",
      "Adjusting learning rate of group 0 to 1.0000e-04.\n",
      "epoch-2 train_loss:-0.9039108825852666 val_loss:-0.8914886946530686 corr_score:0.8915041936711285\n",
      "Adjusting learning rate of group 0 to 1.0000e-04.\n",
      "epoch-3 train_loss:-0.905347153090374 val_loss:-0.8923952554919056 corr_score:0.8924120507095916\n",
      "Adjusting learning rate of group 0 to 1.0000e-04.\n",
      "epoch-4 train_loss:-0.9064489137432912 val_loss:-0.8923101523487839 corr_score:0.8923262968441318\n",
      "Adjusting learning rate of group 0 to 1.0000e-05.\n",
      "epoch-5 train_loss:-0.9072696759760215 val_loss:-0.8919102776910841 corr_score:0.8919265058662259\n",
      "Adjusting learning rate of group 0 to 1.0000e-05.\n",
      "epoch-6 train_loss:-0.9101633510431094 val_loss:-0.8934784722082394 corr_score:0.89349354160787\n",
      "Adjusting learning rate of group 0 to 1.0000e-05.\n",
      "epoch-7 train_loss:-0.910650871467062 val_loss:-0.8931210704685486 corr_score:0.8931359582258195\n",
      "Adjusting learning rate of group 0 to 1.0000e-05.\n",
      "epoch-8 train_loss:-0.9108879955851801 val_loss:-0.8937396806539949 corr_score:0.8937548192254969\n",
      "Adjusting learning rate of group 0 to 1.0000e-06.\n",
      "epoch-9 train_loss:-0.9111070289506146 val_loss:-0.8934645505295586 corr_score:0.8934795249062614\n",
      "Adjusting learning rate of group 0 to 1.0000e-06.\n",
      "epoch-10 train_loss:-0.9115686812889543 val_loss:-0.8934763485623389 corr_score:0.8934911792424304\n",
      "Adjusting learning rate of group 0 to 1.0000e-06.\n",
      "epoch-11 train_loss:-0.9116318298508916 val_loss:-0.8934028074913418 corr_score:0.8934174734407128\n",
      "Adjusting learning rate of group 0 to 1.0000e-06.\n",
      "epoch-12 train_loss:-0.9116446793574706 val_loss:-0.8934449657951433 corr_score:0.8934601535096561\n",
      "Adjusting learning rate of group 0 to 1.0000e-06.\n",
      "epoch-13 train_loss:-0.9116850876742123 val_loss:-0.8933920319547358 corr_score:0.8934067640507197\n",
      "Adjusting learning rate of group 0 to 1.0000e-07.\n",
      "epoch-14 train_loss:-0.911700304195161 val_loss:-0.8934467748268363 corr_score:0.8934618071654639\n",
      "out of patience\n",
      "Adjusting learning rate of group 0 to 1.0000e-04.\n"
     ]
    },
    {
     "data": {
      "application/vnd.jupyter.widget-view+json": {
       "model_id": "6409c4209b1b4169a3a8c6ea6888a0ab",
       "version_major": 2,
       "version_minor": 0
      },
      "text/plain": [
       "  0%|          | 0/100 [00:00<?, ?it/s]"
      ]
     },
     "metadata": {},
     "output_type": "display_data"
    },
    {
     "name": "stdout",
     "output_type": "stream",
     "text": [
      "Adjusting learning rate of group 0 to 1.0000e-04.\n",
      "epoch-0 train_loss:-0.8805984828783118 val_loss:-0.8931837690637466 corr_score:0.8931986041336613\n",
      "Adjusting learning rate of group 0 to 1.0000e-04.\n",
      "epoch-1 train_loss:-0.8978210117505945 val_loss:-0.8951645709098653 corr_score:0.8951843002167932\n",
      "Adjusting learning rate of group 0 to 1.0000e-04.\n",
      "epoch-2 train_loss:-0.9006924007249915 val_loss:-0.894454631399601 corr_score:0.8944680620987242\n",
      "Adjusting learning rate of group 0 to 1.0000e-04.\n",
      "epoch-3 train_loss:-0.902262895003609 val_loss:-0.8961483569855385 corr_score:0.8961655040961394\n",
      "Adjusting learning rate of group 0 to 1.0000e-04.\n",
      "epoch-4 train_loss:-0.9034500951352327 val_loss:-0.8967820025504903 corr_score:0.8967980345305595\n",
      "Adjusting learning rate of group 0 to 1.0000e-05.\n",
      "epoch-5 train_loss:-0.9043611443561056 val_loss:-0.8974310692320479 corr_score:0.8974419648440757\n",
      "Adjusting learning rate of group 0 to 1.0000e-05.\n",
      "epoch-6 train_loss:-0.9073032710863196 val_loss:-0.8981394666306516 corr_score:0.8981509558961478\n",
      "Adjusting learning rate of group 0 to 1.0000e-05.\n",
      "epoch-7 train_loss:-0.9078615437383237 val_loss:-0.8984398537493766 corr_score:0.8984506098609606\n",
      "Adjusting learning rate of group 0 to 1.0000e-05.\n",
      "epoch-8 train_loss:-0.9081238456394362 val_loss:-0.8981658448564246 corr_score:0.8981770941903611\n",
      "Adjusting learning rate of group 0 to 1.0000e-06.\n",
      "epoch-9 train_loss:-0.908331414927607 val_loss:-0.8986013696548787 corr_score:0.8986140352705745\n",
      "Adjusting learning rate of group 0 to 1.0000e-06.\n",
      "epoch-10 train_loss:-0.9087906713071077 val_loss:-0.8985367632926778 corr_score:0.8985498702368048\n",
      "Adjusting learning rate of group 0 to 1.0000e-06.\n",
      "epoch-11 train_loss:-0.908868292103643 val_loss:-0.8984555183572972 corr_score:0.8984682796735596\n",
      "Adjusting learning rate of group 0 to 1.0000e-06.\n",
      "epoch-12 train_loss:-0.908893751061481 val_loss:-0.898511196704621 corr_score:0.898523976225715\n",
      "Adjusting learning rate of group 0 to 1.0000e-06.\n",
      "epoch-13 train_loss:-0.9088905168616254 val_loss:-0.8984577097791306 corr_score:0.8984707225047944\n",
      "Adjusting learning rate of group 0 to 1.0000e-07.\n",
      "epoch-14 train_loss:-0.9089348005211871 val_loss:-0.8984837633498172 corr_score:0.8984956393833903\n",
      "Adjusting learning rate of group 0 to 1.0000e-07.\n",
      "epoch-15 train_loss:-0.9090166506559952 val_loss:-0.8984749164987118 corr_score:0.8984874966126074\n",
      "out of patience\n",
      "Adjusting learning rate of group 0 to 1.0000e-04.\n"
     ]
    },
    {
     "data": {
      "application/vnd.jupyter.widget-view+json": {
       "model_id": "bad8a049db3e4a41858a5d6d245107db",
       "version_major": 2,
       "version_minor": 0
      },
      "text/plain": [
       "  0%|          | 0/100 [00:00<?, ?it/s]"
      ]
     },
     "metadata": {},
     "output_type": "display_data"
    },
    {
     "name": "stdout",
     "output_type": "stream",
     "text": [
      "Adjusting learning rate of group 0 to 1.0000e-04.\n",
      "epoch-0 train_loss:-0.881561199407927 val_loss:-0.8873889966942798 corr_score:0.8874451340713546\n",
      "Adjusting learning rate of group 0 to 1.0000e-04.\n",
      "epoch-1 train_loss:-0.8983380382597759 val_loss:-0.8924899046448456 corr_score:0.8925389727577819\n",
      "Adjusting learning rate of group 0 to 1.0000e-04.\n",
      "epoch-2 train_loss:-0.9006656826478648 val_loss:-0.8908870302397629 corr_score:0.8909310033672688\n",
      "Adjusting learning rate of group 0 to 1.0000e-04.\n",
      "epoch-3 train_loss:-0.9021053613792539 val_loss:-0.8933202809300916 corr_score:0.893366536780936\n",
      "Adjusting learning rate of group 0 to 1.0000e-04.\n",
      "epoch-4 train_loss:-0.9032596767884898 val_loss:-0.8938935378502155 corr_score:0.8939408869768909\n",
      "Adjusting learning rate of group 0 to 1.0000e-05.\n",
      "epoch-5 train_loss:-0.9040553707102831 val_loss:-0.8937460362226114 corr_score:0.893796947497635\n",
      "Adjusting learning rate of group 0 to 1.0000e-05.\n",
      "epoch-6 train_loss:-0.9069059681517916 val_loss:-0.8950714462104885 corr_score:0.8951187975809721\n",
      "Adjusting learning rate of group 0 to 1.0000e-05.\n",
      "epoch-7 train_loss:-0.9072836032088515 val_loss:-0.8946544603369702 corr_score:0.8947008803887563\n",
      "Adjusting learning rate of group 0 to 1.0000e-05.\n",
      "epoch-8 train_loss:-0.9075559446324852 val_loss:-0.8950299668586117 corr_score:0.8950747183150142\n",
      "Adjusting learning rate of group 0 to 1.0000e-06.\n",
      "epoch-9 train_loss:-0.9077903388058328 val_loss:-0.8948943916408495 corr_score:0.8949412487612055\n",
      "Adjusting learning rate of group 0 to 1.0000e-06.\n",
      "epoch-10 train_loss:-0.9081788387598168 val_loss:-0.8951421277276401 corr_score:0.8951886557389973\n",
      "Adjusting learning rate of group 0 to 1.0000e-06.\n",
      "epoch-11 train_loss:-0.9082759038316017 val_loss:-0.8951156440822557 corr_score:0.8951619970212622\n",
      "Adjusting learning rate of group 0 to 1.0000e-06.\n",
      "epoch-12 train_loss:-0.9082403532497546 val_loss:-0.8951138901984554 corr_score:0.8951603253524933\n",
      "Adjusting learning rate of group 0 to 1.0000e-06.\n",
      "epoch-13 train_loss:-0.9081686129744765 val_loss:-0.8951767669326958 corr_score:0.8952225290272084\n",
      "Adjusting learning rate of group 0 to 1.0000e-07.\n",
      "epoch-14 train_loss:-0.9083267930914595 val_loss:-0.8949698086442619 corr_score:0.8950160339429704\n",
      "Adjusting learning rate of group 0 to 1.0000e-07.\n",
      "epoch-15 train_loss:-0.9083954975867147 val_loss:-0.8950568889749462 corr_score:0.8951031366840849\n",
      "Adjusting learning rate of group 0 to 1.0000e-07.\n",
      "epoch-16 train_loss:-0.9083208813093095 val_loss:-0.8950930189812321 corr_score:0.8951392095364656\n",
      "Adjusting learning rate of group 0 to 1.0000e-07.\n",
      "epoch-17 train_loss:-0.9083745666823462 val_loss:-0.8951063484981142 corr_score:0.8951525828866165\n",
      "Adjusting learning rate of group 0 to 1.0000e-07.\n",
      "epoch-18 train_loss:-0.908388707026137 val_loss:-0.8951124870914152 corr_score:0.8951587416662913\n",
      "Adjusting learning rate of group 0 to 1.0000e-08.\n",
      "epoch-19 train_loss:-0.9083705722349477 val_loss:-0.8951178364370062 corr_score:0.8951636686900311\n",
      "out of patience\n",
      "\n",
      "\n",
      "Final average score is 0.89586379450776\n"
     ]
    }
   ],
   "source": [
    "if torch.cuda.is_available():\n",
    "    device = torch.device(\"cuda:0\")\n",
    "    print(f\"machine has {torch.cuda.device_count()} cuda devices\")\n",
    "    print(f\"model of first cuda device is {torch.cuda.get_device_name(0)}\")\n",
    "else:\n",
    "    device = torch.device(\"cpu\")\n",
    "\n",
    "trainer = Cite_Trainer(device)\n",
    "kfold = GroupKFold(n_splits=config[\"n_folds\"]) # , shuffle=True, random_state=config[\"kfold_random_state\"]\n",
    "FOLDS_LIST = list(kfold.split(range(train.shape[0]),groups= meta_train.donor)) #\n",
    "print(\"Training started\")\n",
    "fold_scores = []\n",
    "for num_fold in config[\"folds_to_train\"]:\n",
    "    model = MLP(config)\n",
    "    best_score = trainer.train_one_fold(num_fold,FOLDS_LIST,train,target,model,config)\n",
    "    fold_scores.append(best_score)\n",
    "print(\"\\n\")\n",
    "print(f\"Final average score is {sum(fold_scores)/len(fold_scores)}\")\n",
    "    "
   ]
  },
  {
   "cell_type": "code",
   "execution_count": 14,
   "metadata": {},
   "outputs": [
    {
     "data": {
      "text/plain": [
       "[0.8937548192254969, 0.8986140352705745, 0.8952225290272084]"
      ]
     },
     "execution_count": 14,
     "metadata": {},
     "output_type": "execute_result"
    }
   ],
   "source": [
    "fold_scores"
   ]
  },
  {
   "cell_type": "code",
   "execution_count": 15,
   "metadata": {},
   "outputs": [
    {
     "data": {
      "text/plain": [
       "0.89586379450776"
      ]
     },
     "execution_count": 15,
     "metadata": {},
     "output_type": "execute_result"
    }
   ],
   "source": [
    "np.mean(fold_scores)"
   ]
  },
  {
   "cell_type": "code",
   "execution_count": 16,
   "metadata": {},
   "outputs": [],
   "source": [
    "# [0.8938266351348627, 0.8986694061118986, 0.8953973503874049]"
   ]
  },
  {
   "cell_type": "code",
   "execution_count": 17,
   "metadata": {},
   "outputs": [],
   "source": [
    "class ori_Tester:\n",
    "    def __init__(self,device,config):\n",
    "        self.device = device\n",
    "        self.config = config\n",
    "\n",
    "    def std(self,x):\n",
    "        return (x - np.mean(x,axis=1).reshape(-1,1)) / np.std(x,axis=1).reshape(-1,1)\n",
    "        # return (x - np.mean(x)) / np.std(x)\n",
    "    \n",
    "    def test_fn_ensemble(self,model_list, dl_test):\n",
    "        \n",
    "        res = np.zeros(\n",
    "            (self.len, self.config[\"output_num\"]), )\n",
    "        \n",
    "        for model in model_list:\n",
    "            model.eval()\n",
    "            \n",
    "        cur = 0\n",
    "        for inpt in tqdm(dl_test):\n",
    "            inpt = inpt[0]\n",
    "            mb_size = inpt.shape[0]\n",
    "\n",
    "            with torch.no_grad():\n",
    "                pred_list = []\n",
    "                inpt = inpt.to(self.device)\n",
    "                # print(\"inpt\",inpt.shape)\n",
    "                for id,model in enumerate(model_list):\n",
    "                    model.to(self.device)\n",
    "                    model.eval()\n",
    "                    pred = model(inpt)\n",
    "                    model.to(\"cpu\")\n",
    "                    # print(\"pred\",pred.shape)\n",
    "                    pred = self.std(pred.cpu().numpy())* self.weight[id]\n",
    "                    pred_list.append(pred)\n",
    "                pred = sum(pred_list)/len(pred_list)\n",
    "                \n",
    "            # print(res.shape, cur, cur+pred.shape[0], res[cur:cur+pred.shape[0]].shape, pred.shape)\n",
    "            res[cur:cur+pred.shape[0]] = pred\n",
    "            cur += pred.shape[0]\n",
    "                \n",
    "        return {\"preds\":res}\n",
    "\n",
    "    def load_model(self,path ):\n",
    "        model_list = []\n",
    "        for fn in tqdm(glob.glob(path)):\n",
    "            prefix = fn[:-len(\"_best_params.pth\")]\n",
    "            config_fn = prefix + \"_config.pkl\"\n",
    "            \n",
    "            config = pickle.load(open(config_fn, \"rb\"))\n",
    "\n",
    "            model = MLP(config)\n",
    "            model.to(\"cpu\")\n",
    "            \n",
    "            params = torch.load(fn)\n",
    "            model.load_state_dict(params)\n",
    "            \n",
    "            model_list.append(model)\n",
    "        print(\"model loaded\")\n",
    "        return model_list\n",
    "    \n",
    "    def load_data(self,test ):\n",
    "        print(\"test inputs loaded\")\n",
    "        print(test.shape)\n",
    "        self.len = test.shape[0]\n",
    "        test = torch.tensor(test,dtype = torch.float)\n",
    "        test = torch.utils.data.TensorDataset(test)\n",
    "        return test\n",
    "\n",
    "    def test(self,test,model_path = \"./*_best_params.pth\",weight = fold_scores):\n",
    "        self.weight = weight\n",
    "        model_list = self.load_model(model_path)\n",
    "        test_inputs = self.load_data(test)\n",
    "        gc.collect()\n",
    "        dl_test = torch.utils.data.DataLoader(test_inputs, batch_size=4096, shuffle=False, drop_last=False)\n",
    "        test_pred = self.test_fn_ensemble(model_list, dl_test)[\"preds\"]\n",
    "        del model_list\n",
    "        del dl_test\n",
    "        del test_inputs\n",
    "        gc.collect()\n",
    "        print(test_pred.shape)\n",
    "        # np.save(\"test_pred.npy\",test_pred)\n",
    "        return test_pred\n",
    "        "
   ]
  },
  {
   "cell_type": "code",
   "execution_count": 6,
   "metadata": {},
   "outputs": [
    {
     "data": {
      "text/plain": [
       "(48663, 735)"
      ]
     },
     "execution_count": 6,
     "metadata": {},
     "output_type": "execute_result"
    }
   ],
   "source": [
    "test = np.load(\"../../data_preprocessing/cite_test_final.npz\")[\"arr_0\"]\n",
    "\n",
    "test_index = np.load(f\"{root_path}/multimodal-single-cell-as-sparse-matrix/test_cite_inputs_idxcol.npz\",allow_pickle=True)\n",
    "meta_test = meta.reindex(test_index[\"index\"])\n",
    "test_meta = meta_test[\"gender\"].values.reshape(-1, 1)\n",
    "test = np.concatenate([test,test_meta],axis= -1)\n",
    "test_meta = meta_test[\"cell_type\"].values.reshape(-1, 1)\n",
    "test = np.concatenate([test,test_meta],axis= -1)\n",
    "test.shape"
   ]
  },
  {
   "cell_type": "code",
   "execution_count": 19,
   "metadata": {},
   "outputs": [
    {
     "data": {
      "application/vnd.jupyter.widget-view+json": {
       "model_id": "73c22d984c864c12ae4cf66b2d0ad49e",
       "version_major": 2,
       "version_minor": 0
      },
      "text/plain": [
       "  0%|          | 0/3 [00:00<?, ?it/s]"
      ]
     },
     "metadata": {},
     "output_type": "display_data"
    },
    {
     "name": "stdout",
     "output_type": "stream",
     "text": [
      "model loaded\n",
      "test inputs loaded\n",
      "(48663, 735)\n"
     ]
    },
    {
     "data": {
      "application/vnd.jupyter.widget-view+json": {
       "model_id": "3bfc2014a75c40798ebd4ee0f918098d",
       "version_major": 2,
       "version_minor": 0
      },
      "text/plain": [
       "  0%|          | 0/12 [00:00<?, ?it/s]"
      ]
     },
     "metadata": {},
     "output_type": "display_data"
    },
    {
     "name": "stdout",
     "output_type": "stream",
     "text": [
      "(48663, 140)\n"
     ]
    }
   ],
   "source": [
    "tester = ori_Tester( torch.device(\"cuda:0\"),config)\n",
    "test_pred = tester.test(test)"
   ]
  },
  {
   "cell_type": "code",
   "execution_count": 20,
   "metadata": {},
   "outputs": [
    {
     "data": {
      "text/plain": [
       "False"
      ]
     },
     "execution_count": 20,
     "metadata": {},
     "output_type": "execute_result"
    }
   ],
   "source": [
    "np.isnan(test_pred).any()"
   ]
  },
  {
   "cell_type": "code",
   "execution_count": 21,
   "metadata": {},
   "outputs": [
    {
     "data": {
      "text/plain": [
       "<AxesSubplot:>"
      ]
     },
     "execution_count": 21,
     "metadata": {},
     "output_type": "execute_result"
    },
    {
     "data": {
      "image/png": "[encoded data removed]",
      "text/plain": [
       "<Figure size 432x288 with 2 Axes>"
      ]
     },
     "metadata": {
      "needs_background": "light"
     },
     "output_type": "display_data"
    }
   ],
   "source": [
    "import seaborn as sns\n",
    "sns.heatmap(test_pred)"
   ]
  },
  {
   "cell_type": "code",
   "execution_count": 22,
   "metadata": {},
   "outputs": [],
   "source": [
    "def submit(test_pred,multi_path):\n",
    "    submission = pd.read_csv(multi_path,index_col = 0)\n",
    "    submission = submission[\"target\"]\n",
    "    print(\"data loaded\")\n",
    "    submission.iloc[:len(test_pred.ravel())] = test_pred.ravel()\n",
    "    assert not submission.isna().any()\n",
    "    # submission = submission.round(6) # reduce the size of the csv\n",
    "    print(\"start -> submission.zip\")\n",
    "    submission.to_csv('submission.zip')\n",
    "    print(\"submission.zip saved!\")"
   ]
  },
  {
   "cell_type": "code",
   "execution_count": 23,
   "metadata": {},
   "outputs": [
    {
     "name": "stdout",
     "output_type": "stream",
     "text": [
      "data loaded\n",
      "start -> submission.zip\n",
      "submission.zip saved!\n",
      "CPU times: total: 1min 43s\n",
      "Wall time: 3min 18s\n"
     ]
    }
   ],
   "source": [
    "%%time\n",
    "submit(test_pred,multi_path = r\"D:\\python_project\\MSCI\\model_ensemble\\submission_best.zip\")"
   ]
  },
  {
   "cell_type": "code",
   "execution_count": null,
   "metadata": {},
   "outputs": [],
   "source": []
  }
 ],
 "metadata": {
  "kernelspec": {
   "display_name": "Python 3.9.12 ('base')",
   "language": "python",
   "name": "python3"
  },
  "language_info": {
   "codemirror_mode": {
    "name": "ipython",
    "version": 3
   },
   "file_extension": ".py",
   "mimetype": "text/x-python",
   "name": "python",
   "nbconvert_exporter": "python",
   "pygments_lexer": "ipython3",
   "version": "3.9.12"
  },
  "vscode": {
   "interpreter": {
    "hash": "ad2bdc8ecc057115af97d19610ffacc2b4e99fae6737bb82f5d7fb13d2f2c186"
   }
  }
 },
 "nbformat": 4,
 "nbformat_minor": 4
}
