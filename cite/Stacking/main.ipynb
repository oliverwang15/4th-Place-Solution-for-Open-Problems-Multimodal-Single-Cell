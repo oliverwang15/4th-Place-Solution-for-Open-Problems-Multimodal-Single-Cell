{
 "cells": [
  {
   "cell_type": "code",
   "execution_count": 1,
   "metadata": {},
   "outputs": [],
   "source": [
    "import gc\n",
    "import numpy as np\n",
    "import pandas as pd\n",
    "import random\n",
    "from stacking_model import ModelStacking\n",
    "from tqdm.notebook import tqdm\n",
    "from sklearn.preprocessing import LabelEncoder,OneHotEncoder"
   ]
  },
  {
   "cell_type": "code",
   "execution_count": 12,
   "metadata": {},
   "outputs": [
    {
     "name": "stdout",
     "output_type": "stream",
     "text": [
      "(70988, 882) (48663, 742)\n"
     ]
    }
   ],
   "source": [
    "root_path = \"../../../input/\"\n",
    "\n",
    "# train\n",
    "train = np.load(\"../../data_preprocessing/new_cite_train_final.npz\")[\"arr_0\"]\n",
    "train_index = np.load(f\"{root_path}/multimodal-single-cell-as-sparse-matrix/train_cite_inputs_idxcol.npz\",allow_pickle=True)\n",
    "meta = pd.read_csv(f\"{root_path}open-problems-multimodal/metadata.csv\",index_col = \"cell_id\")\n",
    "meta = meta[meta.technology==\"citeseq\"]\n",
    "lbe = LabelEncoder()\n",
    "meta[\"cell_type\"] = lbe.fit_transform(meta[\"cell_type\"])\n",
    "meta[\"gender\"] = meta.apply(lambda x:0 if x[\"donor\"]==13176 else 1,axis =1)\n",
    "meta_train = meta.reindex(train_index[\"index\"])\n",
    "train_meta = meta_train[\"cell_type\"].values.reshape(-1, 1)\n",
    "ohe = OneHotEncoder(sparse=False)\n",
    "train_meta = ohe.fit_transform(train_meta)\n",
    "train = np.concatenate([train,train_meta],axis= -1)\n",
    "\n",
    "# target\n",
    "target = pd.read_hdf(f\"{root_path}open-problems-multimodal/train_cite_targets.h5\").values\n",
    "target -= target.mean(axis=1).reshape(-1, 1)\n",
    "target /= target.std(axis=1).reshape(-1, 1)\n",
    "\n",
    "# test\n",
    "test = np.load(\"../../data_preprocessing/new_cite_test_final.npz\")[\"arr_0\"]\n",
    "test_index = np.load(f\"{root_path}/multimodal-single-cell-as-sparse-matrix/test_cite_inputs_idxcol.npz\",allow_pickle=True)\n",
    "meta_test = meta.reindex(test_index[\"index\"])\n",
    "test_meta = meta_test[\"cell_type\"].values.reshape(-1, 1)\n",
    "test_meta = ohe.transform(test_meta)\n",
    "test = np.concatenate([test,test_meta],axis= -1)\n",
    "\n",
    "# all\n",
    "fea_columns = [f\"fea_{i}\" for i in range(train.shape[1])]\n",
    "lab_columns = [f\"lab_{i}\" for i in range(target.shape[1])]\n",
    "train = pd.DataFrame(train,columns=fea_columns)\n",
    "test = pd.DataFrame(test,columns=fea_columns)\n",
    "target = pd.DataFrame(target,columns=lab_columns)\n",
    "all = pd.concat([train,target],axis=1)\n",
    "del train,target\n",
    "gc.collect()\n",
    "print(all.shape,test.shape)"
   ]
  },
  {
   "cell_type": "code",
   "execution_count": 13,
   "metadata": {},
   "outputs": [],
   "source": [
    "main_config = dict(\n",
    "    train_features = fea_columns,   \n",
    "    predict_label = lab_columns,\n",
    "    random_state = 42,\n",
    "    # \"KNN\",\"lgbm\",\"CNN\",\"KernelRidge\",\"ElasticNet\",'ridge',\"rf\",\"et\",\"catboost\",\"torch\",\"KernelRidge\"\n",
    "    layer_1_model_list = [\"KNN\",\"CNN\",'ridge',\"rf\",\"catboost\",\"torch\"], \n",
    "    layer_2_model_list = [\"CNN\",\"catboost\",\"torch\"], \n",
    "    # \"mlp\",\"torch\",\"catboost\"\n",
    "    layer_3_model = \"mlp\"\n",
    ")"
   ]
  },
  {
   "cell_type": "markdown",
   "metadata": {},
   "source": [
    "#### You may use the following code to get the folds, since it's time-consuming, we reuse the calculated results."
   ]
  },
  {
   "cell_type": "code",
   "execution_count": 7,
   "metadata": {},
   "outputs": [],
   "source": [
    "# def get_folds(lis,folds):\n",
    "#     random.seed(42)\n",
    "#     random.shuffle(lis)\n",
    "#     num_fold = int(len(lis)/folds)\n",
    "\n",
    "#     return [lis[i::folds] for i in range(folds)]\n",
    "\n",
    "# meta_train[\"id\"] = [i for i in range(meta_train.shape[0])]\n",
    "# people_list = [32606,13176,31800]\n",
    "# day_list = [2,3,4]\n",
    "# fold_list = []\n",
    "# num_fold = 3\n",
    "\n",
    "# for val_people in tqdm([32606,13176,31800]):\n",
    "#     train_people = [i for i in people_list if i != val_people]\n",
    "#     train_idx = meta_train[meta_train.donor.isin(train_people)].id.to_list()\n",
    "#     val_idx = meta_train[meta_train.donor == val_people].id.to_list()\n",
    "#     useless_idx = [i for i in meta_train.id.to_list() if i not in train_idx+val_idx]\n",
    "#     train_fold_1,train_fold_2,train_fold_3 = get_folds(train_idx,num_fold)\n",
    "#     val_fold_1,val_fold_2,val_fold_3 = get_folds(val_idx,num_fold)\n",
    "\n",
    "#     one_fold = [\n",
    "#         [[train_fold_1+train_fold_2,val_fold_1+val_fold_2],train_fold_3+val_fold_3],\n",
    "#         [[train_fold_1+train_fold_3,val_fold_1+val_fold_3],train_fold_2+val_fold_2],\n",
    "#         [[train_fold_2+train_fold_3,val_fold_2+val_fold_3],train_fold_1+val_fold_1+useless_idx],\n",
    "#     ]\n",
    "#     fold_list.append(one_fold)"
   ]
  },
  {
   "cell_type": "code",
   "execution_count": 4,
   "metadata": {},
   "outputs": [],
   "source": [
    "import pickle\n",
    "with open(\"fold_list.pkl\",\"rb\") as f:\n",
    "    fold_list = pickle.load(f)"
   ]
  },
  {
   "cell_type": "markdown",
   "metadata": {},
   "source": [
    "## Train"
   ]
  },
  {
   "cell_type": "code",
   "execution_count": 9,
   "metadata": {},
   "outputs": [
    {
     "data": {
      "application/vnd.jupyter.widget-view+json": {
       "model_id": "eb3224462a1f4a09b00ce56f3c7e83ba",
       "version_major": 2,
       "version_minor": 0
      },
      "text/plain": [
       "  0%|          | 0/3 [00:00<?, ?it/s]"
      ]
     },
     "metadata": {},
     "output_type": "display_data"
    },
    {
     "name": "stdout",
     "output_type": "stream",
     "text": [
      "KNeighborsRegressor Fold ./results/0/layer_1/0..\n",
      "KNN ./results/0/layer_1/0 CV score: 0.883417351317758\n",
      "CNN Fold ./results/0/layer_1/0..\n"
     ]
    },
    {
     "data": {
      "application/vnd.jupyter.widget-view+json": {
       "model_id": "52f2a70e01ba415bb4839c62b92cb5d0",
       "version_major": 2,
       "version_minor": 0
      },
      "text/plain": [
       "  0%|          | 0/100 [00:00<?, ?it/s]"
      ]
     },
     "metadata": {},
     "output_type": "display_data"
    },
    {
     "name": "stdout",
     "output_type": "stream",
     "text": [
      "CNN ./results/0/layer_1/0 CV score: 0.8975499964652316\n",
      "Ridge Fold ./results/0/layer_1/0..\n",
      "ridge ./results/0/layer_1/0 CV score: 0.8918095146480072\n",
      "RandomForestRegressor Fold ./results/0/layer_1/0..\n",
      "rf ./results/0/layer_1/0 CV score: 0.8832730141942098\n",
      "Catboost Fold ./results/0/layer_1/0..\n"
     ]
    },
    {
     "data": {
      "application/vnd.jupyter.widget-view+json": {
       "model_id": "4f13dc90d8824e9aa4b47126cf43f519",
       "version_major": 2,
       "version_minor": 0
      },
      "text/plain": [
       "  0%|          | 0/140 [00:00<?, ?it/s]"
      ]
     },
     "metadata": {},
     "output_type": "display_data"
    },
    {
     "name": "stderr",
     "output_type": "stream",
     "text": [
      "Warning: less than 75% gpu memory available for training. Free: 5689 Total: 8191.5\n",
      "Warning: less than 75% gpu memory available for training. Free: 5687 Total: 8191.5\n",
      "Warning: less than 75% gpu memory available for training. Free: 5687 Total: 8191.5\n",
      "Warning: less than 75% gpu memory available for training. Free: 5687 Total: 8191.5\n",
      "Warning: less than 75% gpu memory available for training. Free: 5687 Total: 8191.5\n",
      "Warning: less than 75% gpu memory available for training. Free: 5687 Total: 8191.5\n",
      "Warning: less than 75% gpu memory available for training. Free: 5687 Total: 8191.5\n",
      "Warning: less than 75% gpu memory available for training. Free: 5687 Total: 8191.5\n",
      "Warning: less than 75% gpu memory available for training. Free: 5687 Total: 8191.5\n",
      "Warning: less than 75% gpu memory available for training. Free: 5687 Total: 8191.5\n",
      "Warning: less than 75% gpu memory available for training. Free: 5687 Total: 8191.5\n",
      "Warning: less than 75% gpu memory available for training. Free: 5687 Total: 8191.5\n",
      "Warning: less than 75% gpu memory available for training. Free: 5687 Total: 8191.5\n",
      "Warning: less than 75% gpu memory available for training. Free: 5687 Total: 8191.5\n",
      "Warning: less than 75% gpu memory available for training. Free: 5687 Total: 8191.5\n",
      "Warning: less than 75% gpu memory available for training. Free: 5687 Total: 8191.5\n",
      "Warning: less than 75% gpu memory available for training. Free: 5687 Total: 8191.5\n",
      "Warning: less than 75% gpu memory available for training. Free: 5687 Total: 8191.5\n",
      "Warning: less than 75% gpu memory available for training. Free: 5687 Total: 8191.5\n",
      "Warning: less than 75% gpu memory available for training. Free: 5687 Total: 8191.5\n",
      "Warning: less than 75% gpu memory available for training. Free: 5687 Total: 8191.5\n",
      "Warning: less than 75% gpu memory available for training. Free: 5687 Total: 8191.5\n",
      "Warning: less than 75% gpu memory available for training. Free: 5687 Total: 8191.5\n",
      "Warning: less than 75% gpu memory available for training. Free: 5687 Total: 8191.5\n",
      "Warning: less than 75% gpu memory available for training. Free: 5687 Total: 8191.5\n",
      "Warning: less than 75% gpu memory available for training. Free: 5687 Total: 8191.5\n",
      "Warning: less than 75% gpu memory available for training. Free: 5687 Total: 8191.5\n",
      "Warning: less than 75% gpu memory available for training. Free: 5687 Total: 8191.5\n",
      "Warning: less than 75% gpu memory available for training. Free: 5687 Total: 8191.5\n",
      "Warning: less than 75% gpu memory available for training. Free: 5687 Total: 8191.5\n",
      "Warning: less than 75% gpu memory available for training. Free: 5687 Total: 8191.5\n",
      "Warning: less than 75% gpu memory available for training. Free: 5687 Total: 8191.5\n",
      "Warning: less than 75% gpu memory available for training. Free: 5687 Total: 8191.5\n",
      "Warning: less than 75% gpu memory available for training. Free: 5687 Total: 8191.5\n",
      "Warning: less than 75% gpu memory available for training. Free: 5687 Total: 8191.5\n",
      "Warning: less than 75% gpu memory available for training. Free: 5687 Total: 8191.5\n",
      "Warning: less than 75% gpu memory available for training. Free: 5687 Total: 8191.5\n",
      "Warning: less than 75% gpu memory available for training. Free: 5687 Total: 8191.5\n",
      "Warning: less than 75% gpu memory available for training. Free: 5687 Total: 8191.5\n",
      "Warning: less than 75% gpu memory available for training. Free: 5687 Total: 8191.5\n",
      "Warning: less than 75% gpu memory available for training. Free: 5687 Total: 8191.5\n",
      "Warning: less than 75% gpu memory available for training. Free: 5687 Total: 8191.5\n",
      "Warning: less than 75% gpu memory available for training. Free: 5687 Total: 8191.5\n",
      "Warning: less than 75% gpu memory available for training. Free: 5687 Total: 8191.5\n",
      "Warning: less than 75% gpu memory available for training. Free: 5687 Total: 8191.5\n",
      "Warning: less than 75% gpu memory available for training. Free: 5687 Total: 8191.5\n",
      "Warning: less than 75% gpu memory available for training. Free: 5687 Total: 8191.5\n",
      "Warning: less than 75% gpu memory available for training. Free: 5687 Total: 8191.5\n",
      "Warning: less than 75% gpu memory available for training. Free: 5687 Total: 8191.5\n",
      "Warning: less than 75% gpu memory available for training. Free: 5687 Total: 8191.5\n",
      "Warning: less than 75% gpu memory available for training. Free: 5687 Total: 8191.5\n",
      "Warning: less than 75% gpu memory available for training. Free: 5687 Total: 8191.5\n",
      "Warning: less than 75% gpu memory available for training. Free: 5687 Total: 8191.5\n",
      "Warning: less than 75% gpu memory available for training. Free: 5687 Total: 8191.5\n",
      "Warning: less than 75% gpu memory available for training. Free: 5687 Total: 8191.5\n",
      "Warning: less than 75% gpu memory available for training. Free: 5687 Total: 8191.5\n",
      "Warning: less than 75% gpu memory available for training. Free: 5687 Total: 8191.5\n",
      "Warning: less than 75% gpu memory available for training. Free: 5687 Total: 8191.5\n",
      "Warning: less than 75% gpu memory available for training. Free: 5687 Total: 8191.5\n",
      "Warning: less than 75% gpu memory available for training. Free: 5687 Total: 8191.5\n",
      "Warning: less than 75% gpu memory available for training. Free: 5687 Total: 8191.5\n",
      "Warning: less than 75% gpu memory available for training. Free: 5687 Total: 8191.5\n",
      "Warning: less than 75% gpu memory available for training. Free: 5687 Total: 8191.5\n",
      "Warning: less than 75% gpu memory available for training. Free: 5687 Total: 8191.5\n",
      "Warning: less than 75% gpu memory available for training. Free: 5687 Total: 8191.5\n",
      "Warning: less than 75% gpu memory available for training. Free: 5687 Total: 8191.5\n",
      "Warning: less than 75% gpu memory available for training. Free: 5687 Total: 8191.5\n",
      "Warning: less than 75% gpu memory available for training. Free: 5687 Total: 8191.5\n",
      "Warning: less than 75% gpu memory available for training. Free: 5687 Total: 8191.5\n",
      "Warning: less than 75% gpu memory available for training. Free: 5687 Total: 8191.5\n",
      "Warning: less than 75% gpu memory available for training. Free: 5687 Total: 8191.5\n",
      "Warning: less than 75% gpu memory available for training. Free: 5687 Total: 8191.5\n",
      "Warning: less than 75% gpu memory available for training. Free: 5687 Total: 8191.5\n",
      "Warning: less than 75% gpu memory available for training. Free: 5687 Total: 8191.5\n",
      "Warning: less than 75% gpu memory available for training. Free: 5687 Total: 8191.5\n",
      "Warning: less than 75% gpu memory available for training. Free: 5687 Total: 8191.5\n",
      "Warning: less than 75% gpu memory available for training. Free: 5687 Total: 8191.5\n",
      "Warning: less than 75% gpu memory available for training. Free: 5687 Total: 8191.5\n",
      "Warning: less than 75% gpu memory available for training. Free: 5687 Total: 8191.5\n",
      "Warning: less than 75% gpu memory available for training. Free: 5687 Total: 8191.5\n",
      "Warning: less than 75% gpu memory available for training. Free: 5687 Total: 8191.5\n",
      "Warning: less than 75% gpu memory available for training. Free: 5687 Total: 8191.5\n",
      "Warning: less than 75% gpu memory available for training. Free: 5687 Total: 8191.5\n",
      "Warning: less than 75% gpu memory available for training. Free: 5687 Total: 8191.5\n",
      "Warning: less than 75% gpu memory available for training. Free: 5687 Total: 8191.5\n",
      "Warning: less than 75% gpu memory available for training. Free: 5687 Total: 8191.5\n",
      "Warning: less than 75% gpu memory available for training. Free: 5687 Total: 8191.5\n",
      "Warning: less than 75% gpu memory available for training. Free: 5687 Total: 8191.5\n",
      "Warning: less than 75% gpu memory available for training. Free: 5687 Total: 8191.5\n",
      "Warning: less than 75% gpu memory available for training. Free: 5687 Total: 8191.5\n",
      "Warning: less than 75% gpu memory available for training. Free: 5687 Total: 8191.5\n",
      "Warning: less than 75% gpu memory available for training. Free: 5687 Total: 8191.5\n",
      "Warning: less than 75% gpu memory available for training. Free: 5687 Total: 8191.5\n",
      "Warning: less than 75% gpu memory available for training. Free: 5687 Total: 8191.5\n",
      "Warning: less than 75% gpu memory available for training. Free: 5687 Total: 8191.5\n",
      "Warning: less than 75% gpu memory available for training. Free: 5687 Total: 8191.5\n",
      "Warning: less than 75% gpu memory available for training. Free: 5687 Total: 8191.5\n",
      "Warning: less than 75% gpu memory available for training. Free: 5687 Total: 8191.5\n",
      "Warning: less than 75% gpu memory available for training. Free: 5687 Total: 8191.5\n",
      "Warning: less than 75% gpu memory available for training. Free: 5687 Total: 8191.5\n",
      "Warning: less than 75% gpu memory available for training. Free: 5687 Total: 8191.5\n",
      "Warning: less than 75% gpu memory available for training. Free: 5687 Total: 8191.5\n",
      "Warning: less than 75% gpu memory available for training. Free: 5687 Total: 8191.5\n",
      "Warning: less than 75% gpu memory available for training. Free: 5687 Total: 8191.5\n",
      "Warning: less than 75% gpu memory available for training. Free: 5687 Total: 8191.5\n",
      "Warning: less than 75% gpu memory available for training. Free: 5687 Total: 8191.5\n",
      "Warning: less than 75% gpu memory available for training. Free: 5687 Total: 8191.5\n",
      "Warning: less than 75% gpu memory available for training. Free: 5687 Total: 8191.5\n",
      "Warning: less than 75% gpu memory available for training. Free: 5687 Total: 8191.5\n",
      "Warning: less than 75% gpu memory available for training. Free: 5687 Total: 8191.5\n",
      "Warning: less than 75% gpu memory available for training. Free: 5687 Total: 8191.5\n",
      "Warning: less than 75% gpu memory available for training. Free: 5687 Total: 8191.5\n",
      "Warning: less than 75% gpu memory available for training. Free: 5687 Total: 8191.5\n",
      "Warning: less than 75% gpu memory available for training. Free: 5687 Total: 8191.5\n",
      "Warning: less than 75% gpu memory available for training. Free: 5687 Total: 8191.5\n",
      "Warning: less than 75% gpu memory available for training. Free: 5687 Total: 8191.5\n",
      "Warning: less than 75% gpu memory available for training. Free: 5687 Total: 8191.5\n",
      "Warning: less than 75% gpu memory available for training. Free: 5687 Total: 8191.5\n",
      "Warning: less than 75% gpu memory available for training. Free: 5687 Total: 8191.5\n",
      "Warning: less than 75% gpu memory available for training. Free: 5687 Total: 8191.5\n",
      "Warning: less than 75% gpu memory available for training. Free: 5687 Total: 8191.5\n",
      "Warning: less than 75% gpu memory available for training. Free: 5687 Total: 8191.5\n",
      "Warning: less than 75% gpu memory available for training. Free: 5687 Total: 8191.5\n",
      "Warning: less than 75% gpu memory available for training. Free: 5687 Total: 8191.5\n",
      "Warning: less than 75% gpu memory available for training. Free: 5687 Total: 8191.5\n",
      "Warning: less than 75% gpu memory available for training. Free: 5687 Total: 8191.5\n",
      "Warning: less than 75% gpu memory available for training. Free: 5687 Total: 8191.5\n",
      "Warning: less than 75% gpu memory available for training. Free: 5687 Total: 8191.5\n",
      "Warning: less than 75% gpu memory available for training. Free: 5687 Total: 8191.5\n",
      "Warning: less than 75% gpu memory available for training. Free: 5687 Total: 8191.5\n",
      "Warning: less than 75% gpu memory available for training. Free: 5687 Total: 8191.5\n",
      "Warning: less than 75% gpu memory available for training. Free: 5687 Total: 8191.5\n",
      "Warning: less than 75% gpu memory available for training. Free: 5687 Total: 8191.5\n",
      "Warning: less than 75% gpu memory available for training. Free: 5687 Total: 8191.5\n",
      "Warning: less than 75% gpu memory available for training. Free: 5687 Total: 8191.5\n",
      "Warning: less than 75% gpu memory available for training. Free: 5687 Total: 8191.5\n",
      "Warning: less than 75% gpu memory available for training. Free: 5687 Total: 8191.5\n",
      "Warning: less than 75% gpu memory available for training. Free: 5687 Total: 8191.5\n",
      "Warning: less than 75% gpu memory available for training. Free: 5687 Total: 8191.5\n",
      "Warning: less than 75% gpu memory available for training. Free: 5687 Total: 8191.5\n"
     ]
    },
    {
     "data": {
      "application/vnd.jupyter.widget-view+json": {
       "model_id": "3681000d72a641e8a6dd78b3c7e0ad5e",
       "version_major": 2,
       "version_minor": 0
      },
      "text/plain": [
       "  0%|          | 0/140 [00:00<?, ?it/s]"
      ]
     },
     "metadata": {},
     "output_type": "display_data"
    },
    {
     "name": "stdout",
     "output_type": "stream",
     "text": [
      "Model saved\n"
     ]
    },
    {
     "data": {
      "application/vnd.jupyter.widget-view+json": {
       "model_id": "c938c6c317c5461a966fe84ab5889429",
       "version_major": 2,
       "version_minor": 0
      },
      "text/plain": [
       "  0%|          | 0/140 [00:00<?, ?it/s]"
      ]
     },
     "metadata": {},
     "output_type": "display_data"
    },
    {
     "name": "stdout",
     "output_type": "stream",
     "text": [
      "Model loaded\n"
     ]
    },
    {
     "data": {
      "application/vnd.jupyter.widget-view+json": {
       "model_id": "5e154309568247b0ae37bd3bc3f362e8",
       "version_major": 2,
       "version_minor": 0
      },
      "text/plain": [
       "  0%|          | 0/140 [00:00<?, ?it/s]"
      ]
     },
     "metadata": {},
     "output_type": "display_data"
    },
    {
     "data": {
      "application/vnd.jupyter.widget-view+json": {
       "model_id": "f9c8cba81cc44dd9bcd4cc7c3ba72b9b",
       "version_major": 2,
       "version_minor": 0
      },
      "text/plain": [
       "  0%|          | 0/140 [00:00<?, ?it/s]"
      ]
     },
     "metadata": {},
     "output_type": "display_data"
    },
    {
     "name": "stdout",
     "output_type": "stream",
     "text": [
      "Model loaded\n"
     ]
    },
    {
     "data": {
      "application/vnd.jupyter.widget-view+json": {
       "model_id": "498d8ca2d7e94aa0a3e4807eb57837c6",
       "version_major": 2,
       "version_minor": 0
      },
      "text/plain": [
       "  0%|          | 0/140 [00:00<?, ?it/s]"
      ]
     },
     "metadata": {},
     "output_type": "display_data"
    },
    {
     "name": "stdout",
     "output_type": "stream",
     "text": [
      "catboost ./results/0/layer_1/0 CV score: 0.8954437620936716\n",
      "NN Fold ./results/0/layer_1/0..\n"
     ]
    },
    {
     "data": {
      "application/vnd.jupyter.widget-view+json": {
       "model_id": "d9cbca86dced4ef2a82ffe52d7a1a47b",
       "version_major": 2,
       "version_minor": 0
      },
      "text/plain": [
       "  0%|          | 0/100 [00:00<?, ?it/s]"
      ]
     },
     "metadata": {},
     "output_type": "display_data"
    },
    {
     "name": "stdout",
     "output_type": "stream",
     "text": [
      "torch ./results/0/layer_1/0 CV score: 0.8977375704813377\n",
      "KNeighborsRegressor Fold ./results/0/layer_1/1..\n",
      "KNN ./results/0/layer_1/1 CV score: 0.884041158886774\n",
      "CNN Fold ./results/0/layer_1/1..\n"
     ]
    },
    {
     "data": {
      "application/vnd.jupyter.widget-view+json": {
       "model_id": "5ebe359f13df491eb620605af9e26a11",
       "version_major": 2,
       "version_minor": 0
      },
      "text/plain": [
       "  0%|          | 0/100 [00:00<?, ?it/s]"
      ]
     },
     "metadata": {},
     "output_type": "display_data"
    },
    {
     "name": "stdout",
     "output_type": "stream",
     "text": [
      "CNN ./results/0/layer_1/1 CV score: 0.8980229539196549\n",
      "Ridge Fold ./results/0/layer_1/1..\n",
      "ridge ./results/0/layer_1/1 CV score: 0.8914750578940591\n",
      "RandomForestRegressor Fold ./results/0/layer_1/1..\n",
      "rf ./results/0/layer_1/1 CV score: 0.884101689048223\n",
      "Catboost Fold ./results/0/layer_1/1..\n"
     ]
    },
    {
     "data": {
      "application/vnd.jupyter.widget-view+json": {
       "model_id": "15f47b8c93d040e1978aeac7aa4490fc",
       "version_major": 2,
       "version_minor": 0
      },
      "text/plain": [
       "  0%|          | 0/140 [00:00<?, ?it/s]"
      ]
     },
     "metadata": {},
     "output_type": "display_data"
    },
    {
     "name": "stderr",
     "output_type": "stream",
     "text": [
      "Warning: less than 75% gpu memory available for training. Free: 5687 Total: 8191.5\n",
      "Warning: less than 75% gpu memory available for training. Free: 5687 Total: 8191.5\n",
      "Warning: less than 75% gpu memory available for training. Free: 5687 Total: 8191.5\n",
      "Warning: less than 75% gpu memory available for training. Free: 5687 Total: 8191.5\n",
      "Warning: less than 75% gpu memory available for training. Free: 5687 Total: 8191.5\n",
      "Warning: less than 75% gpu memory available for training. Free: 5687 Total: 8191.5\n",
      "Warning: less than 75% gpu memory available for training. Free: 5687 Total: 8191.5\n",
      "Warning: less than 75% gpu memory available for training. Free: 5687 Total: 8191.5\n",
      "Warning: less than 75% gpu memory available for training. Free: 5687 Total: 8191.5\n",
      "Warning: less than 75% gpu memory available for training. Free: 5687 Total: 8191.5\n",
      "Warning: less than 75% gpu memory available for training. Free: 5687 Total: 8191.5\n",
      "Warning: less than 75% gpu memory available for training. Free: 5687 Total: 8191.5\n",
      "Warning: less than 75% gpu memory available for training. Free: 5687 Total: 8191.5\n",
      "Warning: less than 75% gpu memory available for training. Free: 5687 Total: 8191.5\n",
      "Warning: less than 75% gpu memory available for training. Free: 5687 Total: 8191.5\n",
      "Warning: less than 75% gpu memory available for training. Free: 5687 Total: 8191.5\n",
      "Warning: less than 75% gpu memory available for training. Free: 5687 Total: 8191.5\n",
      "Warning: less than 75% gpu memory available for training. Free: 5687 Total: 8191.5\n",
      "Warning: less than 75% gpu memory available for training. Free: 5687 Total: 8191.5\n",
      "Warning: less than 75% gpu memory available for training. Free: 5687 Total: 8191.5\n",
      "Warning: less than 75% gpu memory available for training. Free: 5687 Total: 8191.5\n",
      "Warning: less than 75% gpu memory available for training. Free: 5687 Total: 8191.5\n",
      "Warning: less than 75% gpu memory available for training. Free: 5687 Total: 8191.5\n",
      "Warning: less than 75% gpu memory available for training. Free: 5687 Total: 8191.5\n",
      "Warning: less than 75% gpu memory available for training. Free: 5687 Total: 8191.5\n",
      "Warning: less than 75% gpu memory available for training. Free: 5687 Total: 8191.5\n",
      "Warning: less than 75% gpu memory available for training. Free: 5687 Total: 8191.5\n",
      "Warning: less than 75% gpu memory available for training. Free: 5687 Total: 8191.5\n",
      "Warning: less than 75% gpu memory available for training. Free: 5687 Total: 8191.5\n",
      "Warning: less than 75% gpu memory available for training. Free: 5687 Total: 8191.5\n",
      "Warning: less than 75% gpu memory available for training. Free: 5687 Total: 8191.5\n",
      "Warning: less than 75% gpu memory available for training. Free: 5687 Total: 8191.5\n",
      "Warning: less than 75% gpu memory available for training. Free: 5687 Total: 8191.5\n",
      "Warning: less than 75% gpu memory available for training. Free: 5687 Total: 8191.5\n",
      "Warning: less than 75% gpu memory available for training. Free: 5687 Total: 8191.5\n",
      "Warning: less than 75% gpu memory available for training. Free: 5687 Total: 8191.5\n",
      "Warning: less than 75% gpu memory available for training. Free: 5687 Total: 8191.5\n",
      "Warning: less than 75% gpu memory available for training. Free: 5687 Total: 8191.5\n",
      "Warning: less than 75% gpu memory available for training. Free: 5687 Total: 8191.5\n",
      "Warning: less than 75% gpu memory available for training. Free: 5687 Total: 8191.5\n",
      "Warning: less than 75% gpu memory available for training. Free: 5687 Total: 8191.5\n",
      "Warning: less than 75% gpu memory available for training. Free: 5687 Total: 8191.5\n",
      "Warning: less than 75% gpu memory available for training. Free: 5687 Total: 8191.5\n",
      "Warning: less than 75% gpu memory available for training. Free: 5687 Total: 8191.5\n",
      "Warning: less than 75% gpu memory available for training. Free: 5687 Total: 8191.5\n",
      "Warning: less than 75% gpu memory available for training. Free: 5687 Total: 8191.5\n",
      "Warning: less than 75% gpu memory available for training. Free: 5687 Total: 8191.5\n",
      "Warning: less than 75% gpu memory available for training. Free: 5687 Total: 8191.5\n",
      "Warning: less than 75% gpu memory available for training. Free: 5687 Total: 8191.5\n",
      "Warning: less than 75% gpu memory available for training. Free: 5687 Total: 8191.5\n",
      "Warning: less than 75% gpu memory available for training. Free: 5687 Total: 8191.5\n",
      "Warning: less than 75% gpu memory available for training. Free: 5687 Total: 8191.5\n",
      "Warning: less than 75% gpu memory available for training. Free: 5687 Total: 8191.5\n",
      "Warning: less than 75% gpu memory available for training. Free: 5687 Total: 8191.5\n",
      "Warning: less than 75% gpu memory available for training. Free: 5687 Total: 8191.5\n",
      "Warning: less than 75% gpu memory available for training. Free: 5687 Total: 8191.5\n",
      "Warning: less than 75% gpu memory available for training. Free: 5687 Total: 8191.5\n",
      "Warning: less than 75% gpu memory available for training. Free: 5687 Total: 8191.5\n",
      "Warning: less than 75% gpu memory available for training. Free: 5687 Total: 8191.5\n",
      "Warning: less than 75% gpu memory available for training. Free: 5687 Total: 8191.5\n",
      "Warning: less than 75% gpu memory available for training. Free: 5687 Total: 8191.5\n",
      "Warning: less than 75% gpu memory available for training. Free: 5687 Total: 8191.5\n",
      "Warning: less than 75% gpu memory available for training. Free: 5687 Total: 8191.5\n",
      "Warning: less than 75% gpu memory available for training. Free: 5687 Total: 8191.5\n",
      "Warning: less than 75% gpu memory available for training. Free: 5687 Total: 8191.5\n",
      "Warning: less than 75% gpu memory available for training. Free: 5687 Total: 8191.5\n",
      "Warning: less than 75% gpu memory available for training. Free: 5687 Total: 8191.5\n",
      "Warning: less than 75% gpu memory available for training. Free: 5687 Total: 8191.5\n",
      "Warning: less than 75% gpu memory available for training. Free: 5687 Total: 8191.5\n",
      "Warning: less than 75% gpu memory available for training. Free: 5687 Total: 8191.5\n",
      "Warning: less than 75% gpu memory available for training. Free: 5687 Total: 8191.5\n",
      "Warning: less than 75% gpu memory available for training. Free: 5687 Total: 8191.5\n",
      "Warning: less than 75% gpu memory available for training. Free: 5687 Total: 8191.5\n",
      "Warning: less than 75% gpu memory available for training. Free: 5687 Total: 8191.5\n",
      "Warning: less than 75% gpu memory available for training. Free: 5687 Total: 8191.5\n",
      "Warning: less than 75% gpu memory available for training. Free: 5687 Total: 8191.5\n",
      "Warning: less than 75% gpu memory available for training. Free: 5687 Total: 8191.5\n",
      "Warning: less than 75% gpu memory available for training. Free: 5687 Total: 8191.5\n",
      "Warning: less than 75% gpu memory available for training. Free: 5687 Total: 8191.5\n",
      "Warning: less than 75% gpu memory available for training. Free: 5687 Total: 8191.5\n",
      "Warning: less than 75% gpu memory available for training. Free: 5687 Total: 8191.5\n",
      "Warning: less than 75% gpu memory available for training. Free: 5687 Total: 8191.5\n",
      "Warning: less than 75% gpu memory available for training. Free: 5687 Total: 8191.5\n",
      "Warning: less than 75% gpu memory available for training. Free: 5687 Total: 8191.5\n",
      "Warning: less than 75% gpu memory available for training. Free: 5687 Total: 8191.5\n",
      "Warning: less than 75% gpu memory available for training. Free: 5687 Total: 8191.5\n",
      "Warning: less than 75% gpu memory available for training. Free: 5687 Total: 8191.5\n",
      "Warning: less than 75% gpu memory available for training. Free: 5687 Total: 8191.5\n",
      "Warning: less than 75% gpu memory available for training. Free: 5687 Total: 8191.5\n",
      "Warning: less than 75% gpu memory available for training. Free: 5687 Total: 8191.5\n",
      "Warning: less than 75% gpu memory available for training. Free: 5687 Total: 8191.5\n",
      "Warning: less than 75% gpu memory available for training. Free: 5687 Total: 8191.5\n",
      "Warning: less than 75% gpu memory available for training. Free: 5687 Total: 8191.5\n",
      "Warning: less than 75% gpu memory available for training. Free: 5687 Total: 8191.5\n",
      "Warning: less than 75% gpu memory available for training. Free: 5687 Total: 8191.5\n",
      "Warning: less than 75% gpu memory available for training. Free: 5687 Total: 8191.5\n",
      "Warning: less than 75% gpu memory available for training. Free: 5687 Total: 8191.5\n",
      "Warning: less than 75% gpu memory available for training. Free: 5687 Total: 8191.5\n",
      "Warning: less than 75% gpu memory available for training. Free: 5687 Total: 8191.5\n",
      "Warning: less than 75% gpu memory available for training. Free: 5687 Total: 8191.5\n",
      "Warning: less than 75% gpu memory available for training. Free: 5687 Total: 8191.5\n",
      "Warning: less than 75% gpu memory available for training. Free: 5687 Total: 8191.5\n",
      "Warning: less than 75% gpu memory available for training. Free: 5687 Total: 8191.5\n",
      "Warning: less than 75% gpu memory available for training. Free: 5687 Total: 8191.5\n",
      "Warning: less than 75% gpu memory available for training. Free: 5687 Total: 8191.5\n",
      "Warning: less than 75% gpu memory available for training. Free: 5687 Total: 8191.5\n",
      "Warning: less than 75% gpu memory available for training. Free: 5687 Total: 8191.5\n",
      "Warning: less than 75% gpu memory available for training. Free: 5687 Total: 8191.5\n",
      "Warning: less than 75% gpu memory available for training. Free: 5687 Total: 8191.5\n",
      "Warning: less than 75% gpu memory available for training. Free: 5687 Total: 8191.5\n",
      "Warning: less than 75% gpu memory available for training. Free: 5687 Total: 8191.5\n",
      "Warning: less than 75% gpu memory available for training. Free: 5687 Total: 8191.5\n",
      "Warning: less than 75% gpu memory available for training. Free: 5687 Total: 8191.5\n",
      "Warning: less than 75% gpu memory available for training. Free: 5687 Total: 8191.5\n",
      "Warning: less than 75% gpu memory available for training. Free: 5687 Total: 8191.5\n",
      "Warning: less than 75% gpu memory available for training. Free: 5687 Total: 8191.5\n",
      "Warning: less than 75% gpu memory available for training. Free: 5687 Total: 8191.5\n",
      "Warning: less than 75% gpu memory available for training. Free: 5687 Total: 8191.5\n",
      "Warning: less than 75% gpu memory available for training. Free: 5687 Total: 8191.5\n",
      "Warning: less than 75% gpu memory available for training. Free: 5687 Total: 8191.5\n",
      "Warning: less than 75% gpu memory available for training. Free: 5687 Total: 8191.5\n",
      "Warning: less than 75% gpu memory available for training. Free: 5687 Total: 8191.5\n",
      "Warning: less than 75% gpu memory available for training. Free: 5687 Total: 8191.5\n",
      "Warning: less than 75% gpu memory available for training. Free: 5687 Total: 8191.5\n",
      "Warning: less than 75% gpu memory available for training. Free: 5687 Total: 8191.5\n",
      "Warning: less than 75% gpu memory available for training. Free: 5687 Total: 8191.5\n",
      "Warning: less than 75% gpu memory available for training. Free: 5687 Total: 8191.5\n",
      "Warning: less than 75% gpu memory available for training. Free: 5687 Total: 8191.5\n",
      "Warning: less than 75% gpu memory available for training. Free: 5687 Total: 8191.5\n",
      "Warning: less than 75% gpu memory available for training. Free: 5687 Total: 8191.5\n",
      "Warning: less than 75% gpu memory available for training. Free: 5687 Total: 8191.5\n",
      "Warning: less than 75% gpu memory available for training. Free: 5687 Total: 8191.5\n",
      "Warning: less than 75% gpu memory available for training. Free: 5687 Total: 8191.5\n",
      "Warning: less than 75% gpu memory available for training. Free: 5687 Total: 8191.5\n",
      "Warning: less than 75% gpu memory available for training. Free: 5687 Total: 8191.5\n",
      "Warning: less than 75% gpu memory available for training. Free: 5687 Total: 8191.5\n",
      "Warning: less than 75% gpu memory available for training. Free: 5687 Total: 8191.5\n",
      "Warning: less than 75% gpu memory available for training. Free: 5687 Total: 8191.5\n",
      "Warning: less than 75% gpu memory available for training. Free: 5687 Total: 8191.5\n",
      "Warning: less than 75% gpu memory available for training. Free: 5687 Total: 8191.5\n"
     ]
    },
    {
     "data": {
      "application/vnd.jupyter.widget-view+json": {
       "model_id": "54d354ce63074b8bba4f08a18d971a15",
       "version_major": 2,
       "version_minor": 0
      },
      "text/plain": [
       "  0%|          | 0/140 [00:00<?, ?it/s]"
      ]
     },
     "metadata": {},
     "output_type": "display_data"
    },
    {
     "name": "stdout",
     "output_type": "stream",
     "text": [
      "Model saved\n"
     ]
    },
    {
     "data": {
      "application/vnd.jupyter.widget-view+json": {
       "model_id": "0c52ad7f848845a3be2bdee9819a1f71",
       "version_major": 2,
       "version_minor": 0
      },
      "text/plain": [
       "  0%|          | 0/140 [00:00<?, ?it/s]"
      ]
     },
     "metadata": {},
     "output_type": "display_data"
    },
    {
     "name": "stdout",
     "output_type": "stream",
     "text": [
      "Model loaded\n"
     ]
    },
    {
     "data": {
      "application/vnd.jupyter.widget-view+json": {
       "model_id": "cb6805f1b22e4374818738a150e72c26",
       "version_major": 2,
       "version_minor": 0
      },
      "text/plain": [
       "  0%|          | 0/140 [00:00<?, ?it/s]"
      ]
     },
     "metadata": {},
     "output_type": "display_data"
    },
    {
     "data": {
      "application/vnd.jupyter.widget-view+json": {
       "model_id": "26972842993b4df7841de0cb1da443c3",
       "version_major": 2,
       "version_minor": 0
      },
      "text/plain": [
       "  0%|          | 0/140 [00:00<?, ?it/s]"
      ]
     },
     "metadata": {},
     "output_type": "display_data"
    },
    {
     "name": "stdout",
     "output_type": "stream",
     "text": [
      "Model loaded\n"
     ]
    },
    {
     "data": {
      "application/vnd.jupyter.widget-view+json": {
       "model_id": "871f620dda7a456086d95fa354911b82",
       "version_major": 2,
       "version_minor": 0
      },
      "text/plain": [
       "  0%|          | 0/140 [00:00<?, ?it/s]"
      ]
     },
     "metadata": {},
     "output_type": "display_data"
    },
    {
     "name": "stdout",
     "output_type": "stream",
     "text": [
      "catboost ./results/0/layer_1/1 CV score: 0.8960268848056342\n",
      "NN Fold ./results/0/layer_1/1..\n"
     ]
    },
    {
     "data": {
      "application/vnd.jupyter.widget-view+json": {
       "model_id": "bf1d38afec4349cd9a5dd847f9014beb",
       "version_major": 2,
       "version_minor": 0
      },
      "text/plain": [
       "  0%|          | 0/100 [00:00<?, ?it/s]"
      ]
     },
     "metadata": {},
     "output_type": "display_data"
    },
    {
     "name": "stdout",
     "output_type": "stream",
     "text": [
      "torch ./results/0/layer_1/1 CV score: 0.8983459417498345\n",
      "KNeighborsRegressor Fold ./results/0/layer_1/2..\n",
      "KNN ./results/0/layer_1/2 CV score: 0.8829327504037398\n",
      "CNN Fold ./results/0/layer_1/2..\n"
     ]
    },
    {
     "data": {
      "application/vnd.jupyter.widget-view+json": {
       "model_id": "1a88677244c042b3889e13d69b388258",
       "version_major": 2,
       "version_minor": 0
      },
      "text/plain": [
       "  0%|          | 0/100 [00:00<?, ?it/s]"
      ]
     },
     "metadata": {},
     "output_type": "display_data"
    },
    {
     "name": "stdout",
     "output_type": "stream",
     "text": [
      "CNN ./results/0/layer_1/2 CV score: 0.8970718887050803\n",
      "Ridge Fold ./results/0/layer_1/2..\n",
      "ridge ./results/0/layer_1/2 CV score: 0.8915434490838732\n",
      "RandomForestRegressor Fold ./results/0/layer_1/2..\n",
      "rf ./results/0/layer_1/2 CV score: 0.8831230266755619\n",
      "Catboost Fold ./results/0/layer_1/2..\n"
     ]
    },
    {
     "data": {
      "application/vnd.jupyter.widget-view+json": {
       "model_id": "3fdf58b231ac4a4eb456bf370e5f7377",
       "version_major": 2,
       "version_minor": 0
      },
      "text/plain": [
       "  0%|          | 0/140 [00:00<?, ?it/s]"
      ]
     },
     "metadata": {},
     "output_type": "display_data"
    },
    {
     "name": "stderr",
     "output_type": "stream",
     "text": [
      "Warning: less than 75% gpu memory available for training. Free: 5687 Total: 8191.5\n",
      "Warning: less than 75% gpu memory available for training. Free: 5687 Total: 8191.5\n",
      "Warning: less than 75% gpu memory available for training. Free: 5687 Total: 8191.5\n",
      "Warning: less than 75% gpu memory available for training. Free: 5687 Total: 8191.5\n",
      "Warning: less than 75% gpu memory available for training. Free: 5687 Total: 8191.5\n",
      "Warning: less than 75% gpu memory available for training. Free: 5687 Total: 8191.5\n",
      "Warning: less than 75% gpu memory available for training. Free: 5687 Total: 8191.5\n",
      "Warning: less than 75% gpu memory available for training. Free: 5687 Total: 8191.5\n",
      "Warning: less than 75% gpu memory available for training. Free: 5687 Total: 8191.5\n",
      "Warning: less than 75% gpu memory available for training. Free: 5687 Total: 8191.5\n",
      "Warning: less than 75% gpu memory available for training. Free: 5687 Total: 8191.5\n",
      "Warning: less than 75% gpu memory available for training. Free: 5687 Total: 8191.5\n",
      "Warning: less than 75% gpu memory available for training. Free: 5687 Total: 8191.5\n",
      "Warning: less than 75% gpu memory available for training. Free: 5687 Total: 8191.5\n",
      "Warning: less than 75% gpu memory available for training. Free: 5687 Total: 8191.5\n",
      "Warning: less than 75% gpu memory available for training. Free: 5687 Total: 8191.5\n",
      "Warning: less than 75% gpu memory available for training. Free: 5687 Total: 8191.5\n",
      "Warning: less than 75% gpu memory available for training. Free: 5687 Total: 8191.5\n",
      "Warning: less than 75% gpu memory available for training. Free: 5687 Total: 8191.5\n",
      "Warning: less than 75% gpu memory available for training. Free: 5687 Total: 8191.5\n",
      "Warning: less than 75% gpu memory available for training. Free: 5687 Total: 8191.5\n",
      "Warning: less than 75% gpu memory available for training. Free: 5687 Total: 8191.5\n",
      "Warning: less than 75% gpu memory available for training. Free: 5687 Total: 8191.5\n",
      "Warning: less than 75% gpu memory available for training. Free: 5687 Total: 8191.5\n",
      "Warning: less than 75% gpu memory available for training. Free: 5687 Total: 8191.5\n",
      "Warning: less than 75% gpu memory available for training. Free: 5687 Total: 8191.5\n",
      "Warning: less than 75% gpu memory available for training. Free: 5687 Total: 8191.5\n",
      "Warning: less than 75% gpu memory available for training. Free: 5687 Total: 8191.5\n",
      "Warning: less than 75% gpu memory available for training. Free: 5687 Total: 8191.5\n",
      "Warning: less than 75% gpu memory available for training. Free: 5687 Total: 8191.5\n",
      "Warning: less than 75% gpu memory available for training. Free: 5687 Total: 8191.5\n",
      "Warning: less than 75% gpu memory available for training. Free: 5687 Total: 8191.5\n",
      "Warning: less than 75% gpu memory available for training. Free: 5687 Total: 8191.5\n",
      "Warning: less than 75% gpu memory available for training. Free: 5687 Total: 8191.5\n",
      "Warning: less than 75% gpu memory available for training. Free: 5687 Total: 8191.5\n",
      "Warning: less than 75% gpu memory available for training. Free: 5687 Total: 8191.5\n",
      "Warning: less than 75% gpu memory available for training. Free: 5687 Total: 8191.5\n",
      "Warning: less than 75% gpu memory available for training. Free: 5687 Total: 8191.5\n",
      "Warning: less than 75% gpu memory available for training. Free: 5687 Total: 8191.5\n",
      "Warning: less than 75% gpu memory available for training. Free: 5687 Total: 8191.5\n",
      "Warning: less than 75% gpu memory available for training. Free: 5687 Total: 8191.5\n",
      "Warning: less than 75% gpu memory available for training. Free: 5687 Total: 8191.5\n",
      "Warning: less than 75% gpu memory available for training. Free: 5687 Total: 8191.5\n",
      "Warning: less than 75% gpu memory available for training. Free: 5687 Total: 8191.5\n",
      "Warning: less than 75% gpu memory available for training. Free: 5687 Total: 8191.5\n",
      "Warning: less than 75% gpu memory available for training. Free: 5687 Total: 8191.5\n",
      "Warning: less than 75% gpu memory available for training. Free: 5687 Total: 8191.5\n",
      "Warning: less than 75% gpu memory available for training. Free: 5687 Total: 8191.5\n",
      "Warning: less than 75% gpu memory available for training. Free: 5687 Total: 8191.5\n",
      "Warning: less than 75% gpu memory available for training. Free: 5687 Total: 8191.5\n",
      "Warning: less than 75% gpu memory available for training. Free: 5687 Total: 8191.5\n",
      "Warning: less than 75% gpu memory available for training. Free: 5687 Total: 8191.5\n",
      "Warning: less than 75% gpu memory available for training. Free: 5687 Total: 8191.5\n",
      "Warning: less than 75% gpu memory available for training. Free: 5687 Total: 8191.5\n",
      "Warning: less than 75% gpu memory available for training. Free: 5687 Total: 8191.5\n",
      "Warning: less than 75% gpu memory available for training. Free: 5687 Total: 8191.5\n",
      "Warning: less than 75% gpu memory available for training. Free: 5687 Total: 8191.5\n",
      "Warning: less than 75% gpu memory available for training. Free: 5687 Total: 8191.5\n",
      "Warning: less than 75% gpu memory available for training. Free: 5687 Total: 8191.5\n",
      "Warning: less than 75% gpu memory available for training. Free: 5687 Total: 8191.5\n",
      "Warning: less than 75% gpu memory available for training. Free: 5687 Total: 8191.5\n",
      "Warning: less than 75% gpu memory available for training. Free: 5687 Total: 8191.5\n",
      "Warning: less than 75% gpu memory available for training. Free: 5687 Total: 8191.5\n",
      "Warning: less than 75% gpu memory available for training. Free: 5687 Total: 8191.5\n",
      "Warning: less than 75% gpu memory available for training. Free: 5687 Total: 8191.5\n",
      "Warning: less than 75% gpu memory available for training. Free: 5687 Total: 8191.5\n",
      "Warning: less than 75% gpu memory available for training. Free: 5687 Total: 8191.5\n",
      "Warning: less than 75% gpu memory available for training. Free: 5687 Total: 8191.5\n",
      "Warning: less than 75% gpu memory available for training. Free: 5687 Total: 8191.5\n",
      "Warning: less than 75% gpu memory available for training. Free: 5687 Total: 8191.5\n",
      "Warning: less than 75% gpu memory available for training. Free: 5687 Total: 8191.5\n",
      "Warning: less than 75% gpu memory available for training. Free: 5687 Total: 8191.5\n",
      "Warning: less than 75% gpu memory available for training. Free: 5687 Total: 8191.5\n",
      "Warning: less than 75% gpu memory available for training. Free: 5687 Total: 8191.5\n",
      "Warning: less than 75% gpu memory available for training. Free: 5687 Total: 8191.5\n",
      "Warning: less than 75% gpu memory available for training. Free: 5687 Total: 8191.5\n",
      "Warning: less than 75% gpu memory available for training. Free: 5687 Total: 8191.5\n",
      "Warning: less than 75% gpu memory available for training. Free: 5687 Total: 8191.5\n",
      "Warning: less than 75% gpu memory available for training. Free: 5687 Total: 8191.5\n",
      "Warning: less than 75% gpu memory available for training. Free: 5687 Total: 8191.5\n",
      "Warning: less than 75% gpu memory available for training. Free: 5687 Total: 8191.5\n",
      "Warning: less than 75% gpu memory available for training. Free: 5687 Total: 8191.5\n",
      "Warning: less than 75% gpu memory available for training. Free: 5687 Total: 8191.5\n",
      "Warning: less than 75% gpu memory available for training. Free: 5687 Total: 8191.5\n",
      "Warning: less than 75% gpu memory available for training. Free: 5687 Total: 8191.5\n",
      "Warning: less than 75% gpu memory available for training. Free: 5687 Total: 8191.5\n",
      "Warning: less than 75% gpu memory available for training. Free: 5687 Total: 8191.5\n",
      "Warning: less than 75% gpu memory available for training. Free: 5687 Total: 8191.5\n",
      "Warning: less than 75% gpu memory available for training. Free: 5687 Total: 8191.5\n",
      "Warning: less than 75% gpu memory available for training. Free: 5687 Total: 8191.5\n",
      "Warning: less than 75% gpu memory available for training. Free: 5687 Total: 8191.5\n",
      "Warning: less than 75% gpu memory available for training. Free: 5687 Total: 8191.5\n",
      "Warning: less than 75% gpu memory available for training. Free: 5687 Total: 8191.5\n",
      "Warning: less than 75% gpu memory available for training. Free: 5687 Total: 8191.5\n",
      "Warning: less than 75% gpu memory available for training. Free: 5687 Total: 8191.5\n",
      "Warning: less than 75% gpu memory available for training. Free: 5687 Total: 8191.5\n",
      "Warning: less than 75% gpu memory available for training. Free: 5687 Total: 8191.5\n",
      "Warning: less than 75% gpu memory available for training. Free: 5687 Total: 8191.5\n",
      "Warning: less than 75% gpu memory available for training. Free: 5687 Total: 8191.5\n",
      "Warning: less than 75% gpu memory available for training. Free: 5687 Total: 8191.5\n",
      "Warning: less than 75% gpu memory available for training. Free: 5687 Total: 8191.5\n",
      "Warning: less than 75% gpu memory available for training. Free: 5687 Total: 8191.5\n",
      "Warning: less than 75% gpu memory available for training. Free: 5687 Total: 8191.5\n",
      "Warning: less than 75% gpu memory available for training. Free: 5687 Total: 8191.5\n",
      "Warning: less than 75% gpu memory available for training. Free: 5687 Total: 8191.5\n",
      "Warning: less than 75% gpu memory available for training. Free: 5687 Total: 8191.5\n",
      "Warning: less than 75% gpu memory available for training. Free: 5687 Total: 8191.5\n",
      "Warning: less than 75% gpu memory available for training. Free: 5687 Total: 8191.5\n",
      "Warning: less than 75% gpu memory available for training. Free: 5687 Total: 8191.5\n",
      "Warning: less than 75% gpu memory available for training. Free: 5687 Total: 8191.5\n",
      "Warning: less than 75% gpu memory available for training. Free: 5687 Total: 8191.5\n",
      "Warning: less than 75% gpu memory available for training. Free: 5687 Total: 8191.5\n",
      "Warning: less than 75% gpu memory available for training. Free: 5687 Total: 8191.5\n",
      "Warning: less than 75% gpu memory available for training. Free: 5687 Total: 8191.5\n",
      "Warning: less than 75% gpu memory available for training. Free: 5687 Total: 8191.5\n",
      "Warning: less than 75% gpu memory available for training. Free: 5687 Total: 8191.5\n",
      "Warning: less than 75% gpu memory available for training. Free: 5687 Total: 8191.5\n",
      "Warning: less than 75% gpu memory available for training. Free: 5687 Total: 8191.5\n",
      "Warning: less than 75% gpu memory available for training. Free: 5687 Total: 8191.5\n",
      "Warning: less than 75% gpu memory available for training. Free: 5687 Total: 8191.5\n",
      "Warning: less than 75% gpu memory available for training. Free: 5687 Total: 8191.5\n",
      "Warning: less than 75% gpu memory available for training. Free: 5687 Total: 8191.5\n",
      "Warning: less than 75% gpu memory available for training. Free: 5687 Total: 8191.5\n",
      "Warning: less than 75% gpu memory available for training. Free: 5687 Total: 8191.5\n",
      "Warning: less than 75% gpu memory available for training. Free: 5687 Total: 8191.5\n",
      "Warning: less than 75% gpu memory available for training. Free: 5687 Total: 8191.5\n",
      "Warning: less than 75% gpu memory available for training. Free: 5687 Total: 8191.5\n",
      "Warning: less than 75% gpu memory available for training. Free: 5687 Total: 8191.5\n",
      "Warning: less than 75% gpu memory available for training. Free: 5687 Total: 8191.5\n",
      "Warning: less than 75% gpu memory available for training. Free: 5687 Total: 8191.5\n",
      "Warning: less than 75% gpu memory available for training. Free: 5687 Total: 8191.5\n",
      "Warning: less than 75% gpu memory available for training. Free: 5687 Total: 8191.5\n",
      "Warning: less than 75% gpu memory available for training. Free: 5687 Total: 8191.5\n",
      "Warning: less than 75% gpu memory available for training. Free: 5687 Total: 8191.5\n",
      "Warning: less than 75% gpu memory available for training. Free: 5687 Total: 8191.5\n",
      "Warning: less than 75% gpu memory available for training. Free: 5687 Total: 8191.5\n",
      "Warning: less than 75% gpu memory available for training. Free: 5687 Total: 8191.5\n",
      "Warning: less than 75% gpu memory available for training. Free: 5687 Total: 8191.5\n",
      "Warning: less than 75% gpu memory available for training. Free: 5687 Total: 8191.5\n",
      "Warning: less than 75% gpu memory available for training. Free: 5687 Total: 8191.5\n"
     ]
    },
    {
     "data": {
      "application/vnd.jupyter.widget-view+json": {
       "model_id": "54e8376c7ef443e79149139719e9b6a1",
       "version_major": 2,
       "version_minor": 0
      },
      "text/plain": [
       "  0%|          | 0/140 [00:00<?, ?it/s]"
      ]
     },
     "metadata": {},
     "output_type": "display_data"
    },
    {
     "name": "stdout",
     "output_type": "stream",
     "text": [
      "Model saved\n"
     ]
    },
    {
     "data": {
      "application/vnd.jupyter.widget-view+json": {
       "model_id": "87ea718000e647bfb89f718c574a9977",
       "version_major": 2,
       "version_minor": 0
      },
      "text/plain": [
       "  0%|          | 0/140 [00:00<?, ?it/s]"
      ]
     },
     "metadata": {},
     "output_type": "display_data"
    },
    {
     "name": "stdout",
     "output_type": "stream",
     "text": [
      "Model loaded\n"
     ]
    },
    {
     "data": {
      "application/vnd.jupyter.widget-view+json": {
       "model_id": "5d4923cf4b584a2783ff249f58897eb8",
       "version_major": 2,
       "version_minor": 0
      },
      "text/plain": [
       "  0%|          | 0/140 [00:00<?, ?it/s]"
      ]
     },
     "metadata": {},
     "output_type": "display_data"
    },
    {
     "data": {
      "application/vnd.jupyter.widget-view+json": {
       "model_id": "ab90f0cf9f4a45db9998ecfed5779358",
       "version_major": 2,
       "version_minor": 0
      },
      "text/plain": [
       "  0%|          | 0/140 [00:00<?, ?it/s]"
      ]
     },
     "metadata": {},
     "output_type": "display_data"
    },
    {
     "name": "stdout",
     "output_type": "stream",
     "text": [
      "Model loaded\n"
     ]
    },
    {
     "data": {
      "application/vnd.jupyter.widget-view+json": {
       "model_id": "bbba42021f7a492e9db8f1fec84453ce",
       "version_major": 2,
       "version_minor": 0
      },
      "text/plain": [
       "  0%|          | 0/140 [00:00<?, ?it/s]"
      ]
     },
     "metadata": {},
     "output_type": "display_data"
    },
    {
     "name": "stdout",
     "output_type": "stream",
     "text": [
      "catboost ./results/0/layer_1/2 CV score: 0.895123876955984\n",
      "NN Fold ./results/0/layer_1/2..\n"
     ]
    },
    {
     "data": {
      "application/vnd.jupyter.widget-view+json": {
       "model_id": "45cd04e212d94873ba075e8b039bf968",
       "version_major": 2,
       "version_minor": 0
      },
      "text/plain": [
       "  0%|          | 0/100 [00:00<?, ?it/s]"
      ]
     },
     "metadata": {},
     "output_type": "display_data"
    },
    {
     "name": "stdout",
     "output_type": "stream",
     "text": [
      "torch ./results/0/layer_1/2 CV score: 0.897340191011322\n",
      "Traing of first layer finished\n",
      "Shape of Second layer input: (70988, 1582)\n",
      "CNN Fold ./results/0/layer_2/0..\n"
     ]
    },
    {
     "data": {
      "application/vnd.jupyter.widget-view+json": {
       "model_id": "c36924372c6040079f8a3fac8e9f70a6",
       "version_major": 2,
       "version_minor": 0
      },
      "text/plain": [
       "  0%|          | 0/100 [00:00<?, ?it/s]"
      ]
     },
     "metadata": {},
     "output_type": "display_data"
    },
    {
     "name": "stdout",
     "output_type": "stream",
     "text": [
      "CNN ./results/0/layer_2/0 CV score: 0.8979213284670613\n",
      "Catboost Fold ./results/0/layer_2/0..\n"
     ]
    },
    {
     "data": {
      "application/vnd.jupyter.widget-view+json": {
       "model_id": "2f6423cb9f5b4e6590d38fa9e64a081e",
       "version_major": 2,
       "version_minor": 0
      },
      "text/plain": [
       "  0%|          | 0/140 [00:00<?, ?it/s]"
      ]
     },
     "metadata": {},
     "output_type": "display_data"
    },
    {
     "name": "stderr",
     "output_type": "stream",
     "text": [
      "Warning: less than 75% gpu memory available for training. Free: 5687 Total: 8191.5\n",
      "Warning: less than 75% gpu memory available for training. Free: 5687 Total: 8191.5\n",
      "Warning: less than 75% gpu memory available for training. Free: 5687 Total: 8191.5\n",
      "Warning: less than 75% gpu memory available for training. Free: 5687 Total: 8191.5\n",
      "Warning: less than 75% gpu memory available for training. Free: 5687 Total: 8191.5\n",
      "Warning: less than 75% gpu memory available for training. Free: 5687 Total: 8191.5\n",
      "Warning: less than 75% gpu memory available for training. Free: 5687 Total: 8191.5\n",
      "Warning: less than 75% gpu memory available for training. Free: 5687 Total: 8191.5\n",
      "Warning: less than 75% gpu memory available for training. Free: 5687 Total: 8191.5\n",
      "Warning: less than 75% gpu memory available for training. Free: 5687 Total: 8191.5\n",
      "Warning: less than 75% gpu memory available for training. Free: 5687 Total: 8191.5\n",
      "Warning: less than 75% gpu memory available for training. Free: 5687 Total: 8191.5\n",
      "Warning: less than 75% gpu memory available for training. Free: 5687 Total: 8191.5\n",
      "Warning: less than 75% gpu memory available for training. Free: 5687 Total: 8191.5\n",
      "Warning: less than 75% gpu memory available for training. Free: 5687 Total: 8191.5\n",
      "Warning: less than 75% gpu memory available for training. Free: 5687 Total: 8191.5\n",
      "Warning: less than 75% gpu memory available for training. Free: 5687 Total: 8191.5\n",
      "Warning: less than 75% gpu memory available for training. Free: 5687 Total: 8191.5\n",
      "Warning: less than 75% gpu memory available for training. Free: 5687 Total: 8191.5\n",
      "Warning: less than 75% gpu memory available for training. Free: 5687 Total: 8191.5\n",
      "Warning: less than 75% gpu memory available for training. Free: 5687 Total: 8191.5\n",
      "Warning: less than 75% gpu memory available for training. Free: 5687 Total: 8191.5\n",
      "Warning: less than 75% gpu memory available for training. Free: 5687 Total: 8191.5\n",
      "Warning: less than 75% gpu memory available for training. Free: 5687 Total: 8191.5\n",
      "Warning: less than 75% gpu memory available for training. Free: 5687 Total: 8191.5\n",
      "Warning: less than 75% gpu memory available for training. Free: 5687 Total: 8191.5\n",
      "Warning: less than 75% gpu memory available for training. Free: 5687 Total: 8191.5\n",
      "Warning: less than 75% gpu memory available for training. Free: 5687 Total: 8191.5\n",
      "Warning: less than 75% gpu memory available for training. Free: 5687 Total: 8191.5\n",
      "Warning: less than 75% gpu memory available for training. Free: 5687 Total: 8191.5\n",
      "Warning: less than 75% gpu memory available for training. Free: 5687 Total: 8191.5\n",
      "Warning: less than 75% gpu memory available for training. Free: 5687 Total: 8191.5\n",
      "Warning: less than 75% gpu memory available for training. Free: 5687 Total: 8191.5\n",
      "Warning: less than 75% gpu memory available for training. Free: 5687 Total: 8191.5\n",
      "Warning: less than 75% gpu memory available for training. Free: 5687 Total: 8191.5\n",
      "Warning: less than 75% gpu memory available for training. Free: 5687 Total: 8191.5\n",
      "Warning: less than 75% gpu memory available for training. Free: 5687 Total: 8191.5\n",
      "Warning: less than 75% gpu memory available for training. Free: 5687 Total: 8191.5\n",
      "Warning: less than 75% gpu memory available for training. Free: 5687 Total: 8191.5\n",
      "Warning: less than 75% gpu memory available for training. Free: 5687 Total: 8191.5\n",
      "Warning: less than 75% gpu memory available for training. Free: 5687 Total: 8191.5\n",
      "Warning: less than 75% gpu memory available for training. Free: 5687 Total: 8191.5\n",
      "Warning: less than 75% gpu memory available for training. Free: 5687 Total: 8191.5\n",
      "Warning: less than 75% gpu memory available for training. Free: 5687 Total: 8191.5\n",
      "Warning: less than 75% gpu memory available for training. Free: 5687 Total: 8191.5\n",
      "Warning: less than 75% gpu memory available for training. Free: 5687 Total: 8191.5\n",
      "Warning: less than 75% gpu memory available for training. Free: 5687 Total: 8191.5\n",
      "Warning: less than 75% gpu memory available for training. Free: 5687 Total: 8191.5\n",
      "Warning: less than 75% gpu memory available for training. Free: 5687 Total: 8191.5\n",
      "Warning: less than 75% gpu memory available for training. Free: 5687 Total: 8191.5\n",
      "Warning: less than 75% gpu memory available for training. Free: 5687 Total: 8191.5\n",
      "Warning: less than 75% gpu memory available for training. Free: 5687 Total: 8191.5\n",
      "Warning: less than 75% gpu memory available for training. Free: 5687 Total: 8191.5\n",
      "Warning: less than 75% gpu memory available for training. Free: 5687 Total: 8191.5\n",
      "Warning: less than 75% gpu memory available for training. Free: 5687 Total: 8191.5\n",
      "Warning: less than 75% gpu memory available for training. Free: 5687 Total: 8191.5\n",
      "Warning: less than 75% gpu memory available for training. Free: 5687 Total: 8191.5\n",
      "Warning: less than 75% gpu memory available for training. Free: 5687 Total: 8191.5\n",
      "Warning: less than 75% gpu memory available for training. Free: 5687 Total: 8191.5\n",
      "Warning: less than 75% gpu memory available for training. Free: 5687 Total: 8191.5\n",
      "Warning: less than 75% gpu memory available for training. Free: 5687 Total: 8191.5\n",
      "Warning: less than 75% gpu memory available for training. Free: 5687 Total: 8191.5\n",
      "Warning: less than 75% gpu memory available for training. Free: 5687 Total: 8191.5\n",
      "Warning: less than 75% gpu memory available for training. Free: 5687 Total: 8191.5\n",
      "Warning: less than 75% gpu memory available for training. Free: 5687 Total: 8191.5\n",
      "Warning: less than 75% gpu memory available for training. Free: 5687 Total: 8191.5\n",
      "Warning: less than 75% gpu memory available for training. Free: 5687 Total: 8191.5\n",
      "Warning: less than 75% gpu memory available for training. Free: 5687 Total: 8191.5\n",
      "Warning: less than 75% gpu memory available for training. Free: 5687 Total: 8191.5\n",
      "Warning: less than 75% gpu memory available for training. Free: 5687 Total: 8191.5\n",
      "Warning: less than 75% gpu memory available for training. Free: 5687 Total: 8191.5\n",
      "Warning: less than 75% gpu memory available for training. Free: 5687 Total: 8191.5\n",
      "Warning: less than 75% gpu memory available for training. Free: 5687 Total: 8191.5\n",
      "Warning: less than 75% gpu memory available for training. Free: 5687 Total: 8191.5\n",
      "Warning: less than 75% gpu memory available for training. Free: 5687 Total: 8191.5\n",
      "Warning: less than 75% gpu memory available for training. Free: 5687 Total: 8191.5\n",
      "Warning: less than 75% gpu memory available for training. Free: 5687 Total: 8191.5\n",
      "Warning: less than 75% gpu memory available for training. Free: 5687 Total: 8191.5\n",
      "Warning: less than 75% gpu memory available for training. Free: 5687 Total: 8191.5\n",
      "Warning: less than 75% gpu memory available for training. Free: 5687 Total: 8191.5\n",
      "Warning: less than 75% gpu memory available for training. Free: 5687 Total: 8191.5\n",
      "Warning: less than 75% gpu memory available for training. Free: 5687 Total: 8191.5\n",
      "Warning: less than 75% gpu memory available for training. Free: 5687 Total: 8191.5\n",
      "Warning: less than 75% gpu memory available for training. Free: 5687 Total: 8191.5\n",
      "Warning: less than 75% gpu memory available for training. Free: 5687 Total: 8191.5\n",
      "Warning: less than 75% gpu memory available for training. Free: 5687 Total: 8191.5\n",
      "Warning: less than 75% gpu memory available for training. Free: 5687 Total: 8191.5\n",
      "Warning: less than 75% gpu memory available for training. Free: 5687 Total: 8191.5\n",
      "Warning: less than 75% gpu memory available for training. Free: 5687 Total: 8191.5\n",
      "Warning: less than 75% gpu memory available for training. Free: 5687 Total: 8191.5\n",
      "Warning: less than 75% gpu memory available for training. Free: 5687 Total: 8191.5\n",
      "Warning: less than 75% gpu memory available for training. Free: 5687 Total: 8191.5\n",
      "Warning: less than 75% gpu memory available for training. Free: 5687 Total: 8191.5\n",
      "Warning: less than 75% gpu memory available for training. Free: 5687 Total: 8191.5\n",
      "Warning: less than 75% gpu memory available for training. Free: 5687 Total: 8191.5\n",
      "Warning: less than 75% gpu memory available for training. Free: 5687 Total: 8191.5\n",
      "Warning: less than 75% gpu memory available for training. Free: 5687 Total: 8191.5\n",
      "Warning: less than 75% gpu memory available for training. Free: 5687 Total: 8191.5\n",
      "Warning: less than 75% gpu memory available for training. Free: 5687 Total: 8191.5\n",
      "Warning: less than 75% gpu memory available for training. Free: 5687 Total: 8191.5\n",
      "Warning: less than 75% gpu memory available for training. Free: 5687 Total: 8191.5\n",
      "Warning: less than 75% gpu memory available for training. Free: 5687 Total: 8191.5\n",
      "Warning: less than 75% gpu memory available for training. Free: 5687 Total: 8191.5\n",
      "Warning: less than 75% gpu memory available for training. Free: 5687 Total: 8191.5\n",
      "Warning: less than 75% gpu memory available for training. Free: 5687 Total: 8191.5\n",
      "Warning: less than 75% gpu memory available for training. Free: 5687 Total: 8191.5\n",
      "Warning: less than 75% gpu memory available for training. Free: 5687 Total: 8191.5\n",
      "Warning: less than 75% gpu memory available for training. Free: 5687 Total: 8191.5\n",
      "Warning: less than 75% gpu memory available for training. Free: 5687 Total: 8191.5\n",
      "Warning: less than 75% gpu memory available for training. Free: 5687 Total: 8191.5\n",
      "Warning: less than 75% gpu memory available for training. Free: 5687 Total: 8191.5\n",
      "Warning: less than 75% gpu memory available for training. Free: 5687 Total: 8191.5\n",
      "Warning: less than 75% gpu memory available for training. Free: 5687 Total: 8191.5\n",
      "Warning: less than 75% gpu memory available for training. Free: 5687 Total: 8191.5\n",
      "Warning: less than 75% gpu memory available for training. Free: 5687 Total: 8191.5\n",
      "Warning: less than 75% gpu memory available for training. Free: 5687 Total: 8191.5\n",
      "Warning: less than 75% gpu memory available for training. Free: 5687 Total: 8191.5\n",
      "Warning: less than 75% gpu memory available for training. Free: 5687 Total: 8191.5\n",
      "Warning: less than 75% gpu memory available for training. Free: 5687 Total: 8191.5\n",
      "Warning: less than 75% gpu memory available for training. Free: 5687 Total: 8191.5\n",
      "Warning: less than 75% gpu memory available for training. Free: 5687 Total: 8191.5\n",
      "Warning: less than 75% gpu memory available for training. Free: 5687 Total: 8191.5\n",
      "Warning: less than 75% gpu memory available for training. Free: 5687 Total: 8191.5\n",
      "Warning: less than 75% gpu memory available for training. Free: 5687 Total: 8191.5\n",
      "Warning: less than 75% gpu memory available for training. Free: 5687 Total: 8191.5\n",
      "Warning: less than 75% gpu memory available for training. Free: 5687 Total: 8191.5\n",
      "Warning: less than 75% gpu memory available for training. Free: 5687 Total: 8191.5\n",
      "Warning: less than 75% gpu memory available for training. Free: 5687 Total: 8191.5\n",
      "Warning: less than 75% gpu memory available for training. Free: 5687 Total: 8191.5\n",
      "Warning: less than 75% gpu memory available for training. Free: 5687 Total: 8191.5\n",
      "Warning: less than 75% gpu memory available for training. Free: 5687 Total: 8191.5\n",
      "Warning: less than 75% gpu memory available for training. Free: 5687 Total: 8191.5\n",
      "Warning: less than 75% gpu memory available for training. Free: 5687 Total: 8191.5\n",
      "Warning: less than 75% gpu memory available for training. Free: 5687 Total: 8191.5\n",
      "Warning: less than 75% gpu memory available for training. Free: 5687 Total: 8191.5\n",
      "Warning: less than 75% gpu memory available for training. Free: 5687 Total: 8191.5\n",
      "Warning: less than 75% gpu memory available for training. Free: 5687 Total: 8191.5\n",
      "Warning: less than 75% gpu memory available for training. Free: 5687 Total: 8191.5\n",
      "Warning: less than 75% gpu memory available for training. Free: 5687 Total: 8191.5\n",
      "Warning: less than 75% gpu memory available for training. Free: 5687 Total: 8191.5\n"
     ]
    },
    {
     "data": {
      "application/vnd.jupyter.widget-view+json": {
       "model_id": "015f0c488b764045919d1e35d6af019a",
       "version_major": 2,
       "version_minor": 0
      },
      "text/plain": [
       "  0%|          | 0/140 [00:00<?, ?it/s]"
      ]
     },
     "metadata": {},
     "output_type": "display_data"
    },
    {
     "name": "stdout",
     "output_type": "stream",
     "text": [
      "Model saved\n"
     ]
    },
    {
     "data": {
      "application/vnd.jupyter.widget-view+json": {
       "model_id": "6b0d341e3e334337b3a81ee02dc15984",
       "version_major": 2,
       "version_minor": 0
      },
      "text/plain": [
       "  0%|          | 0/140 [00:00<?, ?it/s]"
      ]
     },
     "metadata": {},
     "output_type": "display_data"
    },
    {
     "name": "stdout",
     "output_type": "stream",
     "text": [
      "Model loaded\n"
     ]
    },
    {
     "data": {
      "application/vnd.jupyter.widget-view+json": {
       "model_id": "3aeceabac7284b12bcda2cb470557a32",
       "version_major": 2,
       "version_minor": 0
      },
      "text/plain": [
       "  0%|          | 0/140 [00:00<?, ?it/s]"
      ]
     },
     "metadata": {},
     "output_type": "display_data"
    },
    {
     "data": {
      "application/vnd.jupyter.widget-view+json": {
       "model_id": "73ab541791864d3d815dcec20dabe10a",
       "version_major": 2,
       "version_minor": 0
      },
      "text/plain": [
       "  0%|          | 0/140 [00:00<?, ?it/s]"
      ]
     },
     "metadata": {},
     "output_type": "display_data"
    },
    {
     "name": "stdout",
     "output_type": "stream",
     "text": [
      "Model loaded\n"
     ]
    },
    {
     "data": {
      "application/vnd.jupyter.widget-view+json": {
       "model_id": "4cf1b10164f244a1918007f9fbc69423",
       "version_major": 2,
       "version_minor": 0
      },
      "text/plain": [
       "  0%|          | 0/140 [00:00<?, ?it/s]"
      ]
     },
     "metadata": {},
     "output_type": "display_data"
    },
    {
     "name": "stdout",
     "output_type": "stream",
     "text": [
      "catboost ./results/0/layer_2/0 CV score: 0.8991608947624106\n",
      "NN Fold ./results/0/layer_2/0..\n"
     ]
    },
    {
     "data": {
      "application/vnd.jupyter.widget-view+json": {
       "model_id": "a60c7deb2bc841f38d8effb00ef6f1ae",
       "version_major": 2,
       "version_minor": 0
      },
      "text/plain": [
       "  0%|          | 0/100 [00:00<?, ?it/s]"
      ]
     },
     "metadata": {},
     "output_type": "display_data"
    },
    {
     "name": "stdout",
     "output_type": "stream",
     "text": [
      "torch ./results/0/layer_2/0 CV score: 0.898471334043255\n",
      "CNN Fold ./results/0/layer_2/1..\n"
     ]
    },
    {
     "data": {
      "application/vnd.jupyter.widget-view+json": {
       "model_id": "b8178386a7e54b74ad17253bff1974b0",
       "version_major": 2,
       "version_minor": 0
      },
      "text/plain": [
       "  0%|          | 0/100 [00:00<?, ?it/s]"
      ]
     },
     "metadata": {},
     "output_type": "display_data"
    },
    {
     "name": "stdout",
     "output_type": "stream",
     "text": [
      "CNN ./results/0/layer_2/1 CV score: 0.898713305856582\n",
      "Catboost Fold ./results/0/layer_2/1..\n"
     ]
    },
    {
     "data": {
      "application/vnd.jupyter.widget-view+json": {
       "model_id": "fc7545962cfa43b99e91653beee0e558",
       "version_major": 2,
       "version_minor": 0
      },
      "text/plain": [
       "  0%|          | 0/140 [00:00<?, ?it/s]"
      ]
     },
     "metadata": {},
     "output_type": "display_data"
    },
    {
     "name": "stderr",
     "output_type": "stream",
     "text": [
      "Warning: less than 75% gpu memory available for training. Free: 5687 Total: 8191.5\n",
      "Warning: less than 75% gpu memory available for training. Free: 5687 Total: 8191.5\n",
      "Warning: less than 75% gpu memory available for training. Free: 5687 Total: 8191.5\n",
      "Warning: less than 75% gpu memory available for training. Free: 5687 Total: 8191.5\n",
      "Warning: less than 75% gpu memory available for training. Free: 5687 Total: 8191.5\n",
      "Warning: less than 75% gpu memory available for training. Free: 5687 Total: 8191.5\n",
      "Warning: less than 75% gpu memory available for training. Free: 5687 Total: 8191.5\n",
      "Warning: less than 75% gpu memory available for training. Free: 5687 Total: 8191.5\n",
      "Warning: less than 75% gpu memory available for training. Free: 5687 Total: 8191.5\n",
      "Warning: less than 75% gpu memory available for training. Free: 5687 Total: 8191.5\n",
      "Warning: less than 75% gpu memory available for training. Free: 5687 Total: 8191.5\n",
      "Warning: less than 75% gpu memory available for training. Free: 5687 Total: 8191.5\n",
      "Warning: less than 75% gpu memory available for training. Free: 5687 Total: 8191.5\n",
      "Warning: less than 75% gpu memory available for training. Free: 5687 Total: 8191.5\n",
      "Warning: less than 75% gpu memory available for training. Free: 5687 Total: 8191.5\n",
      "Warning: less than 75% gpu memory available for training. Free: 5687 Total: 8191.5\n",
      "Warning: less than 75% gpu memory available for training. Free: 5687 Total: 8191.5\n",
      "Warning: less than 75% gpu memory available for training. Free: 5687 Total: 8191.5\n",
      "Warning: less than 75% gpu memory available for training. Free: 5687 Total: 8191.5\n",
      "Warning: less than 75% gpu memory available for training. Free: 5687 Total: 8191.5\n",
      "Warning: less than 75% gpu memory available for training. Free: 5687 Total: 8191.5\n",
      "Warning: less than 75% gpu memory available for training. Free: 5687 Total: 8191.5\n",
      "Warning: less than 75% gpu memory available for training. Free: 5687 Total: 8191.5\n",
      "Warning: less than 75% gpu memory available for training. Free: 5687 Total: 8191.5\n",
      "Warning: less than 75% gpu memory available for training. Free: 5687 Total: 8191.5\n",
      "Warning: less than 75% gpu memory available for training. Free: 5687 Total: 8191.5\n",
      "Warning: less than 75% gpu memory available for training. Free: 5687 Total: 8191.5\n",
      "Warning: less than 75% gpu memory available for training. Free: 5687 Total: 8191.5\n",
      "Warning: less than 75% gpu memory available for training. Free: 5687 Total: 8191.5\n",
      "Warning: less than 75% gpu memory available for training. Free: 5687 Total: 8191.5\n",
      "Warning: less than 75% gpu memory available for training. Free: 5687 Total: 8191.5\n",
      "Warning: less than 75% gpu memory available for training. Free: 5687 Total: 8191.5\n",
      "Warning: less than 75% gpu memory available for training. Free: 5687 Total: 8191.5\n",
      "Warning: less than 75% gpu memory available for training. Free: 5687 Total: 8191.5\n",
      "Warning: less than 75% gpu memory available for training. Free: 5687 Total: 8191.5\n",
      "Warning: less than 75% gpu memory available for training. Free: 5687 Total: 8191.5\n",
      "Warning: less than 75% gpu memory available for training. Free: 5687 Total: 8191.5\n",
      "Warning: less than 75% gpu memory available for training. Free: 5687 Total: 8191.5\n",
      "Warning: less than 75% gpu memory available for training. Free: 5687 Total: 8191.5\n",
      "Warning: less than 75% gpu memory available for training. Free: 5687 Total: 8191.5\n",
      "Warning: less than 75% gpu memory available for training. Free: 5687 Total: 8191.5\n",
      "Warning: less than 75% gpu memory available for training. Free: 5687 Total: 8191.5\n",
      "Warning: less than 75% gpu memory available for training. Free: 5687 Total: 8191.5\n",
      "Warning: less than 75% gpu memory available for training. Free: 5687 Total: 8191.5\n",
      "Warning: less than 75% gpu memory available for training. Free: 5687 Total: 8191.5\n",
      "Warning: less than 75% gpu memory available for training. Free: 5687 Total: 8191.5\n",
      "Warning: less than 75% gpu memory available for training. Free: 5687 Total: 8191.5\n",
      "Warning: less than 75% gpu memory available for training. Free: 5687 Total: 8191.5\n",
      "Warning: less than 75% gpu memory available for training. Free: 5687 Total: 8191.5\n",
      "Warning: less than 75% gpu memory available for training. Free: 5687 Total: 8191.5\n",
      "Warning: less than 75% gpu memory available for training. Free: 5687 Total: 8191.5\n",
      "Warning: less than 75% gpu memory available for training. Free: 5687 Total: 8191.5\n",
      "Warning: less than 75% gpu memory available for training. Free: 5687 Total: 8191.5\n",
      "Warning: less than 75% gpu memory available for training. Free: 5687 Total: 8191.5\n",
      "Warning: less than 75% gpu memory available for training. Free: 5687 Total: 8191.5\n",
      "Warning: less than 75% gpu memory available for training. Free: 5687 Total: 8191.5\n",
      "Warning: less than 75% gpu memory available for training. Free: 5687 Total: 8191.5\n",
      "Warning: less than 75% gpu memory available for training. Free: 5687 Total: 8191.5\n",
      "Warning: less than 75% gpu memory available for training. Free: 5687 Total: 8191.5\n",
      "Warning: less than 75% gpu memory available for training. Free: 5687 Total: 8191.5\n",
      "Warning: less than 75% gpu memory available for training. Free: 5687 Total: 8191.5\n",
      "Warning: less than 75% gpu memory available for training. Free: 5687 Total: 8191.5\n",
      "Warning: less than 75% gpu memory available for training. Free: 5687 Total: 8191.5\n",
      "Warning: less than 75% gpu memory available for training. Free: 5687 Total: 8191.5\n",
      "Warning: less than 75% gpu memory available for training. Free: 5687 Total: 8191.5\n",
      "Warning: less than 75% gpu memory available for training. Free: 5687 Total: 8191.5\n",
      "Warning: less than 75% gpu memory available for training. Free: 5687 Total: 8191.5\n",
      "Warning: less than 75% gpu memory available for training. Free: 5687 Total: 8191.5\n",
      "Warning: less than 75% gpu memory available for training. Free: 5687 Total: 8191.5\n",
      "Warning: less than 75% gpu memory available for training. Free: 5687 Total: 8191.5\n",
      "Warning: less than 75% gpu memory available for training. Free: 5687 Total: 8191.5\n",
      "Warning: less than 75% gpu memory available for training. Free: 5687 Total: 8191.5\n",
      "Warning: less than 75% gpu memory available for training. Free: 5687 Total: 8191.5\n",
      "Warning: less than 75% gpu memory available for training. Free: 5687 Total: 8191.5\n",
      "Warning: less than 75% gpu memory available for training. Free: 5687 Total: 8191.5\n",
      "Warning: less than 75% gpu memory available for training. Free: 5687 Total: 8191.5\n",
      "Warning: less than 75% gpu memory available for training. Free: 5687 Total: 8191.5\n",
      "Warning: less than 75% gpu memory available for training. Free: 5687 Total: 8191.5\n",
      "Warning: less than 75% gpu memory available for training. Free: 5687 Total: 8191.5\n",
      "Warning: less than 75% gpu memory available for training. Free: 5687 Total: 8191.5\n",
      "Warning: less than 75% gpu memory available for training. Free: 5687 Total: 8191.5\n",
      "Warning: less than 75% gpu memory available for training. Free: 5687 Total: 8191.5\n",
      "Warning: less than 75% gpu memory available for training. Free: 5687 Total: 8191.5\n",
      "Warning: less than 75% gpu memory available for training. Free: 5687 Total: 8191.5\n",
      "Warning: less than 75% gpu memory available for training. Free: 5687 Total: 8191.5\n",
      "Warning: less than 75% gpu memory available for training. Free: 5687 Total: 8191.5\n",
      "Warning: less than 75% gpu memory available for training. Free: 5687 Total: 8191.5\n",
      "Warning: less than 75% gpu memory available for training. Free: 5687 Total: 8191.5\n",
      "Warning: less than 75% gpu memory available for training. Free: 5687 Total: 8191.5\n",
      "Warning: less than 75% gpu memory available for training. Free: 5687 Total: 8191.5\n",
      "Warning: less than 75% gpu memory available for training. Free: 5687 Total: 8191.5\n",
      "Warning: less than 75% gpu memory available for training. Free: 5687 Total: 8191.5\n",
      "Warning: less than 75% gpu memory available for training. Free: 5687 Total: 8191.5\n",
      "Warning: less than 75% gpu memory available for training. Free: 5687 Total: 8191.5\n",
      "Warning: less than 75% gpu memory available for training. Free: 5687 Total: 8191.5\n",
      "Warning: less than 75% gpu memory available for training. Free: 5687 Total: 8191.5\n",
      "Warning: less than 75% gpu memory available for training. Free: 5687 Total: 8191.5\n",
      "Warning: less than 75% gpu memory available for training. Free: 5687 Total: 8191.5\n",
      "Warning: less than 75% gpu memory available for training. Free: 5687 Total: 8191.5\n",
      "Warning: less than 75% gpu memory available for training. Free: 5687 Total: 8191.5\n",
      "Warning: less than 75% gpu memory available for training. Free: 5687 Total: 8191.5\n",
      "Warning: less than 75% gpu memory available for training. Free: 5687 Total: 8191.5\n",
      "Warning: less than 75% gpu memory available for training. Free: 5687 Total: 8191.5\n",
      "Warning: less than 75% gpu memory available for training. Free: 5687 Total: 8191.5\n",
      "Warning: less than 75% gpu memory available for training. Free: 5687 Total: 8191.5\n",
      "Warning: less than 75% gpu memory available for training. Free: 5687 Total: 8191.5\n",
      "Warning: less than 75% gpu memory available for training. Free: 5687 Total: 8191.5\n",
      "Warning: less than 75% gpu memory available for training. Free: 5687 Total: 8191.5\n",
      "Warning: less than 75% gpu memory available for training. Free: 5687 Total: 8191.5\n",
      "Warning: less than 75% gpu memory available for training. Free: 5687 Total: 8191.5\n",
      "Warning: less than 75% gpu memory available for training. Free: 5687 Total: 8191.5\n",
      "Warning: less than 75% gpu memory available for training. Free: 5687 Total: 8191.5\n",
      "Warning: less than 75% gpu memory available for training. Free: 5687 Total: 8191.5\n",
      "Warning: less than 75% gpu memory available for training. Free: 5687 Total: 8191.5\n",
      "Warning: less than 75% gpu memory available for training. Free: 5687 Total: 8191.5\n",
      "Warning: less than 75% gpu memory available for training. Free: 5687 Total: 8191.5\n",
      "Warning: less than 75% gpu memory available for training. Free: 5687 Total: 8191.5\n",
      "Warning: less than 75% gpu memory available for training. Free: 5687 Total: 8191.5\n",
      "Warning: less than 75% gpu memory available for training. Free: 5687 Total: 8191.5\n",
      "Warning: less than 75% gpu memory available for training. Free: 5687 Total: 8191.5\n",
      "Warning: less than 75% gpu memory available for training. Free: 5687 Total: 8191.5\n",
      "Warning: less than 75% gpu memory available for training. Free: 5687 Total: 8191.5\n",
      "Warning: less than 75% gpu memory available for training. Free: 5687 Total: 8191.5\n",
      "Warning: less than 75% gpu memory available for training. Free: 5687 Total: 8191.5\n",
      "Warning: less than 75% gpu memory available for training. Free: 5687 Total: 8191.5\n",
      "Warning: less than 75% gpu memory available for training. Free: 5687 Total: 8191.5\n",
      "Warning: less than 75% gpu memory available for training. Free: 5687 Total: 8191.5\n",
      "Warning: less than 75% gpu memory available for training. Free: 5687 Total: 8191.5\n",
      "Warning: less than 75% gpu memory available for training. Free: 5687 Total: 8191.5\n",
      "Warning: less than 75% gpu memory available for training. Free: 5687 Total: 8191.5\n",
      "Warning: less than 75% gpu memory available for training. Free: 5687 Total: 8191.5\n",
      "Warning: less than 75% gpu memory available for training. Free: 5687 Total: 8191.5\n",
      "Warning: less than 75% gpu memory available for training. Free: 5687 Total: 8191.5\n",
      "Warning: less than 75% gpu memory available for training. Free: 5687 Total: 8191.5\n",
      "Warning: less than 75% gpu memory available for training. Free: 5687 Total: 8191.5\n",
      "Warning: less than 75% gpu memory available for training. Free: 5687 Total: 8191.5\n",
      "Warning: less than 75% gpu memory available for training. Free: 5687 Total: 8191.5\n",
      "Warning: less than 75% gpu memory available for training. Free: 5687 Total: 8191.5\n",
      "Warning: less than 75% gpu memory available for training. Free: 5687 Total: 8191.5\n",
      "Warning: less than 75% gpu memory available for training. Free: 5687 Total: 8191.5\n"
     ]
    },
    {
     "data": {
      "application/vnd.jupyter.widget-view+json": {
       "model_id": "fe344036625a43c9ab3f6819c367820f",
       "version_major": 2,
       "version_minor": 0
      },
      "text/plain": [
       "  0%|          | 0/140 [00:00<?, ?it/s]"
      ]
     },
     "metadata": {},
     "output_type": "display_data"
    },
    {
     "name": "stdout",
     "output_type": "stream",
     "text": [
      "Model saved\n"
     ]
    },
    {
     "data": {
      "application/vnd.jupyter.widget-view+json": {
       "model_id": "25bd9acbdbe0446ea7c68a17cf2df2e2",
       "version_major": 2,
       "version_minor": 0
      },
      "text/plain": [
       "  0%|          | 0/140 [00:00<?, ?it/s]"
      ]
     },
     "metadata": {},
     "output_type": "display_data"
    },
    {
     "name": "stdout",
     "output_type": "stream",
     "text": [
      "Model loaded\n"
     ]
    },
    {
     "data": {
      "application/vnd.jupyter.widget-view+json": {
       "model_id": "768ee98671dd4d48b42b50e6ff321423",
       "version_major": 2,
       "version_minor": 0
      },
      "text/plain": [
       "  0%|          | 0/140 [00:00<?, ?it/s]"
      ]
     },
     "metadata": {},
     "output_type": "display_data"
    },
    {
     "data": {
      "application/vnd.jupyter.widget-view+json": {
       "model_id": "0b42fc5c7c67424d940226140f73f22a",
       "version_major": 2,
       "version_minor": 0
      },
      "text/plain": [
       "  0%|          | 0/140 [00:00<?, ?it/s]"
      ]
     },
     "metadata": {},
     "output_type": "display_data"
    },
    {
     "name": "stdout",
     "output_type": "stream",
     "text": [
      "Model loaded\n"
     ]
    },
    {
     "data": {
      "application/vnd.jupyter.widget-view+json": {
       "model_id": "48986e93a562429a85fb376afc1685c6",
       "version_major": 2,
       "version_minor": 0
      },
      "text/plain": [
       "  0%|          | 0/140 [00:00<?, ?it/s]"
      ]
     },
     "metadata": {},
     "output_type": "display_data"
    },
    {
     "name": "stdout",
     "output_type": "stream",
     "text": [
      "catboost ./results/0/layer_2/1 CV score: 0.8998069054036772\n",
      "NN Fold ./results/0/layer_2/1..\n"
     ]
    },
    {
     "data": {
      "application/vnd.jupyter.widget-view+json": {
       "model_id": "26fd61be485a4952b09e6addd680f43d",
       "version_major": 2,
       "version_minor": 0
      },
      "text/plain": [
       "  0%|          | 0/100 [00:00<?, ?it/s]"
      ]
     },
     "metadata": {},
     "output_type": "display_data"
    },
    {
     "name": "stdout",
     "output_type": "stream",
     "text": [
      "torch ./results/0/layer_2/1 CV score: 0.8988006485121451\n",
      "CNN Fold ./results/0/layer_2/2..\n"
     ]
    },
    {
     "data": {
      "application/vnd.jupyter.widget-view+json": {
       "model_id": "79ca1667fa7041a99110d12082b5bb5a",
       "version_major": 2,
       "version_minor": 0
      },
      "text/plain": [
       "  0%|          | 0/100 [00:00<?, ?it/s]"
      ]
     },
     "metadata": {},
     "output_type": "display_data"
    },
    {
     "name": "stdout",
     "output_type": "stream",
     "text": [
      "CNN ./results/0/layer_2/2 CV score: 0.8975895966261527\n",
      "Catboost Fold ./results/0/layer_2/2..\n"
     ]
    },
    {
     "data": {
      "application/vnd.jupyter.widget-view+json": {
       "model_id": "8f4e0290ff074582ad2301812fc99c27",
       "version_major": 2,
       "version_minor": 0
      },
      "text/plain": [
       "  0%|          | 0/140 [00:00<?, ?it/s]"
      ]
     },
     "metadata": {},
     "output_type": "display_data"
    },
    {
     "name": "stderr",
     "output_type": "stream",
     "text": [
      "Warning: less than 75% gpu memory available for training. Free: 5687 Total: 8191.5\n",
      "Warning: less than 75% gpu memory available for training. Free: 5687 Total: 8191.5\n",
      "Warning: less than 75% gpu memory available for training. Free: 5687 Total: 8191.5\n",
      "Warning: less than 75% gpu memory available for training. Free: 5687 Total: 8191.5\n",
      "Warning: less than 75% gpu memory available for training. Free: 5687 Total: 8191.5\n",
      "Warning: less than 75% gpu memory available for training. Free: 5687 Total: 8191.5\n",
      "Warning: less than 75% gpu memory available for training. Free: 5687 Total: 8191.5\n",
      "Warning: less than 75% gpu memory available for training. Free: 5687 Total: 8191.5\n",
      "Warning: less than 75% gpu memory available for training. Free: 5687 Total: 8191.5\n",
      "Warning: less than 75% gpu memory available for training. Free: 5687 Total: 8191.5\n",
      "Warning: less than 75% gpu memory available for training. Free: 5687 Total: 8191.5\n",
      "Warning: less than 75% gpu memory available for training. Free: 5687 Total: 8191.5\n",
      "Warning: less than 75% gpu memory available for training. Free: 5687 Total: 8191.5\n",
      "Warning: less than 75% gpu memory available for training. Free: 5687 Total: 8191.5\n",
      "Warning: less than 75% gpu memory available for training. Free: 5687 Total: 8191.5\n",
      "Warning: less than 75% gpu memory available for training. Free: 5687 Total: 8191.5\n",
      "Warning: less than 75% gpu memory available for training. Free: 5687 Total: 8191.5\n",
      "Warning: less than 75% gpu memory available for training. Free: 5687 Total: 8191.5\n",
      "Warning: less than 75% gpu memory available for training. Free: 5687 Total: 8191.5\n",
      "Warning: less than 75% gpu memory available for training. Free: 5687 Total: 8191.5\n",
      "Warning: less than 75% gpu memory available for training. Free: 5687 Total: 8191.5\n",
      "Warning: less than 75% gpu memory available for training. Free: 5687 Total: 8191.5\n",
      "Warning: less than 75% gpu memory available for training. Free: 5687 Total: 8191.5\n",
      "Warning: less than 75% gpu memory available for training. Free: 5687 Total: 8191.5\n",
      "Warning: less than 75% gpu memory available for training. Free: 5687 Total: 8191.5\n",
      "Warning: less than 75% gpu memory available for training. Free: 5687 Total: 8191.5\n",
      "Warning: less than 75% gpu memory available for training. Free: 5687 Total: 8191.5\n",
      "Warning: less than 75% gpu memory available for training. Free: 5687 Total: 8191.5\n",
      "Warning: less than 75% gpu memory available for training. Free: 5687 Total: 8191.5\n",
      "Warning: less than 75% gpu memory available for training. Free: 5687 Total: 8191.5\n",
      "Warning: less than 75% gpu memory available for training. Free: 5687 Total: 8191.5\n",
      "Warning: less than 75% gpu memory available for training. Free: 5687 Total: 8191.5\n",
      "Warning: less than 75% gpu memory available for training. Free: 5687 Total: 8191.5\n",
      "Warning: less than 75% gpu memory available for training. Free: 5687 Total: 8191.5\n",
      "Warning: less than 75% gpu memory available for training. Free: 5687 Total: 8191.5\n",
      "Warning: less than 75% gpu memory available for training. Free: 5687 Total: 8191.5\n",
      "Warning: less than 75% gpu memory available for training. Free: 5687 Total: 8191.5\n",
      "Warning: less than 75% gpu memory available for training. Free: 5687 Total: 8191.5\n",
      "Warning: less than 75% gpu memory available for training. Free: 5687 Total: 8191.5\n",
      "Warning: less than 75% gpu memory available for training. Free: 5687 Total: 8191.5\n",
      "Warning: less than 75% gpu memory available for training. Free: 5687 Total: 8191.5\n",
      "Warning: less than 75% gpu memory available for training. Free: 5687 Total: 8191.5\n",
      "Warning: less than 75% gpu memory available for training. Free: 5687 Total: 8191.5\n",
      "Warning: less than 75% gpu memory available for training. Free: 5687 Total: 8191.5\n",
      "Warning: less than 75% gpu memory available for training. Free: 5687 Total: 8191.5\n",
      "Warning: less than 75% gpu memory available for training. Free: 5687 Total: 8191.5\n",
      "Warning: less than 75% gpu memory available for training. Free: 5687 Total: 8191.5\n",
      "Warning: less than 75% gpu memory available for training. Free: 5687 Total: 8191.5\n",
      "Warning: less than 75% gpu memory available for training. Free: 5687 Total: 8191.5\n",
      "Warning: less than 75% gpu memory available for training. Free: 5687 Total: 8191.5\n",
      "Warning: less than 75% gpu memory available for training. Free: 5687 Total: 8191.5\n",
      "Warning: less than 75% gpu memory available for training. Free: 5687 Total: 8191.5\n",
      "Warning: less than 75% gpu memory available for training. Free: 5687 Total: 8191.5\n",
      "Warning: less than 75% gpu memory available for training. Free: 5687 Total: 8191.5\n",
      "Warning: less than 75% gpu memory available for training. Free: 5687 Total: 8191.5\n",
      "Warning: less than 75% gpu memory available for training. Free: 5687 Total: 8191.5\n",
      "Warning: less than 75% gpu memory available for training. Free: 5687 Total: 8191.5\n",
      "Warning: less than 75% gpu memory available for training. Free: 5687 Total: 8191.5\n",
      "Warning: less than 75% gpu memory available for training. Free: 5687 Total: 8191.5\n",
      "Warning: less than 75% gpu memory available for training. Free: 5687 Total: 8191.5\n",
      "Warning: less than 75% gpu memory available for training. Free: 5687 Total: 8191.5\n",
      "Warning: less than 75% gpu memory available for training. Free: 5687 Total: 8191.5\n",
      "Warning: less than 75% gpu memory available for training. Free: 5687 Total: 8191.5\n",
      "Warning: less than 75% gpu memory available for training. Free: 5687 Total: 8191.5\n",
      "Warning: less than 75% gpu memory available for training. Free: 5687 Total: 8191.5\n",
      "Warning: less than 75% gpu memory available for training. Free: 5687 Total: 8191.5\n",
      "Warning: less than 75% gpu memory available for training. Free: 5687 Total: 8191.5\n",
      "Warning: less than 75% gpu memory available for training. Free: 5687 Total: 8191.5\n",
      "Warning: less than 75% gpu memory available for training. Free: 5687 Total: 8191.5\n",
      "Warning: less than 75% gpu memory available for training. Free: 5687 Total: 8191.5\n",
      "Warning: less than 75% gpu memory available for training. Free: 5687 Total: 8191.5\n",
      "Warning: less than 75% gpu memory available for training. Free: 5687 Total: 8191.5\n",
      "Warning: less than 75% gpu memory available for training. Free: 5687 Total: 8191.5\n",
      "Warning: less than 75% gpu memory available for training. Free: 5687 Total: 8191.5\n",
      "Warning: less than 75% gpu memory available for training. Free: 5687 Total: 8191.5\n",
      "Warning: less than 75% gpu memory available for training. Free: 5687 Total: 8191.5\n",
      "Warning: less than 75% gpu memory available for training. Free: 5687 Total: 8191.5\n",
      "Warning: less than 75% gpu memory available for training. Free: 5687 Total: 8191.5\n",
      "Warning: less than 75% gpu memory available for training. Free: 5687 Total: 8191.5\n",
      "Warning: less than 75% gpu memory available for training. Free: 5687 Total: 8191.5\n",
      "Warning: less than 75% gpu memory available for training. Free: 5687 Total: 8191.5\n",
      "Warning: less than 75% gpu memory available for training. Free: 5687 Total: 8191.5\n",
      "Warning: less than 75% gpu memory available for training. Free: 5687 Total: 8191.5\n",
      "Warning: less than 75% gpu memory available for training. Free: 5687 Total: 8191.5\n",
      "Warning: less than 75% gpu memory available for training. Free: 5687 Total: 8191.5\n",
      "Warning: less than 75% gpu memory available for training. Free: 5687 Total: 8191.5\n",
      "Warning: less than 75% gpu memory available for training. Free: 5687 Total: 8191.5\n",
      "Warning: less than 75% gpu memory available for training. Free: 5687 Total: 8191.5\n",
      "Warning: less than 75% gpu memory available for training. Free: 5687 Total: 8191.5\n",
      "Warning: less than 75% gpu memory available for training. Free: 5687 Total: 8191.5\n",
      "Warning: less than 75% gpu memory available for training. Free: 5687 Total: 8191.5\n",
      "Warning: less than 75% gpu memory available for training. Free: 5687 Total: 8191.5\n",
      "Warning: less than 75% gpu memory available for training. Free: 5687 Total: 8191.5\n",
      "Warning: less than 75% gpu memory available for training. Free: 5687 Total: 8191.5\n",
      "Warning: less than 75% gpu memory available for training. Free: 5687 Total: 8191.5\n",
      "Warning: less than 75% gpu memory available for training. Free: 5687 Total: 8191.5\n",
      "Warning: less than 75% gpu memory available for training. Free: 5687 Total: 8191.5\n",
      "Warning: less than 75% gpu memory available for training. Free: 5687 Total: 8191.5\n",
      "Warning: less than 75% gpu memory available for training. Free: 5687 Total: 8191.5\n",
      "Warning: less than 75% gpu memory available for training. Free: 5687 Total: 8191.5\n",
      "Warning: less than 75% gpu memory available for training. Free: 5687 Total: 8191.5\n",
      "Warning: less than 75% gpu memory available for training. Free: 5687 Total: 8191.5\n",
      "Warning: less than 75% gpu memory available for training. Free: 5687 Total: 8191.5\n",
      "Warning: less than 75% gpu memory available for training. Free: 5687 Total: 8191.5\n",
      "Warning: less than 75% gpu memory available for training. Free: 5687 Total: 8191.5\n",
      "Warning: less than 75% gpu memory available for training. Free: 5687 Total: 8191.5\n",
      "Warning: less than 75% gpu memory available for training. Free: 5687 Total: 8191.5\n",
      "Warning: less than 75% gpu memory available for training. Free: 5687 Total: 8191.5\n",
      "Warning: less than 75% gpu memory available for training. Free: 5687 Total: 8191.5\n",
      "Warning: less than 75% gpu memory available for training. Free: 5687 Total: 8191.5\n",
      "Warning: less than 75% gpu memory available for training. Free: 5687 Total: 8191.5\n",
      "Warning: less than 75% gpu memory available for training. Free: 5687 Total: 8191.5\n",
      "Warning: less than 75% gpu memory available for training. Free: 5687 Total: 8191.5\n",
      "Warning: less than 75% gpu memory available for training. Free: 5687 Total: 8191.5\n",
      "Warning: less than 75% gpu memory available for training. Free: 5687 Total: 8191.5\n",
      "Warning: less than 75% gpu memory available for training. Free: 5687 Total: 8191.5\n",
      "Warning: less than 75% gpu memory available for training. Free: 5687 Total: 8191.5\n",
      "Warning: less than 75% gpu memory available for training. Free: 5687 Total: 8191.5\n",
      "Warning: less than 75% gpu memory available for training. Free: 5687 Total: 8191.5\n",
      "Warning: less than 75% gpu memory available for training. Free: 5687 Total: 8191.5\n",
      "Warning: less than 75% gpu memory available for training. Free: 5687 Total: 8191.5\n",
      "Warning: less than 75% gpu memory available for training. Free: 5687 Total: 8191.5\n",
      "Warning: less than 75% gpu memory available for training. Free: 5687 Total: 8191.5\n",
      "Warning: less than 75% gpu memory available for training. Free: 5687 Total: 8191.5\n",
      "Warning: less than 75% gpu memory available for training. Free: 5687 Total: 8191.5\n",
      "Warning: less than 75% gpu memory available for training. Free: 5687 Total: 8191.5\n",
      "Warning: less than 75% gpu memory available for training. Free: 5687 Total: 8191.5\n",
      "Warning: less than 75% gpu memory available for training. Free: 5687 Total: 8191.5\n",
      "Warning: less than 75% gpu memory available for training. Free: 5687 Total: 8191.5\n",
      "Warning: less than 75% gpu memory available for training. Free: 5687 Total: 8191.5\n",
      "Warning: less than 75% gpu memory available for training. Free: 5687 Total: 8191.5\n",
      "Warning: less than 75% gpu memory available for training. Free: 5687 Total: 8191.5\n",
      "Warning: less than 75% gpu memory available for training. Free: 5687 Total: 8191.5\n",
      "Warning: less than 75% gpu memory available for training. Free: 5687 Total: 8191.5\n",
      "Warning: less than 75% gpu memory available for training. Free: 5687 Total: 8191.5\n",
      "Warning: less than 75% gpu memory available for training. Free: 5687 Total: 8191.5\n",
      "Warning: less than 75% gpu memory available for training. Free: 5687 Total: 8191.5\n",
      "Warning: less than 75% gpu memory available for training. Free: 5687 Total: 8191.5\n",
      "Warning: less than 75% gpu memory available for training. Free: 5687 Total: 8191.5\n",
      "Warning: less than 75% gpu memory available for training. Free: 5687 Total: 8191.5\n"
     ]
    },
    {
     "data": {
      "application/vnd.jupyter.widget-view+json": {
       "model_id": "f554ea7fb094414cb09a1b5c7f5ec885",
       "version_major": 2,
       "version_minor": 0
      },
      "text/plain": [
       "  0%|          | 0/140 [00:00<?, ?it/s]"
      ]
     },
     "metadata": {},
     "output_type": "display_data"
    },
    {
     "name": "stdout",
     "output_type": "stream",
     "text": [
      "Model saved\n"
     ]
    },
    {
     "data": {
      "application/vnd.jupyter.widget-view+json": {
       "model_id": "f2cdd42f67fe4dee807e894389c56f47",
       "version_major": 2,
       "version_minor": 0
      },
      "text/plain": [
       "  0%|          | 0/140 [00:00<?, ?it/s]"
      ]
     },
     "metadata": {},
     "output_type": "display_data"
    },
    {
     "name": "stdout",
     "output_type": "stream",
     "text": [
      "Model loaded\n"
     ]
    },
    {
     "data": {
      "application/vnd.jupyter.widget-view+json": {
       "model_id": "bf7219dd6dad40a2b77a635fa8f25ce3",
       "version_major": 2,
       "version_minor": 0
      },
      "text/plain": [
       "  0%|          | 0/140 [00:00<?, ?it/s]"
      ]
     },
     "metadata": {},
     "output_type": "display_data"
    },
    {
     "data": {
      "application/vnd.jupyter.widget-view+json": {
       "model_id": "2be0f3a7877841679f6be18eeae28cb7",
       "version_major": 2,
       "version_minor": 0
      },
      "text/plain": [
       "  0%|          | 0/140 [00:00<?, ?it/s]"
      ]
     },
     "metadata": {},
     "output_type": "display_data"
    },
    {
     "name": "stdout",
     "output_type": "stream",
     "text": [
      "Model loaded\n"
     ]
    },
    {
     "data": {
      "application/vnd.jupyter.widget-view+json": {
       "model_id": "4a4945c9ece24eb1b2c65f73102c7215",
       "version_major": 2,
       "version_minor": 0
      },
      "text/plain": [
       "  0%|          | 0/140 [00:00<?, ?it/s]"
      ]
     },
     "metadata": {},
     "output_type": "display_data"
    },
    {
     "name": "stdout",
     "output_type": "stream",
     "text": [
      "catboost ./results/0/layer_2/2 CV score: 0.8986836250905276\n",
      "NN Fold ./results/0/layer_2/2..\n"
     ]
    },
    {
     "data": {
      "application/vnd.jupyter.widget-view+json": {
       "model_id": "c283f1056482421c98e6454979afc98c",
       "version_major": 2,
       "version_minor": 0
      },
      "text/plain": [
       "  0%|          | 0/100 [00:00<?, ?it/s]"
      ]
     },
     "metadata": {},
     "output_type": "display_data"
    },
    {
     "name": "stdout",
     "output_type": "stream",
     "text": [
      "torch ./results/0/layer_2/2 CV score: 0.897926823240298\n",
      "Traing of second layer finished\n",
      "Shape of Third layer input: (70988, 420)\n",
      "Final MLP Fold ./results/0/layer_3/0..\n"
     ]
    },
    {
     "data": {
      "application/vnd.jupyter.widget-view+json": {
       "model_id": "a89b4308f488486eafe5dd820cbb67c4",
       "version_major": 2,
       "version_minor": 0
      },
      "text/plain": [
       "  0%|          | 0/100 [00:00<?, ?it/s]"
      ]
     },
     "metadata": {},
     "output_type": "display_data"
    },
    {
     "name": "stdout",
     "output_type": "stream",
     "text": [
      "Final MLP Fold ./results/0/layer_3/1..\n"
     ]
    },
    {
     "data": {
      "application/vnd.jupyter.widget-view+json": {
       "model_id": "119452d3a41a41b6a3c6563b88219bf2",
       "version_major": 2,
       "version_minor": 0
      },
      "text/plain": [
       "  0%|          | 0/100 [00:00<?, ?it/s]"
      ]
     },
     "metadata": {},
     "output_type": "display_data"
    },
    {
     "name": "stdout",
     "output_type": "stream",
     "text": [
      "Final MLP Fold ./results/0/layer_3/2..\n"
     ]
    },
    {
     "data": {
      "application/vnd.jupyter.widget-view+json": {
       "model_id": "b7bae11829d44069ac9a339cf8ce366e",
       "version_major": 2,
       "version_minor": 0
      },
      "text/plain": [
       "  0%|          | 0/100 [00:00<?, ?it/s]"
      ]
     },
     "metadata": {},
     "output_type": "display_data"
    },
    {
     "name": "stdout",
     "output_type": "stream",
     "text": [
      "Traing of Third layer finished\n",
      "all done!\n",
      "KNeighborsRegressor Fold ./results/1/layer_1/0..\n",
      "KNN ./results/1/layer_1/0 CV score: 0.878827703512955\n",
      "CNN Fold ./results/1/layer_1/0..\n"
     ]
    },
    {
     "data": {
      "application/vnd.jupyter.widget-view+json": {
       "model_id": "c3b57edec4cf467fbc8c2471ee9355af",
       "version_major": 2,
       "version_minor": 0
      },
      "text/plain": [
       "  0%|          | 0/100 [00:00<?, ?it/s]"
      ]
     },
     "metadata": {},
     "output_type": "display_data"
    },
    {
     "name": "stdout",
     "output_type": "stream",
     "text": [
      "CNN ./results/1/layer_1/0 CV score: 0.8940797103765072\n",
      "Ridge Fold ./results/1/layer_1/0..\n",
      "ridge ./results/1/layer_1/0 CV score: 0.8874328529875847\n",
      "RandomForestRegressor Fold ./results/1/layer_1/0..\n",
      "rf ./results/1/layer_1/0 CV score: 0.8795606197782617\n",
      "Catboost Fold ./results/1/layer_1/0..\n"
     ]
    },
    {
     "data": {
      "application/vnd.jupyter.widget-view+json": {
       "model_id": "2b3a3dc75cca4539927d167281d71b55",
       "version_major": 2,
       "version_minor": 0
      },
      "text/plain": [
       "  0%|          | 0/140 [00:00<?, ?it/s]"
      ]
     },
     "metadata": {},
     "output_type": "display_data"
    },
    {
     "name": "stderr",
     "output_type": "stream",
     "text": [
      "Warning: less than 75% gpu memory available for training. Free: 5687 Total: 8191.5\n",
      "Warning: less than 75% gpu memory available for training. Free: 5687 Total: 8191.5\n",
      "Warning: less than 75% gpu memory available for training. Free: 5687 Total: 8191.5\n",
      "Warning: less than 75% gpu memory available for training. Free: 5687 Total: 8191.5\n",
      "Warning: less than 75% gpu memory available for training. Free: 5687 Total: 8191.5\n",
      "Warning: less than 75% gpu memory available for training. Free: 5687 Total: 8191.5\n",
      "Warning: less than 75% gpu memory available for training. Free: 5687 Total: 8191.5\n",
      "Warning: less than 75% gpu memory available for training. Free: 5687 Total: 8191.5\n",
      "Warning: less than 75% gpu memory available for training. Free: 5687 Total: 8191.5\n",
      "Warning: less than 75% gpu memory available for training. Free: 5687 Total: 8191.5\n",
      "Warning: less than 75% gpu memory available for training. Free: 5687 Total: 8191.5\n",
      "Warning: less than 75% gpu memory available for training. Free: 5687 Total: 8191.5\n",
      "Warning: less than 75% gpu memory available for training. Free: 5687 Total: 8191.5\n",
      "Warning: less than 75% gpu memory available for training. Free: 5687 Total: 8191.5\n",
      "Warning: less than 75% gpu memory available for training. Free: 5687 Total: 8191.5\n",
      "Warning: less than 75% gpu memory available for training. Free: 5687 Total: 8191.5\n",
      "Warning: less than 75% gpu memory available for training. Free: 5687 Total: 8191.5\n",
      "Warning: less than 75% gpu memory available for training. Free: 5687 Total: 8191.5\n",
      "Warning: less than 75% gpu memory available for training. Free: 5687 Total: 8191.5\n",
      "Warning: less than 75% gpu memory available for training. Free: 5687 Total: 8191.5\n",
      "Warning: less than 75% gpu memory available for training. Free: 5687 Total: 8191.5\n",
      "Warning: less than 75% gpu memory available for training. Free: 5687 Total: 8191.5\n",
      "Warning: less than 75% gpu memory available for training. Free: 5687 Total: 8191.5\n",
      "Warning: less than 75% gpu memory available for training. Free: 5687 Total: 8191.5\n",
      "Warning: less than 75% gpu memory available for training. Free: 5687 Total: 8191.5\n",
      "Warning: less than 75% gpu memory available for training. Free: 5687 Total: 8191.5\n",
      "Warning: less than 75% gpu memory available for training. Free: 5687 Total: 8191.5\n",
      "Warning: less than 75% gpu memory available for training. Free: 5687 Total: 8191.5\n",
      "Warning: less than 75% gpu memory available for training. Free: 5687 Total: 8191.5\n",
      "Warning: less than 75% gpu memory available for training. Free: 5687 Total: 8191.5\n",
      "Warning: less than 75% gpu memory available for training. Free: 5687 Total: 8191.5\n",
      "Warning: less than 75% gpu memory available for training. Free: 5687 Total: 8191.5\n",
      "Warning: less than 75% gpu memory available for training. Free: 5687 Total: 8191.5\n",
      "Warning: less than 75% gpu memory available for training. Free: 5687 Total: 8191.5\n",
      "Warning: less than 75% gpu memory available for training. Free: 5687 Total: 8191.5\n",
      "Warning: less than 75% gpu memory available for training. Free: 5687 Total: 8191.5\n",
      "Warning: less than 75% gpu memory available for training. Free: 5687 Total: 8191.5\n",
      "Warning: less than 75% gpu memory available for training. Free: 5687 Total: 8191.5\n",
      "Warning: less than 75% gpu memory available for training. Free: 5687 Total: 8191.5\n",
      "Warning: less than 75% gpu memory available for training. Free: 5687 Total: 8191.5\n",
      "Warning: less than 75% gpu memory available for training. Free: 5687 Total: 8191.5\n",
      "Warning: less than 75% gpu memory available for training. Free: 5687 Total: 8191.5\n",
      "Warning: less than 75% gpu memory available for training. Free: 5687 Total: 8191.5\n",
      "Warning: less than 75% gpu memory available for training. Free: 5687 Total: 8191.5\n",
      "Warning: less than 75% gpu memory available for training. Free: 5687 Total: 8191.5\n",
      "Warning: less than 75% gpu memory available for training. Free: 5687 Total: 8191.5\n",
      "Warning: less than 75% gpu memory available for training. Free: 5687 Total: 8191.5\n",
      "Warning: less than 75% gpu memory available for training. Free: 5687 Total: 8191.5\n",
      "Warning: less than 75% gpu memory available for training. Free: 5687 Total: 8191.5\n",
      "Warning: less than 75% gpu memory available for training. Free: 5687 Total: 8191.5\n",
      "Warning: less than 75% gpu memory available for training. Free: 5687 Total: 8191.5\n",
      "Warning: less than 75% gpu memory available for training. Free: 5687 Total: 8191.5\n",
      "Warning: less than 75% gpu memory available for training. Free: 5687 Total: 8191.5\n",
      "Warning: less than 75% gpu memory available for training. Free: 5687 Total: 8191.5\n",
      "Warning: less than 75% gpu memory available for training. Free: 5687 Total: 8191.5\n",
      "Warning: less than 75% gpu memory available for training. Free: 5687 Total: 8191.5\n",
      "Warning: less than 75% gpu memory available for training. Free: 5687 Total: 8191.5\n",
      "Warning: less than 75% gpu memory available for training. Free: 5687 Total: 8191.5\n",
      "Warning: less than 75% gpu memory available for training. Free: 5687 Total: 8191.5\n",
      "Warning: less than 75% gpu memory available for training. Free: 5687 Total: 8191.5\n",
      "Warning: less than 75% gpu memory available for training. Free: 5687 Total: 8191.5\n",
      "Warning: less than 75% gpu memory available for training. Free: 5687 Total: 8191.5\n",
      "Warning: less than 75% gpu memory available for training. Free: 5687 Total: 8191.5\n",
      "Warning: less than 75% gpu memory available for training. Free: 5687 Total: 8191.5\n",
      "Warning: less than 75% gpu memory available for training. Free: 5687 Total: 8191.5\n",
      "Warning: less than 75% gpu memory available for training. Free: 5687 Total: 8191.5\n",
      "Warning: less than 75% gpu memory available for training. Free: 5687 Total: 8191.5\n",
      "Warning: less than 75% gpu memory available for training. Free: 5687 Total: 8191.5\n",
      "Warning: less than 75% gpu memory available for training. Free: 5687 Total: 8191.5\n",
      "Warning: less than 75% gpu memory available for training. Free: 5687 Total: 8191.5\n",
      "Warning: less than 75% gpu memory available for training. Free: 5687 Total: 8191.5\n",
      "Warning: less than 75% gpu memory available for training. Free: 5687 Total: 8191.5\n",
      "Warning: less than 75% gpu memory available for training. Free: 5687 Total: 8191.5\n",
      "Warning: less than 75% gpu memory available for training. Free: 5687 Total: 8191.5\n",
      "Warning: less than 75% gpu memory available for training. Free: 5687 Total: 8191.5\n",
      "Warning: less than 75% gpu memory available for training. Free: 5687 Total: 8191.5\n",
      "Warning: less than 75% gpu memory available for training. Free: 5687 Total: 8191.5\n",
      "Warning: less than 75% gpu memory available for training. Free: 5687 Total: 8191.5\n",
      "Warning: less than 75% gpu memory available for training. Free: 5687 Total: 8191.5\n",
      "Warning: less than 75% gpu memory available for training. Free: 5687 Total: 8191.5\n",
      "Warning: less than 75% gpu memory available for training. Free: 5687 Total: 8191.5\n",
      "Warning: less than 75% gpu memory available for training. Free: 5687 Total: 8191.5\n",
      "Warning: less than 75% gpu memory available for training. Free: 5687 Total: 8191.5\n",
      "Warning: less than 75% gpu memory available for training. Free: 5687 Total: 8191.5\n",
      "Warning: less than 75% gpu memory available for training. Free: 5687 Total: 8191.5\n",
      "Warning: less than 75% gpu memory available for training. Free: 5687 Total: 8191.5\n",
      "Warning: less than 75% gpu memory available for training. Free: 5687 Total: 8191.5\n",
      "Warning: less than 75% gpu memory available for training. Free: 5687 Total: 8191.5\n",
      "Warning: less than 75% gpu memory available for training. Free: 5687 Total: 8191.5\n",
      "Warning: less than 75% gpu memory available for training. Free: 5687 Total: 8191.5\n",
      "Warning: less than 75% gpu memory available for training. Free: 5687 Total: 8191.5\n",
      "Warning: less than 75% gpu memory available for training. Free: 5687 Total: 8191.5\n",
      "Warning: less than 75% gpu memory available for training. Free: 5687 Total: 8191.5\n",
      "Warning: less than 75% gpu memory available for training. Free: 5687 Total: 8191.5\n",
      "Warning: less than 75% gpu memory available for training. Free: 5687 Total: 8191.5\n",
      "Warning: less than 75% gpu memory available for training. Free: 5687 Total: 8191.5\n",
      "Warning: less than 75% gpu memory available for training. Free: 5687 Total: 8191.5\n",
      "Warning: less than 75% gpu memory available for training. Free: 5687 Total: 8191.5\n",
      "Warning: less than 75% gpu memory available for training. Free: 5687 Total: 8191.5\n",
      "Warning: less than 75% gpu memory available for training. Free: 5687 Total: 8191.5\n",
      "Warning: less than 75% gpu memory available for training. Free: 5687 Total: 8191.5\n",
      "Warning: less than 75% gpu memory available for training. Free: 5687 Total: 8191.5\n",
      "Warning: less than 75% gpu memory available for training. Free: 5687 Total: 8191.5\n",
      "Warning: less than 75% gpu memory available for training. Free: 5687 Total: 8191.5\n",
      "Warning: less than 75% gpu memory available for training. Free: 5687 Total: 8191.5\n",
      "Warning: less than 75% gpu memory available for training. Free: 5687 Total: 8191.5\n",
      "Warning: less than 75% gpu memory available for training. Free: 5687 Total: 8191.5\n",
      "Warning: less than 75% gpu memory available for training. Free: 5687 Total: 8191.5\n",
      "Warning: less than 75% gpu memory available for training. Free: 5687 Total: 8191.5\n",
      "Warning: less than 75% gpu memory available for training. Free: 5687 Total: 8191.5\n",
      "Warning: less than 75% gpu memory available for training. Free: 5687 Total: 8191.5\n",
      "Warning: less than 75% gpu memory available for training. Free: 5687 Total: 8191.5\n",
      "Warning: less than 75% gpu memory available for training. Free: 5687 Total: 8191.5\n",
      "Warning: less than 75% gpu memory available for training. Free: 5687 Total: 8191.5\n",
      "Warning: less than 75% gpu memory available for training. Free: 5687 Total: 8191.5\n",
      "Warning: less than 75% gpu memory available for training. Free: 5687 Total: 8191.5\n",
      "Warning: less than 75% gpu memory available for training. Free: 5687 Total: 8191.5\n",
      "Warning: less than 75% gpu memory available for training. Free: 5687 Total: 8191.5\n",
      "Warning: less than 75% gpu memory available for training. Free: 5687 Total: 8191.5\n",
      "Warning: less than 75% gpu memory available for training. Free: 5687 Total: 8191.5\n",
      "Warning: less than 75% gpu memory available for training. Free: 5687 Total: 8191.5\n",
      "Warning: less than 75% gpu memory available for training. Free: 5687 Total: 8191.5\n",
      "Warning: less than 75% gpu memory available for training. Free: 5687 Total: 8191.5\n",
      "Warning: less than 75% gpu memory available for training. Free: 5687 Total: 8191.5\n",
      "Warning: less than 75% gpu memory available for training. Free: 5687 Total: 8191.5\n",
      "Warning: less than 75% gpu memory available for training. Free: 5687 Total: 8191.5\n",
      "Warning: less than 75% gpu memory available for training. Free: 5687 Total: 8191.5\n",
      "Warning: less than 75% gpu memory available for training. Free: 5687 Total: 8191.5\n",
      "Warning: less than 75% gpu memory available for training. Free: 5687 Total: 8191.5\n",
      "Warning: less than 75% gpu memory available for training. Free: 5687 Total: 8191.5\n",
      "Warning: less than 75% gpu memory available for training. Free: 5687 Total: 8191.5\n",
      "Warning: less than 75% gpu memory available for training. Free: 5687 Total: 8191.5\n",
      "Warning: less than 75% gpu memory available for training. Free: 5687 Total: 8191.5\n",
      "Warning: less than 75% gpu memory available for training. Free: 5687 Total: 8191.5\n",
      "Warning: less than 75% gpu memory available for training. Free: 5687 Total: 8191.5\n",
      "Warning: less than 75% gpu memory available for training. Free: 5687 Total: 8191.5\n",
      "Warning: less than 75% gpu memory available for training. Free: 5687 Total: 8191.5\n",
      "Warning: less than 75% gpu memory available for training. Free: 5687 Total: 8191.5\n",
      "Warning: less than 75% gpu memory available for training. Free: 5687 Total: 8191.5\n",
      "Warning: less than 75% gpu memory available for training. Free: 5687 Total: 8191.5\n"
     ]
    },
    {
     "data": {
      "application/vnd.jupyter.widget-view+json": {
       "model_id": "bcbb341453a941119ccb16dbf9fb8cec",
       "version_major": 2,
       "version_minor": 0
      },
      "text/plain": [
       "  0%|          | 0/140 [00:00<?, ?it/s]"
      ]
     },
     "metadata": {},
     "output_type": "display_data"
    },
    {
     "name": "stdout",
     "output_type": "stream",
     "text": [
      "Model saved\n"
     ]
    },
    {
     "data": {
      "application/vnd.jupyter.widget-view+json": {
       "model_id": "c021d16de07a404a9ca572c9344e0f4e",
       "version_major": 2,
       "version_minor": 0
      },
      "text/plain": [
       "  0%|          | 0/140 [00:00<?, ?it/s]"
      ]
     },
     "metadata": {},
     "output_type": "display_data"
    },
    {
     "name": "stdout",
     "output_type": "stream",
     "text": [
      "Model loaded\n"
     ]
    },
    {
     "data": {
      "application/vnd.jupyter.widget-view+json": {
       "model_id": "687619b2a9c942abba0f175552cdcc4b",
       "version_major": 2,
       "version_minor": 0
      },
      "text/plain": [
       "  0%|          | 0/140 [00:00<?, ?it/s]"
      ]
     },
     "metadata": {},
     "output_type": "display_data"
    },
    {
     "data": {
      "application/vnd.jupyter.widget-view+json": {
       "model_id": "c95338fb7add432bbf805233ed0a27ae",
       "version_major": 2,
       "version_minor": 0
      },
      "text/plain": [
       "  0%|          | 0/140 [00:00<?, ?it/s]"
      ]
     },
     "metadata": {},
     "output_type": "display_data"
    },
    {
     "name": "stdout",
     "output_type": "stream",
     "text": [
      "Model loaded\n"
     ]
    },
    {
     "data": {
      "application/vnd.jupyter.widget-view+json": {
       "model_id": "b7427a6f4df34dfd93dc3253f6bee287",
       "version_major": 2,
       "version_minor": 0
      },
      "text/plain": [
       "  0%|          | 0/140 [00:00<?, ?it/s]"
      ]
     },
     "metadata": {},
     "output_type": "display_data"
    },
    {
     "name": "stdout",
     "output_type": "stream",
     "text": [
      "catboost ./results/1/layer_1/0 CV score: 0.8904373585236652\n",
      "NN Fold ./results/1/layer_1/0..\n"
     ]
    },
    {
     "data": {
      "application/vnd.jupyter.widget-view+json": {
       "model_id": "2d6c563552ce4fd4afe75d0b44439992",
       "version_major": 2,
       "version_minor": 0
      },
      "text/plain": [
       "  0%|          | 0/100 [00:00<?, ?it/s]"
      ]
     },
     "metadata": {},
     "output_type": "display_data"
    },
    {
     "name": "stdout",
     "output_type": "stream",
     "text": [
      "torch ./results/1/layer_1/0 CV score: 0.8940972053829814\n",
      "KNeighborsRegressor Fold ./results/1/layer_1/1..\n",
      "KNN ./results/1/layer_1/1 CV score: 0.87958597273252\n",
      "CNN Fold ./results/1/layer_1/1..\n"
     ]
    },
    {
     "data": {
      "application/vnd.jupyter.widget-view+json": {
       "model_id": "176f8f273ba344df97fc546a7179b102",
       "version_major": 2,
       "version_minor": 0
      },
      "text/plain": [
       "  0%|          | 0/100 [00:00<?, ?it/s]"
      ]
     },
     "metadata": {},
     "output_type": "display_data"
    },
    {
     "name": "stdout",
     "output_type": "stream",
     "text": [
      "CNN ./results/1/layer_1/1 CV score: 0.894971888807099\n",
      "Ridge Fold ./results/1/layer_1/1..\n",
      "ridge ./results/1/layer_1/1 CV score: 0.8886823752868451\n",
      "RandomForestRegressor Fold ./results/1/layer_1/1..\n",
      "rf ./results/1/layer_1/1 CV score: 0.8799048126628264\n",
      "Catboost Fold ./results/1/layer_1/1..\n"
     ]
    },
    {
     "data": {
      "application/vnd.jupyter.widget-view+json": {
       "model_id": "28d031a9092041c283d8f0abf1af725d",
       "version_major": 2,
       "version_minor": 0
      },
      "text/plain": [
       "  0%|          | 0/140 [00:00<?, ?it/s]"
      ]
     },
     "metadata": {},
     "output_type": "display_data"
    },
    {
     "name": "stderr",
     "output_type": "stream",
     "text": [
      "Warning: less than 75% gpu memory available for training. Free: 5687 Total: 8191.5\n",
      "Warning: less than 75% gpu memory available for training. Free: 5687 Total: 8191.5\n",
      "Warning: less than 75% gpu memory available for training. Free: 5687 Total: 8191.5\n",
      "Warning: less than 75% gpu memory available for training. Free: 5687 Total: 8191.5\n",
      "Warning: less than 75% gpu memory available for training. Free: 5687 Total: 8191.5\n",
      "Warning: less than 75% gpu memory available for training. Free: 5687 Total: 8191.5\n",
      "Warning: less than 75% gpu memory available for training. Free: 5687 Total: 8191.5\n",
      "Warning: less than 75% gpu memory available for training. Free: 5687 Total: 8191.5\n",
      "Warning: less than 75% gpu memory available for training. Free: 5687 Total: 8191.5\n",
      "Warning: less than 75% gpu memory available for training. Free: 5687 Total: 8191.5\n",
      "Warning: less than 75% gpu memory available for training. Free: 5687 Total: 8191.5\n",
      "Warning: less than 75% gpu memory available for training. Free: 5687 Total: 8191.5\n",
      "Warning: less than 75% gpu memory available for training. Free: 5687 Total: 8191.5\n",
      "Warning: less than 75% gpu memory available for training. Free: 5687 Total: 8191.5\n",
      "Warning: less than 75% gpu memory available for training. Free: 5687 Total: 8191.5\n",
      "Warning: less than 75% gpu memory available for training. Free: 5687 Total: 8191.5\n",
      "Warning: less than 75% gpu memory available for training. Free: 5687 Total: 8191.5\n",
      "Warning: less than 75% gpu memory available for training. Free: 5687 Total: 8191.5\n",
      "Warning: less than 75% gpu memory available for training. Free: 5687 Total: 8191.5\n",
      "Warning: less than 75% gpu memory available for training. Free: 5687 Total: 8191.5\n",
      "Warning: less than 75% gpu memory available for training. Free: 5687 Total: 8191.5\n",
      "Warning: less than 75% gpu memory available for training. Free: 5687 Total: 8191.5\n",
      "Warning: less than 75% gpu memory available for training. Free: 5687 Total: 8191.5\n",
      "Warning: less than 75% gpu memory available for training. Free: 5687 Total: 8191.5\n",
      "Warning: less than 75% gpu memory available for training. Free: 5687 Total: 8191.5\n",
      "Warning: less than 75% gpu memory available for training. Free: 5687 Total: 8191.5\n",
      "Warning: less than 75% gpu memory available for training. Free: 5687 Total: 8191.5\n",
      "Warning: less than 75% gpu memory available for training. Free: 5687 Total: 8191.5\n",
      "Warning: less than 75% gpu memory available for training. Free: 5687 Total: 8191.5\n",
      "Warning: less than 75% gpu memory available for training. Free: 5687 Total: 8191.5\n",
      "Warning: less than 75% gpu memory available for training. Free: 5687 Total: 8191.5\n",
      "Warning: less than 75% gpu memory available for training. Free: 5687 Total: 8191.5\n",
      "Warning: less than 75% gpu memory available for training. Free: 5687 Total: 8191.5\n",
      "Warning: less than 75% gpu memory available for training. Free: 5687 Total: 8191.5\n",
      "Warning: less than 75% gpu memory available for training. Free: 5687 Total: 8191.5\n",
      "Warning: less than 75% gpu memory available for training. Free: 5687 Total: 8191.5\n",
      "Warning: less than 75% gpu memory available for training. Free: 5687 Total: 8191.5\n",
      "Warning: less than 75% gpu memory available for training. Free: 5687 Total: 8191.5\n",
      "Warning: less than 75% gpu memory available for training. Free: 5687 Total: 8191.5\n",
      "Warning: less than 75% gpu memory available for training. Free: 5687 Total: 8191.5\n",
      "Warning: less than 75% gpu memory available for training. Free: 5687 Total: 8191.5\n",
      "Warning: less than 75% gpu memory available for training. Free: 5687 Total: 8191.5\n",
      "Warning: less than 75% gpu memory available for training. Free: 5687 Total: 8191.5\n",
      "Warning: less than 75% gpu memory available for training. Free: 5687 Total: 8191.5\n",
      "Warning: less than 75% gpu memory available for training. Free: 5687 Total: 8191.5\n",
      "Warning: less than 75% gpu memory available for training. Free: 5687 Total: 8191.5\n",
      "Warning: less than 75% gpu memory available for training. Free: 5687 Total: 8191.5\n",
      "Warning: less than 75% gpu memory available for training. Free: 5687 Total: 8191.5\n",
      "Warning: less than 75% gpu memory available for training. Free: 5687 Total: 8191.5\n",
      "Warning: less than 75% gpu memory available for training. Free: 5687 Total: 8191.5\n",
      "Warning: less than 75% gpu memory available for training. Free: 5687 Total: 8191.5\n",
      "Warning: less than 75% gpu memory available for training. Free: 5687 Total: 8191.5\n",
      "Warning: less than 75% gpu memory available for training. Free: 5687 Total: 8191.5\n",
      "Warning: less than 75% gpu memory available for training. Free: 5687 Total: 8191.5\n",
      "Warning: less than 75% gpu memory available for training. Free: 5687 Total: 8191.5\n",
      "Warning: less than 75% gpu memory available for training. Free: 5687 Total: 8191.5\n",
      "Warning: less than 75% gpu memory available for training. Free: 5687 Total: 8191.5\n",
      "Warning: less than 75% gpu memory available for training. Free: 5687 Total: 8191.5\n",
      "Warning: less than 75% gpu memory available for training. Free: 5687 Total: 8191.5\n",
      "Warning: less than 75% gpu memory available for training. Free: 5687 Total: 8191.5\n",
      "Warning: less than 75% gpu memory available for training. Free: 5687 Total: 8191.5\n",
      "Warning: less than 75% gpu memory available for training. Free: 5687 Total: 8191.5\n",
      "Warning: less than 75% gpu memory available for training. Free: 5687 Total: 8191.5\n",
      "Warning: less than 75% gpu memory available for training. Free: 5687 Total: 8191.5\n",
      "Warning: less than 75% gpu memory available for training. Free: 5687 Total: 8191.5\n",
      "Warning: less than 75% gpu memory available for training. Free: 5687 Total: 8191.5\n",
      "Warning: less than 75% gpu memory available for training. Free: 5687 Total: 8191.5\n",
      "Warning: less than 75% gpu memory available for training. Free: 5687 Total: 8191.5\n",
      "Warning: less than 75% gpu memory available for training. Free: 5687 Total: 8191.5\n",
      "Warning: less than 75% gpu memory available for training. Free: 5687 Total: 8191.5\n",
      "Warning: less than 75% gpu memory available for training. Free: 5687 Total: 8191.5\n",
      "Warning: less than 75% gpu memory available for training. Free: 5687 Total: 8191.5\n",
      "Warning: less than 75% gpu memory available for training. Free: 5687 Total: 8191.5\n",
      "Warning: less than 75% gpu memory available for training. Free: 5687 Total: 8191.5\n",
      "Warning: less than 75% gpu memory available for training. Free: 5687 Total: 8191.5\n",
      "Warning: less than 75% gpu memory available for training. Free: 5687 Total: 8191.5\n",
      "Warning: less than 75% gpu memory available for training. Free: 5687 Total: 8191.5\n",
      "Warning: less than 75% gpu memory available for training. Free: 5687 Total: 8191.5\n",
      "Warning: less than 75% gpu memory available for training. Free: 5687 Total: 8191.5\n",
      "Warning: less than 75% gpu memory available for training. Free: 5687 Total: 8191.5\n",
      "Warning: less than 75% gpu memory available for training. Free: 5687 Total: 8191.5\n",
      "Warning: less than 75% gpu memory available for training. Free: 5687 Total: 8191.5\n",
      "Warning: less than 75% gpu memory available for training. Free: 5687 Total: 8191.5\n",
      "Warning: less than 75% gpu memory available for training. Free: 5687 Total: 8191.5\n",
      "Warning: less than 75% gpu memory available for training. Free: 5687 Total: 8191.5\n",
      "Warning: less than 75% gpu memory available for training. Free: 5687 Total: 8191.5\n",
      "Warning: less than 75% gpu memory available for training. Free: 5687 Total: 8191.5\n",
      "Warning: less than 75% gpu memory available for training. Free: 5687 Total: 8191.5\n",
      "Warning: less than 75% gpu memory available for training. Free: 5687 Total: 8191.5\n",
      "Warning: less than 75% gpu memory available for training. Free: 5687 Total: 8191.5\n",
      "Warning: less than 75% gpu memory available for training. Free: 5687 Total: 8191.5\n",
      "Warning: less than 75% gpu memory available for training. Free: 5687 Total: 8191.5\n",
      "Warning: less than 75% gpu memory available for training. Free: 5687 Total: 8191.5\n",
      "Warning: less than 75% gpu memory available for training. Free: 5687 Total: 8191.5\n",
      "Warning: less than 75% gpu memory available for training. Free: 5687 Total: 8191.5\n",
      "Warning: less than 75% gpu memory available for training. Free: 5687 Total: 8191.5\n",
      "Warning: less than 75% gpu memory available for training. Free: 5687 Total: 8191.5\n",
      "Warning: less than 75% gpu memory available for training. Free: 5687 Total: 8191.5\n",
      "Warning: less than 75% gpu memory available for training. Free: 5687 Total: 8191.5\n",
      "Warning: less than 75% gpu memory available for training. Free: 5687 Total: 8191.5\n",
      "Warning: less than 75% gpu memory available for training. Free: 5687 Total: 8191.5\n",
      "Warning: less than 75% gpu memory available for training. Free: 5687 Total: 8191.5\n",
      "Warning: less than 75% gpu memory available for training. Free: 5687 Total: 8191.5\n",
      "Warning: less than 75% gpu memory available for training. Free: 5687 Total: 8191.5\n",
      "Warning: less than 75% gpu memory available for training. Free: 5687 Total: 8191.5\n",
      "Warning: less than 75% gpu memory available for training. Free: 5687 Total: 8191.5\n",
      "Warning: less than 75% gpu memory available for training. Free: 5687 Total: 8191.5\n",
      "Warning: less than 75% gpu memory available for training. Free: 5687 Total: 8191.5\n",
      "Warning: less than 75% gpu memory available for training. Free: 5687 Total: 8191.5\n",
      "Warning: less than 75% gpu memory available for training. Free: 5687 Total: 8191.5\n",
      "Warning: less than 75% gpu memory available for training. Free: 5687 Total: 8191.5\n",
      "Warning: less than 75% gpu memory available for training. Free: 5687 Total: 8191.5\n",
      "Warning: less than 75% gpu memory available for training. Free: 5687 Total: 8191.5\n",
      "Warning: less than 75% gpu memory available for training. Free: 5687 Total: 8191.5\n",
      "Warning: less than 75% gpu memory available for training. Free: 5687 Total: 8191.5\n",
      "Warning: less than 75% gpu memory available for training. Free: 5687 Total: 8191.5\n",
      "Warning: less than 75% gpu memory available for training. Free: 5687 Total: 8191.5\n",
      "Warning: less than 75% gpu memory available for training. Free: 5687 Total: 8191.5\n",
      "Warning: less than 75% gpu memory available for training. Free: 5687 Total: 8191.5\n",
      "Warning: less than 75% gpu memory available for training. Free: 5687 Total: 8191.5\n",
      "Warning: less than 75% gpu memory available for training. Free: 5687 Total: 8191.5\n",
      "Warning: less than 75% gpu memory available for training. Free: 5687 Total: 8191.5\n",
      "Warning: less than 75% gpu memory available for training. Free: 5687 Total: 8191.5\n",
      "Warning: less than 75% gpu memory available for training. Free: 5687 Total: 8191.5\n",
      "Warning: less than 75% gpu memory available for training. Free: 5687 Total: 8191.5\n",
      "Warning: less than 75% gpu memory available for training. Free: 5687 Total: 8191.5\n",
      "Warning: less than 75% gpu memory available for training. Free: 5687 Total: 8191.5\n",
      "Warning: less than 75% gpu memory available for training. Free: 5687 Total: 8191.5\n",
      "Warning: less than 75% gpu memory available for training. Free: 5687 Total: 8191.5\n",
      "Warning: less than 75% gpu memory available for training. Free: 5687 Total: 8191.5\n",
      "Warning: less than 75% gpu memory available for training. Free: 5687 Total: 8191.5\n",
      "Warning: less than 75% gpu memory available for training. Free: 5687 Total: 8191.5\n",
      "Warning: less than 75% gpu memory available for training. Free: 5687 Total: 8191.5\n",
      "Warning: less than 75% gpu memory available for training. Free: 5687 Total: 8191.5\n",
      "Warning: less than 75% gpu memory available for training. Free: 5687 Total: 8191.5\n",
      "Warning: less than 75% gpu memory available for training. Free: 5687 Total: 8191.5\n",
      "Warning: less than 75% gpu memory available for training. Free: 5687 Total: 8191.5\n",
      "Warning: less than 75% gpu memory available for training. Free: 5687 Total: 8191.5\n",
      "Warning: less than 75% gpu memory available for training. Free: 5687 Total: 8191.5\n",
      "Warning: less than 75% gpu memory available for training. Free: 5687 Total: 8191.5\n"
     ]
    },
    {
     "data": {
      "application/vnd.jupyter.widget-view+json": {
       "model_id": "a1ccae0fa0a449cc831f301d36fc4399",
       "version_major": 2,
       "version_minor": 0
      },
      "text/plain": [
       "  0%|          | 0/140 [00:00<?, ?it/s]"
      ]
     },
     "metadata": {},
     "output_type": "display_data"
    },
    {
     "name": "stdout",
     "output_type": "stream",
     "text": [
      "Model saved\n"
     ]
    },
    {
     "data": {
      "application/vnd.jupyter.widget-view+json": {
       "model_id": "7d9233134dc140faaf4a4bccb703e4bb",
       "version_major": 2,
       "version_minor": 0
      },
      "text/plain": [
       "  0%|          | 0/140 [00:00<?, ?it/s]"
      ]
     },
     "metadata": {},
     "output_type": "display_data"
    },
    {
     "name": "stdout",
     "output_type": "stream",
     "text": [
      "Model loaded\n"
     ]
    },
    {
     "data": {
      "application/vnd.jupyter.widget-view+json": {
       "model_id": "22d24c0fb95c4df796b0b5a30d2d9cf3",
       "version_major": 2,
       "version_minor": 0
      },
      "text/plain": [
       "  0%|          | 0/140 [00:00<?, ?it/s]"
      ]
     },
     "metadata": {},
     "output_type": "display_data"
    },
    {
     "data": {
      "application/vnd.jupyter.widget-view+json": {
       "model_id": "081e9a6f34464c6da2a136aee290a425",
       "version_major": 2,
       "version_minor": 0
      },
      "text/plain": [
       "  0%|          | 0/140 [00:00<?, ?it/s]"
      ]
     },
     "metadata": {},
     "output_type": "display_data"
    },
    {
     "name": "stdout",
     "output_type": "stream",
     "text": [
      "Model loaded\n"
     ]
    },
    {
     "data": {
      "application/vnd.jupyter.widget-view+json": {
       "model_id": "8ab8640cbe8e46e69e734a011270ed09",
       "version_major": 2,
       "version_minor": 0
      },
      "text/plain": [
       "  0%|          | 0/140 [00:00<?, ?it/s]"
      ]
     },
     "metadata": {},
     "output_type": "display_data"
    },
    {
     "name": "stdout",
     "output_type": "stream",
     "text": [
      "catboost ./results/1/layer_1/1 CV score: 0.891034881466246\n",
      "NN Fold ./results/1/layer_1/1..\n"
     ]
    },
    {
     "data": {
      "application/vnd.jupyter.widget-view+json": {
       "model_id": "640a37283777426ea2d7fd15c5706db7",
       "version_major": 2,
       "version_minor": 0
      },
      "text/plain": [
       "  0%|          | 0/100 [00:00<?, ?it/s]"
      ]
     },
     "metadata": {},
     "output_type": "display_data"
    },
    {
     "name": "stdout",
     "output_type": "stream",
     "text": [
      "torch ./results/1/layer_1/1 CV score: 0.8951053820116812\n",
      "KNeighborsRegressor Fold ./results/1/layer_1/2..\n",
      "KNN ./results/1/layer_1/2 CV score: 0.8784306075711983\n",
      "CNN Fold ./results/1/layer_1/2..\n"
     ]
    },
    {
     "data": {
      "application/vnd.jupyter.widget-view+json": {
       "model_id": "d0af4e855a274add8515962da568e860",
       "version_major": 2,
       "version_minor": 0
      },
      "text/plain": [
       "  0%|          | 0/100 [00:00<?, ?it/s]"
      ]
     },
     "metadata": {},
     "output_type": "display_data"
    },
    {
     "name": "stdout",
     "output_type": "stream",
     "text": [
      "CNN ./results/1/layer_1/2 CV score: 0.8939194003590168\n",
      "Ridge Fold ./results/1/layer_1/2..\n",
      "ridge ./results/1/layer_1/2 CV score: 0.887527485224299\n",
      "RandomForestRegressor Fold ./results/1/layer_1/2..\n",
      "rf ./results/1/layer_1/2 CV score: 0.8790513494867277\n",
      "Catboost Fold ./results/1/layer_1/2..\n"
     ]
    },
    {
     "data": {
      "application/vnd.jupyter.widget-view+json": {
       "model_id": "7b75763760f94db3baa542d3bc9dec03",
       "version_major": 2,
       "version_minor": 0
      },
      "text/plain": [
       "  0%|          | 0/140 [00:00<?, ?it/s]"
      ]
     },
     "metadata": {},
     "output_type": "display_data"
    },
    {
     "name": "stderr",
     "output_type": "stream",
     "text": [
      "Warning: less than 75% gpu memory available for training. Free: 5687 Total: 8191.5\n",
      "Warning: less than 75% gpu memory available for training. Free: 5687 Total: 8191.5\n",
      "Warning: less than 75% gpu memory available for training. Free: 5687 Total: 8191.5\n",
      "Warning: less than 75% gpu memory available for training. Free: 5687 Total: 8191.5\n",
      "Warning: less than 75% gpu memory available for training. Free: 5687 Total: 8191.5\n",
      "Warning: less than 75% gpu memory available for training. Free: 5687 Total: 8191.5\n",
      "Warning: less than 75% gpu memory available for training. Free: 5687 Total: 8191.5\n",
      "Warning: less than 75% gpu memory available for training. Free: 5687 Total: 8191.5\n",
      "Warning: less than 75% gpu memory available for training. Free: 5687 Total: 8191.5\n",
      "Warning: less than 75% gpu memory available for training. Free: 5687 Total: 8191.5\n",
      "Warning: less than 75% gpu memory available for training. Free: 5687 Total: 8191.5\n",
      "Warning: less than 75% gpu memory available for training. Free: 5687 Total: 8191.5\n",
      "Warning: less than 75% gpu memory available for training. Free: 5687 Total: 8191.5\n",
      "Warning: less than 75% gpu memory available for training. Free: 5687 Total: 8191.5\n",
      "Warning: less than 75% gpu memory available for training. Free: 5687 Total: 8191.5\n",
      "Warning: less than 75% gpu memory available for training. Free: 5687 Total: 8191.5\n",
      "Warning: less than 75% gpu memory available for training. Free: 5687 Total: 8191.5\n",
      "Warning: less than 75% gpu memory available for training. Free: 5687 Total: 8191.5\n",
      "Warning: less than 75% gpu memory available for training. Free: 5687 Total: 8191.5\n",
      "Warning: less than 75% gpu memory available for training. Free: 5687 Total: 8191.5\n",
      "Warning: less than 75% gpu memory available for training. Free: 5687 Total: 8191.5\n",
      "Warning: less than 75% gpu memory available for training. Free: 5687 Total: 8191.5\n",
      "Warning: less than 75% gpu memory available for training. Free: 5687 Total: 8191.5\n",
      "Warning: less than 75% gpu memory available for training. Free: 5687 Total: 8191.5\n",
      "Warning: less than 75% gpu memory available for training. Free: 5687 Total: 8191.5\n",
      "Warning: less than 75% gpu memory available for training. Free: 5687 Total: 8191.5\n",
      "Warning: less than 75% gpu memory available for training. Free: 5687 Total: 8191.5\n",
      "Warning: less than 75% gpu memory available for training. Free: 5687 Total: 8191.5\n",
      "Warning: less than 75% gpu memory available for training. Free: 5687 Total: 8191.5\n",
      "Warning: less than 75% gpu memory available for training. Free: 5687 Total: 8191.5\n",
      "Warning: less than 75% gpu memory available for training. Free: 5687 Total: 8191.5\n",
      "Warning: less than 75% gpu memory available for training. Free: 5687 Total: 8191.5\n",
      "Warning: less than 75% gpu memory available for training. Free: 5687 Total: 8191.5\n",
      "Warning: less than 75% gpu memory available for training. Free: 5687 Total: 8191.5\n",
      "Warning: less than 75% gpu memory available for training. Free: 5687 Total: 8191.5\n",
      "Warning: less than 75% gpu memory available for training. Free: 5687 Total: 8191.5\n",
      "Warning: less than 75% gpu memory available for training. Free: 5687 Total: 8191.5\n",
      "Warning: less than 75% gpu memory available for training. Free: 5687 Total: 8191.5\n",
      "Warning: less than 75% gpu memory available for training. Free: 5687 Total: 8191.5\n",
      "Warning: less than 75% gpu memory available for training. Free: 5687 Total: 8191.5\n",
      "Warning: less than 75% gpu memory available for training. Free: 5687 Total: 8191.5\n",
      "Warning: less than 75% gpu memory available for training. Free: 5687 Total: 8191.5\n",
      "Warning: less than 75% gpu memory available for training. Free: 5687 Total: 8191.5\n",
      "Warning: less than 75% gpu memory available for training. Free: 5687 Total: 8191.5\n",
      "Warning: less than 75% gpu memory available for training. Free: 5687 Total: 8191.5\n",
      "Warning: less than 75% gpu memory available for training. Free: 5687 Total: 8191.5\n",
      "Warning: less than 75% gpu memory available for training. Free: 5687 Total: 8191.5\n",
      "Warning: less than 75% gpu memory available for training. Free: 5687 Total: 8191.5\n",
      "Warning: less than 75% gpu memory available for training. Free: 5687 Total: 8191.5\n",
      "Warning: less than 75% gpu memory available for training. Free: 5687 Total: 8191.5\n",
      "Warning: less than 75% gpu memory available for training. Free: 5687 Total: 8191.5\n",
      "Warning: less than 75% gpu memory available for training. Free: 5687 Total: 8191.5\n",
      "Warning: less than 75% gpu memory available for training. Free: 5687 Total: 8191.5\n",
      "Warning: less than 75% gpu memory available for training. Free: 5687 Total: 8191.5\n",
      "Warning: less than 75% gpu memory available for training. Free: 5687 Total: 8191.5\n",
      "Warning: less than 75% gpu memory available for training. Free: 5687 Total: 8191.5\n",
      "Warning: less than 75% gpu memory available for training. Free: 5687 Total: 8191.5\n",
      "Warning: less than 75% gpu memory available for training. Free: 5687 Total: 8191.5\n",
      "Warning: less than 75% gpu memory available for training. Free: 5687 Total: 8191.5\n",
      "Warning: less than 75% gpu memory available for training. Free: 5687 Total: 8191.5\n",
      "Warning: less than 75% gpu memory available for training. Free: 5687 Total: 8191.5\n",
      "Warning: less than 75% gpu memory available for training. Free: 5687 Total: 8191.5\n",
      "Warning: less than 75% gpu memory available for training. Free: 5687 Total: 8191.5\n",
      "Warning: less than 75% gpu memory available for training. Free: 5687 Total: 8191.5\n",
      "Warning: less than 75% gpu memory available for training. Free: 5687 Total: 8191.5\n",
      "Warning: less than 75% gpu memory available for training. Free: 5687 Total: 8191.5\n",
      "Warning: less than 75% gpu memory available for training. Free: 5687 Total: 8191.5\n",
      "Warning: less than 75% gpu memory available for training. Free: 5687 Total: 8191.5\n",
      "Warning: less than 75% gpu memory available for training. Free: 5687 Total: 8191.5\n",
      "Warning: less than 75% gpu memory available for training. Free: 5687 Total: 8191.5\n",
      "Warning: less than 75% gpu memory available for training. Free: 5687 Total: 8191.5\n",
      "Warning: less than 75% gpu memory available for training. Free: 5687 Total: 8191.5\n",
      "Warning: less than 75% gpu memory available for training. Free: 5687 Total: 8191.5\n",
      "Warning: less than 75% gpu memory available for training. Free: 5687 Total: 8191.5\n",
      "Warning: less than 75% gpu memory available for training. Free: 5687 Total: 8191.5\n",
      "Warning: less than 75% gpu memory available for training. Free: 5687 Total: 8191.5\n",
      "Warning: less than 75% gpu memory available for training. Free: 5687 Total: 8191.5\n",
      "Warning: less than 75% gpu memory available for training. Free: 5687 Total: 8191.5\n",
      "Warning: less than 75% gpu memory available for training. Free: 5687 Total: 8191.5\n",
      "Warning: less than 75% gpu memory available for training. Free: 5687 Total: 8191.5\n",
      "Warning: less than 75% gpu memory available for training. Free: 5687 Total: 8191.5\n",
      "Warning: less than 75% gpu memory available for training. Free: 5687 Total: 8191.5\n",
      "Warning: less than 75% gpu memory available for training. Free: 5687 Total: 8191.5\n",
      "Warning: less than 75% gpu memory available for training. Free: 5687 Total: 8191.5\n",
      "Warning: less than 75% gpu memory available for training. Free: 5687 Total: 8191.5\n",
      "Warning: less than 75% gpu memory available for training. Free: 5687 Total: 8191.5\n",
      "Warning: less than 75% gpu memory available for training. Free: 5687 Total: 8191.5\n",
      "Warning: less than 75% gpu memory available for training. Free: 5687 Total: 8191.5\n",
      "Warning: less than 75% gpu memory available for training. Free: 5687 Total: 8191.5\n",
      "Warning: less than 75% gpu memory available for training. Free: 5687 Total: 8191.5\n",
      "Warning: less than 75% gpu memory available for training. Free: 5687 Total: 8191.5\n",
      "Warning: less than 75% gpu memory available for training. Free: 5687 Total: 8191.5\n",
      "Warning: less than 75% gpu memory available for training. Free: 5687 Total: 8191.5\n",
      "Warning: less than 75% gpu memory available for training. Free: 5687 Total: 8191.5\n",
      "Warning: less than 75% gpu memory available for training. Free: 5687 Total: 8191.5\n",
      "Warning: less than 75% gpu memory available for training. Free: 5687 Total: 8191.5\n",
      "Warning: less than 75% gpu memory available for training. Free: 5687 Total: 8191.5\n",
      "Warning: less than 75% gpu memory available for training. Free: 5687 Total: 8191.5\n",
      "Warning: less than 75% gpu memory available for training. Free: 5687 Total: 8191.5\n",
      "Warning: less than 75% gpu memory available for training. Free: 5687 Total: 8191.5\n",
      "Warning: less than 75% gpu memory available for training. Free: 5687 Total: 8191.5\n",
      "Warning: less than 75% gpu memory available for training. Free: 5687 Total: 8191.5\n",
      "Warning: less than 75% gpu memory available for training. Free: 5687 Total: 8191.5\n",
      "Warning: less than 75% gpu memory available for training. Free: 5687 Total: 8191.5\n",
      "Warning: less than 75% gpu memory available for training. Free: 5687 Total: 8191.5\n",
      "Warning: less than 75% gpu memory available for training. Free: 5687 Total: 8191.5\n",
      "Warning: less than 75% gpu memory available for training. Free: 5687 Total: 8191.5\n",
      "Warning: less than 75% gpu memory available for training. Free: 5687 Total: 8191.5\n",
      "Warning: less than 75% gpu memory available for training. Free: 5687 Total: 8191.5\n",
      "Warning: less than 75% gpu memory available for training. Free: 5687 Total: 8191.5\n",
      "Warning: less than 75% gpu memory available for training. Free: 5687 Total: 8191.5\n",
      "Warning: less than 75% gpu memory available for training. Free: 5687 Total: 8191.5\n",
      "Warning: less than 75% gpu memory available for training. Free: 5687 Total: 8191.5\n",
      "Warning: less than 75% gpu memory available for training. Free: 5687 Total: 8191.5\n",
      "Warning: less than 75% gpu memory available for training. Free: 5687 Total: 8191.5\n",
      "Warning: less than 75% gpu memory available for training. Free: 5687 Total: 8191.5\n",
      "Warning: less than 75% gpu memory available for training. Free: 5687 Total: 8191.5\n",
      "Warning: less than 75% gpu memory available for training. Free: 5687 Total: 8191.5\n",
      "Warning: less than 75% gpu memory available for training. Free: 5687 Total: 8191.5\n",
      "Warning: less than 75% gpu memory available for training. Free: 5687 Total: 8191.5\n",
      "Warning: less than 75% gpu memory available for training. Free: 5687 Total: 8191.5\n",
      "Warning: less than 75% gpu memory available for training. Free: 5687 Total: 8191.5\n",
      "Warning: less than 75% gpu memory available for training. Free: 5687 Total: 8191.5\n",
      "Warning: less than 75% gpu memory available for training. Free: 5687 Total: 8191.5\n",
      "Warning: less than 75% gpu memory available for training. Free: 5687 Total: 8191.5\n",
      "Warning: less than 75% gpu memory available for training. Free: 5687 Total: 8191.5\n",
      "Warning: less than 75% gpu memory available for training. Free: 5687 Total: 8191.5\n",
      "Warning: less than 75% gpu memory available for training. Free: 5687 Total: 8191.5\n",
      "Warning: less than 75% gpu memory available for training. Free: 5687 Total: 8191.5\n",
      "Warning: less than 75% gpu memory available for training. Free: 5687 Total: 8191.5\n",
      "Warning: less than 75% gpu memory available for training. Free: 5687 Total: 8191.5\n",
      "Warning: less than 75% gpu memory available for training. Free: 5687 Total: 8191.5\n",
      "Warning: less than 75% gpu memory available for training. Free: 5687 Total: 8191.5\n",
      "Warning: less than 75% gpu memory available for training. Free: 5687 Total: 8191.5\n",
      "Warning: less than 75% gpu memory available for training. Free: 5687 Total: 8191.5\n",
      "Warning: less than 75% gpu memory available for training. Free: 5687 Total: 8191.5\n",
      "Warning: less than 75% gpu memory available for training. Free: 5687 Total: 8191.5\n",
      "Warning: less than 75% gpu memory available for training. Free: 5687 Total: 8191.5\n",
      "Warning: less than 75% gpu memory available for training. Free: 5687 Total: 8191.5\n",
      "Warning: less than 75% gpu memory available for training. Free: 5687 Total: 8191.5\n"
     ]
    },
    {
     "data": {
      "application/vnd.jupyter.widget-view+json": {
       "model_id": "bd641ce2a59c4d9f89e80c1ca7d0a68c",
       "version_major": 2,
       "version_minor": 0
      },
      "text/plain": [
       "  0%|          | 0/140 [00:00<?, ?it/s]"
      ]
     },
     "metadata": {},
     "output_type": "display_data"
    },
    {
     "name": "stdout",
     "output_type": "stream",
     "text": [
      "Model saved\n"
     ]
    },
    {
     "data": {
      "application/vnd.jupyter.widget-view+json": {
       "model_id": "71e7f013949b49e289c3a6c3642c7299",
       "version_major": 2,
       "version_minor": 0
      },
      "text/plain": [
       "  0%|          | 0/140 [00:00<?, ?it/s]"
      ]
     },
     "metadata": {},
     "output_type": "display_data"
    },
    {
     "name": "stdout",
     "output_type": "stream",
     "text": [
      "Model loaded\n"
     ]
    },
    {
     "data": {
      "application/vnd.jupyter.widget-view+json": {
       "model_id": "630fab1bb2ee478594c1107f3dae5a2e",
       "version_major": 2,
       "version_minor": 0
      },
      "text/plain": [
       "  0%|          | 0/140 [00:00<?, ?it/s]"
      ]
     },
     "metadata": {},
     "output_type": "display_data"
    },
    {
     "data": {
      "application/vnd.jupyter.widget-view+json": {
       "model_id": "b144f926d9ea43bc9838958a5060c177",
       "version_major": 2,
       "version_minor": 0
      },
      "text/plain": [
       "  0%|          | 0/140 [00:00<?, ?it/s]"
      ]
     },
     "metadata": {},
     "output_type": "display_data"
    },
    {
     "name": "stdout",
     "output_type": "stream",
     "text": [
      "Model loaded\n"
     ]
    },
    {
     "data": {
      "application/vnd.jupyter.widget-view+json": {
       "model_id": "78e8d935d4f745da93bd3d70455529b4",
       "version_major": 2,
       "version_minor": 0
      },
      "text/plain": [
       "  0%|          | 0/140 [00:00<?, ?it/s]"
      ]
     },
     "metadata": {},
     "output_type": "display_data"
    },
    {
     "name": "stdout",
     "output_type": "stream",
     "text": [
      "catboost ./results/1/layer_1/2 CV score: 0.8899798368039803\n",
      "NN Fold ./results/1/layer_1/2..\n"
     ]
    },
    {
     "data": {
      "application/vnd.jupyter.widget-view+json": {
       "model_id": "7447a34927924469b750eb8febd45df0",
       "version_major": 2,
       "version_minor": 0
      },
      "text/plain": [
       "  0%|          | 0/100 [00:00<?, ?it/s]"
      ]
     },
     "metadata": {},
     "output_type": "display_data"
    },
    {
     "name": "stdout",
     "output_type": "stream",
     "text": [
      "torch ./results/1/layer_1/2 CV score: 0.8937120401519575\n",
      "Traing of first layer finished\n",
      "Shape of Second layer input: (70988, 1582)\n",
      "CNN Fold ./results/1/layer_2/0..\n"
     ]
    },
    {
     "data": {
      "application/vnd.jupyter.widget-view+json": {
       "model_id": "fdd5e4c72d304e159d5f4c6bc83e8452",
       "version_major": 2,
       "version_minor": 0
      },
      "text/plain": [
       "  0%|          | 0/100 [00:00<?, ?it/s]"
      ]
     },
     "metadata": {},
     "output_type": "display_data"
    },
    {
     "name": "stdout",
     "output_type": "stream",
     "text": [
      "CNN ./results/1/layer_2/0 CV score: 0.8944451021477007\n",
      "Catboost Fold ./results/1/layer_2/0..\n"
     ]
    },
    {
     "data": {
      "application/vnd.jupyter.widget-view+json": {
       "model_id": "04a7140613cf49a1802f3eb5f687c3be",
       "version_major": 2,
       "version_minor": 0
      },
      "text/plain": [
       "  0%|          | 0/140 [00:00<?, ?it/s]"
      ]
     },
     "metadata": {},
     "output_type": "display_data"
    },
    {
     "name": "stderr",
     "output_type": "stream",
     "text": [
      "Warning: less than 75% gpu memory available for training. Free: 5687 Total: 8191.5\n",
      "Warning: less than 75% gpu memory available for training. Free: 5687 Total: 8191.5\n",
      "Warning: less than 75% gpu memory available for training. Free: 5687 Total: 8191.5\n",
      "Warning: less than 75% gpu memory available for training. Free: 5687 Total: 8191.5\n",
      "Warning: less than 75% gpu memory available for training. Free: 5687 Total: 8191.5\n",
      "Warning: less than 75% gpu memory available for training. Free: 5687 Total: 8191.5\n",
      "Warning: less than 75% gpu memory available for training. Free: 5687 Total: 8191.5\n",
      "Warning: less than 75% gpu memory available for training. Free: 5687 Total: 8191.5\n",
      "Warning: less than 75% gpu memory available for training. Free: 5687 Total: 8191.5\n",
      "Warning: less than 75% gpu memory available for training. Free: 5687 Total: 8191.5\n",
      "Warning: less than 75% gpu memory available for training. Free: 5687 Total: 8191.5\n",
      "Warning: less than 75% gpu memory available for training. Free: 5687 Total: 8191.5\n",
      "Warning: less than 75% gpu memory available for training. Free: 5687 Total: 8191.5\n",
      "Warning: less than 75% gpu memory available for training. Free: 5687 Total: 8191.5\n",
      "Warning: less than 75% gpu memory available for training. Free: 5687 Total: 8191.5\n",
      "Warning: less than 75% gpu memory available for training. Free: 5687 Total: 8191.5\n",
      "Warning: less than 75% gpu memory available for training. Free: 5687 Total: 8191.5\n",
      "Warning: less than 75% gpu memory available for training. Free: 5687 Total: 8191.5\n",
      "Warning: less than 75% gpu memory available for training. Free: 5687 Total: 8191.5\n",
      "Warning: less than 75% gpu memory available for training. Free: 5687 Total: 8191.5\n",
      "Warning: less than 75% gpu memory available for training. Free: 5687 Total: 8191.5\n",
      "Warning: less than 75% gpu memory available for training. Free: 5687 Total: 8191.5\n",
      "Warning: less than 75% gpu memory available for training. Free: 5687 Total: 8191.5\n",
      "Warning: less than 75% gpu memory available for training. Free: 5687 Total: 8191.5\n",
      "Warning: less than 75% gpu memory available for training. Free: 5687 Total: 8191.5\n",
      "Warning: less than 75% gpu memory available for training. Free: 5687 Total: 8191.5\n",
      "Warning: less than 75% gpu memory available for training. Free: 5687 Total: 8191.5\n",
      "Warning: less than 75% gpu memory available for training. Free: 5687 Total: 8191.5\n",
      "Warning: less than 75% gpu memory available for training. Free: 5687 Total: 8191.5\n",
      "Warning: less than 75% gpu memory available for training. Free: 5687 Total: 8191.5\n",
      "Warning: less than 75% gpu memory available for training. Free: 5687 Total: 8191.5\n",
      "Warning: less than 75% gpu memory available for training. Free: 5687 Total: 8191.5\n",
      "Warning: less than 75% gpu memory available for training. Free: 5687 Total: 8191.5\n",
      "Warning: less than 75% gpu memory available for training. Free: 5687 Total: 8191.5\n",
      "Warning: less than 75% gpu memory available for training. Free: 5687 Total: 8191.5\n",
      "Warning: less than 75% gpu memory available for training. Free: 5687 Total: 8191.5\n",
      "Warning: less than 75% gpu memory available for training. Free: 5687 Total: 8191.5\n",
      "Warning: less than 75% gpu memory available for training. Free: 5687 Total: 8191.5\n",
      "Warning: less than 75% gpu memory available for training. Free: 5687 Total: 8191.5\n",
      "Warning: less than 75% gpu memory available for training. Free: 5687 Total: 8191.5\n",
      "Warning: less than 75% gpu memory available for training. Free: 5687 Total: 8191.5\n",
      "Warning: less than 75% gpu memory available for training. Free: 5687 Total: 8191.5\n",
      "Warning: less than 75% gpu memory available for training. Free: 5687 Total: 8191.5\n",
      "Warning: less than 75% gpu memory available for training. Free: 5687 Total: 8191.5\n",
      "Warning: less than 75% gpu memory available for training. Free: 5687 Total: 8191.5\n",
      "Warning: less than 75% gpu memory available for training. Free: 5687 Total: 8191.5\n",
      "Warning: less than 75% gpu memory available for training. Free: 5687 Total: 8191.5\n",
      "Warning: less than 75% gpu memory available for training. Free: 5687 Total: 8191.5\n",
      "Warning: less than 75% gpu memory available for training. Free: 5687 Total: 8191.5\n",
      "Warning: less than 75% gpu memory available for training. Free: 5687 Total: 8191.5\n",
      "Warning: less than 75% gpu memory available for training. Free: 5687 Total: 8191.5\n",
      "Warning: less than 75% gpu memory available for training. Free: 5687 Total: 8191.5\n",
      "Warning: less than 75% gpu memory available for training. Free: 5687 Total: 8191.5\n",
      "Warning: less than 75% gpu memory available for training. Free: 5687 Total: 8191.5\n",
      "Warning: less than 75% gpu memory available for training. Free: 5687 Total: 8191.5\n",
      "Warning: less than 75% gpu memory available for training. Free: 5687 Total: 8191.5\n",
      "Warning: less than 75% gpu memory available for training. Free: 5687 Total: 8191.5\n",
      "Warning: less than 75% gpu memory available for training. Free: 5687 Total: 8191.5\n",
      "Warning: less than 75% gpu memory available for training. Free: 5687 Total: 8191.5\n",
      "Warning: less than 75% gpu memory available for training. Free: 5687 Total: 8191.5\n",
      "Warning: less than 75% gpu memory available for training. Free: 5687 Total: 8191.5\n",
      "Warning: less than 75% gpu memory available for training. Free: 5687 Total: 8191.5\n",
      "Warning: less than 75% gpu memory available for training. Free: 5687 Total: 8191.5\n",
      "Warning: less than 75% gpu memory available for training. Free: 5687 Total: 8191.5\n",
      "Warning: less than 75% gpu memory available for training. Free: 5687 Total: 8191.5\n",
      "Warning: less than 75% gpu memory available for training. Free: 5687 Total: 8191.5\n",
      "Warning: less than 75% gpu memory available for training. Free: 5687 Total: 8191.5\n",
      "Warning: less than 75% gpu memory available for training. Free: 5687 Total: 8191.5\n",
      "Warning: less than 75% gpu memory available for training. Free: 5687 Total: 8191.5\n",
      "Warning: less than 75% gpu memory available for training. Free: 5687 Total: 8191.5\n",
      "Warning: less than 75% gpu memory available for training. Free: 5687 Total: 8191.5\n",
      "Warning: less than 75% gpu memory available for training. Free: 5687 Total: 8191.5\n",
      "Warning: less than 75% gpu memory available for training. Free: 5687 Total: 8191.5\n",
      "Warning: less than 75% gpu memory available for training. Free: 5687 Total: 8191.5\n",
      "Warning: less than 75% gpu memory available for training. Free: 5687 Total: 8191.5\n",
      "Warning: less than 75% gpu memory available for training. Free: 5687 Total: 8191.5\n",
      "Warning: less than 75% gpu memory available for training. Free: 5687 Total: 8191.5\n",
      "Warning: less than 75% gpu memory available for training. Free: 5687 Total: 8191.5\n",
      "Warning: less than 75% gpu memory available for training. Free: 5687 Total: 8191.5\n",
      "Warning: less than 75% gpu memory available for training. Free: 5687 Total: 8191.5\n",
      "Warning: less than 75% gpu memory available for training. Free: 5687 Total: 8191.5\n",
      "Warning: less than 75% gpu memory available for training. Free: 5687 Total: 8191.5\n",
      "Warning: less than 75% gpu memory available for training. Free: 5687 Total: 8191.5\n",
      "Warning: less than 75% gpu memory available for training. Free: 5687 Total: 8191.5\n",
      "Warning: less than 75% gpu memory available for training. Free: 5687 Total: 8191.5\n",
      "Warning: less than 75% gpu memory available for training. Free: 5687 Total: 8191.5\n",
      "Warning: less than 75% gpu memory available for training. Free: 5687 Total: 8191.5\n",
      "Warning: less than 75% gpu memory available for training. Free: 5687 Total: 8191.5\n",
      "Warning: less than 75% gpu memory available for training. Free: 5687 Total: 8191.5\n",
      "Warning: less than 75% gpu memory available for training. Free: 5687 Total: 8191.5\n",
      "Warning: less than 75% gpu memory available for training. Free: 5687 Total: 8191.5\n",
      "Warning: less than 75% gpu memory available for training. Free: 5687 Total: 8191.5\n",
      "Warning: less than 75% gpu memory available for training. Free: 5687 Total: 8191.5\n",
      "Warning: less than 75% gpu memory available for training. Free: 5687 Total: 8191.5\n",
      "Warning: less than 75% gpu memory available for training. Free: 5687 Total: 8191.5\n",
      "Warning: less than 75% gpu memory available for training. Free: 5687 Total: 8191.5\n",
      "Warning: less than 75% gpu memory available for training. Free: 5687 Total: 8191.5\n",
      "Warning: less than 75% gpu memory available for training. Free: 5687 Total: 8191.5\n",
      "Warning: less than 75% gpu memory available for training. Free: 5687 Total: 8191.5\n",
      "Warning: less than 75% gpu memory available for training. Free: 5687 Total: 8191.5\n",
      "Warning: less than 75% gpu memory available for training. Free: 5687 Total: 8191.5\n",
      "Warning: less than 75% gpu memory available for training. Free: 5687 Total: 8191.5\n",
      "Warning: less than 75% gpu memory available for training. Free: 5687 Total: 8191.5\n",
      "Warning: less than 75% gpu memory available for training. Free: 5687 Total: 8191.5\n",
      "Warning: less than 75% gpu memory available for training. Free: 5687 Total: 8191.5\n",
      "Warning: less than 75% gpu memory available for training. Free: 5687 Total: 8191.5\n",
      "Warning: less than 75% gpu memory available for training. Free: 5687 Total: 8191.5\n",
      "Warning: less than 75% gpu memory available for training. Free: 5687 Total: 8191.5\n",
      "Warning: less than 75% gpu memory available for training. Free: 5687 Total: 8191.5\n",
      "Warning: less than 75% gpu memory available for training. Free: 5687 Total: 8191.5\n",
      "Warning: less than 75% gpu memory available for training. Free: 5687 Total: 8191.5\n",
      "Warning: less than 75% gpu memory available for training. Free: 5687 Total: 8191.5\n",
      "Warning: less than 75% gpu memory available for training. Free: 5687 Total: 8191.5\n",
      "Warning: less than 75% gpu memory available for training. Free: 5687 Total: 8191.5\n",
      "Warning: less than 75% gpu memory available for training. Free: 5687 Total: 8191.5\n",
      "Warning: less than 75% gpu memory available for training. Free: 5687 Total: 8191.5\n",
      "Warning: less than 75% gpu memory available for training. Free: 5687 Total: 8191.5\n",
      "Warning: less than 75% gpu memory available for training. Free: 5687 Total: 8191.5\n",
      "Warning: less than 75% gpu memory available for training. Free: 5687 Total: 8191.5\n",
      "Warning: less than 75% gpu memory available for training. Free: 5687 Total: 8191.5\n",
      "Warning: less than 75% gpu memory available for training. Free: 5687 Total: 8191.5\n",
      "Warning: less than 75% gpu memory available for training. Free: 5687 Total: 8191.5\n",
      "Warning: less than 75% gpu memory available for training. Free: 5687 Total: 8191.5\n",
      "Warning: less than 75% gpu memory available for training. Free: 5687 Total: 8191.5\n",
      "Warning: less than 75% gpu memory available for training. Free: 5687 Total: 8191.5\n",
      "Warning: less than 75% gpu memory available for training. Free: 5687 Total: 8191.5\n",
      "Warning: less than 75% gpu memory available for training. Free: 5687 Total: 8191.5\n",
      "Warning: less than 75% gpu memory available for training. Free: 5687 Total: 8191.5\n",
      "Warning: less than 75% gpu memory available for training. Free: 5687 Total: 8191.5\n",
      "Warning: less than 75% gpu memory available for training. Free: 5687 Total: 8191.5\n",
      "Warning: less than 75% gpu memory available for training. Free: 5687 Total: 8191.5\n",
      "Warning: less than 75% gpu memory available for training. Free: 5687 Total: 8191.5\n",
      "Warning: less than 75% gpu memory available for training. Free: 5687 Total: 8191.5\n",
      "Warning: less than 75% gpu memory available for training. Free: 5687 Total: 8191.5\n",
      "Warning: less than 75% gpu memory available for training. Free: 5687 Total: 8191.5\n",
      "Warning: less than 75% gpu memory available for training. Free: 5687 Total: 8191.5\n",
      "Warning: less than 75% gpu memory available for training. Free: 5687 Total: 8191.5\n",
      "Warning: less than 75% gpu memory available for training. Free: 5687 Total: 8191.5\n",
      "Warning: less than 75% gpu memory available for training. Free: 5687 Total: 8191.5\n",
      "Warning: less than 75% gpu memory available for training. Free: 5687 Total: 8191.5\n"
     ]
    },
    {
     "data": {
      "application/vnd.jupyter.widget-view+json": {
       "model_id": "29bf748b52334af39a80824733e22d6f",
       "version_major": 2,
       "version_minor": 0
      },
      "text/plain": [
       "  0%|          | 0/140 [00:00<?, ?it/s]"
      ]
     },
     "metadata": {},
     "output_type": "display_data"
    },
    {
     "name": "stdout",
     "output_type": "stream",
     "text": [
      "Model saved\n"
     ]
    },
    {
     "data": {
      "application/vnd.jupyter.widget-view+json": {
       "model_id": "34eaaa7dda0648adab8bc75dfc134005",
       "version_major": 2,
       "version_minor": 0
      },
      "text/plain": [
       "  0%|          | 0/140 [00:00<?, ?it/s]"
      ]
     },
     "metadata": {},
     "output_type": "display_data"
    },
    {
     "name": "stdout",
     "output_type": "stream",
     "text": [
      "Model loaded\n"
     ]
    },
    {
     "data": {
      "application/vnd.jupyter.widget-view+json": {
       "model_id": "2afb8d876817437bb52a48d29d35fbb5",
       "version_major": 2,
       "version_minor": 0
      },
      "text/plain": [
       "  0%|          | 0/140 [00:00<?, ?it/s]"
      ]
     },
     "metadata": {},
     "output_type": "display_data"
    },
    {
     "data": {
      "application/vnd.jupyter.widget-view+json": {
       "model_id": "53346443f47d413a833fd164f1aa28d3",
       "version_major": 2,
       "version_minor": 0
      },
      "text/plain": [
       "  0%|          | 0/140 [00:00<?, ?it/s]"
      ]
     },
     "metadata": {},
     "output_type": "display_data"
    },
    {
     "name": "stdout",
     "output_type": "stream",
     "text": [
      "Model loaded\n"
     ]
    },
    {
     "data": {
      "application/vnd.jupyter.widget-view+json": {
       "model_id": "0bd2226a49eb42d4b9d4b6f9d080b069",
       "version_major": 2,
       "version_minor": 0
      },
      "text/plain": [
       "  0%|          | 0/140 [00:00<?, ?it/s]"
      ]
     },
     "metadata": {},
     "output_type": "display_data"
    },
    {
     "name": "stdout",
     "output_type": "stream",
     "text": [
      "catboost ./results/1/layer_2/0 CV score: 0.8967401381983762\n",
      "NN Fold ./results/1/layer_2/0..\n"
     ]
    },
    {
     "data": {
      "application/vnd.jupyter.widget-view+json": {
       "model_id": "aa4ee126e1464d6f954b6906bd80fd0d",
       "version_major": 2,
       "version_minor": 0
      },
      "text/plain": [
       "  0%|          | 0/100 [00:00<?, ?it/s]"
      ]
     },
     "metadata": {},
     "output_type": "display_data"
    },
    {
     "name": "stdout",
     "output_type": "stream",
     "text": [
      "torch ./results/1/layer_2/0 CV score: 0.8941878063429897\n",
      "CNN Fold ./results/1/layer_2/1..\n"
     ]
    },
    {
     "data": {
      "application/vnd.jupyter.widget-view+json": {
       "model_id": "01dc2761b55742a18aeb8b5c2501aaf4",
       "version_major": 2,
       "version_minor": 0
      },
      "text/plain": [
       "  0%|          | 0/100 [00:00<?, ?it/s]"
      ]
     },
     "metadata": {},
     "output_type": "display_data"
    },
    {
     "name": "stdout",
     "output_type": "stream",
     "text": [
      "CNN ./results/1/layer_2/1 CV score: 0.8956540112273687\n",
      "Catboost Fold ./results/1/layer_2/1..\n"
     ]
    },
    {
     "data": {
      "application/vnd.jupyter.widget-view+json": {
       "model_id": "2a74b7e455fc412f83e09d5f849ac882",
       "version_major": 2,
       "version_minor": 0
      },
      "text/plain": [
       "  0%|          | 0/140 [00:00<?, ?it/s]"
      ]
     },
     "metadata": {},
     "output_type": "display_data"
    },
    {
     "name": "stderr",
     "output_type": "stream",
     "text": [
      "Warning: less than 75% gpu memory available for training. Free: 5687 Total: 8191.5\n",
      "Warning: less than 75% gpu memory available for training. Free: 5687 Total: 8191.5\n",
      "Warning: less than 75% gpu memory available for training. Free: 5687 Total: 8191.5\n",
      "Warning: less than 75% gpu memory available for training. Free: 5687 Total: 8191.5\n",
      "Warning: less than 75% gpu memory available for training. Free: 5687 Total: 8191.5\n",
      "Warning: less than 75% gpu memory available for training. Free: 5687 Total: 8191.5\n",
      "Warning: less than 75% gpu memory available for training. Free: 5687 Total: 8191.5\n",
      "Warning: less than 75% gpu memory available for training. Free: 5687 Total: 8191.5\n",
      "Warning: less than 75% gpu memory available for training. Free: 5687 Total: 8191.5\n",
      "Warning: less than 75% gpu memory available for training. Free: 5687 Total: 8191.5\n",
      "Warning: less than 75% gpu memory available for training. Free: 5687 Total: 8191.5\n",
      "Warning: less than 75% gpu memory available for training. Free: 5687 Total: 8191.5\n",
      "Warning: less than 75% gpu memory available for training. Free: 5687 Total: 8191.5\n",
      "Warning: less than 75% gpu memory available for training. Free: 5687 Total: 8191.5\n",
      "Warning: less than 75% gpu memory available for training. Free: 5687 Total: 8191.5\n",
      "Warning: less than 75% gpu memory available for training. Free: 5687 Total: 8191.5\n",
      "Warning: less than 75% gpu memory available for training. Free: 5687 Total: 8191.5\n",
      "Warning: less than 75% gpu memory available for training. Free: 5687 Total: 8191.5\n",
      "Warning: less than 75% gpu memory available for training. Free: 5687 Total: 8191.5\n",
      "Warning: less than 75% gpu memory available for training. Free: 5687 Total: 8191.5\n",
      "Warning: less than 75% gpu memory available for training. Free: 5687 Total: 8191.5\n",
      "Warning: less than 75% gpu memory available for training. Free: 5687 Total: 8191.5\n",
      "Warning: less than 75% gpu memory available for training. Free: 5687 Total: 8191.5\n",
      "Warning: less than 75% gpu memory available for training. Free: 5687 Total: 8191.5\n",
      "Warning: less than 75% gpu memory available for training. Free: 5687 Total: 8191.5\n",
      "Warning: less than 75% gpu memory available for training. Free: 5687 Total: 8191.5\n",
      "Warning: less than 75% gpu memory available for training. Free: 5687 Total: 8191.5\n",
      "Warning: less than 75% gpu memory available for training. Free: 5687 Total: 8191.5\n",
      "Warning: less than 75% gpu memory available for training. Free: 5687 Total: 8191.5\n",
      "Warning: less than 75% gpu memory available for training. Free: 5687 Total: 8191.5\n",
      "Warning: less than 75% gpu memory available for training. Free: 5687 Total: 8191.5\n",
      "Warning: less than 75% gpu memory available for training. Free: 5687 Total: 8191.5\n",
      "Warning: less than 75% gpu memory available for training. Free: 5687 Total: 8191.5\n",
      "Warning: less than 75% gpu memory available for training. Free: 5687 Total: 8191.5\n",
      "Warning: less than 75% gpu memory available for training. Free: 5687 Total: 8191.5\n",
      "Warning: less than 75% gpu memory available for training. Free: 5687 Total: 8191.5\n",
      "Warning: less than 75% gpu memory available for training. Free: 5687 Total: 8191.5\n",
      "Warning: less than 75% gpu memory available for training. Free: 5687 Total: 8191.5\n",
      "Warning: less than 75% gpu memory available for training. Free: 5687 Total: 8191.5\n",
      "Warning: less than 75% gpu memory available for training. Free: 5687 Total: 8191.5\n",
      "Warning: less than 75% gpu memory available for training. Free: 5687 Total: 8191.5\n",
      "Warning: less than 75% gpu memory available for training. Free: 5687 Total: 8191.5\n",
      "Warning: less than 75% gpu memory available for training. Free: 5687 Total: 8191.5\n",
      "Warning: less than 75% gpu memory available for training. Free: 5687 Total: 8191.5\n",
      "Warning: less than 75% gpu memory available for training. Free: 5687 Total: 8191.5\n",
      "Warning: less than 75% gpu memory available for training. Free: 5687 Total: 8191.5\n",
      "Warning: less than 75% gpu memory available for training. Free: 5687 Total: 8191.5\n",
      "Warning: less than 75% gpu memory available for training. Free: 5687 Total: 8191.5\n",
      "Warning: less than 75% gpu memory available for training. Free: 5687 Total: 8191.5\n",
      "Warning: less than 75% gpu memory available for training. Free: 5687 Total: 8191.5\n",
      "Warning: less than 75% gpu memory available for training. Free: 5687 Total: 8191.5\n",
      "Warning: less than 75% gpu memory available for training. Free: 5687 Total: 8191.5\n",
      "Warning: less than 75% gpu memory available for training. Free: 5687 Total: 8191.5\n",
      "Warning: less than 75% gpu memory available for training. Free: 5687 Total: 8191.5\n",
      "Warning: less than 75% gpu memory available for training. Free: 5687 Total: 8191.5\n",
      "Warning: less than 75% gpu memory available for training. Free: 5687 Total: 8191.5\n",
      "Warning: less than 75% gpu memory available for training. Free: 5687 Total: 8191.5\n",
      "Warning: less than 75% gpu memory available for training. Free: 5687 Total: 8191.5\n",
      "Warning: less than 75% gpu memory available for training. Free: 5687 Total: 8191.5\n",
      "Warning: less than 75% gpu memory available for training. Free: 5687 Total: 8191.5\n",
      "Warning: less than 75% gpu memory available for training. Free: 5687 Total: 8191.5\n",
      "Warning: less than 75% gpu memory available for training. Free: 5687 Total: 8191.5\n",
      "Warning: less than 75% gpu memory available for training. Free: 5687 Total: 8191.5\n",
      "Warning: less than 75% gpu memory available for training. Free: 5687 Total: 8191.5\n",
      "Warning: less than 75% gpu memory available for training. Free: 5687 Total: 8191.5\n",
      "Warning: less than 75% gpu memory available for training. Free: 5687 Total: 8191.5\n",
      "Warning: less than 75% gpu memory available for training. Free: 5687 Total: 8191.5\n",
      "Warning: less than 75% gpu memory available for training. Free: 5687 Total: 8191.5\n",
      "Warning: less than 75% gpu memory available for training. Free: 5687 Total: 8191.5\n",
      "Warning: less than 75% gpu memory available for training. Free: 5687 Total: 8191.5\n",
      "Warning: less than 75% gpu memory available for training. Free: 5687 Total: 8191.5\n",
      "Warning: less than 75% gpu memory available for training. Free: 5687 Total: 8191.5\n",
      "Warning: less than 75% gpu memory available for training. Free: 5687 Total: 8191.5\n",
      "Warning: less than 75% gpu memory available for training. Free: 5687 Total: 8191.5\n",
      "Warning: less than 75% gpu memory available for training. Free: 5687 Total: 8191.5\n",
      "Warning: less than 75% gpu memory available for training. Free: 5687 Total: 8191.5\n",
      "Warning: less than 75% gpu memory available for training. Free: 5687 Total: 8191.5\n",
      "Warning: less than 75% gpu memory available for training. Free: 5687 Total: 8191.5\n",
      "Warning: less than 75% gpu memory available for training. Free: 5687 Total: 8191.5\n",
      "Warning: less than 75% gpu memory available for training. Free: 5687 Total: 8191.5\n",
      "Warning: less than 75% gpu memory available for training. Free: 5687 Total: 8191.5\n",
      "Warning: less than 75% gpu memory available for training. Free: 5687 Total: 8191.5\n",
      "Warning: less than 75% gpu memory available for training. Free: 5687 Total: 8191.5\n",
      "Warning: less than 75% gpu memory available for training. Free: 5687 Total: 8191.5\n",
      "Warning: less than 75% gpu memory available for training. Free: 5687 Total: 8191.5\n",
      "Warning: less than 75% gpu memory available for training. Free: 5687 Total: 8191.5\n",
      "Warning: less than 75% gpu memory available for training. Free: 5687 Total: 8191.5\n",
      "Warning: less than 75% gpu memory available for training. Free: 5687 Total: 8191.5\n",
      "Warning: less than 75% gpu memory available for training. Free: 5687 Total: 8191.5\n",
      "Warning: less than 75% gpu memory available for training. Free: 5687 Total: 8191.5\n",
      "Warning: less than 75% gpu memory available for training. Free: 5687 Total: 8191.5\n",
      "Warning: less than 75% gpu memory available for training. Free: 5687 Total: 8191.5\n",
      "Warning: less than 75% gpu memory available for training. Free: 5687 Total: 8191.5\n",
      "Warning: less than 75% gpu memory available for training. Free: 5687 Total: 8191.5\n",
      "Warning: less than 75% gpu memory available for training. Free: 5687 Total: 8191.5\n",
      "Warning: less than 75% gpu memory available for training. Free: 5687 Total: 8191.5\n",
      "Warning: less than 75% gpu memory available for training. Free: 5687 Total: 8191.5\n",
      "Warning: less than 75% gpu memory available for training. Free: 5687 Total: 8191.5\n",
      "Warning: less than 75% gpu memory available for training. Free: 5687 Total: 8191.5\n",
      "Warning: less than 75% gpu memory available for training. Free: 5687 Total: 8191.5\n",
      "Warning: less than 75% gpu memory available for training. Free: 5687 Total: 8191.5\n",
      "Warning: less than 75% gpu memory available for training. Free: 5687 Total: 8191.5\n",
      "Warning: less than 75% gpu memory available for training. Free: 5687 Total: 8191.5\n",
      "Warning: less than 75% gpu memory available for training. Free: 5687 Total: 8191.5\n",
      "Warning: less than 75% gpu memory available for training. Free: 5687 Total: 8191.5\n",
      "Warning: less than 75% gpu memory available for training. Free: 5687 Total: 8191.5\n",
      "Warning: less than 75% gpu memory available for training. Free: 5687 Total: 8191.5\n",
      "Warning: less than 75% gpu memory available for training. Free: 5687 Total: 8191.5\n",
      "Warning: less than 75% gpu memory available for training. Free: 5687 Total: 8191.5\n",
      "Warning: less than 75% gpu memory available for training. Free: 5687 Total: 8191.5\n",
      "Warning: less than 75% gpu memory available for training. Free: 5687 Total: 8191.5\n",
      "Warning: less than 75% gpu memory available for training. Free: 5687 Total: 8191.5\n",
      "Warning: less than 75% gpu memory available for training. Free: 5687 Total: 8191.5\n",
      "Warning: less than 75% gpu memory available for training. Free: 5687 Total: 8191.5\n",
      "Warning: less than 75% gpu memory available for training. Free: 5687 Total: 8191.5\n",
      "Warning: less than 75% gpu memory available for training. Free: 5687 Total: 8191.5\n",
      "Warning: less than 75% gpu memory available for training. Free: 5687 Total: 8191.5\n",
      "Warning: less than 75% gpu memory available for training. Free: 5687 Total: 8191.5\n",
      "Warning: less than 75% gpu memory available for training. Free: 5687 Total: 8191.5\n",
      "Warning: less than 75% gpu memory available for training. Free: 5687 Total: 8191.5\n",
      "Warning: less than 75% gpu memory available for training. Free: 5687 Total: 8191.5\n",
      "Warning: less than 75% gpu memory available for training. Free: 5687 Total: 8191.5\n",
      "Warning: less than 75% gpu memory available for training. Free: 5687 Total: 8191.5\n",
      "Warning: less than 75% gpu memory available for training. Free: 5687 Total: 8191.5\n",
      "Warning: less than 75% gpu memory available for training. Free: 5687 Total: 8191.5\n",
      "Warning: less than 75% gpu memory available for training. Free: 5687 Total: 8191.5\n",
      "Warning: less than 75% gpu memory available for training. Free: 5687 Total: 8191.5\n",
      "Warning: less than 75% gpu memory available for training. Free: 5687 Total: 8191.5\n",
      "Warning: less than 75% gpu memory available for training. Free: 5687 Total: 8191.5\n",
      "Warning: less than 75% gpu memory available for training. Free: 5687 Total: 8191.5\n",
      "Warning: less than 75% gpu memory available for training. Free: 5687 Total: 8191.5\n",
      "Warning: less than 75% gpu memory available for training. Free: 5687 Total: 8191.5\n",
      "Warning: less than 75% gpu memory available for training. Free: 5687 Total: 8191.5\n",
      "Warning: less than 75% gpu memory available for training. Free: 5687 Total: 8191.5\n",
      "Warning: less than 75% gpu memory available for training. Free: 5687 Total: 8191.5\n",
      "Warning: less than 75% gpu memory available for training. Free: 5687 Total: 8191.5\n",
      "Warning: less than 75% gpu memory available for training. Free: 5687 Total: 8191.5\n",
      "Warning: less than 75% gpu memory available for training. Free: 5687 Total: 8191.5\n",
      "Warning: less than 75% gpu memory available for training. Free: 5687 Total: 8191.5\n",
      "Warning: less than 75% gpu memory available for training. Free: 5687 Total: 8191.5\n"
     ]
    },
    {
     "data": {
      "application/vnd.jupyter.widget-view+json": {
       "model_id": "a73cbc8f701147db8841c4dbf8d8b320",
       "version_major": 2,
       "version_minor": 0
      },
      "text/plain": [
       "  0%|          | 0/140 [00:00<?, ?it/s]"
      ]
     },
     "metadata": {},
     "output_type": "display_data"
    },
    {
     "name": "stdout",
     "output_type": "stream",
     "text": [
      "Model saved\n"
     ]
    },
    {
     "data": {
      "application/vnd.jupyter.widget-view+json": {
       "model_id": "025aec93538145048197024c2d4df58d",
       "version_major": 2,
       "version_minor": 0
      },
      "text/plain": [
       "  0%|          | 0/140 [00:00<?, ?it/s]"
      ]
     },
     "metadata": {},
     "output_type": "display_data"
    },
    {
     "name": "stdout",
     "output_type": "stream",
     "text": [
      "Model loaded\n"
     ]
    },
    {
     "data": {
      "application/vnd.jupyter.widget-view+json": {
       "model_id": "dd1b4f3b513a410794027c92864d3df0",
       "version_major": 2,
       "version_minor": 0
      },
      "text/plain": [
       "  0%|          | 0/140 [00:00<?, ?it/s]"
      ]
     },
     "metadata": {},
     "output_type": "display_data"
    },
    {
     "data": {
      "application/vnd.jupyter.widget-view+json": {
       "model_id": "d7a0d059b98746b18442fdd1328bbbd8",
       "version_major": 2,
       "version_minor": 0
      },
      "text/plain": [
       "  0%|          | 0/140 [00:00<?, ?it/s]"
      ]
     },
     "metadata": {},
     "output_type": "display_data"
    },
    {
     "name": "stdout",
     "output_type": "stream",
     "text": [
      "Model loaded\n"
     ]
    },
    {
     "data": {
      "application/vnd.jupyter.widget-view+json": {
       "model_id": "2e8f8dd7129e4475a7f13c154d25c1b0",
       "version_major": 2,
       "version_minor": 0
      },
      "text/plain": [
       "  0%|          | 0/140 [00:00<?, ?it/s]"
      ]
     },
     "metadata": {},
     "output_type": "display_data"
    },
    {
     "name": "stdout",
     "output_type": "stream",
     "text": [
      "catboost ./results/1/layer_2/1 CV score: 0.8972308745966582\n",
      "NN Fold ./results/1/layer_2/1..\n"
     ]
    },
    {
     "data": {
      "application/vnd.jupyter.widget-view+json": {
       "model_id": "8f713b9c5a164282b87bae1893d0d5cc",
       "version_major": 2,
       "version_minor": 0
      },
      "text/plain": [
       "  0%|          | 0/100 [00:00<?, ?it/s]"
      ]
     },
     "metadata": {},
     "output_type": "display_data"
    },
    {
     "name": "stdout",
     "output_type": "stream",
     "text": [
      "torch ./results/1/layer_2/1 CV score: 0.8952788622246961\n",
      "CNN Fold ./results/1/layer_2/2..\n"
     ]
    },
    {
     "data": {
      "application/vnd.jupyter.widget-view+json": {
       "model_id": "dcab8467c57b41f9bddf725371dd5d1d",
       "version_major": 2,
       "version_minor": 0
      },
      "text/plain": [
       "  0%|          | 0/100 [00:00<?, ?it/s]"
      ]
     },
     "metadata": {},
     "output_type": "display_data"
    },
    {
     "name": "stdout",
     "output_type": "stream",
     "text": [
      "CNN ./results/1/layer_2/2 CV score: 0.8947980902869513\n",
      "Catboost Fold ./results/1/layer_2/2..\n"
     ]
    },
    {
     "data": {
      "application/vnd.jupyter.widget-view+json": {
       "model_id": "17e6af25bac04e9d90439632bb0d64b0",
       "version_major": 2,
       "version_minor": 0
      },
      "text/plain": [
       "  0%|          | 0/140 [00:00<?, ?it/s]"
      ]
     },
     "metadata": {},
     "output_type": "display_data"
    },
    {
     "name": "stderr",
     "output_type": "stream",
     "text": [
      "Warning: less than 75% gpu memory available for training. Free: 5687 Total: 8191.5\n",
      "Warning: less than 75% gpu memory available for training. Free: 5687 Total: 8191.5\n",
      "Warning: less than 75% gpu memory available for training. Free: 5687 Total: 8191.5\n",
      "Warning: less than 75% gpu memory available for training. Free: 5687 Total: 8191.5\n",
      "Warning: less than 75% gpu memory available for training. Free: 5687 Total: 8191.5\n",
      "Warning: less than 75% gpu memory available for training. Free: 5687 Total: 8191.5\n",
      "Warning: less than 75% gpu memory available for training. Free: 5687 Total: 8191.5\n",
      "Warning: less than 75% gpu memory available for training. Free: 5687 Total: 8191.5\n",
      "Warning: less than 75% gpu memory available for training. Free: 5687 Total: 8191.5\n",
      "Warning: less than 75% gpu memory available for training. Free: 5687 Total: 8191.5\n",
      "Warning: less than 75% gpu memory available for training. Free: 5687 Total: 8191.5\n",
      "Warning: less than 75% gpu memory available for training. Free: 5687 Total: 8191.5\n",
      "Warning: less than 75% gpu memory available for training. Free: 5687 Total: 8191.5\n",
      "Warning: less than 75% gpu memory available for training. Free: 5687 Total: 8191.5\n",
      "Warning: less than 75% gpu memory available for training. Free: 5687 Total: 8191.5\n",
      "Warning: less than 75% gpu memory available for training. Free: 5687 Total: 8191.5\n",
      "Warning: less than 75% gpu memory available for training. Free: 5687 Total: 8191.5\n",
      "Warning: less than 75% gpu memory available for training. Free: 5687 Total: 8191.5\n",
      "Warning: less than 75% gpu memory available for training. Free: 5687 Total: 8191.5\n",
      "Warning: less than 75% gpu memory available for training. Free: 5687 Total: 8191.5\n",
      "Warning: less than 75% gpu memory available for training. Free: 5687 Total: 8191.5\n",
      "Warning: less than 75% gpu memory available for training. Free: 5687 Total: 8191.5\n",
      "Warning: less than 75% gpu memory available for training. Free: 5687 Total: 8191.5\n",
      "Warning: less than 75% gpu memory available for training. Free: 5687 Total: 8191.5\n",
      "Warning: less than 75% gpu memory available for training. Free: 5687 Total: 8191.5\n",
      "Warning: less than 75% gpu memory available for training. Free: 5687 Total: 8191.5\n",
      "Warning: less than 75% gpu memory available for training. Free: 5687 Total: 8191.5\n",
      "Warning: less than 75% gpu memory available for training. Free: 5687 Total: 8191.5\n",
      "Warning: less than 75% gpu memory available for training. Free: 5687 Total: 8191.5\n",
      "Warning: less than 75% gpu memory available for training. Free: 5687 Total: 8191.5\n",
      "Warning: less than 75% gpu memory available for training. Free: 5687 Total: 8191.5\n",
      "Warning: less than 75% gpu memory available for training. Free: 5687 Total: 8191.5\n",
      "Warning: less than 75% gpu memory available for training. Free: 5687 Total: 8191.5\n",
      "Warning: less than 75% gpu memory available for training. Free: 5687 Total: 8191.5\n",
      "Warning: less than 75% gpu memory available for training. Free: 5687 Total: 8191.5\n",
      "Warning: less than 75% gpu memory available for training. Free: 5687 Total: 8191.5\n",
      "Warning: less than 75% gpu memory available for training. Free: 5687 Total: 8191.5\n",
      "Warning: less than 75% gpu memory available for training. Free: 5687 Total: 8191.5\n",
      "Warning: less than 75% gpu memory available for training. Free: 5687 Total: 8191.5\n",
      "Warning: less than 75% gpu memory available for training. Free: 5687 Total: 8191.5\n",
      "Warning: less than 75% gpu memory available for training. Free: 5687 Total: 8191.5\n",
      "Warning: less than 75% gpu memory available for training. Free: 5687 Total: 8191.5\n",
      "Warning: less than 75% gpu memory available for training. Free: 5687 Total: 8191.5\n",
      "Warning: less than 75% gpu memory available for training. Free: 5687 Total: 8191.5\n",
      "Warning: less than 75% gpu memory available for training. Free: 5687 Total: 8191.5\n",
      "Warning: less than 75% gpu memory available for training. Free: 5687 Total: 8191.5\n",
      "Warning: less than 75% gpu memory available for training. Free: 5687 Total: 8191.5\n",
      "Warning: less than 75% gpu memory available for training. Free: 5687 Total: 8191.5\n",
      "Warning: less than 75% gpu memory available for training. Free: 5687 Total: 8191.5\n",
      "Warning: less than 75% gpu memory available for training. Free: 5687 Total: 8191.5\n",
      "Warning: less than 75% gpu memory available for training. Free: 5687 Total: 8191.5\n",
      "Warning: less than 75% gpu memory available for training. Free: 5687 Total: 8191.5\n",
      "Warning: less than 75% gpu memory available for training. Free: 5687 Total: 8191.5\n",
      "Warning: less than 75% gpu memory available for training. Free: 5687 Total: 8191.5\n",
      "Warning: less than 75% gpu memory available for training. Free: 5687 Total: 8191.5\n",
      "Warning: less than 75% gpu memory available for training. Free: 5687 Total: 8191.5\n",
      "Warning: less than 75% gpu memory available for training. Free: 5687 Total: 8191.5\n",
      "Warning: less than 75% gpu memory available for training. Free: 5687 Total: 8191.5\n",
      "Warning: less than 75% gpu memory available for training. Free: 5687 Total: 8191.5\n",
      "Warning: less than 75% gpu memory available for training. Free: 5687 Total: 8191.5\n",
      "Warning: less than 75% gpu memory available for training. Free: 5687 Total: 8191.5\n",
      "Warning: less than 75% gpu memory available for training. Free: 5687 Total: 8191.5\n",
      "Warning: less than 75% gpu memory available for training. Free: 5687 Total: 8191.5\n",
      "Warning: less than 75% gpu memory available for training. Free: 5687 Total: 8191.5\n",
      "Warning: less than 75% gpu memory available for training. Free: 5687 Total: 8191.5\n",
      "Warning: less than 75% gpu memory available for training. Free: 5687 Total: 8191.5\n",
      "Warning: less than 75% gpu memory available for training. Free: 5687 Total: 8191.5\n",
      "Warning: less than 75% gpu memory available for training. Free: 5687 Total: 8191.5\n",
      "Warning: less than 75% gpu memory available for training. Free: 5687 Total: 8191.5\n",
      "Warning: less than 75% gpu memory available for training. Free: 5687 Total: 8191.5\n",
      "Warning: less than 75% gpu memory available for training. Free: 5687 Total: 8191.5\n",
      "Warning: less than 75% gpu memory available for training. Free: 5687 Total: 8191.5\n",
      "Warning: less than 75% gpu memory available for training. Free: 5687 Total: 8191.5\n",
      "Warning: less than 75% gpu memory available for training. Free: 5687 Total: 8191.5\n",
      "Warning: less than 75% gpu memory available for training. Free: 5687 Total: 8191.5\n",
      "Warning: less than 75% gpu memory available for training. Free: 5687 Total: 8191.5\n",
      "Warning: less than 75% gpu memory available for training. Free: 5687 Total: 8191.5\n",
      "Warning: less than 75% gpu memory available for training. Free: 5687 Total: 8191.5\n",
      "Warning: less than 75% gpu memory available for training. Free: 5687 Total: 8191.5\n",
      "Warning: less than 75% gpu memory available for training. Free: 5687 Total: 8191.5\n",
      "Warning: less than 75% gpu memory available for training. Free: 5687 Total: 8191.5\n",
      "Warning: less than 75% gpu memory available for training. Free: 5687 Total: 8191.5\n",
      "Warning: less than 75% gpu memory available for training. Free: 5687 Total: 8191.5\n",
      "Warning: less than 75% gpu memory available for training. Free: 5687 Total: 8191.5\n",
      "Warning: less than 75% gpu memory available for training. Free: 5687 Total: 8191.5\n",
      "Warning: less than 75% gpu memory available for training. Free: 5687 Total: 8191.5\n",
      "Warning: less than 75% gpu memory available for training. Free: 5687 Total: 8191.5\n",
      "Warning: less than 75% gpu memory available for training. Free: 5687 Total: 8191.5\n",
      "Warning: less than 75% gpu memory available for training. Free: 5687 Total: 8191.5\n",
      "Warning: less than 75% gpu memory available for training. Free: 5687 Total: 8191.5\n",
      "Warning: less than 75% gpu memory available for training. Free: 5687 Total: 8191.5\n",
      "Warning: less than 75% gpu memory available for training. Free: 5687 Total: 8191.5\n",
      "Warning: less than 75% gpu memory available for training. Free: 5687 Total: 8191.5\n",
      "Warning: less than 75% gpu memory available for training. Free: 5687 Total: 8191.5\n",
      "Warning: less than 75% gpu memory available for training. Free: 5687 Total: 8191.5\n",
      "Warning: less than 75% gpu memory available for training. Free: 5687 Total: 8191.5\n",
      "Warning: less than 75% gpu memory available for training. Free: 5687 Total: 8191.5\n",
      "Warning: less than 75% gpu memory available for training. Free: 5687 Total: 8191.5\n",
      "Warning: less than 75% gpu memory available for training. Free: 5687 Total: 8191.5\n",
      "Warning: less than 75% gpu memory available for training. Free: 5687 Total: 8191.5\n",
      "Warning: less than 75% gpu memory available for training. Free: 5687 Total: 8191.5\n",
      "Warning: less than 75% gpu memory available for training. Free: 5687 Total: 8191.5\n",
      "Warning: less than 75% gpu memory available for training. Free: 5687 Total: 8191.5\n",
      "Warning: less than 75% gpu memory available for training. Free: 5687 Total: 8191.5\n",
      "Warning: less than 75% gpu memory available for training. Free: 5687 Total: 8191.5\n",
      "Warning: less than 75% gpu memory available for training. Free: 5687 Total: 8191.5\n",
      "Warning: less than 75% gpu memory available for training. Free: 5687 Total: 8191.5\n",
      "Warning: less than 75% gpu memory available for training. Free: 5687 Total: 8191.5\n",
      "Warning: less than 75% gpu memory available for training. Free: 5687 Total: 8191.5\n",
      "Warning: less than 75% gpu memory available for training. Free: 5687 Total: 8191.5\n",
      "Warning: less than 75% gpu memory available for training. Free: 5687 Total: 8191.5\n",
      "Warning: less than 75% gpu memory available for training. Free: 5687 Total: 8191.5\n",
      "Warning: less than 75% gpu memory available for training. Free: 5687 Total: 8191.5\n",
      "Warning: less than 75% gpu memory available for training. Free: 5687 Total: 8191.5\n",
      "Warning: less than 75% gpu memory available for training. Free: 5687 Total: 8191.5\n",
      "Warning: less than 75% gpu memory available for training. Free: 5687 Total: 8191.5\n",
      "Warning: less than 75% gpu memory available for training. Free: 5687 Total: 8191.5\n",
      "Warning: less than 75% gpu memory available for training. Free: 5687 Total: 8191.5\n",
      "Warning: less than 75% gpu memory available for training. Free: 5687 Total: 8191.5\n",
      "Warning: less than 75% gpu memory available for training. Free: 5687 Total: 8191.5\n",
      "Warning: less than 75% gpu memory available for training. Free: 5687 Total: 8191.5\n",
      "Warning: less than 75% gpu memory available for training. Free: 5687 Total: 8191.5\n",
      "Warning: less than 75% gpu memory available for training. Free: 5687 Total: 8191.5\n",
      "Warning: less than 75% gpu memory available for training. Free: 5687 Total: 8191.5\n",
      "Warning: less than 75% gpu memory available for training. Free: 5687 Total: 8191.5\n",
      "Warning: less than 75% gpu memory available for training. Free: 5687 Total: 8191.5\n",
      "Warning: less than 75% gpu memory available for training. Free: 5687 Total: 8191.5\n",
      "Warning: less than 75% gpu memory available for training. Free: 5687 Total: 8191.5\n",
      "Warning: less than 75% gpu memory available for training. Free: 5687 Total: 8191.5\n",
      "Warning: less than 75% gpu memory available for training. Free: 5687 Total: 8191.5\n",
      "Warning: less than 75% gpu memory available for training. Free: 5687 Total: 8191.5\n",
      "Warning: less than 75% gpu memory available for training. Free: 5687 Total: 8191.5\n",
      "Warning: less than 75% gpu memory available for training. Free: 5687 Total: 8191.5\n",
      "Warning: less than 75% gpu memory available for training. Free: 5687 Total: 8191.5\n",
      "Warning: less than 75% gpu memory available for training. Free: 5687 Total: 8191.5\n",
      "Warning: less than 75% gpu memory available for training. Free: 5687 Total: 8191.5\n",
      "Warning: less than 75% gpu memory available for training. Free: 5687 Total: 8191.5\n",
      "Warning: less than 75% gpu memory available for training. Free: 5687 Total: 8191.5\n",
      "Warning: less than 75% gpu memory available for training. Free: 5687 Total: 8191.5\n",
      "Warning: less than 75% gpu memory available for training. Free: 5687 Total: 8191.5\n"
     ]
    },
    {
     "data": {
      "application/vnd.jupyter.widget-view+json": {
       "model_id": "ef9654441ff340899c437527729d5acc",
       "version_major": 2,
       "version_minor": 0
      },
      "text/plain": [
       "  0%|          | 0/140 [00:00<?, ?it/s]"
      ]
     },
     "metadata": {},
     "output_type": "display_data"
    },
    {
     "name": "stdout",
     "output_type": "stream",
     "text": [
      "Model saved\n"
     ]
    },
    {
     "data": {
      "application/vnd.jupyter.widget-view+json": {
       "model_id": "fd36bafaa20b4588a664a9aa56b18d78",
       "version_major": 2,
       "version_minor": 0
      },
      "text/plain": [
       "  0%|          | 0/140 [00:00<?, ?it/s]"
      ]
     },
     "metadata": {},
     "output_type": "display_data"
    },
    {
     "name": "stdout",
     "output_type": "stream",
     "text": [
      "Model loaded\n"
     ]
    },
    {
     "data": {
      "application/vnd.jupyter.widget-view+json": {
       "model_id": "2f663de25500488abb27522bf8f0d6f5",
       "version_major": 2,
       "version_minor": 0
      },
      "text/plain": [
       "  0%|          | 0/140 [00:00<?, ?it/s]"
      ]
     },
     "metadata": {},
     "output_type": "display_data"
    },
    {
     "data": {
      "application/vnd.jupyter.widget-view+json": {
       "model_id": "293cac23d239409182d12469f1d7d472",
       "version_major": 2,
       "version_minor": 0
      },
      "text/plain": [
       "  0%|          | 0/140 [00:00<?, ?it/s]"
      ]
     },
     "metadata": {},
     "output_type": "display_data"
    },
    {
     "name": "stdout",
     "output_type": "stream",
     "text": [
      "Model loaded\n"
     ]
    },
    {
     "data": {
      "application/vnd.jupyter.widget-view+json": {
       "model_id": "f53052e13ead41089f6e64acc6cc4a01",
       "version_major": 2,
       "version_minor": 0
      },
      "text/plain": [
       "  0%|          | 0/140 [00:00<?, ?it/s]"
      ]
     },
     "metadata": {},
     "output_type": "display_data"
    },
    {
     "name": "stdout",
     "output_type": "stream",
     "text": [
      "catboost ./results/1/layer_2/2 CV score: 0.8962677269064362\n",
      "NN Fold ./results/1/layer_2/2..\n"
     ]
    },
    {
     "data": {
      "application/vnd.jupyter.widget-view+json": {
       "model_id": "bff0f39e3e6642139152b216b7065ab0",
       "version_major": 2,
       "version_minor": 0
      },
      "text/plain": [
       "  0%|          | 0/100 [00:00<?, ?it/s]"
      ]
     },
     "metadata": {},
     "output_type": "display_data"
    },
    {
     "name": "stdout",
     "output_type": "stream",
     "text": [
      "torch ./results/1/layer_2/2 CV score: 0.8947724233591344\n",
      "Traing of second layer finished\n",
      "Shape of Third layer input: (70988, 420)\n",
      "Final MLP Fold ./results/1/layer_3/0..\n"
     ]
    },
    {
     "data": {
      "application/vnd.jupyter.widget-view+json": {
       "model_id": "5b152781f0574ab8847824778ba8c74a",
       "version_major": 2,
       "version_minor": 0
      },
      "text/plain": [
       "  0%|          | 0/100 [00:00<?, ?it/s]"
      ]
     },
     "metadata": {},
     "output_type": "display_data"
    },
    {
     "name": "stdout",
     "output_type": "stream",
     "text": [
      "Final MLP Fold ./results/1/layer_3/1..\n"
     ]
    },
    {
     "data": {
      "application/vnd.jupyter.widget-view+json": {
       "model_id": "e880b3b4f5664046bae78b0dc671950c",
       "version_major": 2,
       "version_minor": 0
      },
      "text/plain": [
       "  0%|          | 0/100 [00:00<?, ?it/s]"
      ]
     },
     "metadata": {},
     "output_type": "display_data"
    },
    {
     "name": "stdout",
     "output_type": "stream",
     "text": [
      "Final MLP Fold ./results/1/layer_3/2..\n"
     ]
    },
    {
     "data": {
      "application/vnd.jupyter.widget-view+json": {
       "model_id": "26bb73c207874c5ebb67a92aec7cb141",
       "version_major": 2,
       "version_minor": 0
      },
      "text/plain": [
       "  0%|          | 0/100 [00:00<?, ?it/s]"
      ]
     },
     "metadata": {},
     "output_type": "display_data"
    },
    {
     "name": "stdout",
     "output_type": "stream",
     "text": [
      "Traing of Third layer finished\n",
      "all done!\n",
      "KNeighborsRegressor Fold ./results/2/layer_1/0..\n",
      "KNN ./results/2/layer_1/0 CV score: 0.8765033792351811\n",
      "CNN Fold ./results/2/layer_1/0..\n"
     ]
    },
    {
     "data": {
      "application/vnd.jupyter.widget-view+json": {
       "model_id": "4112dcfb08f149919ac863344349d01a",
       "version_major": 2,
       "version_minor": 0
      },
      "text/plain": [
       "  0%|          | 0/100 [00:00<?, ?it/s]"
      ]
     },
     "metadata": {},
     "output_type": "display_data"
    },
    {
     "name": "stdout",
     "output_type": "stream",
     "text": [
      "CNN ./results/2/layer_1/0 CV score: 0.8930073603989374\n",
      "Ridge Fold ./results/2/layer_1/0..\n",
      "ridge ./results/2/layer_1/0 CV score: 0.8865205643857114\n",
      "RandomForestRegressor Fold ./results/2/layer_1/0..\n",
      "rf ./results/2/layer_1/0 CV score: 0.8752235405045203\n",
      "Catboost Fold ./results/2/layer_1/0..\n"
     ]
    },
    {
     "data": {
      "application/vnd.jupyter.widget-view+json": {
       "model_id": "21e9cf227f4d457ebfddcf9daf472c5e",
       "version_major": 2,
       "version_minor": 0
      },
      "text/plain": [
       "  0%|          | 0/140 [00:00<?, ?it/s]"
      ]
     },
     "metadata": {},
     "output_type": "display_data"
    },
    {
     "name": "stderr",
     "output_type": "stream",
     "text": [
      "Warning: less than 75% gpu memory available for training. Free: 5687 Total: 8191.5\n",
      "Warning: less than 75% gpu memory available for training. Free: 5687 Total: 8191.5\n",
      "Warning: less than 75% gpu memory available for training. Free: 5687 Total: 8191.5\n",
      "Warning: less than 75% gpu memory available for training. Free: 5687 Total: 8191.5\n",
      "Warning: less than 75% gpu memory available for training. Free: 5687 Total: 8191.5\n",
      "Warning: less than 75% gpu memory available for training. Free: 5687 Total: 8191.5\n",
      "Warning: less than 75% gpu memory available for training. Free: 5687 Total: 8191.5\n",
      "Warning: less than 75% gpu memory available for training. Free: 5687 Total: 8191.5\n",
      "Warning: less than 75% gpu memory available for training. Free: 5687 Total: 8191.5\n",
      "Warning: less than 75% gpu memory available for training. Free: 5687 Total: 8191.5\n",
      "Warning: less than 75% gpu memory available for training. Free: 5687 Total: 8191.5\n",
      "Warning: less than 75% gpu memory available for training. Free: 5687 Total: 8191.5\n",
      "Warning: less than 75% gpu memory available for training. Free: 5687 Total: 8191.5\n",
      "Warning: less than 75% gpu memory available for training. Free: 5687 Total: 8191.5\n",
      "Warning: less than 75% gpu memory available for training. Free: 5687 Total: 8191.5\n",
      "Warning: less than 75% gpu memory available for training. Free: 5687 Total: 8191.5\n",
      "Warning: less than 75% gpu memory available for training. Free: 5687 Total: 8191.5\n",
      "Warning: less than 75% gpu memory available for training. Free: 5687 Total: 8191.5\n",
      "Warning: less than 75% gpu memory available for training. Free: 5687 Total: 8191.5\n",
      "Warning: less than 75% gpu memory available for training. Free: 5687 Total: 8191.5\n",
      "Warning: less than 75% gpu memory available for training. Free: 5687 Total: 8191.5\n",
      "Warning: less than 75% gpu memory available for training. Free: 5687 Total: 8191.5\n",
      "Warning: less than 75% gpu memory available for training. Free: 5687 Total: 8191.5\n",
      "Warning: less than 75% gpu memory available for training. Free: 5687 Total: 8191.5\n",
      "Warning: less than 75% gpu memory available for training. Free: 5687 Total: 8191.5\n",
      "Warning: less than 75% gpu memory available for training. Free: 5687 Total: 8191.5\n",
      "Warning: less than 75% gpu memory available for training. Free: 5687 Total: 8191.5\n",
      "Warning: less than 75% gpu memory available for training. Free: 5687 Total: 8191.5\n",
      "Warning: less than 75% gpu memory available for training. Free: 5687 Total: 8191.5\n",
      "Warning: less than 75% gpu memory available for training. Free: 5687 Total: 8191.5\n",
      "Warning: less than 75% gpu memory available for training. Free: 5687 Total: 8191.5\n",
      "Warning: less than 75% gpu memory available for training. Free: 5687 Total: 8191.5\n",
      "Warning: less than 75% gpu memory available for training. Free: 5687 Total: 8191.5\n",
      "Warning: less than 75% gpu memory available for training. Free: 5687 Total: 8191.5\n",
      "Warning: less than 75% gpu memory available for training. Free: 5687 Total: 8191.5\n",
      "Warning: less than 75% gpu memory available for training. Free: 5687 Total: 8191.5\n",
      "Warning: less than 75% gpu memory available for training. Free: 5687 Total: 8191.5\n",
      "Warning: less than 75% gpu memory available for training. Free: 5687 Total: 8191.5\n",
      "Warning: less than 75% gpu memory available for training. Free: 5687 Total: 8191.5\n",
      "Warning: less than 75% gpu memory available for training. Free: 5687 Total: 8191.5\n",
      "Warning: less than 75% gpu memory available for training. Free: 5687 Total: 8191.5\n",
      "Warning: less than 75% gpu memory available for training. Free: 5687 Total: 8191.5\n",
      "Warning: less than 75% gpu memory available for training. Free: 5687 Total: 8191.5\n",
      "Warning: less than 75% gpu memory available for training. Free: 5687 Total: 8191.5\n",
      "Warning: less than 75% gpu memory available for training. Free: 5687 Total: 8191.5\n",
      "Warning: less than 75% gpu memory available for training. Free: 5687 Total: 8191.5\n",
      "Warning: less than 75% gpu memory available for training. Free: 5687 Total: 8191.5\n",
      "Warning: less than 75% gpu memory available for training. Free: 5687 Total: 8191.5\n",
      "Warning: less than 75% gpu memory available for training. Free: 5687 Total: 8191.5\n",
      "Warning: less than 75% gpu memory available for training. Free: 5687 Total: 8191.5\n",
      "Warning: less than 75% gpu memory available for training. Free: 5687 Total: 8191.5\n",
      "Warning: less than 75% gpu memory available for training. Free: 5687 Total: 8191.5\n",
      "Warning: less than 75% gpu memory available for training. Free: 5687 Total: 8191.5\n",
      "Warning: less than 75% gpu memory available for training. Free: 5687 Total: 8191.5\n",
      "Warning: less than 75% gpu memory available for training. Free: 5687 Total: 8191.5\n",
      "Warning: less than 75% gpu memory available for training. Free: 5687 Total: 8191.5\n",
      "Warning: less than 75% gpu memory available for training. Free: 5687 Total: 8191.5\n",
      "Warning: less than 75% gpu memory available for training. Free: 5687 Total: 8191.5\n",
      "Warning: less than 75% gpu memory available for training. Free: 5687 Total: 8191.5\n",
      "Warning: less than 75% gpu memory available for training. Free: 5687 Total: 8191.5\n",
      "Warning: less than 75% gpu memory available for training. Free: 5687 Total: 8191.5\n",
      "Warning: less than 75% gpu memory available for training. Free: 5687 Total: 8191.5\n",
      "Warning: less than 75% gpu memory available for training. Free: 5687 Total: 8191.5\n",
      "Warning: less than 75% gpu memory available for training. Free: 5687 Total: 8191.5\n",
      "Warning: less than 75% gpu memory available for training. Free: 5687 Total: 8191.5\n",
      "Warning: less than 75% gpu memory available for training. Free: 5687 Total: 8191.5\n",
      "Warning: less than 75% gpu memory available for training. Free: 5687 Total: 8191.5\n",
      "Warning: less than 75% gpu memory available for training. Free: 5687 Total: 8191.5\n",
      "Warning: less than 75% gpu memory available for training. Free: 5687 Total: 8191.5\n",
      "Warning: less than 75% gpu memory available for training. Free: 5687 Total: 8191.5\n",
      "Warning: less than 75% gpu memory available for training. Free: 5687 Total: 8191.5\n",
      "Warning: less than 75% gpu memory available for training. Free: 5687 Total: 8191.5\n",
      "Warning: less than 75% gpu memory available for training. Free: 5687 Total: 8191.5\n",
      "Warning: less than 75% gpu memory available for training. Free: 5687 Total: 8191.5\n",
      "Warning: less than 75% gpu memory available for training. Free: 5687 Total: 8191.5\n",
      "Warning: less than 75% gpu memory available for training. Free: 5687 Total: 8191.5\n",
      "Warning: less than 75% gpu memory available for training. Free: 5687 Total: 8191.5\n",
      "Warning: less than 75% gpu memory available for training. Free: 5687 Total: 8191.5\n",
      "Warning: less than 75% gpu memory available for training. Free: 5687 Total: 8191.5\n",
      "Warning: less than 75% gpu memory available for training. Free: 5687 Total: 8191.5\n",
      "Warning: less than 75% gpu memory available for training. Free: 5687 Total: 8191.5\n",
      "Warning: less than 75% gpu memory available for training. Free: 5687 Total: 8191.5\n",
      "Warning: less than 75% gpu memory available for training. Free: 5687 Total: 8191.5\n",
      "Warning: less than 75% gpu memory available for training. Free: 5687 Total: 8191.5\n",
      "Warning: less than 75% gpu memory available for training. Free: 5687 Total: 8191.5\n",
      "Warning: less than 75% gpu memory available for training. Free: 5687 Total: 8191.5\n",
      "Warning: less than 75% gpu memory available for training. Free: 5687 Total: 8191.5\n",
      "Warning: less than 75% gpu memory available for training. Free: 5687 Total: 8191.5\n",
      "Warning: less than 75% gpu memory available for training. Free: 5687 Total: 8191.5\n",
      "Warning: less than 75% gpu memory available for training. Free: 5687 Total: 8191.5\n",
      "Warning: less than 75% gpu memory available for training. Free: 5687 Total: 8191.5\n",
      "Warning: less than 75% gpu memory available for training. Free: 5687 Total: 8191.5\n",
      "Warning: less than 75% gpu memory available for training. Free: 5687 Total: 8191.5\n",
      "Warning: less than 75% gpu memory available for training. Free: 5687 Total: 8191.5\n",
      "Warning: less than 75% gpu memory available for training. Free: 5687 Total: 8191.5\n",
      "Warning: less than 75% gpu memory available for training. Free: 5687 Total: 8191.5\n",
      "Warning: less than 75% gpu memory available for training. Free: 5687 Total: 8191.5\n",
      "Warning: less than 75% gpu memory available for training. Free: 5687 Total: 8191.5\n",
      "Warning: less than 75% gpu memory available for training. Free: 5687 Total: 8191.5\n",
      "Warning: less than 75% gpu memory available for training. Free: 5687 Total: 8191.5\n",
      "Warning: less than 75% gpu memory available for training. Free: 5687 Total: 8191.5\n",
      "Warning: less than 75% gpu memory available for training. Free: 5687 Total: 8191.5\n",
      "Warning: less than 75% gpu memory available for training. Free: 5687 Total: 8191.5\n",
      "Warning: less than 75% gpu memory available for training. Free: 5687 Total: 8191.5\n",
      "Warning: less than 75% gpu memory available for training. Free: 5687 Total: 8191.5\n",
      "Warning: less than 75% gpu memory available for training. Free: 5687 Total: 8191.5\n",
      "Warning: less than 75% gpu memory available for training. Free: 5687 Total: 8191.5\n",
      "Warning: less than 75% gpu memory available for training. Free: 5687 Total: 8191.5\n",
      "Warning: less than 75% gpu memory available for training. Free: 5687 Total: 8191.5\n",
      "Warning: less than 75% gpu memory available for training. Free: 5687 Total: 8191.5\n",
      "Warning: less than 75% gpu memory available for training. Free: 5687 Total: 8191.5\n",
      "Warning: less than 75% gpu memory available for training. Free: 5687 Total: 8191.5\n",
      "Warning: less than 75% gpu memory available for training. Free: 5687 Total: 8191.5\n",
      "Warning: less than 75% gpu memory available for training. Free: 5687 Total: 8191.5\n",
      "Warning: less than 75% gpu memory available for training. Free: 5687 Total: 8191.5\n",
      "Warning: less than 75% gpu memory available for training. Free: 5687 Total: 8191.5\n",
      "Warning: less than 75% gpu memory available for training. Free: 5687 Total: 8191.5\n",
      "Warning: less than 75% gpu memory available for training. Free: 5687 Total: 8191.5\n",
      "Warning: less than 75% gpu memory available for training. Free: 5687 Total: 8191.5\n",
      "Warning: less than 75% gpu memory available for training. Free: 5687 Total: 8191.5\n",
      "Warning: less than 75% gpu memory available for training. Free: 5687 Total: 8191.5\n",
      "Warning: less than 75% gpu memory available for training. Free: 5687 Total: 8191.5\n",
      "Warning: less than 75% gpu memory available for training. Free: 5687 Total: 8191.5\n",
      "Warning: less than 75% gpu memory available for training. Free: 5687 Total: 8191.5\n",
      "Warning: less than 75% gpu memory available for training. Free: 5687 Total: 8191.5\n",
      "Warning: less than 75% gpu memory available for training. Free: 5687 Total: 8191.5\n",
      "Warning: less than 75% gpu memory available for training. Free: 5687 Total: 8191.5\n",
      "Warning: less than 75% gpu memory available for training. Free: 5687 Total: 8191.5\n",
      "Warning: less than 75% gpu memory available for training. Free: 5687 Total: 8191.5\n",
      "Warning: less than 75% gpu memory available for training. Free: 5687 Total: 8191.5\n",
      "Warning: less than 75% gpu memory available for training. Free: 5687 Total: 8191.5\n",
      "Warning: less than 75% gpu memory available for training. Free: 5687 Total: 8191.5\n",
      "Warning: less than 75% gpu memory available for training. Free: 5687 Total: 8191.5\n",
      "Warning: less than 75% gpu memory available for training. Free: 5687 Total: 8191.5\n",
      "Warning: less than 75% gpu memory available for training. Free: 5687 Total: 8191.5\n",
      "Warning: less than 75% gpu memory available for training. Free: 5687 Total: 8191.5\n",
      "Warning: less than 75% gpu memory available for training. Free: 5687 Total: 8191.5\n",
      "Warning: less than 75% gpu memory available for training. Free: 5687 Total: 8191.5\n",
      "Warning: less than 75% gpu memory available for training. Free: 5687 Total: 8191.5\n",
      "Warning: less than 75% gpu memory available for training. Free: 5687 Total: 8191.5\n"
     ]
    },
    {
     "data": {
      "application/vnd.jupyter.widget-view+json": {
       "model_id": "c4eaeece2e9f41e2bee8b0107faffdab",
       "version_major": 2,
       "version_minor": 0
      },
      "text/plain": [
       "  0%|          | 0/140 [00:00<?, ?it/s]"
      ]
     },
     "metadata": {},
     "output_type": "display_data"
    },
    {
     "name": "stdout",
     "output_type": "stream",
     "text": [
      "Model saved\n"
     ]
    },
    {
     "data": {
      "application/vnd.jupyter.widget-view+json": {
       "model_id": "17be3abff7e543a2a56baaf520b5337d",
       "version_major": 2,
       "version_minor": 0
      },
      "text/plain": [
       "  0%|          | 0/140 [00:00<?, ?it/s]"
      ]
     },
     "metadata": {},
     "output_type": "display_data"
    },
    {
     "name": "stdout",
     "output_type": "stream",
     "text": [
      "Model loaded\n"
     ]
    },
    {
     "data": {
      "application/vnd.jupyter.widget-view+json": {
       "model_id": "5700c1e0fd2f4e3e9e3acd242e5ae646",
       "version_major": 2,
       "version_minor": 0
      },
      "text/plain": [
       "  0%|          | 0/140 [00:00<?, ?it/s]"
      ]
     },
     "metadata": {},
     "output_type": "display_data"
    },
    {
     "data": {
      "application/vnd.jupyter.widget-view+json": {
       "model_id": "2c7b3c75458143218915a0fa76885ff0",
       "version_major": 2,
       "version_minor": 0
      },
      "text/plain": [
       "  0%|          | 0/140 [00:00<?, ?it/s]"
      ]
     },
     "metadata": {},
     "output_type": "display_data"
    },
    {
     "name": "stdout",
     "output_type": "stream",
     "text": [
      "Model loaded\n"
     ]
    },
    {
     "data": {
      "application/vnd.jupyter.widget-view+json": {
       "model_id": "f59df9eb0ebe4add9dab22218fb88c7d",
       "version_major": 2,
       "version_minor": 0
      },
      "text/plain": [
       "  0%|          | 0/140 [00:00<?, ?it/s]"
      ]
     },
     "metadata": {},
     "output_type": "display_data"
    },
    {
     "name": "stdout",
     "output_type": "stream",
     "text": [
      "catboost ./results/2/layer_1/0 CV score: 0.8900276568799389\n",
      "NN Fold ./results/2/layer_1/0..\n"
     ]
    },
    {
     "data": {
      "application/vnd.jupyter.widget-view+json": {
       "model_id": "3b9a237c8f634960bf9a4a0cffeb79dd",
       "version_major": 2,
       "version_minor": 0
      },
      "text/plain": [
       "  0%|          | 0/100 [00:00<?, ?it/s]"
      ]
     },
     "metadata": {},
     "output_type": "display_data"
    },
    {
     "name": "stdout",
     "output_type": "stream",
     "text": [
      "torch ./results/2/layer_1/0 CV score: 0.8929057064327338\n",
      "KNeighborsRegressor Fold ./results/2/layer_1/1..\n",
      "KNN ./results/2/layer_1/1 CV score: 0.8768836610230252\n",
      "CNN Fold ./results/2/layer_1/1..\n"
     ]
    },
    {
     "data": {
      "application/vnd.jupyter.widget-view+json": {
       "model_id": "542902e305e346a49a601d994bb5040e",
       "version_major": 2,
       "version_minor": 0
      },
      "text/plain": [
       "  0%|          | 0/100 [00:00<?, ?it/s]"
      ]
     },
     "metadata": {},
     "output_type": "display_data"
    },
    {
     "name": "stdout",
     "output_type": "stream",
     "text": [
      "CNN ./results/2/layer_1/1 CV score: 0.8933519519900026\n",
      "Ridge Fold ./results/2/layer_1/1..\n",
      "ridge ./results/2/layer_1/1 CV score: 0.8870421280870846\n",
      "RandomForestRegressor Fold ./results/2/layer_1/1..\n",
      "rf ./results/2/layer_1/1 CV score: 0.875856824482001\n",
      "Catboost Fold ./results/2/layer_1/1..\n"
     ]
    },
    {
     "data": {
      "application/vnd.jupyter.widget-view+json": {
       "model_id": "2709dcffab074245ab1b8e6a94196b33",
       "version_major": 2,
       "version_minor": 0
      },
      "text/plain": [
       "  0%|          | 0/140 [00:00<?, ?it/s]"
      ]
     },
     "metadata": {},
     "output_type": "display_data"
    },
    {
     "name": "stderr",
     "output_type": "stream",
     "text": [
      "Warning: less than 75% gpu memory available for training. Free: 5687 Total: 8191.5\n",
      "Warning: less than 75% gpu memory available for training. Free: 5687 Total: 8191.5\n",
      "Warning: less than 75% gpu memory available for training. Free: 5687 Total: 8191.5\n",
      "Warning: less than 75% gpu memory available for training. Free: 5687 Total: 8191.5\n",
      "Warning: less than 75% gpu memory available for training. Free: 5687 Total: 8191.5\n",
      "Warning: less than 75% gpu memory available for training. Free: 5687 Total: 8191.5\n",
      "Warning: less than 75% gpu memory available for training. Free: 5687 Total: 8191.5\n",
      "Warning: less than 75% gpu memory available for training. Free: 5687 Total: 8191.5\n",
      "Warning: less than 75% gpu memory available for training. Free: 5687 Total: 8191.5\n",
      "Warning: less than 75% gpu memory available for training. Free: 5687 Total: 8191.5\n",
      "Warning: less than 75% gpu memory available for training. Free: 5687 Total: 8191.5\n",
      "Warning: less than 75% gpu memory available for training. Free: 5687 Total: 8191.5\n",
      "Warning: less than 75% gpu memory available for training. Free: 5687 Total: 8191.5\n",
      "Warning: less than 75% gpu memory available for training. Free: 5687 Total: 8191.5\n",
      "Warning: less than 75% gpu memory available for training. Free: 5687 Total: 8191.5\n",
      "Warning: less than 75% gpu memory available for training. Free: 5687 Total: 8191.5\n",
      "Warning: less than 75% gpu memory available for training. Free: 5687 Total: 8191.5\n",
      "Warning: less than 75% gpu memory available for training. Free: 5687 Total: 8191.5\n",
      "Warning: less than 75% gpu memory available for training. Free: 5687 Total: 8191.5\n",
      "Warning: less than 75% gpu memory available for training. Free: 5687 Total: 8191.5\n",
      "Warning: less than 75% gpu memory available for training. Free: 5687 Total: 8191.5\n",
      "Warning: less than 75% gpu memory available for training. Free: 5687 Total: 8191.5\n",
      "Warning: less than 75% gpu memory available for training. Free: 5687 Total: 8191.5\n",
      "Warning: less than 75% gpu memory available for training. Free: 5687 Total: 8191.5\n",
      "Warning: less than 75% gpu memory available for training. Free: 5687 Total: 8191.5\n",
      "Warning: less than 75% gpu memory available for training. Free: 5687 Total: 8191.5\n",
      "Warning: less than 75% gpu memory available for training. Free: 5687 Total: 8191.5\n",
      "Warning: less than 75% gpu memory available for training. Free: 5687 Total: 8191.5\n",
      "Warning: less than 75% gpu memory available for training. Free: 5687 Total: 8191.5\n",
      "Warning: less than 75% gpu memory available for training. Free: 5687 Total: 8191.5\n",
      "Warning: less than 75% gpu memory available for training. Free: 5687 Total: 8191.5\n",
      "Warning: less than 75% gpu memory available for training. Free: 5687 Total: 8191.5\n",
      "Warning: less than 75% gpu memory available for training. Free: 5687 Total: 8191.5\n",
      "Warning: less than 75% gpu memory available for training. Free: 5687 Total: 8191.5\n",
      "Warning: less than 75% gpu memory available for training. Free: 5687 Total: 8191.5\n",
      "Warning: less than 75% gpu memory available for training. Free: 5687 Total: 8191.5\n",
      "Warning: less than 75% gpu memory available for training. Free: 5687 Total: 8191.5\n",
      "Warning: less than 75% gpu memory available for training. Free: 5687 Total: 8191.5\n",
      "Warning: less than 75% gpu memory available for training. Free: 5687 Total: 8191.5\n",
      "Warning: less than 75% gpu memory available for training. Free: 5687 Total: 8191.5\n",
      "Warning: less than 75% gpu memory available for training. Free: 5687 Total: 8191.5\n",
      "Warning: less than 75% gpu memory available for training. Free: 5687 Total: 8191.5\n",
      "Warning: less than 75% gpu memory available for training. Free: 5687 Total: 8191.5\n",
      "Warning: less than 75% gpu memory available for training. Free: 5687 Total: 8191.5\n",
      "Warning: less than 75% gpu memory available for training. Free: 5687 Total: 8191.5\n",
      "Warning: less than 75% gpu memory available for training. Free: 5687 Total: 8191.5\n",
      "Warning: less than 75% gpu memory available for training. Free: 5687 Total: 8191.5\n",
      "Warning: less than 75% gpu memory available for training. Free: 5687 Total: 8191.5\n",
      "Warning: less than 75% gpu memory available for training. Free: 5687 Total: 8191.5\n",
      "Warning: less than 75% gpu memory available for training. Free: 5687 Total: 8191.5\n",
      "Warning: less than 75% gpu memory available for training. Free: 5687 Total: 8191.5\n",
      "Warning: less than 75% gpu memory available for training. Free: 5687 Total: 8191.5\n",
      "Warning: less than 75% gpu memory available for training. Free: 5687 Total: 8191.5\n",
      "Warning: less than 75% gpu memory available for training. Free: 5687 Total: 8191.5\n",
      "Warning: less than 75% gpu memory available for training. Free: 5687 Total: 8191.5\n",
      "Warning: less than 75% gpu memory available for training. Free: 5687 Total: 8191.5\n",
      "Warning: less than 75% gpu memory available for training. Free: 5687 Total: 8191.5\n",
      "Warning: less than 75% gpu memory available for training. Free: 5687 Total: 8191.5\n",
      "Warning: less than 75% gpu memory available for training. Free: 5687 Total: 8191.5\n",
      "Warning: less than 75% gpu memory available for training. Free: 5687 Total: 8191.5\n",
      "Warning: less than 75% gpu memory available for training. Free: 5687 Total: 8191.5\n",
      "Warning: less than 75% gpu memory available for training. Free: 5687 Total: 8191.5\n",
      "Warning: less than 75% gpu memory available for training. Free: 5687 Total: 8191.5\n",
      "Warning: less than 75% gpu memory available for training. Free: 5687 Total: 8191.5\n",
      "Warning: less than 75% gpu memory available for training. Free: 5687 Total: 8191.5\n",
      "Warning: less than 75% gpu memory available for training. Free: 5687 Total: 8191.5\n",
      "Warning: less than 75% gpu memory available for training. Free: 5687 Total: 8191.5\n",
      "Warning: less than 75% gpu memory available for training. Free: 5687 Total: 8191.5\n",
      "Warning: less than 75% gpu memory available for training. Free: 5687 Total: 8191.5\n",
      "Warning: less than 75% gpu memory available for training. Free: 5687 Total: 8191.5\n",
      "Warning: less than 75% gpu memory available for training. Free: 5687 Total: 8191.5\n",
      "Warning: less than 75% gpu memory available for training. Free: 5687 Total: 8191.5\n",
      "Warning: less than 75% gpu memory available for training. Free: 5687 Total: 8191.5\n",
      "Warning: less than 75% gpu memory available for training. Free: 5687 Total: 8191.5\n",
      "Warning: less than 75% gpu memory available for training. Free: 5687 Total: 8191.5\n",
      "Warning: less than 75% gpu memory available for training. Free: 5687 Total: 8191.5\n",
      "Warning: less than 75% gpu memory available for training. Free: 5687 Total: 8191.5\n",
      "Warning: less than 75% gpu memory available for training. Free: 5687 Total: 8191.5\n",
      "Warning: less than 75% gpu memory available for training. Free: 5687 Total: 8191.5\n",
      "Warning: less than 75% gpu memory available for training. Free: 5687 Total: 8191.5\n",
      "Warning: less than 75% gpu memory available for training. Free: 5687 Total: 8191.5\n",
      "Warning: less than 75% gpu memory available for training. Free: 5687 Total: 8191.5\n",
      "Warning: less than 75% gpu memory available for training. Free: 5687 Total: 8191.5\n",
      "Warning: less than 75% gpu memory available for training. Free: 5687 Total: 8191.5\n",
      "Warning: less than 75% gpu memory available for training. Free: 5687 Total: 8191.5\n",
      "Warning: less than 75% gpu memory available for training. Free: 5687 Total: 8191.5\n",
      "Warning: less than 75% gpu memory available for training. Free: 5687 Total: 8191.5\n",
      "Warning: less than 75% gpu memory available for training. Free: 5687 Total: 8191.5\n",
      "Warning: less than 75% gpu memory available for training. Free: 5687 Total: 8191.5\n",
      "Warning: less than 75% gpu memory available for training. Free: 5687 Total: 8191.5\n",
      "Warning: less than 75% gpu memory available for training. Free: 5687 Total: 8191.5\n",
      "Warning: less than 75% gpu memory available for training. Free: 5687 Total: 8191.5\n",
      "Warning: less than 75% gpu memory available for training. Free: 5687 Total: 8191.5\n",
      "Warning: less than 75% gpu memory available for training. Free: 5687 Total: 8191.5\n",
      "Warning: less than 75% gpu memory available for training. Free: 5687 Total: 8191.5\n",
      "Warning: less than 75% gpu memory available for training. Free: 5687 Total: 8191.5\n",
      "Warning: less than 75% gpu memory available for training. Free: 5687 Total: 8191.5\n",
      "Warning: less than 75% gpu memory available for training. Free: 5687 Total: 8191.5\n",
      "Warning: less than 75% gpu memory available for training. Free: 5687 Total: 8191.5\n",
      "Warning: less than 75% gpu memory available for training. Free: 5687 Total: 8191.5\n",
      "Warning: less than 75% gpu memory available for training. Free: 5687 Total: 8191.5\n",
      "Warning: less than 75% gpu memory available for training. Free: 5687 Total: 8191.5\n",
      "Warning: less than 75% gpu memory available for training. Free: 5687 Total: 8191.5\n",
      "Warning: less than 75% gpu memory available for training. Free: 5687 Total: 8191.5\n",
      "Warning: less than 75% gpu memory available for training. Free: 5687 Total: 8191.5\n",
      "Warning: less than 75% gpu memory available for training. Free: 5687 Total: 8191.5\n",
      "Warning: less than 75% gpu memory available for training. Free: 5687 Total: 8191.5\n",
      "Warning: less than 75% gpu memory available for training. Free: 5687 Total: 8191.5\n",
      "Warning: less than 75% gpu memory available for training. Free: 5687 Total: 8191.5\n",
      "Warning: less than 75% gpu memory available for training. Free: 5687 Total: 8191.5\n",
      "Warning: less than 75% gpu memory available for training. Free: 5687 Total: 8191.5\n",
      "Warning: less than 75% gpu memory available for training. Free: 5687 Total: 8191.5\n",
      "Warning: less than 75% gpu memory available for training. Free: 5687 Total: 8191.5\n",
      "Warning: less than 75% gpu memory available for training. Free: 5687 Total: 8191.5\n",
      "Warning: less than 75% gpu memory available for training. Free: 5687 Total: 8191.5\n",
      "Warning: less than 75% gpu memory available for training. Free: 5687 Total: 8191.5\n",
      "Warning: less than 75% gpu memory available for training. Free: 5687 Total: 8191.5\n",
      "Warning: less than 75% gpu memory available for training. Free: 5687 Total: 8191.5\n",
      "Warning: less than 75% gpu memory available for training. Free: 5687 Total: 8191.5\n",
      "Warning: less than 75% gpu memory available for training. Free: 5687 Total: 8191.5\n",
      "Warning: less than 75% gpu memory available for training. Free: 5687 Total: 8191.5\n",
      "Warning: less than 75% gpu memory available for training. Free: 5687 Total: 8191.5\n",
      "Warning: less than 75% gpu memory available for training. Free: 5687 Total: 8191.5\n",
      "Warning: less than 75% gpu memory available for training. Free: 5687 Total: 8191.5\n",
      "Warning: less than 75% gpu memory available for training. Free: 5687 Total: 8191.5\n",
      "Warning: less than 75% gpu memory available for training. Free: 5687 Total: 8191.5\n",
      "Warning: less than 75% gpu memory available for training. Free: 5687 Total: 8191.5\n",
      "Warning: less than 75% gpu memory available for training. Free: 5687 Total: 8191.5\n",
      "Warning: less than 75% gpu memory available for training. Free: 5687 Total: 8191.5\n",
      "Warning: less than 75% gpu memory available for training. Free: 5687 Total: 8191.5\n",
      "Warning: less than 75% gpu memory available for training. Free: 5687 Total: 8191.5\n",
      "Warning: less than 75% gpu memory available for training. Free: 5687 Total: 8191.5\n",
      "Warning: less than 75% gpu memory available for training. Free: 5687 Total: 8191.5\n",
      "Warning: less than 75% gpu memory available for training. Free: 5687 Total: 8191.5\n",
      "Warning: less than 75% gpu memory available for training. Free: 5687 Total: 8191.5\n",
      "Warning: less than 75% gpu memory available for training. Free: 5687 Total: 8191.5\n",
      "Warning: less than 75% gpu memory available for training. Free: 5687 Total: 8191.5\n",
      "Warning: less than 75% gpu memory available for training. Free: 5687 Total: 8191.5\n",
      "Warning: less than 75% gpu memory available for training. Free: 5687 Total: 8191.5\n",
      "Warning: less than 75% gpu memory available for training. Free: 5687 Total: 8191.5\n"
     ]
    },
    {
     "data": {
      "application/vnd.jupyter.widget-view+json": {
       "model_id": "6b8f4afc0bfe483d99bbaaca96145608",
       "version_major": 2,
       "version_minor": 0
      },
      "text/plain": [
       "  0%|          | 0/140 [00:00<?, ?it/s]"
      ]
     },
     "metadata": {},
     "output_type": "display_data"
    },
    {
     "name": "stdout",
     "output_type": "stream",
     "text": [
      "Model saved\n"
     ]
    },
    {
     "data": {
      "application/vnd.jupyter.widget-view+json": {
       "model_id": "f7d17051de3a43f69ffc688d90a87a20",
       "version_major": 2,
       "version_minor": 0
      },
      "text/plain": [
       "  0%|          | 0/140 [00:00<?, ?it/s]"
      ]
     },
     "metadata": {},
     "output_type": "display_data"
    },
    {
     "name": "stdout",
     "output_type": "stream",
     "text": [
      "Model loaded\n"
     ]
    },
    {
     "data": {
      "application/vnd.jupyter.widget-view+json": {
       "model_id": "2c1e1dbe1bce40eea2f7081d9b595861",
       "version_major": 2,
       "version_minor": 0
      },
      "text/plain": [
       "  0%|          | 0/140 [00:00<?, ?it/s]"
      ]
     },
     "metadata": {},
     "output_type": "display_data"
    },
    {
     "data": {
      "application/vnd.jupyter.widget-view+json": {
       "model_id": "9d154693daa74c5fa302f08db521bcbd",
       "version_major": 2,
       "version_minor": 0
      },
      "text/plain": [
       "  0%|          | 0/140 [00:00<?, ?it/s]"
      ]
     },
     "metadata": {},
     "output_type": "display_data"
    },
    {
     "name": "stdout",
     "output_type": "stream",
     "text": [
      "Model loaded\n"
     ]
    },
    {
     "data": {
      "application/vnd.jupyter.widget-view+json": {
       "model_id": "c5a2ec04e2074cf895690eab609a2a04",
       "version_major": 2,
       "version_minor": 0
      },
      "text/plain": [
       "  0%|          | 0/140 [00:00<?, ?it/s]"
      ]
     },
     "metadata": {},
     "output_type": "display_data"
    },
    {
     "name": "stdout",
     "output_type": "stream",
     "text": [
      "catboost ./results/2/layer_1/1 CV score: 0.890553147261122\n",
      "NN Fold ./results/2/layer_1/1..\n"
     ]
    },
    {
     "data": {
      "application/vnd.jupyter.widget-view+json": {
       "model_id": "bd826941f1fb4aa8827c0d4e06e5e69e",
       "version_major": 2,
       "version_minor": 0
      },
      "text/plain": [
       "  0%|          | 0/100 [00:00<?, ?it/s]"
      ]
     },
     "metadata": {},
     "output_type": "display_data"
    },
    {
     "name": "stdout",
     "output_type": "stream",
     "text": [
      "torch ./results/2/layer_1/1 CV score: 0.8936734064939978\n",
      "KNeighborsRegressor Fold ./results/2/layer_1/2..\n",
      "KNN ./results/2/layer_1/2 CV score: 0.8765970979544357\n",
      "CNN Fold ./results/2/layer_1/2..\n"
     ]
    },
    {
     "data": {
      "application/vnd.jupyter.widget-view+json": {
       "model_id": "be1127a4b91742b680a04b771db24639",
       "version_major": 2,
       "version_minor": 0
      },
      "text/plain": [
       "  0%|          | 0/100 [00:00<?, ?it/s]"
      ]
     },
     "metadata": {},
     "output_type": "display_data"
    },
    {
     "name": "stdout",
     "output_type": "stream",
     "text": [
      "CNN ./results/2/layer_1/2 CV score: 0.8926221921846171\n",
      "Ridge Fold ./results/2/layer_1/2..\n",
      "ridge ./results/2/layer_1/2 CV score: 0.8867460021276877\n",
      "RandomForestRegressor Fold ./results/2/layer_1/2..\n",
      "rf ./results/2/layer_1/2 CV score: 0.8754791732907319\n",
      "Catboost Fold ./results/2/layer_1/2..\n"
     ]
    },
    {
     "data": {
      "application/vnd.jupyter.widget-view+json": {
       "model_id": "2e69670130834125a81b882e00531d2e",
       "version_major": 2,
       "version_minor": 0
      },
      "text/plain": [
       "  0%|          | 0/140 [00:00<?, ?it/s]"
      ]
     },
     "metadata": {},
     "output_type": "display_data"
    },
    {
     "name": "stderr",
     "output_type": "stream",
     "text": [
      "Warning: less than 75% gpu memory available for training. Free: 5687 Total: 8191.5\n",
      "Warning: less than 75% gpu memory available for training. Free: 5687 Total: 8191.5\n",
      "Warning: less than 75% gpu memory available for training. Free: 5687 Total: 8191.5\n",
      "Warning: less than 75% gpu memory available for training. Free: 5687 Total: 8191.5\n",
      "Warning: less than 75% gpu memory available for training. Free: 5687 Total: 8191.5\n",
      "Warning: less than 75% gpu memory available for training. Free: 5687 Total: 8191.5\n",
      "Warning: less than 75% gpu memory available for training. Free: 5687 Total: 8191.5\n",
      "Warning: less than 75% gpu memory available for training. Free: 5687 Total: 8191.5\n",
      "Warning: less than 75% gpu memory available for training. Free: 5687 Total: 8191.5\n",
      "Warning: less than 75% gpu memory available for training. Free: 5687 Total: 8191.5\n",
      "Warning: less than 75% gpu memory available for training. Free: 5687 Total: 8191.5\n",
      "Warning: less than 75% gpu memory available for training. Free: 5687 Total: 8191.5\n",
      "Warning: less than 75% gpu memory available for training. Free: 5687 Total: 8191.5\n",
      "Warning: less than 75% gpu memory available for training. Free: 5687 Total: 8191.5\n",
      "Warning: less than 75% gpu memory available for training. Free: 5687 Total: 8191.5\n",
      "Warning: less than 75% gpu memory available for training. Free: 5687 Total: 8191.5\n",
      "Warning: less than 75% gpu memory available for training. Free: 5687 Total: 8191.5\n",
      "Warning: less than 75% gpu memory available for training. Free: 5687 Total: 8191.5\n",
      "Warning: less than 75% gpu memory available for training. Free: 5687 Total: 8191.5\n",
      "Warning: less than 75% gpu memory available for training. Free: 5687 Total: 8191.5\n",
      "Warning: less than 75% gpu memory available for training. Free: 5687 Total: 8191.5\n",
      "Warning: less than 75% gpu memory available for training. Free: 5687 Total: 8191.5\n",
      "Warning: less than 75% gpu memory available for training. Free: 5687 Total: 8191.5\n",
      "Warning: less than 75% gpu memory available for training. Free: 5687 Total: 8191.5\n",
      "Warning: less than 75% gpu memory available for training. Free: 5687 Total: 8191.5\n",
      "Warning: less than 75% gpu memory available for training. Free: 5687 Total: 8191.5\n",
      "Warning: less than 75% gpu memory available for training. Free: 5687 Total: 8191.5\n",
      "Warning: less than 75% gpu memory available for training. Free: 5687 Total: 8191.5\n",
      "Warning: less than 75% gpu memory available for training. Free: 5687 Total: 8191.5\n",
      "Warning: less than 75% gpu memory available for training. Free: 5687 Total: 8191.5\n",
      "Warning: less than 75% gpu memory available for training. Free: 5687 Total: 8191.5\n",
      "Warning: less than 75% gpu memory available for training. Free: 5687 Total: 8191.5\n",
      "Warning: less than 75% gpu memory available for training. Free: 5687 Total: 8191.5\n",
      "Warning: less than 75% gpu memory available for training. Free: 5687 Total: 8191.5\n",
      "Warning: less than 75% gpu memory available for training. Free: 5687 Total: 8191.5\n",
      "Warning: less than 75% gpu memory available for training. Free: 5687 Total: 8191.5\n",
      "Warning: less than 75% gpu memory available for training. Free: 5687 Total: 8191.5\n",
      "Warning: less than 75% gpu memory available for training. Free: 5687 Total: 8191.5\n",
      "Warning: less than 75% gpu memory available for training. Free: 5687 Total: 8191.5\n",
      "Warning: less than 75% gpu memory available for training. Free: 5687 Total: 8191.5\n",
      "Warning: less than 75% gpu memory available for training. Free: 5687 Total: 8191.5\n",
      "Warning: less than 75% gpu memory available for training. Free: 5687 Total: 8191.5\n",
      "Warning: less than 75% gpu memory available for training. Free: 5687 Total: 8191.5\n",
      "Warning: less than 75% gpu memory available for training. Free: 5687 Total: 8191.5\n",
      "Warning: less than 75% gpu memory available for training. Free: 5687 Total: 8191.5\n",
      "Warning: less than 75% gpu memory available for training. Free: 5687 Total: 8191.5\n",
      "Warning: less than 75% gpu memory available for training. Free: 5687 Total: 8191.5\n",
      "Warning: less than 75% gpu memory available for training. Free: 5687 Total: 8191.5\n",
      "Warning: less than 75% gpu memory available for training. Free: 5687 Total: 8191.5\n",
      "Warning: less than 75% gpu memory available for training. Free: 5687 Total: 8191.5\n",
      "Warning: less than 75% gpu memory available for training. Free: 5687 Total: 8191.5\n",
      "Warning: less than 75% gpu memory available for training. Free: 5687 Total: 8191.5\n",
      "Warning: less than 75% gpu memory available for training. Free: 5687 Total: 8191.5\n",
      "Warning: less than 75% gpu memory available for training. Free: 5687 Total: 8191.5\n",
      "Warning: less than 75% gpu memory available for training. Free: 5687 Total: 8191.5\n",
      "Warning: less than 75% gpu memory available for training. Free: 5687 Total: 8191.5\n",
      "Warning: less than 75% gpu memory available for training. Free: 5687 Total: 8191.5\n",
      "Warning: less than 75% gpu memory available for training. Free: 5687 Total: 8191.5\n",
      "Warning: less than 75% gpu memory available for training. Free: 5687 Total: 8191.5\n",
      "Warning: less than 75% gpu memory available for training. Free: 5687 Total: 8191.5\n",
      "Warning: less than 75% gpu memory available for training. Free: 5687 Total: 8191.5\n",
      "Warning: less than 75% gpu memory available for training. Free: 5687 Total: 8191.5\n",
      "Warning: less than 75% gpu memory available for training. Free: 5687 Total: 8191.5\n",
      "Warning: less than 75% gpu memory available for training. Free: 5687 Total: 8191.5\n",
      "Warning: less than 75% gpu memory available for training. Free: 5687 Total: 8191.5\n",
      "Warning: less than 75% gpu memory available for training. Free: 5687 Total: 8191.5\n",
      "Warning: less than 75% gpu memory available for training. Free: 5687 Total: 8191.5\n",
      "Warning: less than 75% gpu memory available for training. Free: 5687 Total: 8191.5\n",
      "Warning: less than 75% gpu memory available for training. Free: 5687 Total: 8191.5\n",
      "Warning: less than 75% gpu memory available for training. Free: 5687 Total: 8191.5\n",
      "Warning: less than 75% gpu memory available for training. Free: 5687 Total: 8191.5\n",
      "Warning: less than 75% gpu memory available for training. Free: 5687 Total: 8191.5\n",
      "Warning: less than 75% gpu memory available for training. Free: 5687 Total: 8191.5\n",
      "Warning: less than 75% gpu memory available for training. Free: 5687 Total: 8191.5\n",
      "Warning: less than 75% gpu memory available for training. Free: 5687 Total: 8191.5\n",
      "Warning: less than 75% gpu memory available for training. Free: 5687 Total: 8191.5\n",
      "Warning: less than 75% gpu memory available for training. Free: 5687 Total: 8191.5\n",
      "Warning: less than 75% gpu memory available for training. Free: 5687 Total: 8191.5\n",
      "Warning: less than 75% gpu memory available for training. Free: 5687 Total: 8191.5\n",
      "Warning: less than 75% gpu memory available for training. Free: 5687 Total: 8191.5\n",
      "Warning: less than 75% gpu memory available for training. Free: 5687 Total: 8191.5\n",
      "Warning: less than 75% gpu memory available for training. Free: 5687 Total: 8191.5\n",
      "Warning: less than 75% gpu memory available for training. Free: 5687 Total: 8191.5\n",
      "Warning: less than 75% gpu memory available for training. Free: 5687 Total: 8191.5\n",
      "Warning: less than 75% gpu memory available for training. Free: 5687 Total: 8191.5\n",
      "Warning: less than 75% gpu memory available for training. Free: 5687 Total: 8191.5\n",
      "Warning: less than 75% gpu memory available for training. Free: 5687 Total: 8191.5\n",
      "Warning: less than 75% gpu memory available for training. Free: 5687 Total: 8191.5\n",
      "Warning: less than 75% gpu memory available for training. Free: 5687 Total: 8191.5\n",
      "Warning: less than 75% gpu memory available for training. Free: 5687 Total: 8191.5\n",
      "Warning: less than 75% gpu memory available for training. Free: 5687 Total: 8191.5\n",
      "Warning: less than 75% gpu memory available for training. Free: 5687 Total: 8191.5\n",
      "Warning: less than 75% gpu memory available for training. Free: 5687 Total: 8191.5\n",
      "Warning: less than 75% gpu memory available for training. Free: 5687 Total: 8191.5\n",
      "Warning: less than 75% gpu memory available for training. Free: 5687 Total: 8191.5\n",
      "Warning: less than 75% gpu memory available for training. Free: 5687 Total: 8191.5\n",
      "Warning: less than 75% gpu memory available for training. Free: 5687 Total: 8191.5\n",
      "Warning: less than 75% gpu memory available for training. Free: 5687 Total: 8191.5\n",
      "Warning: less than 75% gpu memory available for training. Free: 5687 Total: 8191.5\n",
      "Warning: less than 75% gpu memory available for training. Free: 5687 Total: 8191.5\n",
      "Warning: less than 75% gpu memory available for training. Free: 5687 Total: 8191.5\n",
      "Warning: less than 75% gpu memory available for training. Free: 5687 Total: 8191.5\n",
      "Warning: less than 75% gpu memory available for training. Free: 5687 Total: 8191.5\n",
      "Warning: less than 75% gpu memory available for training. Free: 5687 Total: 8191.5\n",
      "Warning: less than 75% gpu memory available for training. Free: 5687 Total: 8191.5\n",
      "Warning: less than 75% gpu memory available for training. Free: 5687 Total: 8191.5\n",
      "Warning: less than 75% gpu memory available for training. Free: 5687 Total: 8191.5\n",
      "Warning: less than 75% gpu memory available for training. Free: 5687 Total: 8191.5\n",
      "Warning: less than 75% gpu memory available for training. Free: 5687 Total: 8191.5\n",
      "Warning: less than 75% gpu memory available for training. Free: 5687 Total: 8191.5\n",
      "Warning: less than 75% gpu memory available for training. Free: 5687 Total: 8191.5\n",
      "Warning: less than 75% gpu memory available for training. Free: 5687 Total: 8191.5\n",
      "Warning: less than 75% gpu memory available for training. Free: 5687 Total: 8191.5\n",
      "Warning: less than 75% gpu memory available for training. Free: 5687 Total: 8191.5\n",
      "Warning: less than 75% gpu memory available for training. Free: 5687 Total: 8191.5\n",
      "Warning: less than 75% gpu memory available for training. Free: 5687 Total: 8191.5\n",
      "Warning: less than 75% gpu memory available for training. Free: 5687 Total: 8191.5\n",
      "Warning: less than 75% gpu memory available for training. Free: 5687 Total: 8191.5\n",
      "Warning: less than 75% gpu memory available for training. Free: 5687 Total: 8191.5\n",
      "Warning: less than 75% gpu memory available for training. Free: 5687 Total: 8191.5\n",
      "Warning: less than 75% gpu memory available for training. Free: 5687 Total: 8191.5\n",
      "Warning: less than 75% gpu memory available for training. Free: 5687 Total: 8191.5\n",
      "Warning: less than 75% gpu memory available for training. Free: 5687 Total: 8191.5\n",
      "Warning: less than 75% gpu memory available for training. Free: 5687 Total: 8191.5\n",
      "Warning: less than 75% gpu memory available for training. Free: 5687 Total: 8191.5\n",
      "Warning: less than 75% gpu memory available for training. Free: 5687 Total: 8191.5\n",
      "Warning: less than 75% gpu memory available for training. Free: 5687 Total: 8191.5\n",
      "Warning: less than 75% gpu memory available for training. Free: 5687 Total: 8191.5\n",
      "Warning: less than 75% gpu memory available for training. Free: 5687 Total: 8191.5\n",
      "Warning: less than 75% gpu memory available for training. Free: 5687 Total: 8191.5\n",
      "Warning: less than 75% gpu memory available for training. Free: 5687 Total: 8191.5\n",
      "Warning: less than 75% gpu memory available for training. Free: 5687 Total: 8191.5\n",
      "Warning: less than 75% gpu memory available for training. Free: 5687 Total: 8191.5\n",
      "Warning: less than 75% gpu memory available for training. Free: 5687 Total: 8191.5\n",
      "Warning: less than 75% gpu memory available for training. Free: 5687 Total: 8191.5\n",
      "Warning: less than 75% gpu memory available for training. Free: 5687 Total: 8191.5\n",
      "Warning: less than 75% gpu memory available for training. Free: 5687 Total: 8191.5\n",
      "Warning: less than 75% gpu memory available for training. Free: 5687 Total: 8191.5\n",
      "Warning: less than 75% gpu memory available for training. Free: 5687 Total: 8191.5\n",
      "Warning: less than 75% gpu memory available for training. Free: 5687 Total: 8191.5\n"
     ]
    },
    {
     "data": {
      "application/vnd.jupyter.widget-view+json": {
       "model_id": "718a9fa0d7c54cef828d1c37c369231c",
       "version_major": 2,
       "version_minor": 0
      },
      "text/plain": [
       "  0%|          | 0/140 [00:00<?, ?it/s]"
      ]
     },
     "metadata": {},
     "output_type": "display_data"
    },
    {
     "name": "stdout",
     "output_type": "stream",
     "text": [
      "Model saved\n"
     ]
    },
    {
     "data": {
      "application/vnd.jupyter.widget-view+json": {
       "model_id": "ca58d262fd3a4f64a1a5b8dd82137751",
       "version_major": 2,
       "version_minor": 0
      },
      "text/plain": [
       "  0%|          | 0/140 [00:00<?, ?it/s]"
      ]
     },
     "metadata": {},
     "output_type": "display_data"
    },
    {
     "name": "stdout",
     "output_type": "stream",
     "text": [
      "Model loaded\n"
     ]
    },
    {
     "data": {
      "application/vnd.jupyter.widget-view+json": {
       "model_id": "72a1bde4d34b487ca77782ed6a0ddff8",
       "version_major": 2,
       "version_minor": 0
      },
      "text/plain": [
       "  0%|          | 0/140 [00:00<?, ?it/s]"
      ]
     },
     "metadata": {},
     "output_type": "display_data"
    },
    {
     "data": {
      "application/vnd.jupyter.widget-view+json": {
       "model_id": "75d8cb607fd54bc7962597949ec54736",
       "version_major": 2,
       "version_minor": 0
      },
      "text/plain": [
       "  0%|          | 0/140 [00:00<?, ?it/s]"
      ]
     },
     "metadata": {},
     "output_type": "display_data"
    },
    {
     "name": "stdout",
     "output_type": "stream",
     "text": [
      "Model loaded\n"
     ]
    },
    {
     "data": {
      "application/vnd.jupyter.widget-view+json": {
       "model_id": "c7278cd01dd249b5b666966156f622d4",
       "version_major": 2,
       "version_minor": 0
      },
      "text/plain": [
       "  0%|          | 0/140 [00:00<?, ?it/s]"
      ]
     },
     "metadata": {},
     "output_type": "display_data"
    },
    {
     "name": "stdout",
     "output_type": "stream",
     "text": [
      "catboost ./results/2/layer_1/2 CV score: 0.8902535998642721\n",
      "NN Fold ./results/2/layer_1/2..\n"
     ]
    },
    {
     "data": {
      "application/vnd.jupyter.widget-view+json": {
       "model_id": "c71f04b831164a44b6b8920bdba2b525",
       "version_major": 2,
       "version_minor": 0
      },
      "text/plain": [
       "  0%|          | 0/100 [00:00<?, ?it/s]"
      ]
     },
     "metadata": {},
     "output_type": "display_data"
    },
    {
     "name": "stdout",
     "output_type": "stream",
     "text": [
      "torch ./results/2/layer_1/2 CV score: 0.8928266814625458\n",
      "Traing of first layer finished\n",
      "Shape of Second layer input: (70988, 1582)\n",
      "CNN Fold ./results/2/layer_2/0..\n"
     ]
    },
    {
     "data": {
      "application/vnd.jupyter.widget-view+json": {
       "model_id": "141d541f801b4288a495775904bf4aff",
       "version_major": 2,
       "version_minor": 0
      },
      "text/plain": [
       "  0%|          | 0/100 [00:00<?, ?it/s]"
      ]
     },
     "metadata": {},
     "output_type": "display_data"
    },
    {
     "name": "stdout",
     "output_type": "stream",
     "text": [
      "CNN ./results/2/layer_2/0 CV score: 0.8933745223166439\n",
      "Catboost Fold ./results/2/layer_2/0..\n"
     ]
    },
    {
     "data": {
      "application/vnd.jupyter.widget-view+json": {
       "model_id": "b1b59795e4614c25a3f5f6c6ab679162",
       "version_major": 2,
       "version_minor": 0
      },
      "text/plain": [
       "  0%|          | 0/140 [00:00<?, ?it/s]"
      ]
     },
     "metadata": {},
     "output_type": "display_data"
    },
    {
     "name": "stderr",
     "output_type": "stream",
     "text": [
      "Warning: less than 75% gpu memory available for training. Free: 5687 Total: 8191.5\n",
      "Warning: less than 75% gpu memory available for training. Free: 5687 Total: 8191.5\n",
      "Warning: less than 75% gpu memory available for training. Free: 5687 Total: 8191.5\n",
      "Warning: less than 75% gpu memory available for training. Free: 5687 Total: 8191.5\n",
      "Warning: less than 75% gpu memory available for training. Free: 5687 Total: 8191.5\n",
      "Warning: less than 75% gpu memory available for training. Free: 5687 Total: 8191.5\n",
      "Warning: less than 75% gpu memory available for training. Free: 5687 Total: 8191.5\n",
      "Warning: less than 75% gpu memory available for training. Free: 5687 Total: 8191.5\n",
      "Warning: less than 75% gpu memory available for training. Free: 5687 Total: 8191.5\n",
      "Warning: less than 75% gpu memory available for training. Free: 5687 Total: 8191.5\n",
      "Warning: less than 75% gpu memory available for training. Free: 5687 Total: 8191.5\n",
      "Warning: less than 75% gpu memory available for training. Free: 5687 Total: 8191.5\n",
      "Warning: less than 75% gpu memory available for training. Free: 5687 Total: 8191.5\n",
      "Warning: less than 75% gpu memory available for training. Free: 5687 Total: 8191.5\n",
      "Warning: less than 75% gpu memory available for training. Free: 5687 Total: 8191.5\n",
      "Warning: less than 75% gpu memory available for training. Free: 5687 Total: 8191.5\n",
      "Warning: less than 75% gpu memory available for training. Free: 5687 Total: 8191.5\n",
      "Warning: less than 75% gpu memory available for training. Free: 5687 Total: 8191.5\n",
      "Warning: less than 75% gpu memory available for training. Free: 5687 Total: 8191.5\n",
      "Warning: less than 75% gpu memory available for training. Free: 5687 Total: 8191.5\n",
      "Warning: less than 75% gpu memory available for training. Free: 5687 Total: 8191.5\n",
      "Warning: less than 75% gpu memory available for training. Free: 5687 Total: 8191.5\n",
      "Warning: less than 75% gpu memory available for training. Free: 5687 Total: 8191.5\n",
      "Warning: less than 75% gpu memory available for training. Free: 5687 Total: 8191.5\n",
      "Warning: less than 75% gpu memory available for training. Free: 5687 Total: 8191.5\n",
      "Warning: less than 75% gpu memory available for training. Free: 5687 Total: 8191.5\n",
      "Warning: less than 75% gpu memory available for training. Free: 5687 Total: 8191.5\n",
      "Warning: less than 75% gpu memory available for training. Free: 5687 Total: 8191.5\n",
      "Warning: less than 75% gpu memory available for training. Free: 5687 Total: 8191.5\n",
      "Warning: less than 75% gpu memory available for training. Free: 5687 Total: 8191.5\n",
      "Warning: less than 75% gpu memory available for training. Free: 5687 Total: 8191.5\n",
      "Warning: less than 75% gpu memory available for training. Free: 5687 Total: 8191.5\n",
      "Warning: less than 75% gpu memory available for training. Free: 5687 Total: 8191.5\n",
      "Warning: less than 75% gpu memory available for training. Free: 5687 Total: 8191.5\n",
      "Warning: less than 75% gpu memory available for training. Free: 5687 Total: 8191.5\n",
      "Warning: less than 75% gpu memory available for training. Free: 5687 Total: 8191.5\n",
      "Warning: less than 75% gpu memory available for training. Free: 5687 Total: 8191.5\n",
      "Warning: less than 75% gpu memory available for training. Free: 5687 Total: 8191.5\n",
      "Warning: less than 75% gpu memory available for training. Free: 5687 Total: 8191.5\n",
      "Warning: less than 75% gpu memory available for training. Free: 5687 Total: 8191.5\n",
      "Warning: less than 75% gpu memory available for training. Free: 5687 Total: 8191.5\n",
      "Warning: less than 75% gpu memory available for training. Free: 5687 Total: 8191.5\n",
      "Warning: less than 75% gpu memory available for training. Free: 5687 Total: 8191.5\n",
      "Warning: less than 75% gpu memory available for training. Free: 5687 Total: 8191.5\n",
      "Warning: less than 75% gpu memory available for training. Free: 5687 Total: 8191.5\n",
      "Warning: less than 75% gpu memory available for training. Free: 5687 Total: 8191.5\n",
      "Warning: less than 75% gpu memory available for training. Free: 5687 Total: 8191.5\n",
      "Warning: less than 75% gpu memory available for training. Free: 5687 Total: 8191.5\n",
      "Warning: less than 75% gpu memory available for training. Free: 5687 Total: 8191.5\n",
      "Warning: less than 75% gpu memory available for training. Free: 5687 Total: 8191.5\n",
      "Warning: less than 75% gpu memory available for training. Free: 5687 Total: 8191.5\n",
      "Warning: less than 75% gpu memory available for training. Free: 5687 Total: 8191.5\n",
      "Warning: less than 75% gpu memory available for training. Free: 5687 Total: 8191.5\n",
      "Warning: less than 75% gpu memory available for training. Free: 5687 Total: 8191.5\n",
      "Warning: less than 75% gpu memory available for training. Free: 5687 Total: 8191.5\n",
      "Warning: less than 75% gpu memory available for training. Free: 5687 Total: 8191.5\n",
      "Warning: less than 75% gpu memory available for training. Free: 5687 Total: 8191.5\n",
      "Warning: less than 75% gpu memory available for training. Free: 5687 Total: 8191.5\n",
      "Warning: less than 75% gpu memory available for training. Free: 5687 Total: 8191.5\n",
      "Warning: less than 75% gpu memory available for training. Free: 5687 Total: 8191.5\n",
      "Warning: less than 75% gpu memory available for training. Free: 5687 Total: 8191.5\n",
      "Warning: less than 75% gpu memory available for training. Free: 5687 Total: 8191.5\n",
      "Warning: less than 75% gpu memory available for training. Free: 5687 Total: 8191.5\n",
      "Warning: less than 75% gpu memory available for training. Free: 5687 Total: 8191.5\n",
      "Warning: less than 75% gpu memory available for training. Free: 5687 Total: 8191.5\n",
      "Warning: less than 75% gpu memory available for training. Free: 5687 Total: 8191.5\n",
      "Warning: less than 75% gpu memory available for training. Free: 5687 Total: 8191.5\n",
      "Warning: less than 75% gpu memory available for training. Free: 5687 Total: 8191.5\n",
      "Warning: less than 75% gpu memory available for training. Free: 5687 Total: 8191.5\n",
      "Warning: less than 75% gpu memory available for training. Free: 5687 Total: 8191.5\n",
      "Warning: less than 75% gpu memory available for training. Free: 5687 Total: 8191.5\n",
      "Warning: less than 75% gpu memory available for training. Free: 5687 Total: 8191.5\n",
      "Warning: less than 75% gpu memory available for training. Free: 5687 Total: 8191.5\n",
      "Warning: less than 75% gpu memory available for training. Free: 5687 Total: 8191.5\n",
      "Warning: less than 75% gpu memory available for training. Free: 5687 Total: 8191.5\n",
      "Warning: less than 75% gpu memory available for training. Free: 5687 Total: 8191.5\n",
      "Warning: less than 75% gpu memory available for training. Free: 5687 Total: 8191.5\n",
      "Warning: less than 75% gpu memory available for training. Free: 5687 Total: 8191.5\n",
      "Warning: less than 75% gpu memory available for training. Free: 5687 Total: 8191.5\n",
      "Warning: less than 75% gpu memory available for training. Free: 5687 Total: 8191.5\n",
      "Warning: less than 75% gpu memory available for training. Free: 5687 Total: 8191.5\n",
      "Warning: less than 75% gpu memory available for training. Free: 5687 Total: 8191.5\n",
      "Warning: less than 75% gpu memory available for training. Free: 5687 Total: 8191.5\n",
      "Warning: less than 75% gpu memory available for training. Free: 5687 Total: 8191.5\n",
      "Warning: less than 75% gpu memory available for training. Free: 5687 Total: 8191.5\n",
      "Warning: less than 75% gpu memory available for training. Free: 5687 Total: 8191.5\n",
      "Warning: less than 75% gpu memory available for training. Free: 5687 Total: 8191.5\n",
      "Warning: less than 75% gpu memory available for training. Free: 5687 Total: 8191.5\n",
      "Warning: less than 75% gpu memory available for training. Free: 5687 Total: 8191.5\n",
      "Warning: less than 75% gpu memory available for training. Free: 5687 Total: 8191.5\n",
      "Warning: less than 75% gpu memory available for training. Free: 5687 Total: 8191.5\n",
      "Warning: less than 75% gpu memory available for training. Free: 5687 Total: 8191.5\n",
      "Warning: less than 75% gpu memory available for training. Free: 5687 Total: 8191.5\n",
      "Warning: less than 75% gpu memory available for training. Free: 5687 Total: 8191.5\n",
      "Warning: less than 75% gpu memory available for training. Free: 5687 Total: 8191.5\n",
      "Warning: less than 75% gpu memory available for training. Free: 5687 Total: 8191.5\n",
      "Warning: less than 75% gpu memory available for training. Free: 5687 Total: 8191.5\n",
      "Warning: less than 75% gpu memory available for training. Free: 5687 Total: 8191.5\n",
      "Warning: less than 75% gpu memory available for training. Free: 5687 Total: 8191.5\n",
      "Warning: less than 75% gpu memory available for training. Free: 5687 Total: 8191.5\n",
      "Warning: less than 75% gpu memory available for training. Free: 5687 Total: 8191.5\n",
      "Warning: less than 75% gpu memory available for training. Free: 5687 Total: 8191.5\n",
      "Warning: less than 75% gpu memory available for training. Free: 5687 Total: 8191.5\n",
      "Warning: less than 75% gpu memory available for training. Free: 5687 Total: 8191.5\n",
      "Warning: less than 75% gpu memory available for training. Free: 5687 Total: 8191.5\n",
      "Warning: less than 75% gpu memory available for training. Free: 5687 Total: 8191.5\n",
      "Warning: less than 75% gpu memory available for training. Free: 5687 Total: 8191.5\n",
      "Warning: less than 75% gpu memory available for training. Free: 5687 Total: 8191.5\n",
      "Warning: less than 75% gpu memory available for training. Free: 5687 Total: 8191.5\n",
      "Warning: less than 75% gpu memory available for training. Free: 5687 Total: 8191.5\n",
      "Warning: less than 75% gpu memory available for training. Free: 5687 Total: 8191.5\n",
      "Warning: less than 75% gpu memory available for training. Free: 5687 Total: 8191.5\n",
      "Warning: less than 75% gpu memory available for training. Free: 5687 Total: 8191.5\n",
      "Warning: less than 75% gpu memory available for training. Free: 5687 Total: 8191.5\n",
      "Warning: less than 75% gpu memory available for training. Free: 5687 Total: 8191.5\n",
      "Warning: less than 75% gpu memory available for training. Free: 5687 Total: 8191.5\n",
      "Warning: less than 75% gpu memory available for training. Free: 5687 Total: 8191.5\n",
      "Warning: less than 75% gpu memory available for training. Free: 5687 Total: 8191.5\n",
      "Warning: less than 75% gpu memory available for training. Free: 5687 Total: 8191.5\n",
      "Warning: less than 75% gpu memory available for training. Free: 5687 Total: 8191.5\n",
      "Warning: less than 75% gpu memory available for training. Free: 5687 Total: 8191.5\n",
      "Warning: less than 75% gpu memory available for training. Free: 5687 Total: 8191.5\n",
      "Warning: less than 75% gpu memory available for training. Free: 5687 Total: 8191.5\n",
      "Warning: less than 75% gpu memory available for training. Free: 5687 Total: 8191.5\n",
      "Warning: less than 75% gpu memory available for training. Free: 5687 Total: 8191.5\n",
      "Warning: less than 75% gpu memory available for training. Free: 5687 Total: 8191.5\n",
      "Warning: less than 75% gpu memory available for training. Free: 5687 Total: 8191.5\n",
      "Warning: less than 75% gpu memory available for training. Free: 5687 Total: 8191.5\n",
      "Warning: less than 75% gpu memory available for training. Free: 5687 Total: 8191.5\n",
      "Warning: less than 75% gpu memory available for training. Free: 5687 Total: 8191.5\n",
      "Warning: less than 75% gpu memory available for training. Free: 5687 Total: 8191.5\n",
      "Warning: less than 75% gpu memory available for training. Free: 5687 Total: 8191.5\n",
      "Warning: less than 75% gpu memory available for training. Free: 5687 Total: 8191.5\n",
      "Warning: less than 75% gpu memory available for training. Free: 5687 Total: 8191.5\n",
      "Warning: less than 75% gpu memory available for training. Free: 5687 Total: 8191.5\n",
      "Warning: less than 75% gpu memory available for training. Free: 5687 Total: 8191.5\n",
      "Warning: less than 75% gpu memory available for training. Free: 5687 Total: 8191.5\n",
      "Warning: less than 75% gpu memory available for training. Free: 5687 Total: 8191.5\n",
      "Warning: less than 75% gpu memory available for training. Free: 5687 Total: 8191.5\n",
      "Warning: less than 75% gpu memory available for training. Free: 5687 Total: 8191.5\n"
     ]
    },
    {
     "data": {
      "application/vnd.jupyter.widget-view+json": {
       "model_id": "cf5d322a51e5457ab8427a80917c94b6",
       "version_major": 2,
       "version_minor": 0
      },
      "text/plain": [
       "  0%|          | 0/140 [00:00<?, ?it/s]"
      ]
     },
     "metadata": {},
     "output_type": "display_data"
    },
    {
     "name": "stdout",
     "output_type": "stream",
     "text": [
      "Model saved\n"
     ]
    },
    {
     "data": {
      "application/vnd.jupyter.widget-view+json": {
       "model_id": "5bc83b72810d4e7098ae686a615d69fe",
       "version_major": 2,
       "version_minor": 0
      },
      "text/plain": [
       "  0%|          | 0/140 [00:00<?, ?it/s]"
      ]
     },
     "metadata": {},
     "output_type": "display_data"
    },
    {
     "name": "stdout",
     "output_type": "stream",
     "text": [
      "Model loaded\n"
     ]
    },
    {
     "data": {
      "application/vnd.jupyter.widget-view+json": {
       "model_id": "2fbbd89d389a4ab1a6dc53f3c4d46aa9",
       "version_major": 2,
       "version_minor": 0
      },
      "text/plain": [
       "  0%|          | 0/140 [00:00<?, ?it/s]"
      ]
     },
     "metadata": {},
     "output_type": "display_data"
    },
    {
     "data": {
      "application/vnd.jupyter.widget-view+json": {
       "model_id": "9adeb215d1994710a71a8ab7ea3d1496",
       "version_major": 2,
       "version_minor": 0
      },
      "text/plain": [
       "  0%|          | 0/140 [00:00<?, ?it/s]"
      ]
     },
     "metadata": {},
     "output_type": "display_data"
    },
    {
     "name": "stdout",
     "output_type": "stream",
     "text": [
      "Model loaded\n"
     ]
    },
    {
     "data": {
      "application/vnd.jupyter.widget-view+json": {
       "model_id": "f692ec9c07604cdb8708f367e55ddf1f",
       "version_major": 2,
       "version_minor": 0
      },
      "text/plain": [
       "  0%|          | 0/140 [00:00<?, ?it/s]"
      ]
     },
     "metadata": {},
     "output_type": "display_data"
    },
    {
     "name": "stdout",
     "output_type": "stream",
     "text": [
      "catboost ./results/2/layer_2/0 CV score: 0.895302853003496\n",
      "NN Fold ./results/2/layer_2/0..\n"
     ]
    },
    {
     "data": {
      "application/vnd.jupyter.widget-view+json": {
       "model_id": "4e71562034874737bf61eb6a917c283f",
       "version_major": 2,
       "version_minor": 0
      },
      "text/plain": [
       "  0%|          | 0/100 [00:00<?, ?it/s]"
      ]
     },
     "metadata": {},
     "output_type": "display_data"
    },
    {
     "name": "stdout",
     "output_type": "stream",
     "text": [
      "torch ./results/2/layer_2/0 CV score: 0.8935711297333334\n",
      "CNN Fold ./results/2/layer_2/1..\n"
     ]
    },
    {
     "data": {
      "application/vnd.jupyter.widget-view+json": {
       "model_id": "07902bd68c7642c7bd3f6884c457603d",
       "version_major": 2,
       "version_minor": 0
      },
      "text/plain": [
       "  0%|          | 0/100 [00:00<?, ?it/s]"
      ]
     },
     "metadata": {},
     "output_type": "display_data"
    },
    {
     "name": "stdout",
     "output_type": "stream",
     "text": [
      "CNN ./results/2/layer_2/1 CV score: 0.8939385572208007\n",
      "Catboost Fold ./results/2/layer_2/1..\n"
     ]
    },
    {
     "data": {
      "application/vnd.jupyter.widget-view+json": {
       "model_id": "38920cfedb4243eca15c163c45943664",
       "version_major": 2,
       "version_minor": 0
      },
      "text/plain": [
       "  0%|          | 0/140 [00:00<?, ?it/s]"
      ]
     },
     "metadata": {},
     "output_type": "display_data"
    },
    {
     "name": "stderr",
     "output_type": "stream",
     "text": [
      "Warning: less than 75% gpu memory available for training. Free: 5687 Total: 8191.5\n",
      "Warning: less than 75% gpu memory available for training. Free: 5687 Total: 8191.5\n",
      "Warning: less than 75% gpu memory available for training. Free: 5687 Total: 8191.5\n",
      "Warning: less than 75% gpu memory available for training. Free: 5687 Total: 8191.5\n",
      "Warning: less than 75% gpu memory available for training. Free: 5687 Total: 8191.5\n",
      "Warning: less than 75% gpu memory available for training. Free: 5687 Total: 8191.5\n",
      "Warning: less than 75% gpu memory available for training. Free: 5687 Total: 8191.5\n",
      "Warning: less than 75% gpu memory available for training. Free: 5687 Total: 8191.5\n",
      "Warning: less than 75% gpu memory available for training. Free: 5687 Total: 8191.5\n",
      "Warning: less than 75% gpu memory available for training. Free: 5687 Total: 8191.5\n",
      "Warning: less than 75% gpu memory available for training. Free: 5687 Total: 8191.5\n",
      "Warning: less than 75% gpu memory available for training. Free: 5687 Total: 8191.5\n",
      "Warning: less than 75% gpu memory available for training. Free: 5687 Total: 8191.5\n",
      "Warning: less than 75% gpu memory available for training. Free: 5687 Total: 8191.5\n",
      "Warning: less than 75% gpu memory available for training. Free: 5687 Total: 8191.5\n",
      "Warning: less than 75% gpu memory available for training. Free: 5687 Total: 8191.5\n",
      "Warning: less than 75% gpu memory available for training. Free: 5687 Total: 8191.5\n",
      "Warning: less than 75% gpu memory available for training. Free: 5687 Total: 8191.5\n",
      "Warning: less than 75% gpu memory available for training. Free: 5687 Total: 8191.5\n",
      "Warning: less than 75% gpu memory available for training. Free: 5687 Total: 8191.5\n",
      "Warning: less than 75% gpu memory available for training. Free: 5687 Total: 8191.5\n",
      "Warning: less than 75% gpu memory available for training. Free: 5687 Total: 8191.5\n",
      "Warning: less than 75% gpu memory available for training. Free: 5687 Total: 8191.5\n",
      "Warning: less than 75% gpu memory available for training. Free: 5687 Total: 8191.5\n",
      "Warning: less than 75% gpu memory available for training. Free: 5687 Total: 8191.5\n",
      "Warning: less than 75% gpu memory available for training. Free: 5687 Total: 8191.5\n",
      "Warning: less than 75% gpu memory available for training. Free: 5687 Total: 8191.5\n",
      "Warning: less than 75% gpu memory available for training. Free: 5687 Total: 8191.5\n",
      "Warning: less than 75% gpu memory available for training. Free: 5687 Total: 8191.5\n",
      "Warning: less than 75% gpu memory available for training. Free: 5687 Total: 8191.5\n",
      "Warning: less than 75% gpu memory available for training. Free: 5687 Total: 8191.5\n",
      "Warning: less than 75% gpu memory available for training. Free: 5687 Total: 8191.5\n",
      "Warning: less than 75% gpu memory available for training. Free: 5687 Total: 8191.5\n",
      "Warning: less than 75% gpu memory available for training. Free: 5687 Total: 8191.5\n",
      "Warning: less than 75% gpu memory available for training. Free: 5687 Total: 8191.5\n",
      "Warning: less than 75% gpu memory available for training. Free: 5687 Total: 8191.5\n",
      "Warning: less than 75% gpu memory available for training. Free: 5687 Total: 8191.5\n",
      "Warning: less than 75% gpu memory available for training. Free: 5687 Total: 8191.5\n",
      "Warning: less than 75% gpu memory available for training. Free: 5687 Total: 8191.5\n",
      "Warning: less than 75% gpu memory available for training. Free: 5687 Total: 8191.5\n",
      "Warning: less than 75% gpu memory available for training. Free: 5687 Total: 8191.5\n",
      "Warning: less than 75% gpu memory available for training. Free: 5687 Total: 8191.5\n",
      "Warning: less than 75% gpu memory available for training. Free: 5687 Total: 8191.5\n",
      "Warning: less than 75% gpu memory available for training. Free: 5687 Total: 8191.5\n",
      "Warning: less than 75% gpu memory available for training. Free: 5687 Total: 8191.5\n",
      "Warning: less than 75% gpu memory available for training. Free: 5687 Total: 8191.5\n",
      "Warning: less than 75% gpu memory available for training. Free: 5687 Total: 8191.5\n",
      "Warning: less than 75% gpu memory available for training. Free: 5687 Total: 8191.5\n",
      "Warning: less than 75% gpu memory available for training. Free: 5687 Total: 8191.5\n",
      "Warning: less than 75% gpu memory available for training. Free: 5687 Total: 8191.5\n",
      "Warning: less than 75% gpu memory available for training. Free: 5687 Total: 8191.5\n",
      "Warning: less than 75% gpu memory available for training. Free: 5687 Total: 8191.5\n",
      "Warning: less than 75% gpu memory available for training. Free: 5687 Total: 8191.5\n",
      "Warning: less than 75% gpu memory available for training. Free: 5687 Total: 8191.5\n",
      "Warning: less than 75% gpu memory available for training. Free: 5687 Total: 8191.5\n",
      "Warning: less than 75% gpu memory available for training. Free: 5687 Total: 8191.5\n",
      "Warning: less than 75% gpu memory available for training. Free: 5687 Total: 8191.5\n",
      "Warning: less than 75% gpu memory available for training. Free: 5687 Total: 8191.5\n",
      "Warning: less than 75% gpu memory available for training. Free: 5687 Total: 8191.5\n",
      "Warning: less than 75% gpu memory available for training. Free: 5687 Total: 8191.5\n",
      "Warning: less than 75% gpu memory available for training. Free: 5687 Total: 8191.5\n",
      "Warning: less than 75% gpu memory available for training. Free: 5687 Total: 8191.5\n",
      "Warning: less than 75% gpu memory available for training. Free: 5687 Total: 8191.5\n",
      "Warning: less than 75% gpu memory available for training. Free: 5687 Total: 8191.5\n",
      "Warning: less than 75% gpu memory available for training. Free: 5687 Total: 8191.5\n",
      "Warning: less than 75% gpu memory available for training. Free: 5687 Total: 8191.5\n",
      "Warning: less than 75% gpu memory available for training. Free: 5687 Total: 8191.5\n",
      "Warning: less than 75% gpu memory available for training. Free: 5687 Total: 8191.5\n",
      "Warning: less than 75% gpu memory available for training. Free: 5687 Total: 8191.5\n",
      "Warning: less than 75% gpu memory available for training. Free: 5687 Total: 8191.5\n",
      "Warning: less than 75% gpu memory available for training. Free: 5687 Total: 8191.5\n",
      "Warning: less than 75% gpu memory available for training. Free: 5687 Total: 8191.5\n",
      "Warning: less than 75% gpu memory available for training. Free: 5687 Total: 8191.5\n",
      "Warning: less than 75% gpu memory available for training. Free: 5687 Total: 8191.5\n",
      "Warning: less than 75% gpu memory available for training. Free: 5687 Total: 8191.5\n",
      "Warning: less than 75% gpu memory available for training. Free: 5687 Total: 8191.5\n",
      "Warning: less than 75% gpu memory available for training. Free: 5687 Total: 8191.5\n",
      "Warning: less than 75% gpu memory available for training. Free: 5687 Total: 8191.5\n",
      "Warning: less than 75% gpu memory available for training. Free: 5687 Total: 8191.5\n",
      "Warning: less than 75% gpu memory available for training. Free: 5687 Total: 8191.5\n",
      "Warning: less than 75% gpu memory available for training. Free: 5687 Total: 8191.5\n",
      "Warning: less than 75% gpu memory available for training. Free: 5687 Total: 8191.5\n",
      "Warning: less than 75% gpu memory available for training. Free: 5687 Total: 8191.5\n",
      "Warning: less than 75% gpu memory available for training. Free: 5687 Total: 8191.5\n",
      "Warning: less than 75% gpu memory available for training. Free: 5687 Total: 8191.5\n",
      "Warning: less than 75% gpu memory available for training. Free: 5687 Total: 8191.5\n",
      "Warning: less than 75% gpu memory available for training. Free: 5687 Total: 8191.5\n",
      "Warning: less than 75% gpu memory available for training. Free: 5687 Total: 8191.5\n",
      "Warning: less than 75% gpu memory available for training. Free: 5687 Total: 8191.5\n",
      "Warning: less than 75% gpu memory available for training. Free: 5687 Total: 8191.5\n",
      "Warning: less than 75% gpu memory available for training. Free: 5687 Total: 8191.5\n",
      "Warning: less than 75% gpu memory available for training. Free: 5687 Total: 8191.5\n",
      "Warning: less than 75% gpu memory available for training. Free: 5687 Total: 8191.5\n",
      "Warning: less than 75% gpu memory available for training. Free: 5687 Total: 8191.5\n",
      "Warning: less than 75% gpu memory available for training. Free: 5687 Total: 8191.5\n",
      "Warning: less than 75% gpu memory available for training. Free: 5687 Total: 8191.5\n",
      "Warning: less than 75% gpu memory available for training. Free: 5687 Total: 8191.5\n",
      "Warning: less than 75% gpu memory available for training. Free: 5687 Total: 8191.5\n",
      "Warning: less than 75% gpu memory available for training. Free: 5687 Total: 8191.5\n",
      "Warning: less than 75% gpu memory available for training. Free: 5687 Total: 8191.5\n",
      "Warning: less than 75% gpu memory available for training. Free: 5687 Total: 8191.5\n",
      "Warning: less than 75% gpu memory available for training. Free: 5687 Total: 8191.5\n",
      "Warning: less than 75% gpu memory available for training. Free: 5687 Total: 8191.5\n",
      "Warning: less than 75% gpu memory available for training. Free: 5687 Total: 8191.5\n",
      "Warning: less than 75% gpu memory available for training. Free: 5687 Total: 8191.5\n",
      "Warning: less than 75% gpu memory available for training. Free: 5687 Total: 8191.5\n",
      "Warning: less than 75% gpu memory available for training. Free: 5687 Total: 8191.5\n",
      "Warning: less than 75% gpu memory available for training. Free: 5687 Total: 8191.5\n",
      "Warning: less than 75% gpu memory available for training. Free: 5687 Total: 8191.5\n",
      "Warning: less than 75% gpu memory available for training. Free: 5687 Total: 8191.5\n",
      "Warning: less than 75% gpu memory available for training. Free: 5687 Total: 8191.5\n",
      "Warning: less than 75% gpu memory available for training. Free: 5687 Total: 8191.5\n",
      "Warning: less than 75% gpu memory available for training. Free: 5687 Total: 8191.5\n",
      "Warning: less than 75% gpu memory available for training. Free: 5687 Total: 8191.5\n",
      "Warning: less than 75% gpu memory available for training. Free: 5687 Total: 8191.5\n",
      "Warning: less than 75% gpu memory available for training. Free: 5687 Total: 8191.5\n",
      "Warning: less than 75% gpu memory available for training. Free: 5687 Total: 8191.5\n",
      "Warning: less than 75% gpu memory available for training. Free: 5687 Total: 8191.5\n",
      "Warning: less than 75% gpu memory available for training. Free: 5687 Total: 8191.5\n",
      "Warning: less than 75% gpu memory available for training. Free: 5687 Total: 8191.5\n",
      "Warning: less than 75% gpu memory available for training. Free: 5687 Total: 8191.5\n",
      "Warning: less than 75% gpu memory available for training. Free: 5687 Total: 8191.5\n",
      "Warning: less than 75% gpu memory available for training. Free: 5687 Total: 8191.5\n",
      "Warning: less than 75% gpu memory available for training. Free: 5687 Total: 8191.5\n",
      "Warning: less than 75% gpu memory available for training. Free: 5687 Total: 8191.5\n",
      "Warning: less than 75% gpu memory available for training. Free: 5687 Total: 8191.5\n",
      "Warning: less than 75% gpu memory available for training. Free: 5687 Total: 8191.5\n",
      "Warning: less than 75% gpu memory available for training. Free: 5687 Total: 8191.5\n",
      "Warning: less than 75% gpu memory available for training. Free: 5687 Total: 8191.5\n",
      "Warning: less than 75% gpu memory available for training. Free: 5687 Total: 8191.5\n",
      "Warning: less than 75% gpu memory available for training. Free: 5687 Total: 8191.5\n",
      "Warning: less than 75% gpu memory available for training. Free: 5687 Total: 8191.5\n",
      "Warning: less than 75% gpu memory available for training. Free: 5687 Total: 8191.5\n",
      "Warning: less than 75% gpu memory available for training. Free: 5687 Total: 8191.5\n",
      "Warning: less than 75% gpu memory available for training. Free: 5687 Total: 8191.5\n",
      "Warning: less than 75% gpu memory available for training. Free: 5687 Total: 8191.5\n",
      "Warning: less than 75% gpu memory available for training. Free: 5687 Total: 8191.5\n",
      "Warning: less than 75% gpu memory available for training. Free: 5687 Total: 8191.5\n",
      "Warning: less than 75% gpu memory available for training. Free: 5687 Total: 8191.5\n",
      "Warning: less than 75% gpu memory available for training. Free: 5687 Total: 8191.5\n"
     ]
    },
    {
     "data": {
      "application/vnd.jupyter.widget-view+json": {
       "model_id": "96f979da8e26479ebc65d70f63961dce",
       "version_major": 2,
       "version_minor": 0
      },
      "text/plain": [
       "  0%|          | 0/140 [00:00<?, ?it/s]"
      ]
     },
     "metadata": {},
     "output_type": "display_data"
    },
    {
     "name": "stdout",
     "output_type": "stream",
     "text": [
      "Model saved\n"
     ]
    },
    {
     "data": {
      "application/vnd.jupyter.widget-view+json": {
       "model_id": "d9f19b2a08f341cbbf3f39e02a255628",
       "version_major": 2,
       "version_minor": 0
      },
      "text/plain": [
       "  0%|          | 0/140 [00:00<?, ?it/s]"
      ]
     },
     "metadata": {},
     "output_type": "display_data"
    },
    {
     "name": "stdout",
     "output_type": "stream",
     "text": [
      "Model loaded\n"
     ]
    },
    {
     "data": {
      "application/vnd.jupyter.widget-view+json": {
       "model_id": "2dde877259ac4dcbb2af1adcb7521343",
       "version_major": 2,
       "version_minor": 0
      },
      "text/plain": [
       "  0%|          | 0/140 [00:00<?, ?it/s]"
      ]
     },
     "metadata": {},
     "output_type": "display_data"
    },
    {
     "data": {
      "application/vnd.jupyter.widget-view+json": {
       "model_id": "aef793cfa61c46f1bf42f8986959f9cf",
       "version_major": 2,
       "version_minor": 0
      },
      "text/plain": [
       "  0%|          | 0/140 [00:00<?, ?it/s]"
      ]
     },
     "metadata": {},
     "output_type": "display_data"
    },
    {
     "name": "stdout",
     "output_type": "stream",
     "text": [
      "Model loaded\n"
     ]
    },
    {
     "data": {
      "application/vnd.jupyter.widget-view+json": {
       "model_id": "dac1d041a8bb4269856b25de7e05ea45",
       "version_major": 2,
       "version_minor": 0
      },
      "text/plain": [
       "  0%|          | 0/140 [00:00<?, ?it/s]"
      ]
     },
     "metadata": {},
     "output_type": "display_data"
    },
    {
     "name": "stdout",
     "output_type": "stream",
     "text": [
      "catboost ./results/2/layer_2/1 CV score: 0.8957169451463115\n",
      "NN Fold ./results/2/layer_2/1..\n"
     ]
    },
    {
     "data": {
      "application/vnd.jupyter.widget-view+json": {
       "model_id": "118bece9182249ebae6a5020fa5738f7",
       "version_major": 2,
       "version_minor": 0
      },
      "text/plain": [
       "  0%|          | 0/100 [00:00<?, ?it/s]"
      ]
     },
     "metadata": {},
     "output_type": "display_data"
    },
    {
     "name": "stdout",
     "output_type": "stream",
     "text": [
      "torch ./results/2/layer_2/1 CV score: 0.8940260603500705\n",
      "CNN Fold ./results/2/layer_2/2..\n"
     ]
    },
    {
     "data": {
      "application/vnd.jupyter.widget-view+json": {
       "model_id": "500ea6dc95dd4266aa62764d9c0644d7",
       "version_major": 2,
       "version_minor": 0
      },
      "text/plain": [
       "  0%|          | 0/100 [00:00<?, ?it/s]"
      ]
     },
     "metadata": {},
     "output_type": "display_data"
    },
    {
     "name": "stdout",
     "output_type": "stream",
     "text": [
      "CNN ./results/2/layer_2/2 CV score: 0.8933221678239247\n",
      "Catboost Fold ./results/2/layer_2/2..\n"
     ]
    },
    {
     "data": {
      "application/vnd.jupyter.widget-view+json": {
       "model_id": "b87430f86eae417d8a83cf9a98d28a2b",
       "version_major": 2,
       "version_minor": 0
      },
      "text/plain": [
       "  0%|          | 0/140 [00:00<?, ?it/s]"
      ]
     },
     "metadata": {},
     "output_type": "display_data"
    },
    {
     "name": "stderr",
     "output_type": "stream",
     "text": [
      "Warning: less than 75% gpu memory available for training. Free: 5687 Total: 8191.5\n",
      "Warning: less than 75% gpu memory available for training. Free: 5687 Total: 8191.5\n",
      "Warning: less than 75% gpu memory available for training. Free: 5687 Total: 8191.5\n",
      "Warning: less than 75% gpu memory available for training. Free: 5687 Total: 8191.5\n",
      "Warning: less than 75% gpu memory available for training. Free: 5687 Total: 8191.5\n",
      "Warning: less than 75% gpu memory available for training. Free: 5687 Total: 8191.5\n",
      "Warning: less than 75% gpu memory available for training. Free: 5687 Total: 8191.5\n",
      "Warning: less than 75% gpu memory available for training. Free: 5687 Total: 8191.5\n",
      "Warning: less than 75% gpu memory available for training. Free: 5687 Total: 8191.5\n",
      "Warning: less than 75% gpu memory available for training. Free: 5687 Total: 8191.5\n",
      "Warning: less than 75% gpu memory available for training. Free: 5687 Total: 8191.5\n",
      "Warning: less than 75% gpu memory available for training. Free: 5687 Total: 8191.5\n",
      "Warning: less than 75% gpu memory available for training. Free: 5687 Total: 8191.5\n",
      "Warning: less than 75% gpu memory available for training. Free: 5687 Total: 8191.5\n",
      "Warning: less than 75% gpu memory available for training. Free: 5687 Total: 8191.5\n",
      "Warning: less than 75% gpu memory available for training. Free: 5687 Total: 8191.5\n",
      "Warning: less than 75% gpu memory available for training. Free: 5687 Total: 8191.5\n",
      "Warning: less than 75% gpu memory available for training. Free: 5687 Total: 8191.5\n",
      "Warning: less than 75% gpu memory available for training. Free: 5687 Total: 8191.5\n",
      "Warning: less than 75% gpu memory available for training. Free: 5687 Total: 8191.5\n",
      "Warning: less than 75% gpu memory available for training. Free: 5687 Total: 8191.5\n",
      "Warning: less than 75% gpu memory available for training. Free: 5687 Total: 8191.5\n",
      "Warning: less than 75% gpu memory available for training. Free: 5687 Total: 8191.5\n",
      "Warning: less than 75% gpu memory available for training. Free: 5687 Total: 8191.5\n",
      "Warning: less than 75% gpu memory available for training. Free: 5687 Total: 8191.5\n",
      "Warning: less than 75% gpu memory available for training. Free: 5687 Total: 8191.5\n",
      "Warning: less than 75% gpu memory available for training. Free: 5687 Total: 8191.5\n",
      "Warning: less than 75% gpu memory available for training. Free: 5687 Total: 8191.5\n",
      "Warning: less than 75% gpu memory available for training. Free: 5687 Total: 8191.5\n",
      "Warning: less than 75% gpu memory available for training. Free: 5687 Total: 8191.5\n",
      "Warning: less than 75% gpu memory available for training. Free: 5687 Total: 8191.5\n",
      "Warning: less than 75% gpu memory available for training. Free: 5687 Total: 8191.5\n",
      "Warning: less than 75% gpu memory available for training. Free: 5687 Total: 8191.5\n",
      "Warning: less than 75% gpu memory available for training. Free: 5687 Total: 8191.5\n",
      "Warning: less than 75% gpu memory available for training. Free: 5687 Total: 8191.5\n",
      "Warning: less than 75% gpu memory available for training. Free: 5687 Total: 8191.5\n",
      "Warning: less than 75% gpu memory available for training. Free: 5687 Total: 8191.5\n",
      "Warning: less than 75% gpu memory available for training. Free: 5687 Total: 8191.5\n",
      "Warning: less than 75% gpu memory available for training. Free: 5687 Total: 8191.5\n",
      "Warning: less than 75% gpu memory available for training. Free: 5687 Total: 8191.5\n",
      "Warning: less than 75% gpu memory available for training. Free: 5687 Total: 8191.5\n",
      "Warning: less than 75% gpu memory available for training. Free: 5687 Total: 8191.5\n",
      "Warning: less than 75% gpu memory available for training. Free: 5687 Total: 8191.5\n",
      "Warning: less than 75% gpu memory available for training. Free: 5687 Total: 8191.5\n",
      "Warning: less than 75% gpu memory available for training. Free: 5687 Total: 8191.5\n",
      "Warning: less than 75% gpu memory available for training. Free: 5687 Total: 8191.5\n",
      "Warning: less than 75% gpu memory available for training. Free: 5687 Total: 8191.5\n",
      "Warning: less than 75% gpu memory available for training. Free: 5687 Total: 8191.5\n",
      "Warning: less than 75% gpu memory available for training. Free: 5687 Total: 8191.5\n",
      "Warning: less than 75% gpu memory available for training. Free: 5687 Total: 8191.5\n",
      "Warning: less than 75% gpu memory available for training. Free: 5687 Total: 8191.5\n",
      "Warning: less than 75% gpu memory available for training. Free: 5687 Total: 8191.5\n",
      "Warning: less than 75% gpu memory available for training. Free: 5687 Total: 8191.5\n",
      "Warning: less than 75% gpu memory available for training. Free: 5687 Total: 8191.5\n",
      "Warning: less than 75% gpu memory available for training. Free: 5687 Total: 8191.5\n",
      "Warning: less than 75% gpu memory available for training. Free: 5687 Total: 8191.5\n",
      "Warning: less than 75% gpu memory available for training. Free: 5687 Total: 8191.5\n",
      "Warning: less than 75% gpu memory available for training. Free: 5687 Total: 8191.5\n",
      "Warning: less than 75% gpu memory available for training. Free: 5687 Total: 8191.5\n",
      "Warning: less than 75% gpu memory available for training. Free: 5687 Total: 8191.5\n",
      "Warning: less than 75% gpu memory available for training. Free: 5687 Total: 8191.5\n",
      "Warning: less than 75% gpu memory available for training. Free: 5687 Total: 8191.5\n",
      "Warning: less than 75% gpu memory available for training. Free: 5687 Total: 8191.5\n",
      "Warning: less than 75% gpu memory available for training. Free: 5687 Total: 8191.5\n",
      "Warning: less than 75% gpu memory available for training. Free: 5687 Total: 8191.5\n",
      "Warning: less than 75% gpu memory available for training. Free: 5687 Total: 8191.5\n",
      "Warning: less than 75% gpu memory available for training. Free: 5687 Total: 8191.5\n",
      "Warning: less than 75% gpu memory available for training. Free: 5687 Total: 8191.5\n",
      "Warning: less than 75% gpu memory available for training. Free: 5687 Total: 8191.5\n",
      "Warning: less than 75% gpu memory available for training. Free: 5687 Total: 8191.5\n",
      "Warning: less than 75% gpu memory available for training. Free: 5687 Total: 8191.5\n",
      "Warning: less than 75% gpu memory available for training. Free: 5687 Total: 8191.5\n",
      "Warning: less than 75% gpu memory available for training. Free: 5687 Total: 8191.5\n",
      "Warning: less than 75% gpu memory available for training. Free: 5687 Total: 8191.5\n",
      "Warning: less than 75% gpu memory available for training. Free: 5687 Total: 8191.5\n",
      "Warning: less than 75% gpu memory available for training. Free: 5687 Total: 8191.5\n",
      "Warning: less than 75% gpu memory available for training. Free: 5687 Total: 8191.5\n",
      "Warning: less than 75% gpu memory available for training. Free: 5687 Total: 8191.5\n",
      "Warning: less than 75% gpu memory available for training. Free: 5687 Total: 8191.5\n",
      "Warning: less than 75% gpu memory available for training. Free: 5687 Total: 8191.5\n",
      "Warning: less than 75% gpu memory available for training. Free: 5687 Total: 8191.5\n",
      "Warning: less than 75% gpu memory available for training. Free: 5687 Total: 8191.5\n",
      "Warning: less than 75% gpu memory available for training. Free: 5687 Total: 8191.5\n",
      "Warning: less than 75% gpu memory available for training. Free: 5687 Total: 8191.5\n",
      "Warning: less than 75% gpu memory available for training. Free: 5687 Total: 8191.5\n",
      "Warning: less than 75% gpu memory available for training. Free: 5687 Total: 8191.5\n",
      "Warning: less than 75% gpu memory available for training. Free: 5687 Total: 8191.5\n",
      "Warning: less than 75% gpu memory available for training. Free: 5687 Total: 8191.5\n",
      "Warning: less than 75% gpu memory available for training. Free: 5687 Total: 8191.5\n",
      "Warning: less than 75% gpu memory available for training. Free: 5687 Total: 8191.5\n",
      "Warning: less than 75% gpu memory available for training. Free: 5687 Total: 8191.5\n",
      "Warning: less than 75% gpu memory available for training. Free: 5687 Total: 8191.5\n",
      "Warning: less than 75% gpu memory available for training. Free: 5687 Total: 8191.5\n",
      "Warning: less than 75% gpu memory available for training. Free: 5687 Total: 8191.5\n",
      "Warning: less than 75% gpu memory available for training. Free: 5687 Total: 8191.5\n",
      "Warning: less than 75% gpu memory available for training. Free: 5687 Total: 8191.5\n",
      "Warning: less than 75% gpu memory available for training. Free: 5687 Total: 8191.5\n",
      "Warning: less than 75% gpu memory available for training. Free: 5687 Total: 8191.5\n",
      "Warning: less than 75% gpu memory available for training. Free: 5687 Total: 8191.5\n",
      "Warning: less than 75% gpu memory available for training. Free: 5687 Total: 8191.5\n",
      "Warning: less than 75% gpu memory available for training. Free: 5687 Total: 8191.5\n",
      "Warning: less than 75% gpu memory available for training. Free: 5687 Total: 8191.5\n",
      "Warning: less than 75% gpu memory available for training. Free: 5687 Total: 8191.5\n",
      "Warning: less than 75% gpu memory available for training. Free: 5687 Total: 8191.5\n",
      "Warning: less than 75% gpu memory available for training. Free: 5687 Total: 8191.5\n",
      "Warning: less than 75% gpu memory available for training. Free: 5687 Total: 8191.5\n",
      "Warning: less than 75% gpu memory available for training. Free: 5687 Total: 8191.5\n",
      "Warning: less than 75% gpu memory available for training. Free: 5687 Total: 8191.5\n",
      "Warning: less than 75% gpu memory available for training. Free: 5687 Total: 8191.5\n",
      "Warning: less than 75% gpu memory available for training. Free: 5687 Total: 8191.5\n",
      "Warning: less than 75% gpu memory available for training. Free: 5687 Total: 8191.5\n",
      "Warning: less than 75% gpu memory available for training. Free: 5687 Total: 8191.5\n",
      "Warning: less than 75% gpu memory available for training. Free: 5687 Total: 8191.5\n",
      "Warning: less than 75% gpu memory available for training. Free: 5687 Total: 8191.5\n",
      "Warning: less than 75% gpu memory available for training. Free: 5687 Total: 8191.5\n",
      "Warning: less than 75% gpu memory available for training. Free: 5687 Total: 8191.5\n",
      "Warning: less than 75% gpu memory available for training. Free: 5687 Total: 8191.5\n",
      "Warning: less than 75% gpu memory available for training. Free: 5687 Total: 8191.5\n",
      "Warning: less than 75% gpu memory available for training. Free: 5687 Total: 8191.5\n",
      "Warning: less than 75% gpu memory available for training. Free: 5687 Total: 8191.5\n",
      "Warning: less than 75% gpu memory available for training. Free: 5687 Total: 8191.5\n",
      "Warning: less than 75% gpu memory available for training. Free: 5687 Total: 8191.5\n",
      "Warning: less than 75% gpu memory available for training. Free: 5687 Total: 8191.5\n",
      "Warning: less than 75% gpu memory available for training. Free: 5687 Total: 8191.5\n",
      "Warning: less than 75% gpu memory available for training. Free: 5687 Total: 8191.5\n",
      "Warning: less than 75% gpu memory available for training. Free: 5687 Total: 8191.5\n",
      "Warning: less than 75% gpu memory available for training. Free: 5687 Total: 8191.5\n",
      "Warning: less than 75% gpu memory available for training. Free: 5687 Total: 8191.5\n",
      "Warning: less than 75% gpu memory available for training. Free: 5687 Total: 8191.5\n",
      "Warning: less than 75% gpu memory available for training. Free: 5687 Total: 8191.5\n",
      "Warning: less than 75% gpu memory available for training. Free: 5687 Total: 8191.5\n",
      "Warning: less than 75% gpu memory available for training. Free: 5687 Total: 8191.5\n",
      "Warning: less than 75% gpu memory available for training. Free: 5687 Total: 8191.5\n",
      "Warning: less than 75% gpu memory available for training. Free: 5687 Total: 8191.5\n",
      "Warning: less than 75% gpu memory available for training. Free: 5687 Total: 8191.5\n",
      "Warning: less than 75% gpu memory available for training. Free: 5687 Total: 8191.5\n",
      "Warning: less than 75% gpu memory available for training. Free: 5687 Total: 8191.5\n",
      "Warning: less than 75% gpu memory available for training. Free: 5687 Total: 8191.5\n",
      "Warning: less than 75% gpu memory available for training. Free: 5687 Total: 8191.5\n",
      "Warning: less than 75% gpu memory available for training. Free: 5687 Total: 8191.5\n"
     ]
    },
    {
     "data": {
      "application/vnd.jupyter.widget-view+json": {
       "model_id": "db2b4dff036644dfb63111896d7e76bd",
       "version_major": 2,
       "version_minor": 0
      },
      "text/plain": [
       "  0%|          | 0/140 [00:00<?, ?it/s]"
      ]
     },
     "metadata": {},
     "output_type": "display_data"
    },
    {
     "name": "stdout",
     "output_type": "stream",
     "text": [
      "Model saved\n"
     ]
    },
    {
     "data": {
      "application/vnd.jupyter.widget-view+json": {
       "model_id": "595a9682f2174dcd979fcd49161ecbeb",
       "version_major": 2,
       "version_minor": 0
      },
      "text/plain": [
       "  0%|          | 0/140 [00:00<?, ?it/s]"
      ]
     },
     "metadata": {},
     "output_type": "display_data"
    },
    {
     "name": "stdout",
     "output_type": "stream",
     "text": [
      "Model loaded\n"
     ]
    },
    {
     "data": {
      "application/vnd.jupyter.widget-view+json": {
       "model_id": "31a435a79ab846078cab6541ba93f44a",
       "version_major": 2,
       "version_minor": 0
      },
      "text/plain": [
       "  0%|          | 0/140 [00:00<?, ?it/s]"
      ]
     },
     "metadata": {},
     "output_type": "display_data"
    },
    {
     "data": {
      "application/vnd.jupyter.widget-view+json": {
       "model_id": "710e48b8af6c4a47a4a78d30511533c0",
       "version_major": 2,
       "version_minor": 0
      },
      "text/plain": [
       "  0%|          | 0/140 [00:00<?, ?it/s]"
      ]
     },
     "metadata": {},
     "output_type": "display_data"
    },
    {
     "name": "stdout",
     "output_type": "stream",
     "text": [
      "Model loaded\n"
     ]
    },
    {
     "data": {
      "application/vnd.jupyter.widget-view+json": {
       "model_id": "dedeae7097e54402ac830b3b3a71f711",
       "version_major": 2,
       "version_minor": 0
      },
      "text/plain": [
       "  0%|          | 0/140 [00:00<?, ?it/s]"
      ]
     },
     "metadata": {},
     "output_type": "display_data"
    },
    {
     "name": "stdout",
     "output_type": "stream",
     "text": [
      "catboost ./results/2/layer_2/2 CV score: 0.8955673973725331\n",
      "NN Fold ./results/2/layer_2/2..\n"
     ]
    },
    {
     "data": {
      "application/vnd.jupyter.widget-view+json": {
       "model_id": "9f895c780ebb490ca423ae0d5cf8e19b",
       "version_major": 2,
       "version_minor": 0
      },
      "text/plain": [
       "  0%|          | 0/100 [00:00<?, ?it/s]"
      ]
     },
     "metadata": {},
     "output_type": "display_data"
    },
    {
     "name": "stdout",
     "output_type": "stream",
     "text": [
      "torch ./results/2/layer_2/2 CV score: 0.893857180769008\n",
      "Traing of second layer finished\n",
      "Shape of Third layer input: (70988, 420)\n",
      "Final MLP Fold ./results/2/layer_3/0..\n"
     ]
    },
    {
     "data": {
      "application/vnd.jupyter.widget-view+json": {
       "model_id": "60a04763917e497e8bd4199659d777d9",
       "version_major": 2,
       "version_minor": 0
      },
      "text/plain": [
       "  0%|          | 0/100 [00:00<?, ?it/s]"
      ]
     },
     "metadata": {},
     "output_type": "display_data"
    },
    {
     "name": "stdout",
     "output_type": "stream",
     "text": [
      "Final MLP Fold ./results/2/layer_3/1..\n"
     ]
    },
    {
     "data": {
      "application/vnd.jupyter.widget-view+json": {
       "model_id": "c2776c07343b458086d164572faac15d",
       "version_major": 2,
       "version_minor": 0
      },
      "text/plain": [
       "  0%|          | 0/100 [00:00<?, ?it/s]"
      ]
     },
     "metadata": {},
     "output_type": "display_data"
    },
    {
     "name": "stdout",
     "output_type": "stream",
     "text": [
      "Final MLP Fold ./results/2/layer_3/2..\n"
     ]
    },
    {
     "data": {
      "application/vnd.jupyter.widget-view+json": {
       "model_id": "c943840ec60e49e094356dd350051695",
       "version_major": 2,
       "version_minor": 0
      },
      "text/plain": [
       "  0%|          | 0/100 [00:00<?, ?it/s]"
      ]
     },
     "metadata": {},
     "output_type": "display_data"
    },
    {
     "name": "stdout",
     "output_type": "stream",
     "text": [
      "Traing of Third layer finished\n",
      "all done!\n",
      "CPU times: total: 15h 23min 8s\n",
      "Wall time: 14h 57min 38s\n"
     ]
    }
   ],
   "source": [
    "%%time \n",
    "for id,part in enumerate(tqdm(fold_list)):\n",
    "    stacking_model = ModelStacking(all,test,meta_train,main_config,part)\n",
    "    stacking_model.fit(id)\n",
    "    with open(f\"score_record_{id}.pkl\",\"wb\") as f:\n",
    "        pickle.dump(stacking_model.score_record,f)"
   ]
  },
  {
   "cell_type": "code",
   "execution_count": 6,
   "metadata": {},
   "outputs": [
    {
     "data": {
      "text/plain": [
       "{'layer_1': {'0': {'KNN': 0.883417351317758,\n",
       "   'CNN': 0.8975499964652316,\n",
       "   'ridge': 0.8918095146480072,\n",
       "   'rf': 0.8832730141942098,\n",
       "   'catboost': 0.8954437620936716,\n",
       "   'torch': 0.8977375704813377},\n",
       "  '1': {'KNN': 0.884041158886774,\n",
       "   'CNN': 0.8980229539196549,\n",
       "   'ridge': 0.8914750578940591,\n",
       "   'rf': 0.884101689048223,\n",
       "   'catboost': 0.8960268848056342,\n",
       "   'torch': 0.8983459417498345},\n",
       "  '2': {'KNN': 0.8829327504037398,\n",
       "   'CNN': 0.8970718887050803,\n",
       "   'ridge': 0.8915434490838732,\n",
       "   'rf': 0.8831230266755619,\n",
       "   'catboost': 0.895123876955984,\n",
       "   'torch': 0.897340191011322}},\n",
       " 'layer_2': {'0': {'CNN': 0.8979213284670613,\n",
       "   'catboost': 0.8991608947624106,\n",
       "   'torch': 0.898471334043255},\n",
       "  '1': {'CNN': 0.898713305856582,\n",
       "   'catboost': 0.8998069054036772,\n",
       "   'torch': 0.8988006485121451},\n",
       "  '2': {'CNN': 0.8975895966261527,\n",
       "   'catboost': 0.8986836250905276,\n",
       "   'torch': 0.897926823240298}},\n",
       " 'layer_3': {'0': {'mlp': 0.8993640839193872},\n",
       "  '1': {'mlp': 0.8997046421645566},\n",
       "  '2': {'mlp': 0.898680588066412}}}"
      ]
     },
     "execution_count": 6,
     "metadata": {},
     "output_type": "execute_result"
    }
   ],
   "source": [
    "with open(f\"score_record_0.pkl\",\"rb\") as f:\n",
    "    stacking_model_0 = pickle.load(f)\n",
    "stacking_model_0"
   ]
  },
  {
   "cell_type": "code",
   "execution_count": 7,
   "metadata": {},
   "outputs": [
    {
     "data": {
      "text/plain": [
       "{'layer_1': {'0': {'KNN': 0.878827703512955,\n",
       "   'CNN': 0.8940797103765072,\n",
       "   'ridge': 0.8874328529875847,\n",
       "   'rf': 0.8795606197782617,\n",
       "   'catboost': 0.8904373585236652,\n",
       "   'torch': 0.8940972053829814},\n",
       "  '1': {'KNN': 0.87958597273252,\n",
       "   'CNN': 0.894971888807099,\n",
       "   'ridge': 0.8886823752868451,\n",
       "   'rf': 0.8799048126628264,\n",
       "   'catboost': 0.891034881466246,\n",
       "   'torch': 0.8951053820116812},\n",
       "  '2': {'KNN': 0.8784306075711983,\n",
       "   'CNN': 0.8939194003590168,\n",
       "   'ridge': 0.887527485224299,\n",
       "   'rf': 0.8790513494867277,\n",
       "   'catboost': 0.8899798368039803,\n",
       "   'torch': 0.8937120401519575}},\n",
       " 'layer_2': {'0': {'CNN': 0.8944451021477007,\n",
       "   'catboost': 0.8967401381983762,\n",
       "   'torch': 0.8941878063429897},\n",
       "  '1': {'CNN': 0.8956540112273687,\n",
       "   'catboost': 0.8972308745966582,\n",
       "   'torch': 0.8952788622246961},\n",
       "  '2': {'CNN': 0.8947980902869513,\n",
       "   'catboost': 0.8962677269064362,\n",
       "   'torch': 0.8947724233591344}},\n",
       " 'layer_3': {'0': {'mlp': 0.8965279493068846},\n",
       "  '1': {'mlp': 0.8966694592170912},\n",
       "  '2': {'mlp': 0.8956177164899468}}}"
      ]
     },
     "execution_count": 7,
     "metadata": {},
     "output_type": "execute_result"
    }
   ],
   "source": [
    "with open(f\"score_record_1.pkl\",\"rb\") as f:\n",
    "    stacking_model_1 = pickle.load(f)\n",
    "stacking_model_1"
   ]
  },
  {
   "cell_type": "code",
   "execution_count": 8,
   "metadata": {},
   "outputs": [
    {
     "data": {
      "text/plain": [
       "{'layer_1': {'0': {'KNN': 0.8765033792351811,\n",
       "   'CNN': 0.8930073603989374,\n",
       "   'ridge': 0.8865205643857114,\n",
       "   'rf': 0.8752235405045203,\n",
       "   'catboost': 0.8900276568799389,\n",
       "   'torch': 0.8929057064327338},\n",
       "  '1': {'KNN': 0.8768836610230252,\n",
       "   'CNN': 0.8933519519900026,\n",
       "   'ridge': 0.8870421280870846,\n",
       "   'rf': 0.875856824482001,\n",
       "   'catboost': 0.890553147261122,\n",
       "   'torch': 0.8936734064939978},\n",
       "  '2': {'KNN': 0.8765970979544357,\n",
       "   'CNN': 0.8926221921846171,\n",
       "   'ridge': 0.8867460021276877,\n",
       "   'rf': 0.8754791732907319,\n",
       "   'catboost': 0.8902535998642721,\n",
       "   'torch': 0.8928266814625458}},\n",
       " 'layer_2': {'0': {'CNN': 0.8933745223166439,\n",
       "   'catboost': 0.895302853003496,\n",
       "   'torch': 0.8935711297333334},\n",
       "  '1': {'CNN': 0.8939385572208007,\n",
       "   'catboost': 0.8957169451463115,\n",
       "   'torch': 0.8940260603500705},\n",
       "  '2': {'CNN': 0.8933221678239247,\n",
       "   'catboost': 0.8955673973725331,\n",
       "   'torch': 0.893857180769008}},\n",
       " 'layer_3': {'0': {'mlp': 0.8948510237840093},\n",
       "  '1': {'mlp': 0.8950646632458839},\n",
       "  '2': {'mlp': 0.895092761811901}}}"
      ]
     },
     "execution_count": 8,
     "metadata": {},
     "output_type": "execute_result"
    }
   ],
   "source": [
    "with open(f\"score_record_2.pkl\",\"rb\") as f:\n",
    "    stacking_model_2 = pickle.load(f)\n",
    "stacking_model_2"
   ]
  },
  {
   "cell_type": "markdown",
   "metadata": {},
   "source": [
    "## Predict"
   ]
  },
  {
   "cell_type": "code",
   "execution_count": 16,
   "metadata": {},
   "outputs": [
    {
     "data": {
      "application/vnd.jupyter.widget-view+json": {
       "model_id": "fb56e81a913e4a848c61dd4ca6a4f631",
       "version_major": 2,
       "version_minor": 0
      },
      "text/plain": [
       "  0%|          | 0/3 [00:00<?, ?it/s]"
      ]
     },
     "metadata": {},
     "output_type": "display_data"
    },
    {
     "data": {
      "application/vnd.jupyter.widget-view+json": {
       "model_id": "0d86542700f842e3b8c70828d7dd3e95",
       "version_major": 2,
       "version_minor": 0
      },
      "text/plain": [
       "  0%|          | 0/140 [00:00<?, ?it/s]"
      ]
     },
     "metadata": {},
     "output_type": "display_data"
    },
    {
     "name": "stdout",
     "output_type": "stream",
     "text": [
      "Model loaded\n"
     ]
    },
    {
     "data": {
      "application/vnd.jupyter.widget-view+json": {
       "model_id": "6a4f457d0a3d463e99a1585f51312f71",
       "version_major": 2,
       "version_minor": 0
      },
      "text/plain": [
       "  0%|          | 0/140 [00:00<?, ?it/s]"
      ]
     },
     "metadata": {},
     "output_type": "display_data"
    },
    {
     "data": {
      "application/vnd.jupyter.widget-view+json": {
       "model_id": "a2886ebdba144722beeefcf848d71822",
       "version_major": 2,
       "version_minor": 0
      },
      "text/plain": [
       "  0%|          | 0/140 [00:00<?, ?it/s]"
      ]
     },
     "metadata": {},
     "output_type": "display_data"
    },
    {
     "name": "stdout",
     "output_type": "stream",
     "text": [
      "Model loaded\n"
     ]
    },
    {
     "data": {
      "application/vnd.jupyter.widget-view+json": {
       "model_id": "cf9e6826eab44c9fb5e07382b22c8235",
       "version_major": 2,
       "version_minor": 0
      },
      "text/plain": [
       "  0%|          | 0/140 [00:00<?, ?it/s]"
      ]
     },
     "metadata": {},
     "output_type": "display_data"
    },
    {
     "data": {
      "application/vnd.jupyter.widget-view+json": {
       "model_id": "2e7add9a78eb449b8d2297f93d06c9c9",
       "version_major": 2,
       "version_minor": 0
      },
      "text/plain": [
       "  0%|          | 0/140 [00:00<?, ?it/s]"
      ]
     },
     "metadata": {},
     "output_type": "display_data"
    },
    {
     "name": "stdout",
     "output_type": "stream",
     "text": [
      "Model loaded\n"
     ]
    },
    {
     "data": {
      "application/vnd.jupyter.widget-view+json": {
       "model_id": "58682ff459d74a27983bf816fa952e5a",
       "version_major": 2,
       "version_minor": 0
      },
      "text/plain": [
       "  0%|          | 0/140 [00:00<?, ?it/s]"
      ]
     },
     "metadata": {},
     "output_type": "display_data"
    },
    {
     "name": "stdout",
     "output_type": "stream",
     "text": [
      "Predicting of first layer finished\n"
     ]
    },
    {
     "data": {
      "application/vnd.jupyter.widget-view+json": {
       "model_id": "12f928fa26454ec39001fc57f62e1092",
       "version_major": 2,
       "version_minor": 0
      },
      "text/plain": [
       "  0%|          | 0/140 [00:00<?, ?it/s]"
      ]
     },
     "metadata": {},
     "output_type": "display_data"
    },
    {
     "name": "stdout",
     "output_type": "stream",
     "text": [
      "Model loaded\n"
     ]
    },
    {
     "data": {
      "application/vnd.jupyter.widget-view+json": {
       "model_id": "f6a8c87c8c4a434c851e62871bfcfb04",
       "version_major": 2,
       "version_minor": 0
      },
      "text/plain": [
       "  0%|          | 0/140 [00:00<?, ?it/s]"
      ]
     },
     "metadata": {},
     "output_type": "display_data"
    },
    {
     "data": {
      "application/vnd.jupyter.widget-view+json": {
       "model_id": "9f2c3031be864ed89317a1016334f8de",
       "version_major": 2,
       "version_minor": 0
      },
      "text/plain": [
       "  0%|          | 0/140 [00:00<?, ?it/s]"
      ]
     },
     "metadata": {},
     "output_type": "display_data"
    },
    {
     "name": "stdout",
     "output_type": "stream",
     "text": [
      "Model loaded\n"
     ]
    },
    {
     "data": {
      "application/vnd.jupyter.widget-view+json": {
       "model_id": "58d191540bec4372ad7f464bd46a738c",
       "version_major": 2,
       "version_minor": 0
      },
      "text/plain": [
       "  0%|          | 0/140 [00:00<?, ?it/s]"
      ]
     },
     "metadata": {},
     "output_type": "display_data"
    },
    {
     "data": {
      "application/vnd.jupyter.widget-view+json": {
       "model_id": "e7a9a96bdcc44bb7be118401ae80089d",
       "version_major": 2,
       "version_minor": 0
      },
      "text/plain": [
       "  0%|          | 0/140 [00:00<?, ?it/s]"
      ]
     },
     "metadata": {},
     "output_type": "display_data"
    },
    {
     "name": "stdout",
     "output_type": "stream",
     "text": [
      "Model loaded\n"
     ]
    },
    {
     "data": {
      "application/vnd.jupyter.widget-view+json": {
       "model_id": "0fc8e69a3a8e472f8629d28f3d41ce71",
       "version_major": 2,
       "version_minor": 0
      },
      "text/plain": [
       "  0%|          | 0/140 [00:00<?, ?it/s]"
      ]
     },
     "metadata": {},
     "output_type": "display_data"
    },
    {
     "name": "stdout",
     "output_type": "stream",
     "text": [
      "Predicting of second layer finished\n",
      "Predicting finished\n"
     ]
    },
    {
     "data": {
      "application/vnd.jupyter.widget-view+json": {
       "model_id": "fd7f89f825e44a3ebd9038fb0ca51627",
       "version_major": 2,
       "version_minor": 0
      },
      "text/plain": [
       "  0%|          | 0/140 [00:00<?, ?it/s]"
      ]
     },
     "metadata": {},
     "output_type": "display_data"
    },
    {
     "name": "stdout",
     "output_type": "stream",
     "text": [
      "Model loaded\n"
     ]
    },
    {
     "data": {
      "application/vnd.jupyter.widget-view+json": {
       "model_id": "66614abef31b44b2ab2bde1d0709815f",
       "version_major": 2,
       "version_minor": 0
      },
      "text/plain": [
       "  0%|          | 0/140 [00:00<?, ?it/s]"
      ]
     },
     "metadata": {},
     "output_type": "display_data"
    },
    {
     "data": {
      "application/vnd.jupyter.widget-view+json": {
       "model_id": "7871166477124a318cdd75d581ef468b",
       "version_major": 2,
       "version_minor": 0
      },
      "text/plain": [
       "  0%|          | 0/140 [00:00<?, ?it/s]"
      ]
     },
     "metadata": {},
     "output_type": "display_data"
    },
    {
     "name": "stdout",
     "output_type": "stream",
     "text": [
      "Model loaded\n"
     ]
    },
    {
     "data": {
      "application/vnd.jupyter.widget-view+json": {
       "model_id": "b6b6c4fdc12f4692a7a9c36329171cd3",
       "version_major": 2,
       "version_minor": 0
      },
      "text/plain": [
       "  0%|          | 0/140 [00:00<?, ?it/s]"
      ]
     },
     "metadata": {},
     "output_type": "display_data"
    },
    {
     "data": {
      "application/vnd.jupyter.widget-view+json": {
       "model_id": "bf341c33cdd744078940a07a45eebc02",
       "version_major": 2,
       "version_minor": 0
      },
      "text/plain": [
       "  0%|          | 0/140 [00:00<?, ?it/s]"
      ]
     },
     "metadata": {},
     "output_type": "display_data"
    },
    {
     "name": "stdout",
     "output_type": "stream",
     "text": [
      "Model loaded\n"
     ]
    },
    {
     "data": {
      "application/vnd.jupyter.widget-view+json": {
       "model_id": "3d1519a1047840e589617b11cd15556d",
       "version_major": 2,
       "version_minor": 0
      },
      "text/plain": [
       "  0%|          | 0/140 [00:00<?, ?it/s]"
      ]
     },
     "metadata": {},
     "output_type": "display_data"
    },
    {
     "name": "stdout",
     "output_type": "stream",
     "text": [
      "Predicting of first layer finished\n"
     ]
    },
    {
     "data": {
      "application/vnd.jupyter.widget-view+json": {
       "model_id": "f586be8b2e7e4bd7909bf8c209b68f6d",
       "version_major": 2,
       "version_minor": 0
      },
      "text/plain": [
       "  0%|          | 0/140 [00:00<?, ?it/s]"
      ]
     },
     "metadata": {},
     "output_type": "display_data"
    },
    {
     "name": "stdout",
     "output_type": "stream",
     "text": [
      "Model loaded\n"
     ]
    },
    {
     "data": {
      "application/vnd.jupyter.widget-view+json": {
       "model_id": "46664a53d4344a1aaf045b68a1bd7a10",
       "version_major": 2,
       "version_minor": 0
      },
      "text/plain": [
       "  0%|          | 0/140 [00:00<?, ?it/s]"
      ]
     },
     "metadata": {},
     "output_type": "display_data"
    },
    {
     "data": {
      "application/vnd.jupyter.widget-view+json": {
       "model_id": "9b0cdb263ba842f18d69a632726c98a4",
       "version_major": 2,
       "version_minor": 0
      },
      "text/plain": [
       "  0%|          | 0/140 [00:00<?, ?it/s]"
      ]
     },
     "metadata": {},
     "output_type": "display_data"
    },
    {
     "name": "stdout",
     "output_type": "stream",
     "text": [
      "Model loaded\n"
     ]
    },
    {
     "data": {
      "application/vnd.jupyter.widget-view+json": {
       "model_id": "e82c5a4d072b4d979fc193e880ee25a2",
       "version_major": 2,
       "version_minor": 0
      },
      "text/plain": [
       "  0%|          | 0/140 [00:00<?, ?it/s]"
      ]
     },
     "metadata": {},
     "output_type": "display_data"
    },
    {
     "data": {
      "application/vnd.jupyter.widget-view+json": {
       "model_id": "659e2e90507543889b0b69e2271a6c7e",
       "version_major": 2,
       "version_minor": 0
      },
      "text/plain": [
       "  0%|          | 0/140 [00:00<?, ?it/s]"
      ]
     },
     "metadata": {},
     "output_type": "display_data"
    },
    {
     "name": "stdout",
     "output_type": "stream",
     "text": [
      "Model loaded\n"
     ]
    },
    {
     "data": {
      "application/vnd.jupyter.widget-view+json": {
       "model_id": "e8028703ba2148b4aebd9322ffe35224",
       "version_major": 2,
       "version_minor": 0
      },
      "text/plain": [
       "  0%|          | 0/140 [00:00<?, ?it/s]"
      ]
     },
     "metadata": {},
     "output_type": "display_data"
    },
    {
     "name": "stdout",
     "output_type": "stream",
     "text": [
      "Predicting of second layer finished\n",
      "Predicting finished\n"
     ]
    },
    {
     "data": {
      "application/vnd.jupyter.widget-view+json": {
       "model_id": "c7b459aaf4e24c2b9bbce2bc790ac3b9",
       "version_major": 2,
       "version_minor": 0
      },
      "text/plain": [
       "  0%|          | 0/140 [00:00<?, ?it/s]"
      ]
     },
     "metadata": {},
     "output_type": "display_data"
    },
    {
     "name": "stdout",
     "output_type": "stream",
     "text": [
      "Model loaded\n"
     ]
    },
    {
     "data": {
      "application/vnd.jupyter.widget-view+json": {
       "model_id": "7d7343e0416a482fadd528970a10eb06",
       "version_major": 2,
       "version_minor": 0
      },
      "text/plain": [
       "  0%|          | 0/140 [00:00<?, ?it/s]"
      ]
     },
     "metadata": {},
     "output_type": "display_data"
    },
    {
     "data": {
      "application/vnd.jupyter.widget-view+json": {
       "model_id": "ba614ae8afd54bf8bd9c46582b2a19e1",
       "version_major": 2,
       "version_minor": 0
      },
      "text/plain": [
       "  0%|          | 0/140 [00:00<?, ?it/s]"
      ]
     },
     "metadata": {},
     "output_type": "display_data"
    },
    {
     "name": "stdout",
     "output_type": "stream",
     "text": [
      "Model loaded\n"
     ]
    },
    {
     "data": {
      "application/vnd.jupyter.widget-view+json": {
       "model_id": "bed6ab58d521461db40f702de8672f8c",
       "version_major": 2,
       "version_minor": 0
      },
      "text/plain": [
       "  0%|          | 0/140 [00:00<?, ?it/s]"
      ]
     },
     "metadata": {},
     "output_type": "display_data"
    },
    {
     "data": {
      "application/vnd.jupyter.widget-view+json": {
       "model_id": "4fcfa258bb364b3184a6c3d7a50cfa45",
       "version_major": 2,
       "version_minor": 0
      },
      "text/plain": [
       "  0%|          | 0/140 [00:00<?, ?it/s]"
      ]
     },
     "metadata": {},
     "output_type": "display_data"
    },
    {
     "name": "stdout",
     "output_type": "stream",
     "text": [
      "Model loaded\n"
     ]
    },
    {
     "data": {
      "application/vnd.jupyter.widget-view+json": {
       "model_id": "699ae4b0b5c24190ae8e2a1c027087a8",
       "version_major": 2,
       "version_minor": 0
      },
      "text/plain": [
       "  0%|          | 0/140 [00:00<?, ?it/s]"
      ]
     },
     "metadata": {},
     "output_type": "display_data"
    },
    {
     "name": "stdout",
     "output_type": "stream",
     "text": [
      "Predicting of first layer finished\n"
     ]
    },
    {
     "data": {
      "application/vnd.jupyter.widget-view+json": {
       "model_id": "529a390879b141d18313d136afe9d96e",
       "version_major": 2,
       "version_minor": 0
      },
      "text/plain": [
       "  0%|          | 0/140 [00:00<?, ?it/s]"
      ]
     },
     "metadata": {},
     "output_type": "display_data"
    },
    {
     "name": "stdout",
     "output_type": "stream",
     "text": [
      "Model loaded\n"
     ]
    },
    {
     "data": {
      "application/vnd.jupyter.widget-view+json": {
       "model_id": "40c3f98c8ac9460f9838f666cd3c06ca",
       "version_major": 2,
       "version_minor": 0
      },
      "text/plain": [
       "  0%|          | 0/140 [00:00<?, ?it/s]"
      ]
     },
     "metadata": {},
     "output_type": "display_data"
    },
    {
     "data": {
      "application/vnd.jupyter.widget-view+json": {
       "model_id": "4ca7b5b4aec34cd79800f2e55d3a7683",
       "version_major": 2,
       "version_minor": 0
      },
      "text/plain": [
       "  0%|          | 0/140 [00:00<?, ?it/s]"
      ]
     },
     "metadata": {},
     "output_type": "display_data"
    },
    {
     "name": "stdout",
     "output_type": "stream",
     "text": [
      "Model loaded\n"
     ]
    },
    {
     "data": {
      "application/vnd.jupyter.widget-view+json": {
       "model_id": "d35cc6c1e7c94e30a12372e80b3256b9",
       "version_major": 2,
       "version_minor": 0
      },
      "text/plain": [
       "  0%|          | 0/140 [00:00<?, ?it/s]"
      ]
     },
     "metadata": {},
     "output_type": "display_data"
    },
    {
     "data": {
      "application/vnd.jupyter.widget-view+json": {
       "model_id": "ede7670ed3004dc5a02497c1165c4df6",
       "version_major": 2,
       "version_minor": 0
      },
      "text/plain": [
       "  0%|          | 0/140 [00:00<?, ?it/s]"
      ]
     },
     "metadata": {},
     "output_type": "display_data"
    },
    {
     "name": "stdout",
     "output_type": "stream",
     "text": [
      "Model loaded\n"
     ]
    },
    {
     "data": {
      "application/vnd.jupyter.widget-view+json": {
       "model_id": "19806427e0bc4fa4bb633fb8bd837923",
       "version_major": 2,
       "version_minor": 0
      },
      "text/plain": [
       "  0%|          | 0/140 [00:00<?, ?it/s]"
      ]
     },
     "metadata": {},
     "output_type": "display_data"
    },
    {
     "name": "stdout",
     "output_type": "stream",
     "text": [
      "Predicting of second layer finished\n",
      "Predicting finished\n",
      "CPU times: total: 19min 16s\n",
      "Wall time: 9min 29s\n"
     ]
    }
   ],
   "source": [
    "%%time\n",
    "res_all = []\n",
    "for id,part in enumerate(tqdm(fold_list)):\n",
    "    stacking_model = ModelStacking(all,test,meta_train,main_config,part)\n",
    "    res = stacking_model.predict(id)\n",
    "    res_all.append(res)"
   ]
  },
  {
   "cell_type": "code",
   "execution_count": 17,
   "metadata": {},
   "outputs": [
    {
     "data": {
      "application/vnd.jupyter.widget-view+json": {
       "model_id": "b3794a7e432a409b802c64dac55569a9",
       "version_major": 2,
       "version_minor": 0
      },
      "text/plain": [
       "  0%|          | 0/3 [00:00<?, ?it/s]"
      ]
     },
     "metadata": {},
     "output_type": "display_data"
    },
    {
     "data": {
      "image/png": "[encoded data removed]",
      "text/plain": [
       "<Figure size 1008x864 with 6 Axes>"
      ]
     },
     "metadata": {
      "needs_background": "light"
     },
     "output_type": "display_data"
    }
   ],
   "source": [
    "import matplotlib.pyplot as plt\n",
    "import seaborn as sns\n",
    "plt.figure(figsize=(14,12))\n",
    "for id,res in enumerate(tqdm(res_all)):\n",
    "    plt.subplot(3,3,id+1)\n",
    "    sns.heatmap(res)\n",
    "plt.show()"
   ]
  },
  {
   "cell_type": "code",
   "execution_count": 18,
   "metadata": {},
   "outputs": [],
   "source": [
    "res_all_ = np.mean(res_all,axis=0)"
   ]
  },
  {
   "cell_type": "code",
   "execution_count": 19,
   "metadata": {},
   "outputs": [
    {
     "data": {
      "text/plain": [
       "<AxesSubplot:>"
      ]
     },
     "execution_count": 19,
     "metadata": {},
     "output_type": "execute_result"
    },
    {
     "data": {
      "image/png": "[encoded data removed]",
      "text/plain": [
       "<Figure size 432x288 with 2 Axes>"
      ]
     },
     "metadata": {
      "needs_background": "light"
     },
     "output_type": "display_data"
    }
   ],
   "source": [
    "sns.heatmap(res_all_)"
   ]
  },
  {
   "cell_type": "code",
   "execution_count": 20,
   "metadata": {},
   "outputs": [],
   "source": [
    "def submit(test_pred,multi_path):\n",
    "    submission = pd.read_csv(multi_path,index_col = 0)\n",
    "    submission = submission[\"target\"]\n",
    "    print(\"data loaded\")\n",
    "    submission.iloc[:len(test_pred.ravel())] = test_pred.ravel()\n",
    "    assert not submission.isna().any()\n",
    "    # submission = submission.round(6) # reduce the size of the csv\n",
    "    print(\"start -> submission.zip\")\n",
    "    submission.to_csv('submission.zip')\n",
    "    print(\"submission__.zip saved!\")"
   ]
  },
  {
   "cell_type": "code",
   "execution_count": 22,
   "metadata": {},
   "outputs": [
    {
     "name": "stdout",
     "output_type": "stream",
     "text": [
      "data loaded\n",
      "start -> submission.zip\n",
      "submission__.zip saved!\n",
      "CPU times: total: 1min 5s\n",
      "Wall time: 3min 17s\n"
     ]
    }
   ],
   "source": [
    "%%time\n",
    "submit(res_all_,multi_path = r\"D:\\python_project\\MSCI\\model_ensemble\\submission_best.zip\")"
   ]
  }
 ],
 "metadata": {
  "kernelspec": {
   "display_name": "Python 3.9.12 ('base')",
   "language": "python",
   "name": "python3"
  },
  "language_info": {
   "codemirror_mode": {
    "name": "ipython",
    "version": 3
   },
   "file_extension": ".py",
   "mimetype": "text/x-python",
   "name": "python",
   "nbconvert_exporter": "python",
   "pygments_lexer": "ipython3",
   "version": "3.9.12"
  },
  "orig_nbformat": 4,
  "vscode": {
   "interpreter": {
    "hash": "ad2bdc8ecc057115af97d19610ffacc2b4e99fae6737bb82f5d7fb13d2f2c186"
   }
  }
 },
 "nbformat": 4,
 "nbformat_minor": 2
}
