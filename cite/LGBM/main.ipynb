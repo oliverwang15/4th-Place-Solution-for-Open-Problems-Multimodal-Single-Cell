{
 "cells": [
  {
   "cell_type": "code",
   "execution_count": 1,
   "metadata": {},
   "outputs": [],
   "source": [
    "import sys\n",
    "sys.path.append(\"../../utils\")\n",
    "import warnings\n",
    "warnings.filterwarnings(\"ignore\")\n",
    "from sklearn.model_selection import train_test_split,KFold,GroupKFold\n",
    "from sklearn.multioutput import MultiOutputRegressor\n",
    "from sklearn.metrics import mean_squared_error,mean_absolute_error\n",
    "from sklearn.preprocessing import OneHotEncoder,LabelEncoder\n",
    "from tqdm.notebook import tqdm\n",
    "import lightgbm as lgb\n",
    "import pandas as pd\n",
    "import numpy as np\n",
    "import joblib\n",
    "import os\n",
    "import gc"
   ]
  },
  {
   "cell_type": "code",
   "execution_count": 2,
   "metadata": {},
   "outputs": [
    {
     "name": "stdout",
     "output_type": "stream",
     "text": [
      "(70988, 735) (70988, 140)\n"
     ]
    }
   ],
   "source": [
    "root_path = \"../../../input/\"\n",
    "train = np.load(\"../../data_preprocessing/new_cite_train_final.npz\")[\"arr_0\"]\n",
    "target = pd.read_hdf(f\"{root_path}open-problems-multimodal/train_cite_targets.h5\").values\n",
    "target -= target.mean(axis=1).reshape(-1, 1)\n",
    "target /= target.std(axis=1).reshape(-1, 1)\n",
    "print(train.shape,target.shape)"
   ]
  },
  {
   "cell_type": "code",
   "execution_count": 3,
   "metadata": {},
   "outputs": [
    {
     "data": {
      "text/plain": [
       "(70988, 743)"
      ]
     },
     "execution_count": 3,
     "metadata": {},
     "output_type": "execute_result"
    }
   ],
   "source": [
    "train_index = np.load(f\"{root_path}/multimodal-single-cell-as-sparse-matrix/train_cite_inputs_idxcol.npz\",allow_pickle=True)\n",
    "meta = pd.read_csv(f\"{root_path}open-problems-multimodal/metadata.csv\",index_col = \"cell_id\")\n",
    "meta = meta[meta.technology==\"citeseq\"]\n",
    "lbe = LabelEncoder()\n",
    "meta[\"cell_type\"] = lbe.fit_transform(meta[\"cell_type\"])\n",
    "meta[\"gender\"] = meta.apply(lambda x:0 if x[\"donor\"]==13176 else 1,axis =1)\n",
    "meta_train = meta.reindex(train_index[\"index\"])\n",
    "train_meta = meta_train[\"gender\"].values.reshape(-1, 1)\n",
    "train = np.concatenate([train,train_meta],axis= -1)\n",
    "train_meta = meta_train[\"cell_type\"].values.reshape(-1, 1)\n",
    "ohe = OneHotEncoder(sparse=False)\n",
    "train_meta = ohe.fit_transform(train_meta)\n",
    "train = np.concatenate([train,train_meta],axis= -1)\n",
    "train.shape"
   ]
  },
  {
   "cell_type": "code",
   "execution_count": 4,
   "metadata": {},
   "outputs": [],
   "source": [
    "def correlation_score(y_true, y_pred):\n",
    "    \"\"\"Scores the predictions according to the competition rules. \n",
    "    \n",
    "    It is assumed that the predictions are not constant.\n",
    "    \n",
    "    Returns the average of each sample's Pearson correlation coefficient\"\"\"\n",
    "    if type(y_true) == pd.DataFrame: y_true = y_true.values\n",
    "    if type(y_pred) == pd.DataFrame: y_pred = y_pred.values\n",
    "    if y_true.shape != y_pred.shape: raise ValueError(\"Shapes are different.\")\n",
    "    corrsum = 0\n",
    "    for i in range(len(y_true)):\n",
    "        corrsum += np.corrcoef(y_true[i], y_pred[i])[1, 0]\n",
    "    return corrsum / len(y_true)\n"
   ]
  },
  {
   "cell_type": "code",
   "execution_count": 6,
   "metadata": {},
   "outputs": [],
   "source": [
    "# MOLGBM\n",
    "class MultiOutputLGBMRegressor:\n",
    "    def __init__(self,params):\n",
    "        self.params = params\n",
    "        self.model_list = []\n",
    "\n",
    "    def fit(self,train_data,train_label,val_data,val_label,**fit_params):\n",
    "        output_num = train_label.shape[1]\n",
    "        for i in tqdm(range(output_num),leave=False):\n",
    "            train_set = lgb.Dataset(train_data,train_label[:,i])\n",
    "            val_set = lgb.Dataset(val_data,val_label[:,i])\n",
    "            model = lgb.train(\n",
    "                self.params,\n",
    "                train_set,\n",
    "                valid_sets = val_set,\n",
    "                callbacks=[\n",
    "                    lgb.early_stopping(20,verbose = False),\n",
    "                    # lgb.log_evaluation(100),\n",
    "                ]\n",
    "            )\n",
    "            self.model_list.append(model)\n",
    "            \n",
    "    def predict(self,test_data):\n",
    "        res_list = []\n",
    "        for model in tqdm(self.model_list,leave=False):\n",
    "            res = model.predict(test_data)\n",
    "            res_list.append(res)\n",
    "        res_list = np.stack(res_list,axis = 1)\n",
    "        return res_list\n",
    "        \n",
    "    def dump(self,path = \"./models/MOLGB/\" ):\n",
    "        count = 0\n",
    "        os.makedirs(path,exist_ok=True)\n",
    "        for model in tqdm(self.model_list,leave=False):\n",
    "            joblib.dump(model, f'{path}model_{str(count)}.pkl')\n",
    "            count += 1\n",
    "        print(\"Model saved\")\n",
    "\n",
    "    def load(self,path = \"./models/MOLGB/\" ):\n",
    "        models = os.listdir(path)\n",
    "        if len(self.model_list) != 0:\n",
    "            raise ValueError(\"Don't load! Already loaded!\")\n",
    "        else:\n",
    "            for i in tqdm(range(len(models)),leave=False):\n",
    "                model = joblib.load(f'{path}model_{i}.pkl')\n",
    "                self.model_list.append(model)\n",
    "            print(\"Model loaded\")"
   ]
  },
  {
   "cell_type": "code",
   "execution_count": 5,
   "metadata": {},
   "outputs": [],
   "source": [
    "params = {\n",
    "  'learning_rate': 0.1, \n",
    "  'objective': 'mse', \n",
    "  'metric': ['mse', 'mae'], \n",
    "  'n_estimators': 10000, \n",
    "  'learning_rate': 0.011322411312518462, \n",
    "  'num_leaves': 350, \n",
    "  'verbose': -1, \n",
    "  'boosting_type': 'gbdt', \n",
    "  'reg_alpha': 0.40300033428422216, \n",
    "  'reg_lambda': 1.6473388122802188, \n",
    "  'colsample_bytree': 0.5, \n",
    "  'subsample': 0.7, \n",
    "  'max_depth': -1, \n",
    "  'min_child_samples': 54, \n",
    "  'cat_smooth': 41.24648150772993\n",
    "  \n",
    "    # 'device':\"gpu\",\n",
    "    # \"gpu_device_id\":0,\n",
    "    # \"gpu_platform_id\":1,\n",
    "    }"
   ]
  },
  {
   "cell_type": "code",
   "execution_count": 7,
   "metadata": {
    "scrolled": false
   },
   "outputs": [],
   "source": [
    "%%time\n",
    "np.random.seed(42)\n",
    "kf = GroupKFold(n_splits=3) \n",
    "scores = []\n",
    " \n",
    "for id,(idx_tr, idx_va) in enumerate(kf.split(range(train.shape[0]),groups= meta_train.donor)):\n",
    "    Xtr, Xva = train[idx_tr], train[idx_va]\n",
    "    Ytr, Yva = target[idx_tr], target[idx_va]\n",
    "    print(f'Fold {id}..')\n",
    "    model = MultiOutputLGBMRegressor(params)\n",
    "    model.fit(Xtr, Ytr,Xva,Yva,)\n",
    "\n",
    "    y_tr_pred = model.predict(Xtr)\n",
    "    mse_tr = mean_squared_error(Ytr, y_tr_pred)\n",
    "    mae_tr = mean_absolute_error(Ytr, y_tr_pred)\n",
    "    pearson_tr = correlation_score(Ytr, y_tr_pred)\n",
    "    print(f\"Flod_{id}_train  mse:{mse_tr},  mae:{mae_tr},  pearson:{pearson_tr}\")\n",
    "\n",
    "    y_va_pred = model.predict(Xva)\n",
    "    mse = mean_squared_error(Yva, y_va_pred)\n",
    "    mae = mean_absolute_error(Yva, y_va_pred)\n",
    "    pearson = correlation_score(Yva, y_va_pred)\n",
    "    print(f\"Flod-{id}_test   mse:{mse},  mae:{mae},  pearson:{pearson}\\n\")\n",
    "\n",
    "    scores.append(pearson)\n",
    "    del Xtr, Ytr\n",
    "    del Xva, Yva\n",
    "    gc.collect()\n",
    "    \n",
    "    d_path = f\"./models/CV/Fold_{id}/\"\n",
    "    os.makedirs(d_path,exist_ok=True)\n",
    "    model.dump(d_path)\n",
    "\n",
    "gc.collect()"
   ]
  },
  {
   "cell_type": "markdown",
   "metadata": {},
   "source": [
    "#### training outputs:\n",
    "Fold 0..\n",
    "\n",
    "Flod_0_train  mse:0.08878915679206573,  mae:0.20941672083422697,  pearson:0.9552240083673027\n",
    "\n",
    "Flod-0_test   mse:0.20303296180899078,  mae:0.30586355881144645,  pearson:0.8924862687034453\n",
    "\n",
    "Model saved\n",
    "\n",
    "Fold 1..\n",
    "\n",
    "Flod_1_train  mse:0.08535758777930302,  mae:0.21115628878616854,  pearson:0.9570751551709759\n",
    "\n",
    "Flod-1_test   mse:0.1949198555221245,  mae:0.30004321722735716,  pearson:0.8971982153227883\n",
    "\n",
    "Model saved\n",
    "\n",
    "Fold 2..\n",
    "\n",
    "Flod_2_train  mse:0.08978115117208632,  mae:0.2106828369575134,  pearson:0.9551558939737768\n",
    "\n",
    "Flod-2_test   mse:0.20189180835630965,  mae:0.3125771411516383,  pearson:0.8930300743198056\n",
    "\n",
    "Model saved "
   ]
  },
  {
   "cell_type": "markdown",
   "metadata": {},
   "source": [
    "## Predict"
   ]
  },
  {
   "cell_type": "code",
   "execution_count": 9,
   "metadata": {},
   "outputs": [
    {
     "data": {
      "text/plain": [
       "(48663, 741)"
      ]
     },
     "execution_count": 9,
     "metadata": {},
     "output_type": "execute_result"
    }
   ],
   "source": [
    "test = np.load(\"../../data_preprocessing/new_cite_test_final.npz\")[\"arr_0\"]\n",
    "\n",
    "test_index = np.load(f\"{root_path}/multimodal-single-cell-as-sparse-matrix/test_cite_inputs_idxcol.npz\",allow_pickle=True)\n",
    "meta_test = meta.reindex(test_index[\"index\"])\n",
    "test_meta = meta_test[\"gender\"].values.reshape(-1, 1)\n",
    "test = np.concatenate([test,test_meta],axis= -1)\n",
    "test_meta = meta_test[\"cell_type\"].values.reshape(-1, 1)\n",
    "test_meta = ohe.transform(test_meta)\n",
    "test = np.concatenate([test,test_meta],axis= -1)\n",
    "test.shape"
   ]
  },
  {
   "cell_type": "code",
   "execution_count": 11,
   "metadata": {},
   "outputs": [],
   "source": [
    "scores # = [0.890046787050592, 0.895745355307898, 0.8921687207940432]"
   ]
  },
  {
   "cell_type": "code",
   "execution_count": 14,
   "metadata": {},
   "outputs": [
    {
     "data": {
      "text/plain": [
       "0.8926536210508443"
      ]
     },
     "execution_count": 14,
     "metadata": {},
     "output_type": "execute_result"
    }
   ],
   "source": [
    "np.mean(scores)"
   ]
  },
  {
   "cell_type": "code",
   "execution_count": 12,
   "metadata": {},
   "outputs": [],
   "source": [
    "def std(x):\n",
    "    return (x - np.mean(x,axis=1).reshape(-1,1)) / np.std(x,axis=1).reshape(-1,1)"
   ]
  },
  {
   "cell_type": "code",
   "execution_count": 13,
   "metadata": {},
   "outputs": [
    {
     "data": {
      "application/vnd.jupyter.widget-view+json": {
       "model_id": "55d0b07d869f47b5a1fe72c7be00bede",
       "version_major": 2,
       "version_minor": 0
      },
      "text/plain": [
       "  0%|          | 0/3 [00:00<?, ?it/s]"
      ]
     },
     "metadata": {},
     "output_type": "display_data"
    },
    {
     "data": {
      "application/vnd.jupyter.widget-view+json": {
       "model_id": "0c39a0dd46e34acbadbd56c913d869b5",
       "version_major": 2,
       "version_minor": 0
      },
      "text/plain": [
       "  0%|          | 0/140 [00:00<?, ?it/s]"
      ]
     },
     "metadata": {},
     "output_type": "display_data"
    },
    {
     "name": "stdout",
     "output_type": "stream",
     "text": [
      "Model loaded\n"
     ]
    },
    {
     "data": {
      "application/vnd.jupyter.widget-view+json": {
       "model_id": "82ba780784ed49b48699732fcf77cddd",
       "version_major": 2,
       "version_minor": 0
      },
      "text/plain": [
       "  0%|          | 0/140 [00:00<?, ?it/s]"
      ]
     },
     "metadata": {},
     "output_type": "display_data"
    },
    {
     "data": {
      "application/vnd.jupyter.widget-view+json": {
       "model_id": "dc92fdb6d74c4e97be30c43281b40315",
       "version_major": 2,
       "version_minor": 0
      },
      "text/plain": [
       "  0%|          | 0/140 [00:00<?, ?it/s]"
      ]
     },
     "metadata": {},
     "output_type": "display_data"
    },
    {
     "name": "stdout",
     "output_type": "stream",
     "text": [
      "Model loaded\n"
     ]
    },
    {
     "data": {
      "application/vnd.jupyter.widget-view+json": {
       "model_id": "3668305b80e648d79686b038b77ae545",
       "version_major": 2,
       "version_minor": 0
      },
      "text/plain": [
       "  0%|          | 0/140 [00:00<?, ?it/s]"
      ]
     },
     "metadata": {},
     "output_type": "display_data"
    },
    {
     "data": {
      "application/vnd.jupyter.widget-view+json": {
       "model_id": "562aebc66bd44c5884eac9030fbe7500",
       "version_major": 2,
       "version_minor": 0
      },
      "text/plain": [
       "  0%|          | 0/140 [00:00<?, ?it/s]"
      ]
     },
     "metadata": {},
     "output_type": "display_data"
    },
    {
     "name": "stdout",
     "output_type": "stream",
     "text": [
      "Model loaded\n"
     ]
    },
    {
     "data": {
      "application/vnd.jupyter.widget-view+json": {
       "model_id": "dfd1f19bea21453d9a67deef73312aae",
       "version_major": 2,
       "version_minor": 0
      },
      "text/plain": [
       "  0%|          | 0/140 [00:00<?, ?it/s]"
      ]
     },
     "metadata": {},
     "output_type": "display_data"
    }
   ],
   "source": [
    "from tqdm.notebook import tqdm\n",
    "import glob\n",
    "model_path = \"./models/CV/Fold_*\"\n",
    "model_list = glob.glob(model_path)\n",
    "preds = np.zeros((test.shape[0], 140))\n",
    "for id,fn in enumerate(tqdm(model_list)):\n",
    "    model_ = MultiOutputLGBMRegressor(params)\n",
    "    model_.load(fn+\"/\")\n",
    "    preds += std(model_.predict(test))* scores[id]\n",
    "    gc.collect()"
   ]
  },
  {
   "cell_type": "code",
   "execution_count": null,
   "metadata": {},
   "outputs": [],
   "source": [
    "import seaborn as sns\n",
    "sns.heatmap(preds)"
   ]
  },
  {
   "cell_type": "code",
   "execution_count": 15,
   "metadata": {},
   "outputs": [],
   "source": [
    "def submit(test_pred,multi_path):\n",
    "    submission = pd.read_csv(multi_path,index_col = 0)\n",
    "    submission = submission[\"target\"]\n",
    "    print(\"data loaded\")\n",
    "    submission.iloc[:len(test_pred.ravel())] = test_pred.ravel()\n",
    "    assert not submission.isna().any()\n",
    "    # submission = submission.round(6) # reduce the size of the csv\n",
    "    print(\"start -> submission.zip\")\n",
    "    submission.to_csv('submission.zip')\n",
    "    print(\"submission.zip saved!\")"
   ]
  },
  {
   "cell_type": "code",
   "execution_count": 16,
   "metadata": {},
   "outputs": [
    {
     "name": "stdout",
     "output_type": "stream",
     "text": [
      "data loaded\n",
      "start -> submission.zip\n",
      "submission.zip saved!\n",
      "CPU times: total: 1min 56s\n",
      "Wall time: 3min 46s\n"
     ]
    }
   ],
   "source": [
    "%%time\n",
    "submit(preds,multi_path = r\"D:\\python_project\\MSCI\\model_ensemble\\submission_best.zip\")"
   ]
  },
  {
   "cell_type": "code",
   "execution_count": null,
   "metadata": {},
   "outputs": [],
   "source": []
  },
  {
   "cell_type": "code",
   "execution_count": null,
   "metadata": {},
   "outputs": [],
   "source": []
  }
 ],
 "metadata": {
  "kernelspec": {
   "display_name": "Python 3 (ipykernel)",
   "language": "python",
   "name": "python3"
  },
  "language_info": {
   "codemirror_mode": {
    "name": "ipython",
    "version": 3
   },
   "file_extension": ".py",
   "mimetype": "text/x-python",
   "name": "python",
   "nbconvert_exporter": "python",
   "pygments_lexer": "ipython3",
   "version": "3.9.12"
  },
  "vscode": {
   "interpreter": {
    "hash": "ad2bdc8ecc057115af97d19610ffacc2b4e99fae6737bb82f5d7fb13d2f2c186"
   }
  }
 },
 "nbformat": 4,
 "nbformat_minor": 2
}
