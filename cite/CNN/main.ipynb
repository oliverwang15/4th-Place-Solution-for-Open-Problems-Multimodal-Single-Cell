{
 "cells": [
  {
   "cell_type": "code",
   "execution_count": 1,
   "metadata": {},
   "outputs": [],
   "source": [
    "import sys\n",
    "sys.path.append(\"../../utils/\")\n",
    "import time\n",
    "from tqdm.notebook import tqdm\n",
    "import gc\n",
    "import glob\n",
    "import pickle\n",
    "import torch\n",
    "import numpy as np\n",
    "import pandas as pd\n",
    "from sklearn.model_selection import KFold,GroupKFold\n",
    "from sklearn.preprocessing import LabelEncoder\n",
    "\n",
    "from loss import correl_loss\n",
    "from trainer import Cite_Trainer"
   ]
  },
  {
   "cell_type": "code",
   "execution_count": 2,
   "metadata": {},
   "outputs": [
    {
     "name": "stdout",
     "output_type": "stream",
     "text": [
      "(70988, 735) (70988, 140)\n"
     ]
    }
   ],
   "source": [
    "root_path = \"../../../input/\"\n",
    "train = np.load(\"../../data_preprocessing/new_cite_train_final.npz\")[\"arr_0\"]\n",
    "target = pd.read_hdf(f\"{root_path}open-problems-multimodal/train_cite_targets.h5\").values\n",
    "\n",
    "print(train.shape,target.shape)"
   ]
  },
  {
   "cell_type": "code",
   "execution_count": 10,
   "metadata": {},
   "outputs": [],
   "source": [
    "config = dict(\n",
    "    atte_dims = 128,\n",
    "    output_num = target.shape[1],\n",
    "    input_num = train.shape[1],\n",
    "    dropout = 0.1,\n",
    "    mlp_dims = [train.shape[1]*2,train.shape[1]],\n",
    "    \n",
    "    layers = 5,\n",
    "    patience = 5,\n",
    "    max_epochs = 100,\n",
    "    criterion = correl_loss,\n",
    "    batch_size = 128,\n",
    "\n",
    "    n_folds = 3,\n",
    "    folds_to_train = [0,1,2],\n",
    "    kfold_random_state = 42,\n",
    "\n",
    "    tb_dir = \"./log/\",\n",
    "\n",
    "    optimizer = torch.optim.AdamW,\n",
    "    optimizerparams = dict(lr=1e-4, weight_decay=1e-2,amsgrad= True),\n",
    "    \n",
    "    scheduler = torch.optim.lr_scheduler.MultiStepLR,\n",
    "\n",
    "    schedulerparams = dict(milestones=[6,10,15,20,25,30], gamma=0.1,verbose  = True), #9,12,15,20,25,30\n",
    "    min_epoch = 11,\n",
    ")\n"
   ]
  },
  {
   "cell_type": "code",
   "execution_count": 4,
   "metadata": {},
   "outputs": [
    {
     "data": {
      "text/plain": [
       "(70988, 737)"
      ]
     },
     "execution_count": 4,
     "metadata": {},
     "output_type": "execute_result"
    }
   ],
   "source": [
    "train_index = np.load(f\"{root_path}/multimodal-single-cell-as-sparse-matrix/train_cite_inputs_idxcol.npz\",allow_pickle=True)\n",
    "meta = pd.read_csv(f\"{root_path}open-problems-multimodal/metadata.csv\",index_col = \"cell_id\")\n",
    "meta = meta[meta.technology==\"citeseq\"]\n",
    "lbe = LabelEncoder()\n",
    "meta[\"cell_type\"] = lbe.fit_transform(meta[\"cell_type\"])\n",
    "meta[\"gender\"] = meta.apply(lambda x:0 if x[\"donor\"]==13176 else 1,axis =1)\n",
    "meta_train = meta.reindex(train_index[\"index\"])\n",
    "train_meta = meta_train[\"gender\"].values.reshape(-1, 1)\n",
    "train = np.concatenate([train,train_meta],axis= -1)\n",
    "train_meta = meta_train[\"cell_type\"].values.reshape(-1, 1)\n",
    "train = np.concatenate([train,train_meta],axis= -1)\n",
    "train.shape"
   ]
  },
  {
   "cell_type": "code",
   "execution_count": 5,
   "metadata": {},
   "outputs": [],
   "source": [
    "class conv_block(torch.nn.Module):\n",
    "    def __init__(self,config):\n",
    "        super().__init__()\n",
    "        output_num = config[\"output_num\"]\n",
    "        self.input_num = config[\"input_num\"]\n",
    "        dropout = config[\"dropout\"]\n",
    "        mlp_dims = config[\"mlp_dims\"]\n",
    "\n",
    "        self.conv_2 = torch.nn.Sequential(\n",
    "            torch.nn.Conv1d(\n",
    "                in_channels = 512,\n",
    "                out_channels = 512,\n",
    "                kernel_size  = 3,\n",
    "                stride  = 1,\n",
    "                padding = 1,              \n",
    "            ),\n",
    "            torch.nn.Mish(),\n",
    "            torch.nn.Conv1d(\n",
    "                in_channels = 512,\n",
    "                out_channels = 512,\n",
    "                kernel_size  = 3,\n",
    "                stride  = 1,\n",
    "                padding = 1,              \n",
    "            ),\n",
    "            torch.nn.Mish(),\n",
    "        )\n",
    "        self.conv_2_1 = torch.nn.Sequential(\n",
    "            torch.nn.Conv1d(\n",
    "                in_channels = 512,\n",
    "                out_channels = 512,\n",
    "                kernel_size  = 5,\n",
    "                stride  = 1,\n",
    "                padding = 2,              \n",
    "            ),\n",
    "            torch.nn.Mish(),\n",
    "            torch.nn.Conv1d(\n",
    "                in_channels = 512,\n",
    "                out_channels = 512,\n",
    "                kernel_size  = 3,\n",
    "                stride  = 1,\n",
    "                padding = 1,              \n",
    "            ),\n",
    "            torch.nn.Mish(),\n",
    "        )\n",
    "        self.conv_2_2 = torch.nn.Sequential(\n",
    "            torch.nn.Conv1d(\n",
    "                in_channels = 512,\n",
    "                out_channels = 512,\n",
    "                kernel_size  = 15,\n",
    "                stride  = 1,\n",
    "                padding = 7,              \n",
    "            ),\n",
    "            torch.nn.Mish(),\n",
    "            torch.nn.Conv1d(\n",
    "                in_channels = 512,\n",
    "                out_channels = 512,\n",
    "                kernel_size  = 5,\n",
    "                stride  = 1,\n",
    "                padding = 2,              \n",
    "            ),\n",
    "            torch.nn.Mish(),\n",
    "        )\n",
    "\n",
    "    def forward(self,x):\n",
    "        x1 = self.conv_2(x)\n",
    "        x2 = self.conv_2_1(x)\n",
    "        x3 = self.conv_2_2(x)\n",
    "        x = x1+x2+x3+x\n",
    "        return x \n"
   ]
  },
  {
   "cell_type": "code",
   "execution_count": 6,
   "metadata": {},
   "outputs": [],
   "source": [
    "class CNN(torch.nn.Module):\n",
    "    def __init__(self,config):\n",
    "        super().__init__()\n",
    "        output_num = config[\"output_num\"]\n",
    "        self.input_num = config[\"input_num\"]\n",
    "        dropout = config[\"dropout\"]\n",
    "        mlp_dims = config[\"mlp_dims\"]\n",
    "        self.layers = config[\"layers\"]\n",
    "\n",
    "        self.backbone = torch.nn.Linear(self.input_num ,self.input_num)\n",
    "        self.embedding_1 = torch.nn.Embedding(2,256)\n",
    "        self.embedding_2 = torch.nn.Embedding(7,256)\n",
    "\n",
    "        self.proj = torch.nn.Sequential(\n",
    "            torch.nn.Linear(self.input_num,4096),\n",
    "            # torch.nn.Linear(2048,4096)\n",
    "        )\n",
    "        self.conv_1 = torch.nn.Sequential(\n",
    "            torch.nn.Conv1d(\n",
    "                in_channels = 256,\n",
    "                out_channels = 512,\n",
    "                kernel_size  = 3,\n",
    "                stride  = 1,\n",
    "                padding = 1,              \n",
    "            ),\n",
    "            # torch.nn.Mish(),\n",
    "            torch.nn.AvgPool1d(\n",
    "                kernel_size=2,\n",
    "            ),\n",
    "            torch.nn.Conv1d(\n",
    "                in_channels = 512,\n",
    "                out_channels = 512,\n",
    "                kernel_size  = 3,\n",
    "                stride  = 1,\n",
    "                padding = 1,              \n",
    "            ),\n",
    "            torch.nn.Mish(),\n",
    "        )\n",
    "\n",
    "        self.conv_1_1 = torch.nn.Sequential(\n",
    "            torch.nn.Conv1d(\n",
    "                in_channels = 256,\n",
    "                out_channels = 512,\n",
    "                kernel_size  = 5,\n",
    "                stride  = 1,\n",
    "                padding = 2,              \n",
    "            ),\n",
    "            # torch.nn.Mish(),\n",
    "\n",
    "            torch.nn.AvgPool1d(\n",
    "                kernel_size=2,\n",
    "            ),\n",
    "            torch.nn.Conv1d(\n",
    "                in_channels = 512,\n",
    "                out_channels = 512,\n",
    "                kernel_size  = 3,\n",
    "                stride  = 1,\n",
    "                padding = 1,              \n",
    "            ),\n",
    "            torch.nn.Mish(),\n",
    "        )\n",
    "\n",
    "        self.conv_1_2 = torch.nn.Sequential(\n",
    "            torch.nn.Conv1d(\n",
    "                in_channels = 256,\n",
    "                out_channels = 512,\n",
    "                kernel_size  = 15,\n",
    "                stride  = 1,\n",
    "                padding = 7,              \n",
    "            ),\n",
    "            # torch.nn.Mish(),\n",
    "            torch.nn.AvgPool1d(\n",
    "                kernel_size=2,\n",
    "            ),\n",
    "            torch.nn.Conv1d(\n",
    "                in_channels = 512,\n",
    "                out_channels = 512,\n",
    "                kernel_size  = 5,\n",
    "                stride  = 1,\n",
    "                padding = 2,              \n",
    "            ),\n",
    "            torch.nn.Mish(),\n",
    "        )\n",
    "\n",
    "        self.conv_layers = torch.nn.ModuleList()\n",
    "        for i in range(self.layers):\n",
    "            self.conv_layers.append(conv_block(config))\n",
    "\n",
    "        self.final = torch.nn.Sequential(\n",
    "\n",
    "            torch.nn.Flatten(),\n",
    "            torch.nn.Linear(4096,2048),\n",
    "            torch.nn.Mish(),\n",
    "            torch.nn.Linear(2048,512),\n",
    "            torch.nn.Mish(),\n",
    "            torch.nn.Linear(512,output_num),\n",
    "            torch.nn.Mish(),\n",
    "            \n",
    "        )\n",
    "    \n",
    "    def forward(self,x):\n",
    "        x_ = self.embedding_2(x[:,-1].int())\n",
    "        x_ = torch.repeat_interleave(torch.unsqueeze(x_,-1),16,-1)\n",
    "        x = self.proj(x[:,:self.input_num])\n",
    "        x = torch.reshape(x,(x.shape[0],256,16))\n",
    "        x = x+x_\n",
    "        x1 = self.conv_1(x)\n",
    "        x2 = self.conv_1_1(x)\n",
    "        x3 = self.conv_1_2(x)\n",
    "        # res_list = []\n",
    "        x = x1+x2+x3\n",
    "        # res_list.append(x)\n",
    "\n",
    "        for layer in self.conv_layers:\n",
    "            x = layer(x)\n",
    "            # res_list.append(x)\n",
    "\n",
    "        # x = torch.concat(res_list,dim =-1)\n",
    "        x = self.final(x)\n",
    "        return x\n",
    "\n",
    "        \n"
   ]
  },
  {
   "cell_type": "code",
   "execution_count": 11,
   "metadata": {},
   "outputs": [
    {
     "name": "stdout",
     "output_type": "stream",
     "text": [
      "machine has 1 cuda devices\n",
      "model of first cuda device is NVIDIA GeForce RTX 3070\n",
      "Training started\n",
      "Adjusting learning rate of group 0 to 1.0000e-04.\n"
     ]
    },
    {
     "data": {
      "application/vnd.jupyter.widget-view+json": {
       "model_id": "a654e52602b94e5caf43ab43b9627cd0",
       "version_major": 2,
       "version_minor": 0
      },
      "text/plain": [
       "  0%|          | 0/100 [00:00<?, ?it/s]"
      ]
     },
     "metadata": {},
     "output_type": "display_data"
    },
    {
     "name": "stdout",
     "output_type": "stream",
     "text": [
      "Adjusting learning rate of group 0 to 1.0000e-04.\n",
      "epoch-0 train_loss:-0.8791215637714248 val_loss:-0.8830298984173647 corr_score:0.883044956759263\n",
      "Adjusting learning rate of group 0 to 1.0000e-04.\n",
      "epoch-1 train_loss:-0.9006793162168889 val_loss:-0.8890539739549774 corr_score:0.8890727684151111\n",
      "Adjusting learning rate of group 0 to 1.0000e-04.\n",
      "epoch-2 train_loss:-0.9035192262432912 val_loss:-0.8885286468820474 corr_score:0.8885442285207434\n",
      "Adjusting learning rate of group 0 to 1.0000e-04.\n",
      "epoch-3 train_loss:-0.9052523034431267 val_loss:-0.8908788936654317 corr_score:0.8908941521690924\n",
      "Adjusting learning rate of group 0 to 1.0000e-04.\n",
      "epoch-4 train_loss:-0.9061653792362794 val_loss:-0.8910883480740577 corr_score:0.8911044026932226\n",
      "Adjusting learning rate of group 0 to 1.0000e-05.\n",
      "epoch-5 train_loss:-0.9069071000963037 val_loss:-0.8908725227277303 corr_score:0.8908895849292424\n",
      "Adjusting learning rate of group 0 to 1.0000e-05.\n",
      "epoch-6 train_loss:-0.9092228009760215 val_loss:-0.8932511634433392 corr_score:0.8932672269987502\n",
      "Adjusting learning rate of group 0 to 1.0000e-05.\n",
      "epoch-7 train_loss:-0.9095327107860111 val_loss:-0.8928642666216978 corr_score:0.8928797990666452\n",
      "Adjusting learning rate of group 0 to 1.0000e-05.\n",
      "epoch-8 train_loss:-0.9096604450257532 val_loss:-0.8932985128815641 corr_score:0.8933144743075434\n",
      "Adjusting learning rate of group 0 to 1.0000e-06.\n",
      "epoch-9 train_loss:-0.9097866576134003 val_loss:-0.8928592327943782 corr_score:0.8928747593537072\n",
      "Adjusting learning rate of group 0 to 1.0000e-06.\n",
      "epoch-10 train_loss:-0.9100745880042417 val_loss:-0.8934010771132007 corr_score:0.8934170009676249\n",
      "Adjusting learning rate of group 0 to 1.0000e-06.\n",
      "epoch-11 train_loss:-0.9101155035383484 val_loss:-0.8932980409602529 corr_score:0.8933136081068822\n",
      "Adjusting learning rate of group 0 to 1.0000e-06.\n",
      "epoch-12 train_loss:-0.9101404417254588 val_loss:-0.8933773237405364 corr_score:0.8933932198221989\n",
      "Adjusting learning rate of group 0 to 1.0000e-06.\n",
      "epoch-13 train_loss:-0.9101537139131752 val_loss:-0.8933824362214079 corr_score:0.8933982595351369\n",
      "Adjusting learning rate of group 0 to 1.0000e-07.\n",
      "epoch-14 train_loss:-0.9101680005356215 val_loss:-0.8933892790804204 corr_score:0.8934051891404265\n",
      "Adjusting learning rate of group 0 to 1.0000e-07.\n",
      "epoch-15 train_loss:-0.910199278939794 val_loss:-0.8933711101099387 corr_score:0.8933869989265412\n",
      "Adjusting learning rate of group 0 to 1.0000e-07.\n",
      "epoch-16 train_loss:-0.9102106913305056 val_loss:-0.8933651324399968 corr_score:0.8933810142674273\n",
      "out of patience\n",
      "Adjusting learning rate of group 0 to 1.0000e-04.\n"
     ]
    },
    {
     "data": {
      "application/vnd.jupyter.widget-view+json": {
       "model_id": "8a9693fd90384f6bbe23f9cdcec3c096",
       "version_major": 2,
       "version_minor": 0
      },
      "text/plain": [
       "  0%|          | 0/100 [00:00<?, ?it/s]"
      ]
     },
     "metadata": {},
     "output_type": "display_data"
    },
    {
     "name": "stdout",
     "output_type": "stream",
     "text": [
      "Adjusting learning rate of group 0 to 1.0000e-04.\n",
      "epoch-0 train_loss:-0.8776318094004756 val_loss:-0.890480284995221 corr_score:0.8904938199626866\n",
      "Adjusting learning rate of group 0 to 1.0000e-04.\n",
      "epoch-1 train_loss:-0.8974267710810122 val_loss:-0.8935645083163647 corr_score:0.893579034384641\n",
      "Adjusting learning rate of group 0 to 1.0000e-04.\n",
      "epoch-2 train_loss:-0.9006436389425526 val_loss:-0.8947225530096825 corr_score:0.8947393792212124\n",
      "Adjusting learning rate of group 0 to 1.0000e-04.\n",
      "epoch-3 train_loss:-0.9022769098696501 val_loss:-0.8946543754415309 corr_score:0.8946664199949971\n",
      "Adjusting learning rate of group 0 to 1.0000e-04.\n",
      "epoch-4 train_loss:-0.9032528918722401 val_loss:-0.8954768079392453 corr_score:0.895481999916618\n",
      "Adjusting learning rate of group 0 to 1.0000e-05.\n",
      "epoch-5 train_loss:-0.9041509213654891 val_loss:-0.895974098367894 corr_score:0.8959824546089385\n",
      "Adjusting learning rate of group 0 to 1.0000e-05.\n",
      "epoch-6 train_loss:-0.9064555790113367 val_loss:-0.8980782691468584 corr_score:0.8980886636996581\n",
      "Adjusting learning rate of group 0 to 1.0000e-05.\n",
      "epoch-7 train_loss:-0.9067755160124406 val_loss:-0.8977155482515375 corr_score:0.8977247632733678\n",
      "Adjusting learning rate of group 0 to 1.0000e-05.\n",
      "epoch-8 train_loss:-0.906937723574431 val_loss:-0.8975016005495762 corr_score:0.8975119112451013\n",
      "Adjusting learning rate of group 0 to 1.0000e-06.\n",
      "epoch-9 train_loss:-0.9070545694102412 val_loss:-0.8975619052318816 corr_score:0.8975730634536813\n",
      "Adjusting learning rate of group 0 to 1.0000e-06.\n",
      "epoch-10 train_loss:-0.9073583354120669 val_loss:-0.8980794054396609 corr_score:0.898090129398399\n",
      "Adjusting learning rate of group 0 to 1.0000e-06.\n",
      "epoch-11 train_loss:-0.9074313122293224 val_loss:-0.8980175586456948 corr_score:0.898027592918786\n",
      "Adjusting learning rate of group 0 to 1.0000e-06.\n",
      "epoch-12 train_loss:-0.9074469027311906 val_loss:-0.8979910180923787 corr_score:0.8980016174799883\n",
      "Adjusting learning rate of group 0 to 1.0000e-06.\n",
      "epoch-13 train_loss:-0.907461746879246 val_loss:-0.8980275417896028 corr_score:0.8980379342376803\n",
      "Adjusting learning rate of group 0 to 1.0000e-07.\n",
      "epoch-14 train_loss:-0.907483142355214 val_loss:-0.8978654577376994 corr_score:0.8978759745268073\n",
      "Adjusting learning rate of group 0 to 1.0000e-07.\n",
      "epoch-15 train_loss:-0.9075207917586617 val_loss:-0.8978892387227809 corr_score:0.8978995885620779\n",
      "Adjusting learning rate of group 0 to 1.0000e-07.\n",
      "epoch-16 train_loss:-0.9075123330821162 val_loss:-0.8979174025515293 corr_score:0.8979279254044026\n",
      "out of patience\n",
      "Adjusting learning rate of group 0 to 1.0000e-04.\n"
     ]
    },
    {
     "data": {
      "application/vnd.jupyter.widget-view+json": {
       "model_id": "69975d7f11ae430da05ed5f1aa2f7877",
       "version_major": 2,
       "version_minor": 0
      },
      "text/plain": [
       "  0%|          | 0/100 [00:00<?, ?it/s]"
      ]
     },
     "metadata": {},
     "output_type": "display_data"
    },
    {
     "name": "stdout",
     "output_type": "stream",
     "text": [
      "Adjusting learning rate of group 0 to 1.0000e-04.\n",
      "epoch-0 train_loss:-0.8770582588555301 val_loss:-0.8796434073612608 corr_score:0.8797056596017838\n",
      "Adjusting learning rate of group 0 to 1.0000e-04.\n",
      "epoch-1 train_loss:-0.897560798684964 val_loss:-0.8879862818224676 corr_score:0.8880352331467634\n",
      "Adjusting learning rate of group 0 to 1.0000e-04.\n",
      "epoch-2 train_loss:-0.9003565124192163 val_loss:-0.8915627139738236 corr_score:0.8916087330791928\n",
      "Adjusting learning rate of group 0 to 1.0000e-04.\n",
      "epoch-3 train_loss:-0.9018454027425556 val_loss:-0.8920360872115212 corr_score:0.8920809355151132\n",
      "Adjusting learning rate of group 0 to 1.0000e-04.\n",
      "epoch-4 train_loss:-0.902909922974272 val_loss:-0.8937669074398348 corr_score:0.8938154238366594\n",
      "Adjusting learning rate of group 0 to 1.0000e-05.\n",
      "epoch-5 train_loss:-0.9035930533683737 val_loss:-0.8926671346028646 corr_score:0.8927212726361548\n",
      "Adjusting learning rate of group 0 to 1.0000e-05.\n",
      "epoch-6 train_loss:-0.9057983078881708 val_loss:-0.8941535511236082 corr_score:0.8942019312525339\n",
      "Adjusting learning rate of group 0 to 1.0000e-05.\n",
      "epoch-7 train_loss:-0.9061316045791067 val_loss:-0.8939890368231411 corr_score:0.8940365240269832\n",
      "Adjusting learning rate of group 0 to 1.0000e-05.\n",
      "epoch-8 train_loss:-0.9062595067848086 val_loss:-0.8940597183402927 corr_score:0.8941078778886437\n",
      "Adjusting learning rate of group 0 to 1.0000e-06.\n",
      "epoch-9 train_loss:-0.9063878883241983 val_loss:-0.8945087125931663 corr_score:0.8945560610838326\n",
      "Adjusting learning rate of group 0 to 1.0000e-06.\n",
      "epoch-10 train_loss:-0.9066413759561109 val_loss:-0.8944847720792923 corr_score:0.8945323057908013\n",
      "Adjusting learning rate of group 0 to 1.0000e-06.\n",
      "epoch-11 train_loss:-0.9067004138886616 val_loss:-0.8943097344760237 corr_score:0.8943573084654715\n",
      "Adjusting learning rate of group 0 to 1.0000e-06.\n",
      "epoch-12 train_loss:-0.90674379358741 val_loss:-0.8943835729840158 corr_score:0.8944316537344025\n",
      "Adjusting learning rate of group 0 to 1.0000e-06.\n",
      "epoch-13 train_loss:-0.906738361138948 val_loss:-0.894366648005343 corr_score:0.8944144091513131\n",
      "Adjusting learning rate of group 0 to 1.0000e-07.\n",
      "epoch-14 train_loss:-0.9067655233812582 val_loss:-0.8943709450206537 corr_score:0.8944186323145187\n",
      "Adjusting learning rate of group 0 to 1.0000e-07.\n",
      "epoch-15 train_loss:-0.9068065064115675 val_loss:-0.8943748912592043 corr_score:0.8944225915300239\n",
      "out of patience\n",
      "\n",
      "\n",
      "Final average score is 0.8953543971499522\n"
     ]
    }
   ],
   "source": [
    "if torch.cuda.is_available():\n",
    "    device = torch.device(\"cuda:0\")\n",
    "    print(f\"machine has {torch.cuda.device_count()} cuda devices\")\n",
    "    print(f\"model of first cuda device is {torch.cuda.get_device_name(0)}\")\n",
    "else:\n",
    "    device = torch.device(\"cpu\")\n",
    "\n",
    "trainer = Cite_Trainer(device)\n",
    "kfold = GroupKFold(n_splits=config[\"n_folds\"]) # , shuffle=True, random_state=config[\"kfold_random_state\"]\n",
    "FOLDS_LIST = list(kfold.split(range(train.shape[0]),groups= meta_train.donor)) #\n",
    "print(\"Training started\")\n",
    "fold_scores = []\n",
    "for num_fold in config[\"folds_to_train\"]:\n",
    "    model = CNN(config)\n",
    "    best_score = trainer.train_one_fold(num_fold,FOLDS_LIST,train,target,model,config)\n",
    "    fold_scores.append(best_score)\n",
    "print(\"\\n\")\n",
    "print(f\"Final average score is {sum(fold_scores)/len(fold_scores)}\")\n",
    "    "
   ]
  },
  {
   "cell_type": "code",
   "execution_count": 12,
   "metadata": {},
   "outputs": [
    {
     "data": {
      "text/plain": [
       "[0.8934170009676249, 0.898090129398399, 0.8945560610838326]"
      ]
     },
     "execution_count": 12,
     "metadata": {},
     "output_type": "execute_result"
    }
   ],
   "source": [
    "fold_scores"
   ]
  },
  {
   "cell_type": "code",
   "execution_count": 13,
   "metadata": {},
   "outputs": [
    {
     "data": {
      "text/plain": [
       "0.8953543971499522"
      ]
     },
     "execution_count": 13,
     "metadata": {},
     "output_type": "execute_result"
    }
   ],
   "source": [
    "np.mean(fold_scores)"
   ]
  },
  {
   "cell_type": "code",
   "execution_count": 17,
   "metadata": {},
   "outputs": [],
   "source": [
    "class ori_Tester:\n",
    "    def __init__(self,device,config):\n",
    "        self.device = device\n",
    "        self.config = config\n",
    "\n",
    "    def std(self,x):\n",
    "        return (x - np.mean(x,axis=1).reshape(-1,1)) / np.std(x,axis=1).reshape(-1,1)\n",
    "        # return (x - np.mean(x)) / np.std(x)\n",
    "    \n",
    "    def test_fn_ensemble(self,model_list, dl_test):\n",
    "        \n",
    "        res = np.zeros(\n",
    "            (self.len, self.config[\"output_num\"]), )\n",
    "        \n",
    "        for model in model_list:\n",
    "            model.eval()\n",
    "            \n",
    "        cur = 0\n",
    "        for inpt in tqdm(dl_test):\n",
    "            inpt = inpt[0]\n",
    "            mb_size = inpt.shape[0]\n",
    "\n",
    "            with torch.no_grad():\n",
    "                pred_list = []\n",
    "                inpt = inpt.to(self.device)\n",
    "                # print(\"inpt\",inpt.shape)\n",
    "                for id,model in enumerate(model_list):\n",
    "                    model.to(self.device)\n",
    "                    model.eval()\n",
    "                    pred = model(inpt)\n",
    "                    model.to(\"cpu\")\n",
    "                    # print(\"pred\",pred.shape)\n",
    "                    pred = self.std(pred.cpu().numpy())* self.weight[id]\n",
    "                    pred_list.append(pred)\n",
    "                pred = sum(pred_list)/len(pred_list)\n",
    "                \n",
    "            # print(res.shape, cur, cur+pred.shape[0], res[cur:cur+pred.shape[0]].shape, pred.shape)\n",
    "            res[cur:cur+pred.shape[0]] = pred\n",
    "            cur += pred.shape[0]\n",
    "                \n",
    "        return {\"preds\":res}\n",
    "\n",
    "    def load_model(self,path ):\n",
    "        model_list = []\n",
    "        for fn in tqdm(glob.glob(path)):\n",
    "            prefix = fn[:-len(\"_best_params.pth\")]\n",
    "            config_fn = prefix + \"_config.pkl\"\n",
    "            \n",
    "            config = pickle.load(open(config_fn, \"rb\"))\n",
    "\n",
    "            model = CNN(config)\n",
    "            model.to(\"cpu\")\n",
    "            \n",
    "            params = torch.load(fn)\n",
    "            model.load_state_dict(params)\n",
    "            \n",
    "            model_list.append(model)\n",
    "        print(\"model loaded\")\n",
    "        return model_list\n",
    "    \n",
    "    def load_data(self,test ):\n",
    "        print(\"test inputs loaded\")\n",
    "        print(test.shape)\n",
    "        self.len = test.shape[0]\n",
    "        test = torch.tensor(test,dtype = torch.float)\n",
    "        test = torch.utils.data.TensorDataset(test)\n",
    "        return test\n",
    "\n",
    "    def test(self,test,model_path = \"./*_best_params.pth\",weight = fold_scores):\n",
    "        self.weight = weight\n",
    "        model_list = self.load_model(model_path)\n",
    "        test_inputs = self.load_data(test)\n",
    "        gc.collect()\n",
    "        dl_test = torch.utils.data.DataLoader(test_inputs, batch_size=4096, shuffle=False, drop_last=False)\n",
    "        test_pred = self.test_fn_ensemble(model_list, dl_test)[\"preds\"]\n",
    "        del model_list\n",
    "        del dl_test\n",
    "        del test_inputs\n",
    "        gc.collect()\n",
    "        print(test_pred.shape)\n",
    "        # np.save(\"test_pred.npy\",test_pred)\n",
    "        return test_pred\n",
    "        "
   ]
  },
  {
   "cell_type": "code",
   "execution_count": 20,
   "metadata": {},
   "outputs": [
    {
     "data": {
      "text/plain": [
       "(48663, 737)"
      ]
     },
     "execution_count": 20,
     "metadata": {},
     "output_type": "execute_result"
    }
   ],
   "source": [
    "test = np.load(\"../../data_preprocessing/new_cite_test_final.npz\")[\"arr_0\"]\n",
    "\n",
    "test_index = np.load(f\"{root_path}/multimodal-single-cell-as-sparse-matrix/test_cite_inputs_idxcol.npz\",allow_pickle=True)\n",
    "meta_test = meta.reindex(test_index[\"index\"])\n",
    "test_meta = meta_test[\"gender\"].values.reshape(-1, 1)\n",
    "test = np.concatenate([test,test_meta],axis= -1)\n",
    "test_meta = meta_test[\"cell_type\"].values.reshape(-1, 1)\n",
    "test = np.concatenate([test,test_meta],axis= -1)\n",
    "test.shape"
   ]
  },
  {
   "cell_type": "code",
   "execution_count": 21,
   "metadata": {},
   "outputs": [
    {
     "data": {
      "application/vnd.jupyter.widget-view+json": {
       "model_id": "4147bb887b8c4fb687bee6d860ccdbed",
       "version_major": 2,
       "version_minor": 0
      },
      "text/plain": [
       "  0%|          | 0/3 [00:00<?, ?it/s]"
      ]
     },
     "metadata": {},
     "output_type": "display_data"
    },
    {
     "name": "stdout",
     "output_type": "stream",
     "text": [
      "model loaded\n",
      "test inputs loaded\n",
      "(48663, 737)\n"
     ]
    },
    {
     "data": {
      "application/vnd.jupyter.widget-view+json": {
       "model_id": "30d3e1d521c64f1583d220a001d15b9c",
       "version_major": 2,
       "version_minor": 0
      },
      "text/plain": [
       "  0%|          | 0/12 [00:00<?, ?it/s]"
      ]
     },
     "metadata": {},
     "output_type": "display_data"
    },
    {
     "name": "stdout",
     "output_type": "stream",
     "text": [
      "(48663, 140)\n"
     ]
    }
   ],
   "source": [
    "tester = ori_Tester( torch.device(\"cuda:0\"),config)\n",
    "test_pred = tester.test(test)"
   ]
  },
  {
   "cell_type": "code",
   "execution_count": 22,
   "metadata": {},
   "outputs": [
    {
     "data": {
      "text/plain": [
       "False"
      ]
     },
     "execution_count": 22,
     "metadata": {},
     "output_type": "execute_result"
    }
   ],
   "source": [
    "np.isnan(test_pred).any()"
   ]
  },
  {
   "cell_type": "code",
   "execution_count": 23,
   "metadata": {},
   "outputs": [
    {
     "data": {
      "text/plain": [
       "<AxesSubplot:>"
      ]
     },
     "execution_count": 23,
     "metadata": {},
     "output_type": "execute_result"
    },
    {
     "data": {
      "image/png": "[encoded data removed]",
      "text/plain": [
       "<Figure size 432x288 with 2 Axes>"
      ]
     },
     "metadata": {
      "needs_background": "light"
     },
     "output_type": "display_data"
    }
   ],
   "source": [
    "import seaborn as sns\n",
    "sns.heatmap(test_pred)"
   ]
  },
  {
   "cell_type": "code",
   "execution_count": 24,
   "metadata": {},
   "outputs": [],
   "source": [
    "def submit(test_pred,multi_path):\n",
    "    submission = pd.read_csv(multi_path,index_col = 0)\n",
    "    submission = submission[\"target\"]\n",
    "    print(\"data loaded\")\n",
    "    submission.iloc[:len(test_pred.ravel())] = test_pred.ravel()\n",
    "    assert not submission.isna().any()\n",
    "    # submission = submission.round(6) # reduce the size of the csv\n",
    "    print(\"start -> submission.zip\")\n",
    "    submission.to_csv('submission.zip')\n",
    "    print(\"submission.zip saved!\")"
   ]
  },
  {
   "cell_type": "code",
   "execution_count": 25,
   "metadata": {},
   "outputs": [
    {
     "name": "stdout",
     "output_type": "stream",
     "text": [
      "data loaded\n",
      "start -> submission.zip\n",
      "submission.zip saved!\n",
      "CPU times: total: 57.8 s\n",
      "Wall time: 3min 15s\n"
     ]
    }
   ],
   "source": [
    "%%time\n",
    "submit(test_pred,multi_path = r\"D:\\python_project\\MSCI\\model_ensemble\\submission_best.zip\")"
   ]
  },
  {
   "cell_type": "code",
   "execution_count": null,
   "metadata": {},
   "outputs": [],
   "source": []
  }
 ],
 "metadata": {
  "kernelspec": {
   "display_name": "Python 3.9.12 ('base')",
   "language": "python",
   "name": "python3"
  },
  "language_info": {
   "codemirror_mode": {
    "name": "ipython",
    "version": 3
   },
   "file_extension": ".py",
   "mimetype": "text/x-python",
   "name": "python",
   "nbconvert_exporter": "python",
   "pygments_lexer": "ipython3",
   "version": "3.9.12"
  },
  "vscode": {
   "interpreter": {
    "hash": "ad2bdc8ecc057115af97d19610ffacc2b4e99fae6737bb82f5d7fb13d2f2c186"
   }
  }
 },
 "nbformat": 4,
 "nbformat_minor": 4
}
