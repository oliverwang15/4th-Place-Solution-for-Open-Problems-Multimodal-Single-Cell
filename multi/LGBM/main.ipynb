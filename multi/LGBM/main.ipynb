{
 "cells": [
  {
   "cell_type": "code",
   "execution_count": 5,
   "metadata": {},
   "outputs": [],
   "source": [
    "import warnings\n",
    "warnings.filterwarnings(\"ignore\")\n",
    "import sys\n",
    "sys.path.append(\"../../utils\")\n",
    "from loss import partial_correlation_score_torch_faster,correl_loss\n",
    "from sklearn.model_selection import train_test_split,KFold,GroupKFold\n",
    "from sklearn.decomposition import TruncatedSVD\n",
    "from sklearn.multioutput import MultiOutputRegressor\n",
    "from sklearn.metrics import mean_squared_error,mean_absolute_error\n",
    "from sklearn.preprocessing import OneHotEncoder,LabelEncoder\n",
    "from tqdm.notebook import tqdm\n",
    "import lightgbm as lgb\n",
    "import pandas as pd\n",
    "import numpy as np\n",
    "import joblib\n",
    "import scipy\n",
    "import pickle\n",
    "import os\n",
    "import gc"
   ]
  },
  {
   "cell_type": "markdown",
   "metadata": {},
   "source": [
    "## Train"
   ]
  },
  {
   "cell_type": "code",
   "execution_count": 7,
   "metadata": {},
   "outputs": [
    {
     "data": {
      "text/plain": [
       "((105868, 513), (105868, 1024), (105868, 23418))"
      ]
     },
     "execution_count": 7,
     "metadata": {},
     "output_type": "execute_result"
    }
   ],
   "source": [
    "# %%time\n",
    "\n",
    "raw_path = \"../../data_preprocessing/\"\n",
    "# get the indexs\n",
    "with open(\"../../data_preprocessing/multi_in_ori_raw_idx.pkl\",\"rb\") as f:\n",
    "    multi_in_ori_raw_idx = pickle.load(f)\n",
    "with open(\"../../data_preprocessing/multi_in_ori_ori_idx.pkl\",\"rb\") as f:\n",
    "    multi_in_ori_ori_idx = pickle.load(f)\n",
    "\n",
    "train_inputs = np.load(raw_path+\"new_multi_train_tsvd.npz\")[\"arr_0\"]  # tsvd\n",
    "train_inputs = train_inputs[multi_in_ori_raw_idx]\n",
    "train_target = np.load(raw_path+\"new_multi_target_tsvd.npz\")[\"arr_0\"] # tsvd targets\n",
    "train_target = train_target[multi_in_ori_ori_idx]\n",
    "train_targets = scipy.sparse.load_npz(\"../../../input/multimodal-single-cell-as-sparse-matrix/train_multi_targets_values.sparse.npz\") # real targets\n",
    "train_targets = train_targets[multi_in_ori_ori_idx]\n",
    "train_targets = train_targets.toarray()\n",
    "\n",
    "train_index = np.load(f\"../../../input/multimodal-single-cell-as-sparse-matrix/train_multi_inputs_idxcol.npz\",allow_pickle=True)\n",
    "meta = pd.read_csv(\"../../../input/open-problems-multimodal/metadata.csv\",index_col = \"cell_id\")\n",
    "meta = meta[meta.technology==\"multiome\"]\n",
    "lbe = LabelEncoder()\n",
    "meta[\"cell_type\"] = lbe.fit_transform(meta[\"cell_type\"])\n",
    "meta[\"gender\"] = meta.apply(lambda x:0 if x[\"donor\"]==13176 else 1,axis =1)\n",
    "meta_train = meta.reindex(train_index[\"index\"])\n",
    "meta_train = meta_train.iloc[multi_in_ori_ori_idx]\n",
    "train_meta = meta_train[\"gender\"].values.reshape(-1, 1)\n",
    "train_inputs = np.concatenate([train_inputs,train_meta],axis= -1)\n",
    "\n",
    "train_inputs.shape,train_target.shape,train_targets.shape"
   ]
  },
  {
   "cell_type": "code",
   "execution_count": 6,
   "metadata": {},
   "outputs": [],
   "source": [
    "with open(raw_path+\"new_multi_tsvd_1024.pkl\",\"rb\") as f:\n",
    "    pca2 = pickle.load(f)\n",
    "components = pca2.components_\n",
    "def multi_correlation_score(tgt,pred):\n",
    "    pred_ = pred @ components\n",
    "    return correl_loss(tgt,pred_)"
   ]
  },
  {
   "cell_type": "code",
   "execution_count": 3,
   "metadata": {},
   "outputs": [],
   "source": [
    "# MOLGBM\n",
    "class MultiOutputLGBMRegressor:\n",
    "    def __init__(self,params):\n",
    "        self.params = params\n",
    "        self.model_list = []\n",
    "\n",
    "    def fit(self,train_data,train_label,val_data,val_label,**fit_params):\n",
    "        output_num = train_label.shape[1]\n",
    "        for i in tqdm(range(output_num),leave=False):\n",
    "            train_set = lgb.Dataset(train_data,train_label[:,i])\n",
    "            val_set = lgb.Dataset(val_data,val_label[:,i])\n",
    "            model = lgb.train(\n",
    "                self.params,\n",
    "                train_set,\n",
    "                valid_sets = val_set,\n",
    "                callbacks=[\n",
    "                    lgb.early_stopping(20,verbose = False),\n",
    "                    # lgb.log_evaluation(100),\n",
    "                ]\n",
    "            )\n",
    "            self.model_list.append(model)\n",
    "            \n",
    "    def predict(self,test_data):\n",
    "        res_list = []\n",
    "        for model in tqdm(self.model_list,leave=False):\n",
    "            res = model.predict(test_data)\n",
    "            res_list.append(res)\n",
    "        res_list = np.stack(res_list,axis = 1)\n",
    "        return res_list\n",
    "        \n",
    "    def dump(self,path = \"./models/MOLGB/\" ):\n",
    "        count = 0\n",
    "        os.makedirs(path,exist_ok=True)\n",
    "        for model in tqdm(self.model_list,leave=False):\n",
    "            joblib.dump(model, f'{path}model_{str(count)}.pkl')\n",
    "            count += 1\n",
    "        print(\"Model saved\")\n",
    "\n",
    "    def load(self,path = \"./models/MOLGB/\" ):\n",
    "        models = os.listdir(path)\n",
    "        if len(self.model_list) != 0:\n",
    "            raise ValueError(\"Don't load! Already loaded!\")\n",
    "        else:\n",
    "            for i in tqdm(range(len(models)),leave=False):\n",
    "                model = joblib.load(f'{path}model_{i}.pkl')\n",
    "                self.model_list.append(model)\n",
    "            print(\"Model loaded\")"
   ]
  },
  {
   "cell_type": "code",
   "execution_count": 4,
   "metadata": {},
   "outputs": [],
   "source": [
    "params = {\n",
    "  'learning_rate': 0.2, \n",
    "  'objective': 'mse', \n",
    "  'metric': ['mse', 'mae'], \n",
    "  'n_estimators': 10000, \n",
    "  'learning_rate': 0.011322411312518462, \n",
    "  'num_leaves': 350, \n",
    "  'verbose': -1, \n",
    "  'boosting_type': 'gbdt', \n",
    "  'reg_alpha': 0.40300033428422216, \n",
    "  'reg_lambda': 1.6473388122802188, \n",
    "  'colsample_bytree': 0.5, \n",
    "  'subsample': 0.7, \n",
    "  'max_depth': -1, \n",
    "  'min_child_samples': 54, \n",
    "  'cat_smooth': 41.24648150772993,\n",
    "  \n",
    "    # 'device':\"gpu\",\n",
    "    # \"gpu_device_id\":0,\n",
    "    # \"gpu_platform_id\":1,\n",
    "    }"
   ]
  },
  {
   "cell_type": "code",
   "execution_count": null,
   "metadata": {},
   "outputs": [],
   "source": [
    "np.random.seed(42)\n",
    "kf = GroupKFold(n_splits=3) \n",
    "\n",
    "score = []\n",
    " \n",
    "for id,(idx_tr, idx_va) in enumerate(kf.split(range(train_inputs.shape[0]),groups= meta_train.donor)):\n",
    "    Xtr, Xva = train_inputs[idx_tr], train_inputs[idx_va]\n",
    "    Ytr, Yva = train_target[idx_tr], train_target[idx_va]\n",
    "    Ytrs, Yvas = train_targets[idx_tr], train_targets[idx_va]\n",
    "\n",
    "    print(f'Fold {id}..')\n",
    "    model = MultiOutputLGBMRegressor(params)\n",
    "    model.fit(Xtr, Ytr,Xva,Yva,)\n",
    "\n",
    "    y_tr_pred = model.predict(Xtr)\n",
    "    mse_tr = mean_squared_error(Ytr, y_tr_pred)\n",
    "    mae_tr = mean_absolute_error(Ytr, y_tr_pred)\n",
    "    pearson_tr = multi_correlation_score(Ytrs, y_tr_pred)\n",
    "    print(f\"Flod_{id}_train  mse:{mse_tr},  mae:{mae_tr},  pearson:{pearson_tr}\")\n",
    "\n",
    "    y_va_pred = model.predict(Xva)\n",
    "    mse = mean_squared_error(Yva, y_va_pred)\n",
    "    mae = mean_absolute_error(Yva, y_va_pred)\n",
    "    pearson = multi_correlation_score(Yvas, y_va_pred)\n",
    "    print(f\"Flod-{id}_test   mse:{mse},  mae:{mae},  pearson:{pearson}\\n\")\n",
    "\n",
    "    score.append(pearson)\n",
    "    del Xtr, Ytr\n",
    "    del Xva, Yva\n",
    "    gc.collect()\n",
    "    \n",
    "    d_path = f\"./models/CV/Fold_{id}/\"\n",
    "    os.makedirs(d_path,exist_ok=True)\n",
    "    model.dump(d_path)\n",
    "\n",
    "gc.collect()"
   ]
  },
  {
   "cell_type": "markdown",
   "metadata": {},
   "source": [
    "## Predict"
   ]
  },
  {
   "cell_type": "code",
   "execution_count": null,
   "metadata": {},
   "outputs": [],
   "source": [
    "test = np.load(raw_path+\"new_multi_test_tsvd.npz\")[\"arr_0\"]  # tsvd\n",
    "\n",
    "test_index = np.load(f\"../../../input/multimodal-single-cell-as-sparse-matrix/test_multi_inputs_idxcol.npz\",allow_pickle=True)\n",
    "meta_test= meta.reindex(test_index[\"index\"])\n",
    "test_meta = meta_test[\"gender\"].values.reshape(-1, 1)\n",
    "test = np.concatenate([test,test_meta],axis= -1)\n",
    "test.shape"
   ]
  },
  {
   "cell_type": "code",
   "execution_count": null,
   "metadata": {},
   "outputs": [],
   "source": [
    "score # = [0.6636945377072712, 0.6701864710383082, 0.6676791305484101]"
   ]
  },
  {
   "cell_type": "code",
   "execution_count": null,
   "metadata": {},
   "outputs": [],
   "source": [
    "np.mean(score) # 0.6671867130979964"
   ]
  },
  {
   "cell_type": "code",
   "execution_count": null,
   "metadata": {},
   "outputs": [],
   "source": [
    "def std(x):\n",
    "    return (x - np.mean(x,axis=1).reshape(-1,1)) / np.std(x,axis=1).reshape(-1,1)"
   ]
  },
  {
   "cell_type": "code",
   "execution_count": null,
   "metadata": {},
   "outputs": [],
   "source": [
    "from tqdm.notebook import tqdm\n",
    "import glob\n",
    "model_path = \"./models/CV/Fold_*\"\n",
    "model_list = glob.glob(model_path)\n",
    "preds = np.zeros((test.shape[0], 23418))\n",
    "for id,fn in enumerate(tqdm(model_list)):\n",
    "    model_ = MultiOutputLGBMRegressor(params)\n",
    "    model_.load(fn+\"/\")\n",
    "    preds += std(model_.predict(test)@ components)* score[id]\n",
    "    gc.collect()"
   ]
  },
  {
   "cell_type": "code",
   "execution_count": null,
   "metadata": {},
   "outputs": [],
   "source": [
    "def submit(test_pred,cite_path = r\"C:\\Users\\Olive\\Downloads\\Compressed\\submission_best.zip\"):\n",
    "    \n",
    "    # Read the table of rows and columns required for submission\n",
    "    eval_ids = pd.read_parquet(\"../data/others/evaluation.parquet\")\n",
    "\n",
    "    # Convert the string columns to more efficient categorical types\n",
    "    #eval_ids.cell_id = eval_ids.cell_id.apply(lambda s: int(s, base=16))\n",
    "\n",
    "    eval_ids.cell_id = eval_ids.cell_id.astype(pd.CategoricalDtype())\n",
    "    eval_ids.gene_id = eval_ids.gene_id.astype(pd.CategoricalDtype())\n",
    "\n",
    "    submission = pd.Series(name='target',\n",
    "                       index=pd.MultiIndex.from_frame(eval_ids), \n",
    "                       dtype=np.float32)\n",
    "    print(\"data loaded\")\n",
    "    y_columns = np.load(\"../data/others/train_multi_targets_idxcol.npz\",allow_pickle=True)[\"columns\"]\n",
    "    test_index = np.load(\"../data/others/test_multi_inputs_idxcol.npz\",allow_pickle=True)[\"index\"]\n",
    "\n",
    "    cell_dict = dict((k,v) for v,k in enumerate(test_index)) \n",
    "    assert len(cell_dict)  == len(test_index)\n",
    "\n",
    "    gene_dict = dict((k,v) for v,k in enumerate(y_columns))\n",
    "    assert len(gene_dict) == len(y_columns)\n",
    "\n",
    "    eval_ids_cell_num = eval_ids.cell_id.apply(lambda x:cell_dict.get(x, -1))\n",
    "    eval_ids_gene_num = eval_ids.gene_id.apply(lambda x:gene_dict.get(x, -1))\n",
    "\n",
    "    valid_multi_rows = (eval_ids_gene_num !=-1) & (eval_ids_cell_num!=-1)\n",
    "    valid_multi_rows = valid_multi_rows.to_numpy()\n",
    "    eval_ids_gene_num[valid_multi_rows].to_numpy()\n",
    "    \n",
    "    submission.iloc[valid_multi_rows] = test_pred[eval_ids_cell_num[valid_multi_rows].to_numpy(),\n",
    "    eval_ids_gene_num[valid_multi_rows].to_numpy()]\n",
    "\n",
    "    del eval_ids_cell_num, eval_ids_gene_num, valid_multi_rows, eval_ids, test_index, y_columns\n",
    "    gc.collect()\n",
    "\n",
    "    submission.reset_index(drop=True, inplace=True)\n",
    "    submission.index.name = 'row_id'\n",
    "\n",
    "    # Merging in the CITEseq submission\n",
    "    cite_submission = pd.read_csv(cite_path)\n",
    "    cite_submission = cite_submission.set_index(\"row_id\")\n",
    "    cite_submission = cite_submission[\"target\"]\n",
    "\n",
    "    submission[submission.isnull()] = cite_submission[submission.isnull()]\n",
    "    submission.isnull().any()\n",
    "    print(\"start -> submission.zip\")\n",
    "    submission.to_csv(\"submission.zip\")\n",
    "\n",
    "    print(\"submission.zip saved!\")\n"
   ]
  },
  {
   "cell_type": "code",
   "execution_count": null,
   "metadata": {},
   "outputs": [],
   "source": [
    "submit(preds,cite_path=r\"D:\\python_project\\MSCI\\model_ensemble\\submission_best.zip\")"
   ]
  },
  {
   "cell_type": "code",
   "execution_count": null,
   "metadata": {},
   "outputs": [],
   "source": []
  },
  {
   "cell_type": "code",
   "execution_count": null,
   "metadata": {},
   "outputs": [],
   "source": []
  }
 ],
 "metadata": {
  "kernelspec": {
   "display_name": "Python 3.9.12 ('base')",
   "language": "python",
   "name": "python3"
  },
  "language_info": {
   "codemirror_mode": {
    "name": "ipython",
    "version": 3
   },
   "file_extension": ".py",
   "mimetype": "text/x-python",
   "name": "python",
   "nbconvert_exporter": "python",
   "pygments_lexer": "ipython3",
   "version": "3.9.12"
  },
  "orig_nbformat": 4,
  "vscode": {
   "interpreter": {
    "hash": "ad2bdc8ecc057115af97d19610ffacc2b4e99fae6737bb82f5d7fb13d2f2c186"
   }
  }
 },
 "nbformat": 4,
 "nbformat_minor": 2
}
