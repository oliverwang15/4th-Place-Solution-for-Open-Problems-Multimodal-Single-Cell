{
 "cells": [
  {
   "cell_type": "code",
   "execution_count": 1,
   "metadata": {},
   "outputs": [],
   "source": [
    "import sys\n",
    "sys.path.append(\"../../utils/\")\n",
    "import time\n",
    "from tqdm.notebook import tqdm\n",
    "import gc\n",
    "import glob\n",
    "import copy\n",
    "import pickle\n",
    "import torch\n",
    "import numpy as np\n",
    "import pandas as pd\n",
    "from torch.utils import tensorboard\n",
    "from sklearn.model_selection import KFold\n",
    "from sklearn.preprocessing import LabelEncoder\n",
    "from loss import partial_correlation_score_torch_faster,correl_loss\n",
    "from trainer import Multi_Trainer\n",
    "import scipy"
   ]
  },
  {
   "cell_type": "code",
   "execution_count": 2,
   "metadata": {},
   "outputs": [
    {
     "name": "stderr",
     "output_type": "stream",
     "text": [
      "c:\\ProgramData\\Anaconda3\\lib\\site-packages\\sklearn\\base.py:329: UserWarning: Trying to unpickle estimator TruncatedSVD from version 1.1.2 when using version 1.0.2. This might lead to breaking code or invalid results. Use at your own risk. For more info please refer to:\n",
      "https://scikit-learn.org/stable/modules/model_persistence.html#security-maintainability-limitations\n",
      "  warnings.warn(\n"
     ]
    },
    {
     "name": "stdout",
     "output_type": "stream",
     "text": [
      "CPU times: total: 9.53 s\n",
      "Wall time: 35.5 s\n"
     ]
    },
    {
     "data": {
      "text/plain": [
       "((105868, 512), (105868, 23418))"
      ]
     },
     "execution_count": 2,
     "metadata": {},
     "output_type": "execute_result"
    }
   ],
   "source": [
    "%%time\n",
    "\n",
    "raw_path = \"../../data_preprocessing/\"\n",
    "# get the indexs\n",
    "with open(\"../../data_preprocessing/multi_in_ori_raw_idx.pkl\",\"rb\") as f:\n",
    "    multi_in_ori_raw_idx = pickle.load(f)\n",
    "with open(\"../../data_preprocessing/multi_in_ori_ori_idx.pkl\",\"rb\") as f:\n",
    "    multi_in_ori_ori_idx = pickle.load(f)\n",
    "\n",
    "train_inputs = np.load(raw_path+\"new_multi_train_tsvd.npz\")[\"arr_0\"]  # tsvd\n",
    "train_inputs = train_inputs[multi_in_ori_raw_idx]\n",
    "train_targets = scipy.sparse.load_npz(\"../../../input/multimodal-single-cell-as-sparse-matrix/train_multi_targets_values.sparse.npz\")\n",
    "train_targets = train_targets[multi_in_ori_ori_idx]\n",
    "train_targets = train_targets.toarray()\n",
    "train_targets -= train_targets.mean(axis=1, keepdims=True)\n",
    "train_targets /= train_targets.std(axis=1, ddof=1, keepdims=True)\n",
    "with open(raw_path+\"new_multi_tsvd_1024.pkl\",\"rb\") as f:\n",
    "    pca2 = pickle.load(f)\n",
    "\n",
    "components = torch.tensor(pca2.components_,device = \"cuda\")\n",
    "def multi_correl_loss(pred, tgt):\n",
    "    pred_ = pred @ components\n",
    "    return correl_loss(pred_, tgt)\n",
    "train_inputs.shape,train_targets.shape"
   ]
  },
  {
   "cell_type": "code",
   "execution_count": 3,
   "metadata": {},
   "outputs": [],
   "source": [
    "config = dict(\n",
    "    output_num = 1024,\n",
    "    input_num = train_inputs.shape[1],\n",
    "    dropout = 0.1,\n",
    "    layers = 9,\n",
    "\n",
    "    patience = 5,\n",
    "    max_epochs = 100,\n",
    "    criterion = multi_correl_loss,\n",
    "    batch_size = 100,\n",
    "    mlp_dims = [train_inputs.shape[1]*2,train_inputs.shape[1]],\n",
    "\n",
    "    min_epoch = 20,\n",
    "    n_folds = 3,\n",
    "    folds_to_train = [0,1,2], # ,5,6,7,8\n",
    "    kfold_random_state = 42,\n",
    "\n",
    "    tb_dir = \"./log/\",\n",
    "\n",
    "    optimizerparams = dict(lr=1e-4, weight_decay=1e-2,amsgrad = True),\n",
    "    milestones = [20,25,30,35,40],\n",
    ")\n"
   ]
  },
  {
   "cell_type": "code",
   "execution_count": 8,
   "metadata": {},
   "outputs": [
    {
     "data": {
      "text/plain": [
       "(105868, 514)"
      ]
     },
     "execution_count": 8,
     "metadata": {},
     "output_type": "execute_result"
    }
   ],
   "source": [
    "train_index = np.load(f\"../../../input/multimodal-single-cell-as-sparse-matrix/train_multi_inputs_idxcol.npz\",allow_pickle=True)\n",
    "meta = pd.read_csv(\"../../../input/open-problems-multimodal/metadata.csv\",index_col = \"cell_id\")\n",
    "meta = meta[meta.technology==\"multiome\"]\n",
    "lbe = LabelEncoder()\n",
    "meta[\"cell_type\"] = lbe.fit_transform(meta[\"cell_type\"])\n",
    "meta[\"gender\"] = meta.apply(lambda x:0 if x[\"donor\"]==13176 else 1,axis =1)\n",
    "meta_train = meta.reindex(train_index[\"index\"])\n",
    "meta_train = meta_train.iloc[multi_in_ori_ori_idx]\n",
    "\n",
    "train_meta = meta_train[\"gender\"].values.reshape(-1, 1)\n",
    "train_inputs = np.concatenate([train_inputs,train_meta],axis= -1)\n",
    "train_meta = meta_train[\"cell_type\"].values.reshape(-1, 1)\n",
    "train_inputs = np.concatenate([train_inputs,train_meta],axis= -1)\n",
    "train_inputs.shape"
   ]
  },
  {
   "cell_type": "code",
   "execution_count": 9,
   "metadata": {},
   "outputs": [],
   "source": [
    "class cell(torch.nn.Module):\n",
    "    def __init__(self,input_dim,out_dim,dropout=0.1):\n",
    "        super().__init__()\n",
    "        self.weight_1 = torch.nn.Sequential(\n",
    "            torch.nn.utils.weight_norm(torch.nn.Linear(input_dim,input_dim)),\n",
    "            # torch.nn.Mish(),\n",
    "            torch.nn.Softmax(dim= -1),\n",
    "        )\n",
    "        self.linear_0 = torch.nn.utils.weight_norm(torch.nn.Linear(input_dim,input_dim))\n",
    "        self.linear_1 = torch.nn.Sequential(\n",
    "            torch.nn.utils.weight_norm(torch.nn.Linear(input_dim,input_dim)),\n",
    "            torch.nn.Mish(),\n",
    "        )\n",
    "\n",
    "        self.bn_1 = torch.nn.LayerNorm((input_dim))\n",
    "        self.bn_2 = torch.nn.LayerNorm((out_dim))\n",
    "\n",
    "        self.linear_2 = torch.nn.Sequential(\n",
    "            torch.nn.utils.weight_norm(torch.nn.Linear(input_dim,out_dim)),\n",
    "            torch.nn.Dropout(dropout),\n",
    "            # torch.nn.Mish(),\n",
    "            torch.nn.utils.weight_norm(torch.nn.Linear(out_dim,out_dim)),\n",
    "            torch.nn.Dropout(dropout),\n",
    "            torch.nn.Mish(),\n",
    "        )\n",
    "\n",
    "    def forward(self,x):\n",
    "        x = self.bn_1(x)\n",
    "        x_1 = self.linear_1(self.linear_0(x) * self.weight_1(x))\n",
    "        x = self.bn_2(x_1+x)\n",
    "        x = self.linear_2(x)\n",
    "        return x"
   ]
  },
  {
   "cell_type": "code",
   "execution_count": 11,
   "metadata": {},
   "outputs": [],
   "source": [
    "class modules(torch.nn.Module):\n",
    "    def __init__(self,config):\n",
    "        super().__init__()\n",
    "        output_num = config[\"output_num\"]\n",
    "        input_num = config[\"input_num\"]\n",
    "        dropout = config[\"dropout\"]\n",
    "        mlp_dims = config[\"mlp_dims\"]\n",
    "        self.model = torch.nn.ModuleList()\n",
    "\n",
    "        in_dim_array = [\n",
    "            [mlp_dims[1],mlp_dims[1],mlp_dims[1]],\n",
    "            [mlp_dims[1],mlp_dims[1],mlp_dims[1]],\n",
    "            [mlp_dims[1],mlp_dims[1],mlp_dims[1]],\n",
    "            # [mlp_dims[1],mlp_dims[1],mlp_dims[1],mlp_dims[1]],\n",
    "        ]\n",
    "        self.out_dim_array = [\n",
    "            [mlp_dims[1],mlp_dims[1],mlp_dims[1],mlp_dims[1],mlp_dims[1]],\n",
    "            [mlp_dims[1],mlp_dims[1],mlp_dims[1],mlp_dims[1],mlp_dims[1]],\n",
    "            [mlp_dims[1],mlp_dims[1],mlp_dims[1],mlp_dims[1],mlp_dims[1]],\n",
    "            [mlp_dims[1],mlp_dims[1],mlp_dims[1],mlp_dims[1],mlp_dims[1]],\n",
    "        ]\n",
    "\n",
    "        for i in range(len(in_dim_array)): # 行\n",
    "            temp_model = torch.nn.ModuleList()\n",
    "            for j in range(len(in_dim_array[0])): # 列\n",
    "                dim_in = in_dim_array[i][j]\n",
    "                dim_out = self.out_dim_array[i][j]\n",
    "                temp_model.append(\n",
    "                    torch.nn.Sequential(\n",
    "                        cell(dim_in,dim_out,dropout),\n",
    "                        # cell(dim_in,dim_out,dropout),\n",
    "                    )\n",
    "                )\n",
    "            self.model.append(temp_model)"
   ]
  },
  {
   "cell_type": "code",
   "execution_count": 12,
   "metadata": {},
   "outputs": [],
   "source": [
    "class MLP(torch.nn.Module):\n",
    "    def __init__(self,config):\n",
    "        super().__init__()\n",
    "        output_num = config[\"output_num\"]\n",
    "        self.input_num = config[\"input_num\"]\n",
    "        dropout = config[\"dropout\"]\n",
    "        mlp_dims = config[\"mlp_dims\"]\n",
    "\n",
    "        self.backbone = torch.nn.Linear(self.input_num ,self.input_num)\n",
    "        self.embedding_1 = torch.nn.Embedding(2,self.input_num)\n",
    "        self.embedding_2 = torch.nn.Embedding(7,self.input_num)\n",
    "\n",
    "        self.model = modules(config)\n",
    "\n",
    "        tail_input_dim = np.sum(np.array(self.model.out_dim_array)[-3:,-3:])\n",
    "        self.tail = torch.nn.Sequential(\n",
    "            torch.nn.Dropout(dropout),\n",
    "            torch.nn.Linear(tail_input_dim,mlp_dims[1]*8),\n",
    "            torch.nn.Mish(),\n",
    "            torch.nn.Dropout(dropout),\n",
    "            torch.nn.Linear(mlp_dims[1]*8,mlp_dims[1]*6),\n",
    "            torch.nn.Mish(),\n",
    "            torch.nn.Dropout(dropout),\n",
    "            torch.nn.Linear(mlp_dims[1]*6,mlp_dims[1]*4),\n",
    "            torch.nn.Mish(),\n",
    "            torch.nn.Dropout(dropout),\n",
    "            torch.nn.Linear(mlp_dims[1]*4,mlp_dims[1]*2),\n",
    "            torch.nn.Mish(),\n",
    "            torch.nn.Dropout(dropout),\n",
    "            torch.nn.Linear(mlp_dims[1]*2,output_num),\n",
    "        )\n",
    "        \n",
    "\n",
    "    def forward(self,xin):\n",
    "        linears_1_index = 0  # 列\n",
    "        linears_2_index = 0  # 行\n",
    "        # xin_1 = self.projection(xin[:,:self.input_num])\n",
    "        xin = self.backbone(xin[:,:self.input_num])  + self.embedding_1(xin[:,-2].int())  # + self.embedding_1(xin[:,-2].int())# \n",
    "        # neck\n",
    "        temp_model_list = self.model.model[0]\n",
    "        res_array = []\n",
    "        res_list  = []\n",
    "        temp_out = xin\n",
    "        linears_1_index += 1\n",
    "        for id,i in enumerate(temp_model_list):\n",
    "            if id ==0 :\n",
    "                temp_out = i(\n",
    "                    temp_out+xin\n",
    "                    )\n",
    "                linears_2_index += 1\n",
    "            else:\n",
    "                temp_out = i(\n",
    "                    temp_out+xin\n",
    "                    )\n",
    "                linears_2_index += 1\n",
    "            res_list.append(temp_out) \n",
    "        res_array += res_list[-3:]\n",
    "\n",
    "        temp_model_list = self.model.model[1]\n",
    "        temp_out = xin\n",
    "        linears_1_index += 1\n",
    "        for i in range(len(temp_model_list)):\n",
    "            if i == -1:\n",
    "                temp_out = temp_model_list[i](\n",
    "                  res_list[i]\n",
    "                )\n",
    "            else:\n",
    "                temp_out = temp_model_list[i](\n",
    "                res_list[i]+temp_out\n",
    "                    )\n",
    "            res_list[i] = temp_out\n",
    "        res_array += res_list[-3:]\n",
    "\n",
    "        temp_model_list = self.model.model[2]\n",
    "        temp_out = xin\n",
    "        linears_1_index += 1\n",
    "        for i in range(len(temp_model_list)):\n",
    "            if i == -1:\n",
    "                temp_out = temp_model_list[i](\n",
    "                   res_list[i]\n",
    "                )\n",
    "            else:\n",
    "                temp_out = temp_model_list[i](\n",
    "                    res_list[i]+temp_out\n",
    "                )\n",
    "            res_list[i] = temp_out\n",
    "        res_array += res_list[-3:]\n",
    "\n",
    "\n",
    "        # temp_model_list = self.model.model[3]\n",
    "        # temp_out = xin\n",
    "        # linears_1_index += 1\n",
    "        # for i in range(len(temp_model_list)):\n",
    "        #     if i == -1:\n",
    "        #         temp_out = temp_model_list[i](\n",
    "        #            res_list[i]\n",
    "        #         )\n",
    "        #     else:\n",
    "        #         temp_out = temp_model_list[i](\n",
    "        #             res_list[i]+temp_out\n",
    "        #             )\n",
    " \n",
    "        #     res_list[i] = temp_out\n",
    "        # res_array += res_list[-3:]\n",
    "\n",
    "        res_array = torch.concat(res_array,dim = -1)\n",
    "        res_array = self.tail(res_array)\n",
    "        del res_list,temp_out,xin,temp_model_list\n",
    "        torch.cuda.empty_cache()\n",
    "        # tail\n",
    "        return res_array\n"
   ]
  },
  {
   "cell_type": "code",
   "execution_count": 12,
   "metadata": {},
   "outputs": [
    {
     "name": "stdout",
     "output_type": "stream",
     "text": [
      "machine has 1 cuda devices\n",
      "model of first cuda device is NVIDIA GeForce RTX 3070\n",
      "Training started\n",
      "Adjusting learning rate of group 0 to 1.0000e-04.\n"
     ]
    },
    {
     "data": {
      "application/vnd.jupyter.widget-view+json": {
       "model_id": "85972f30c513499fbbcf1e8eb594fb8d",
       "version_major": 2,
       "version_minor": 0
      },
      "text/plain": [
       "  0%|          | 0/100 [00:00<?, ?it/s]"
      ]
     },
     "metadata": {},
     "output_type": "display_data"
    },
    {
     "data": {
      "application/vnd.jupyter.widget-view+json": {
       "model_id": "461608232e2a46358bd59e6605578d1b",
       "version_major": 2,
       "version_minor": 0
      },
      "text/plain": [
       "  0%|          | 0/706 [00:00<?, ?it/s]"
      ]
     },
     "metadata": {},
     "output_type": "display_data"
    },
    {
     "data": {
      "application/vnd.jupyter.widget-view+json": {
       "model_id": "e0e8860c146f435e8a791ece735c19c0",
       "version_major": 2,
       "version_minor": 0
      },
      "text/plain": [
       "  0%|          | 0/353 [00:00<?, ?it/s]"
      ]
     },
     "metadata": {},
     "output_type": "display_data"
    },
    {
     "name": "stdout",
     "output_type": "stream",
     "text": [
      "Adjusting learning rate of group 0 to 1.0000e-04.\n",
      "epoch-0 train_loss:-0.6417288199362606 val_loss:-0.6663166078562102 corr_score:0.6663288474082947\n"
     ]
    },
    {
     "data": {
      "application/vnd.jupyter.widget-view+json": {
       "model_id": "8a1eba5077714f0ca690ca66e292d569",
       "version_major": 2,
       "version_minor": 0
      },
      "text/plain": [
       "  0%|          | 0/706 [00:00<?, ?it/s]"
      ]
     },
     "metadata": {},
     "output_type": "display_data"
    },
    {
     "data": {
      "application/vnd.jupyter.widget-view+json": {
       "model_id": "5b9d94a78a584ed08ee2a25de3380f2b",
       "version_major": 2,
       "version_minor": 0
      },
      "text/plain": [
       "  0%|          | 0/353 [00:00<?, ?it/s]"
      ]
     },
     "metadata": {},
     "output_type": "display_data"
    },
    {
     "name": "stdout",
     "output_type": "stream",
     "text": [
      "Adjusting learning rate of group 0 to 1.0000e-04.\n",
      "epoch-1 train_loss:-0.6622049477552895 val_loss:-0.6687158254996237 corr_score:0.6687283515930176\n"
     ]
    },
    {
     "data": {
      "application/vnd.jupyter.widget-view+json": {
       "model_id": "3584b11229e24d60801485726a9211e9",
       "version_major": 2,
       "version_minor": 0
      },
      "text/plain": [
       "  0%|          | 0/706 [00:00<?, ?it/s]"
      ]
     },
     "metadata": {},
     "output_type": "display_data"
    },
    {
     "data": {
      "application/vnd.jupyter.widget-view+json": {
       "model_id": "c30888bcc4584faa8f384c7aea00906b",
       "version_major": 2,
       "version_minor": 0
      },
      "text/plain": [
       "  0%|          | 0/353 [00:00<?, ?it/s]"
      ]
     },
     "metadata": {},
     "output_type": "display_data"
    },
    {
     "name": "stdout",
     "output_type": "stream",
     "text": [
      "Adjusting learning rate of group 0 to 1.0000e-04.\n",
      "epoch-2 train_loss:-0.6659976429709632 val_loss:-0.6697695032395317 corr_score:0.6697819232940674\n"
     ]
    },
    {
     "data": {
      "application/vnd.jupyter.widget-view+json": {
       "model_id": "ef27d4d6368a4db2a65609f56a075dc8",
       "version_major": 2,
       "version_minor": 0
      },
      "text/plain": [
       "  0%|          | 0/706 [00:00<?, ?it/s]"
      ]
     },
     "metadata": {},
     "output_type": "display_data"
    },
    {
     "data": {
      "application/vnd.jupyter.widget-view+json": {
       "model_id": "cc599faf392a4fe4acfd0484b2618fb8",
       "version_major": 2,
       "version_minor": 0
      },
      "text/plain": [
       "  0%|          | 0/353 [00:00<?, ?it/s]"
      ]
     },
     "metadata": {},
     "output_type": "display_data"
    },
    {
     "name": "stdout",
     "output_type": "stream",
     "text": [
      "Adjusting learning rate of group 0 to 1.0000e-04.\n",
      "epoch-3 train_loss:-0.6682361462298602 val_loss:-0.6702905930473176 corr_score:0.6703024506568909\n"
     ]
    },
    {
     "data": {
      "application/vnd.jupyter.widget-view+json": {
       "model_id": "375b6dff123840598ad0a1029dab89cb",
       "version_major": 2,
       "version_minor": 0
      },
      "text/plain": [
       "  0%|          | 0/706 [00:00<?, ?it/s]"
      ]
     },
     "metadata": {},
     "output_type": "display_data"
    },
    {
     "data": {
      "application/vnd.jupyter.widget-view+json": {
       "model_id": "ae1a1abff8dc4c4fb72c3bfedb23c8ea",
       "version_major": 2,
       "version_minor": 0
      },
      "text/plain": [
       "  0%|          | 0/353 [00:00<?, ?it/s]"
      ]
     },
     "metadata": {},
     "output_type": "display_data"
    },
    {
     "name": "stdout",
     "output_type": "stream",
     "text": [
      "Adjusting learning rate of group 0 to 1.0000e-04.\n",
      "epoch-4 train_loss:-0.6695357368620529 val_loss:-0.6706298741672937 corr_score:0.6706421375274658\n"
     ]
    },
    {
     "data": {
      "application/vnd.jupyter.widget-view+json": {
       "model_id": "35d99e64b2b2457a950516b813a47c9b",
       "version_major": 2,
       "version_minor": 0
      },
      "text/plain": [
       "  0%|          | 0/706 [00:00<?, ?it/s]"
      ]
     },
     "metadata": {},
     "output_type": "display_data"
    },
    {
     "data": {
      "application/vnd.jupyter.widget-view+json": {
       "model_id": "8124516be2124a448d266ef285bcc776",
       "version_major": 2,
       "version_minor": 0
      },
      "text/plain": [
       "  0%|          | 0/353 [00:00<?, ?it/s]"
      ]
     },
     "metadata": {},
     "output_type": "display_data"
    },
    {
     "name": "stdout",
     "output_type": "stream",
     "text": [
      "Adjusting learning rate of group 0 to 1.0000e-04.\n",
      "epoch-5 train_loss:-0.670199083538974 val_loss:-0.6710077129072238 corr_score:0.6710199117660522\n"
     ]
    },
    {
     "data": {
      "application/vnd.jupyter.widget-view+json": {
       "model_id": "4237468bf58f4d3abc0dc5c5300ee46d",
       "version_major": 2,
       "version_minor": 0
      },
      "text/plain": [
       "  0%|          | 0/706 [00:00<?, ?it/s]"
      ]
     },
     "metadata": {},
     "output_type": "display_data"
    },
    {
     "data": {
      "application/vnd.jupyter.widget-view+json": {
       "model_id": "919c317557bb49a18c9bcb1a4fc64f5e",
       "version_major": 2,
       "version_minor": 0
      },
      "text/plain": [
       "  0%|          | 0/353 [00:00<?, ?it/s]"
      ]
     },
     "metadata": {},
     "output_type": "display_data"
    },
    {
     "name": "stdout",
     "output_type": "stream",
     "text": [
      "Adjusting learning rate of group 0 to 1.0000e-04.\n",
      "epoch-6 train_loss:-0.6706527839639032 val_loss:-0.6711596524073787 corr_score:0.6711717844009399\n"
     ]
    },
    {
     "data": {
      "application/vnd.jupyter.widget-view+json": {
       "model_id": "600255f7cd354e5da200c0a69f2f4e92",
       "version_major": 2,
       "version_minor": 0
      },
      "text/plain": [
       "  0%|          | 0/706 [00:00<?, ?it/s]"
      ]
     },
     "metadata": {},
     "output_type": "display_data"
    },
    {
     "data": {
      "application/vnd.jupyter.widget-view+json": {
       "model_id": "6f2bce3e5b02495a881366ffbac55f6c",
       "version_major": 2,
       "version_minor": 0
      },
      "text/plain": [
       "  0%|          | 0/353 [00:00<?, ?it/s]"
      ]
     },
     "metadata": {},
     "output_type": "display_data"
    },
    {
     "name": "stdout",
     "output_type": "stream",
     "text": [
      "Adjusting learning rate of group 0 to 1.0000e-04.\n",
      "epoch-7 train_loss:-0.6710240091210384 val_loss:-0.6712510322376284 corr_score:0.6712633371353149\n"
     ]
    },
    {
     "data": {
      "application/vnd.jupyter.widget-view+json": {
       "model_id": "00f1ce0e09cd4e4f907106e0ed433d3a",
       "version_major": 2,
       "version_minor": 0
      },
      "text/plain": [
       "  0%|          | 0/706 [00:00<?, ?it/s]"
      ]
     },
     "metadata": {},
     "output_type": "display_data"
    },
    {
     "data": {
      "application/vnd.jupyter.widget-view+json": {
       "model_id": "1c327cd0dddc4c3195c1614683286ec8",
       "version_major": 2,
       "version_minor": 0
      },
      "text/plain": [
       "  0%|          | 0/353 [00:00<?, ?it/s]"
      ]
     },
     "metadata": {},
     "output_type": "display_data"
    },
    {
     "name": "stdout",
     "output_type": "stream",
     "text": [
      "Adjusting learning rate of group 0 to 1.0000e-04.\n",
      "epoch-8 train_loss:-0.6713215338947415 val_loss:-0.6714211266709454 corr_score:0.6714327931404114\n"
     ]
    },
    {
     "data": {
      "application/vnd.jupyter.widget-view+json": {
       "model_id": "603f1e5df92b4d54b49932ce4087ed3e",
       "version_major": 2,
       "version_minor": 0
      },
      "text/plain": [
       "  0%|          | 0/706 [00:00<?, ?it/s]"
      ]
     },
     "metadata": {},
     "output_type": "display_data"
    },
    {
     "data": {
      "application/vnd.jupyter.widget-view+json": {
       "model_id": "3a57f4927a34412e90d53d7afb8a50a5",
       "version_major": 2,
       "version_minor": 0
      },
      "text/plain": [
       "  0%|          | 0/353 [00:00<?, ?it/s]"
      ]
     },
     "metadata": {},
     "output_type": "display_data"
    },
    {
     "name": "stdout",
     "output_type": "stream",
     "text": [
      "Adjusting learning rate of group 0 to 1.0000e-04.\n",
      "epoch-9 train_loss:-0.6715636428962686 val_loss:-0.671577864260579 corr_score:0.6715900897979736\n"
     ]
    },
    {
     "data": {
      "application/vnd.jupyter.widget-view+json": {
       "model_id": "3540e701d4e04b7a957f15fd37dbb2d8",
       "version_major": 2,
       "version_minor": 0
      },
      "text/plain": [
       "  0%|          | 0/706 [00:00<?, ?it/s]"
      ]
     },
     "metadata": {},
     "output_type": "display_data"
    },
    {
     "data": {
      "application/vnd.jupyter.widget-view+json": {
       "model_id": "76267ba8bef244449898288753fd3935",
       "version_major": 2,
       "version_minor": 0
      },
      "text/plain": [
       "  0%|          | 0/353 [00:00<?, ?it/s]"
      ]
     },
     "metadata": {},
     "output_type": "display_data"
    },
    {
     "name": "stdout",
     "output_type": "stream",
     "text": [
      "Adjusting learning rate of group 0 to 1.0000e-04.\n",
      "epoch-10 train_loss:-0.6717755801279214 val_loss:-0.6715725906847556 corr_score:0.67158442735672\n"
     ]
    },
    {
     "data": {
      "application/vnd.jupyter.widget-view+json": {
       "model_id": "185dd50719b942c5b6c884af99cd18d2",
       "version_major": 2,
       "version_minor": 0
      },
      "text/plain": [
       "  0%|          | 0/706 [00:00<?, ?it/s]"
      ]
     },
     "metadata": {},
     "output_type": "display_data"
    },
    {
     "data": {
      "application/vnd.jupyter.widget-view+json": {
       "model_id": "04ef20f007d9439fbb005abb51a5edd7",
       "version_major": 2,
       "version_minor": 0
      },
      "text/plain": [
       "  0%|          | 0/353 [00:00<?, ?it/s]"
      ]
     },
     "metadata": {},
     "output_type": "display_data"
    },
    {
     "name": "stdout",
     "output_type": "stream",
     "text": [
      "Adjusting learning rate of group 0 to 1.0000e-04.\n",
      "epoch-11 train_loss:-0.6719988858058162 val_loss:-0.6717216772668423 corr_score:0.6717339754104614\n"
     ]
    },
    {
     "data": {
      "application/vnd.jupyter.widget-view+json": {
       "model_id": "8295ad4da30c4e9b8937d44b49d3d2ab",
       "version_major": 2,
       "version_minor": 0
      },
      "text/plain": [
       "  0%|          | 0/706 [00:00<?, ?it/s]"
      ]
     },
     "metadata": {},
     "output_type": "display_data"
    },
    {
     "data": {
      "application/vnd.jupyter.widget-view+json": {
       "model_id": "2bbcc06fd30441e7880fb71b24a028a4",
       "version_major": 2,
       "version_minor": 0
      },
      "text/plain": [
       "  0%|          | 0/353 [00:00<?, ?it/s]"
      ]
     },
     "metadata": {},
     "output_type": "display_data"
    },
    {
     "name": "stdout",
     "output_type": "stream",
     "text": [
      "Adjusting learning rate of group 0 to 1.0000e-04.\n",
      "epoch-12 train_loss:-0.6721476698056834 val_loss:-0.6716420116910854 corr_score:0.6716539263725281\n"
     ]
    },
    {
     "data": {
      "application/vnd.jupyter.widget-view+json": {
       "model_id": "4822b657e46543819b42b9b68ca6021c",
       "version_major": 2,
       "version_minor": 0
      },
      "text/plain": [
       "  0%|          | 0/706 [00:00<?, ?it/s]"
      ]
     },
     "metadata": {},
     "output_type": "display_data"
    },
    {
     "data": {
      "application/vnd.jupyter.widget-view+json": {
       "model_id": "3637245547224226bc7d0327065a8df4",
       "version_major": 2,
       "version_minor": 0
      },
      "text/plain": [
       "  0%|          | 0/353 [00:00<?, ?it/s]"
      ]
     },
     "metadata": {},
     "output_type": "display_data"
    },
    {
     "name": "stdout",
     "output_type": "stream",
     "text": [
      "Adjusting learning rate of group 0 to 1.0000e-04.\n",
      "epoch-13 train_loss:-0.67231387389618 val_loss:-0.6717629149007392 corr_score:0.6717754006385803\n"
     ]
    },
    {
     "data": {
      "application/vnd.jupyter.widget-view+json": {
       "model_id": "6b2154ac11c64ab0a2460ab3953aab26",
       "version_major": 2,
       "version_minor": 0
      },
      "text/plain": [
       "  0%|          | 0/706 [00:00<?, ?it/s]"
      ]
     },
     "metadata": {},
     "output_type": "display_data"
    },
    {
     "data": {
      "application/vnd.jupyter.widget-view+json": {
       "model_id": "3350e4f17a4545ddb7f1e19a06f762f2",
       "version_major": 2,
       "version_minor": 0
      },
      "text/plain": [
       "  0%|          | 0/353 [00:00<?, ?it/s]"
      ]
     },
     "metadata": {},
     "output_type": "display_data"
    },
    {
     "name": "stdout",
     "output_type": "stream",
     "text": [
      "Adjusting learning rate of group 0 to 1.0000e-04.\n",
      "epoch-14 train_loss:-0.6724681908280586 val_loss:-0.6718041957606675 corr_score:0.6718164682388306\n"
     ]
    },
    {
     "data": {
      "application/vnd.jupyter.widget-view+json": {
       "model_id": "a844d7f61cd047d0a5895ff3eb338b22",
       "version_major": 2,
       "version_minor": 0
      },
      "text/plain": [
       "  0%|          | 0/706 [00:00<?, ?it/s]"
      ]
     },
     "metadata": {},
     "output_type": "display_data"
    },
    {
     "data": {
      "application/vnd.jupyter.widget-view+json": {
       "model_id": "4d355f2123204384a9a593e5eb54b261",
       "version_major": 2,
       "version_minor": 0
      },
      "text/plain": [
       "  0%|          | 0/353 [00:00<?, ?it/s]"
      ]
     },
     "metadata": {},
     "output_type": "display_data"
    },
    {
     "name": "stdout",
     "output_type": "stream",
     "text": [
      "Adjusting learning rate of group 0 to 1.0000e-04.\n",
      "epoch-15 train_loss:-0.6726151593346096 val_loss:-0.6718512256827638 corr_score:0.6718634963035583\n"
     ]
    },
    {
     "data": {
      "application/vnd.jupyter.widget-view+json": {
       "model_id": "4ecf448d3cd949d98b7540c6fcce6d9b",
       "version_major": 2,
       "version_minor": 0
      },
      "text/plain": [
       "  0%|          | 0/706 [00:00<?, ?it/s]"
      ]
     },
     "metadata": {},
     "output_type": "display_data"
    },
    {
     "data": {
      "application/vnd.jupyter.widget-view+json": {
       "model_id": "564b6a4395b04c9eb83313a32e3d83f2",
       "version_major": 2,
       "version_minor": 0
      },
      "text/plain": [
       "  0%|          | 0/353 [00:00<?, ?it/s]"
      ]
     },
     "metadata": {},
     "output_type": "display_data"
    },
    {
     "name": "stdout",
     "output_type": "stream",
     "text": [
      "Adjusting learning rate of group 0 to 1.0000e-04.\n",
      "epoch-16 train_loss:-0.6727553413542404 val_loss:-0.6718566721627125 corr_score:0.6718690395355225\n"
     ]
    },
    {
     "data": {
      "application/vnd.jupyter.widget-view+json": {
       "model_id": "26a45a0a58a54d3daad1d95ef4e11773",
       "version_major": 2,
       "version_minor": 0
      },
      "text/plain": [
       "  0%|          | 0/706 [00:00<?, ?it/s]"
      ]
     },
     "metadata": {},
     "output_type": "display_data"
    },
    {
     "data": {
      "application/vnd.jupyter.widget-view+json": {
       "model_id": "ca6f6ab750e54f9595fabf286214eab8",
       "version_major": 2,
       "version_minor": 0
      },
      "text/plain": [
       "  0%|          | 0/353 [00:00<?, ?it/s]"
      ]
     },
     "metadata": {},
     "output_type": "display_data"
    },
    {
     "name": "stdout",
     "output_type": "stream",
     "text": [
      "Adjusting learning rate of group 0 to 1.0000e-04.\n",
      "epoch-17 train_loss:-0.6728751639131109 val_loss:-0.6719052149959056 corr_score:0.6719170212745667\n"
     ]
    },
    {
     "data": {
      "application/vnd.jupyter.widget-view+json": {
       "model_id": "5fa23cce6a0049608713432d568f4315",
       "version_major": 2,
       "version_minor": 0
      },
      "text/plain": [
       "  0%|          | 0/706 [00:00<?, ?it/s]"
      ]
     },
     "metadata": {},
     "output_type": "display_data"
    },
    {
     "data": {
      "application/vnd.jupyter.widget-view+json": {
       "model_id": "e4be5c84b05b44d48bb533d58f64d89d",
       "version_major": 2,
       "version_minor": 0
      },
      "text/plain": [
       "  0%|          | 0/353 [00:00<?, ?it/s]"
      ]
     },
     "metadata": {},
     "output_type": "display_data"
    },
    {
     "name": "stdout",
     "output_type": "stream",
     "text": [
      "Adjusting learning rate of group 0 to 1.0000e-04.\n",
      "epoch-18 train_loss:-0.6729913122593174 val_loss:-0.671911007284105 corr_score:0.6719228625297546\n"
     ]
    },
    {
     "data": {
      "application/vnd.jupyter.widget-view+json": {
       "model_id": "384433c94e964e9f84997ba8f46ba1ab",
       "version_major": 2,
       "version_minor": 0
      },
      "text/plain": [
       "  0%|          | 0/706 [00:00<?, ?it/s]"
      ]
     },
     "metadata": {},
     "output_type": "display_data"
    },
    {
     "data": {
      "application/vnd.jupyter.widget-view+json": {
       "model_id": "4d0e6026aef84e3aacbccd77f682bfc1",
       "version_major": 2,
       "version_minor": 0
      },
      "text/plain": [
       "  0%|          | 0/353 [00:00<?, ?it/s]"
      ]
     },
     "metadata": {},
     "output_type": "display_data"
    },
    {
     "name": "stdout",
     "output_type": "stream",
     "text": [
      "Adjusting learning rate of group 0 to 1.0000e-05.\n",
      "epoch-19 train_loss:-0.6731159329076665 val_loss:-0.6719208195932188 corr_score:0.671933114528656\n"
     ]
    },
    {
     "data": {
      "application/vnd.jupyter.widget-view+json": {
       "model_id": "ff9f97ce805a4ecaaca68c52152db3b0",
       "version_major": 2,
       "version_minor": 0
      },
      "text/plain": [
       "  0%|          | 0/706 [00:00<?, ?it/s]"
      ]
     },
     "metadata": {},
     "output_type": "display_data"
    },
    {
     "data": {
      "application/vnd.jupyter.widget-view+json": {
       "model_id": "8ca9b1fbd112444e92507c4b5d3901e2",
       "version_major": 2,
       "version_minor": 0
      },
      "text/plain": [
       "  0%|          | 0/353 [00:00<?, ?it/s]"
      ]
     },
     "metadata": {},
     "output_type": "display_data"
    },
    {
     "name": "stdout",
     "output_type": "stream",
     "text": [
      "Adjusting learning rate of group 0 to 1.0000e-05.\n",
      "epoch-20 train_loss:-0.6736109574185553 val_loss:-0.6722175662983578 corr_score:0.672229528427124\n"
     ]
    },
    {
     "data": {
      "application/vnd.jupyter.widget-view+json": {
       "model_id": "8bbb605c27cc4828bf24c0503f473048",
       "version_major": 2,
       "version_minor": 0
      },
      "text/plain": [
       "  0%|          | 0/706 [00:00<?, ?it/s]"
      ]
     },
     "metadata": {},
     "output_type": "display_data"
    },
    {
     "data": {
      "application/vnd.jupyter.widget-view+json": {
       "model_id": "d1bf170a4715445db1f3584dfed2b10a",
       "version_major": 2,
       "version_minor": 0
      },
      "text/plain": [
       "  0%|          | 0/353 [00:00<?, ?it/s]"
      ]
     },
     "metadata": {},
     "output_type": "display_data"
    },
    {
     "name": "stdout",
     "output_type": "stream",
     "text": [
      "Adjusting learning rate of group 0 to 1.0000e-05.\n",
      "epoch-21 train_loss:-0.6737041095160897 val_loss:-0.6722286753884118 corr_score:0.6722408533096313\n"
     ]
    },
    {
     "data": {
      "application/vnd.jupyter.widget-view+json": {
       "model_id": "900172f3e0b34ff89277fb156e8ef9ff",
       "version_major": 2,
       "version_minor": 0
      },
      "text/plain": [
       "  0%|          | 0/706 [00:00<?, ?it/s]"
      ]
     },
     "metadata": {},
     "output_type": "display_data"
    },
    {
     "data": {
      "application/vnd.jupyter.widget-view+json": {
       "model_id": "1d53061e32c74713b2e6f858451c6a86",
       "version_major": 2,
       "version_minor": 0
      },
      "text/plain": [
       "  0%|          | 0/353 [00:00<?, ?it/s]"
      ]
     },
     "metadata": {},
     "output_type": "display_data"
    },
    {
     "name": "stdout",
     "output_type": "stream",
     "text": [
      "Adjusting learning rate of group 0 to 1.0000e-05.\n",
      "epoch-22 train_loss:-0.6737395980878187 val_loss:-0.6722394818962465 corr_score:0.6722513437271118\n"
     ]
    },
    {
     "data": {
      "application/vnd.jupyter.widget-view+json": {
       "model_id": "0cedef9dab1f4b09929da89ccc37a373",
       "version_major": 2,
       "version_minor": 0
      },
      "text/plain": [
       "  0%|          | 0/706 [00:00<?, ?it/s]"
      ]
     },
     "metadata": {},
     "output_type": "display_data"
    },
    {
     "data": {
      "application/vnd.jupyter.widget-view+json": {
       "model_id": "9e59d13f855440c7aadfe4503b1d3917",
       "version_major": 2,
       "version_minor": 0
      },
      "text/plain": [
       "  0%|          | 0/353 [00:00<?, ?it/s]"
      ]
     },
     "metadata": {},
     "output_type": "display_data"
    },
    {
     "name": "stdout",
     "output_type": "stream",
     "text": [
      "Adjusting learning rate of group 0 to 1.0000e-05.\n",
      "epoch-23 train_loss:-0.6737711530906958 val_loss:-0.6722337328340784 corr_score:0.6722458600997925\n"
     ]
    },
    {
     "data": {
      "application/vnd.jupyter.widget-view+json": {
       "model_id": "6afedd84f589417b87590541cf4b09fa",
       "version_major": 2,
       "version_minor": 0
      },
      "text/plain": [
       "  0%|          | 0/706 [00:00<?, ?it/s]"
      ]
     },
     "metadata": {},
     "output_type": "display_data"
    },
    {
     "data": {
      "application/vnd.jupyter.widget-view+json": {
       "model_id": "c8814f4d103e44419ee3f338286212a3",
       "version_major": 2,
       "version_minor": 0
      },
      "text/plain": [
       "  0%|          | 0/353 [00:00<?, ?it/s]"
      ]
     },
     "metadata": {},
     "output_type": "display_data"
    },
    {
     "name": "stdout",
     "output_type": "stream",
     "text": [
      "Adjusting learning rate of group 0 to 1.0000e-06.\n",
      "epoch-24 train_loss:-0.673792247393989 val_loss:-0.6722313986283861 corr_score:0.6722434759140015\n"
     ]
    },
    {
     "data": {
      "application/vnd.jupyter.widget-view+json": {
       "model_id": "67642b7ac80b41579d9c71052b937a06",
       "version_major": 2,
       "version_minor": 0
      },
      "text/plain": [
       "  0%|          | 0/706 [00:00<?, ?it/s]"
      ]
     },
     "metadata": {},
     "output_type": "display_data"
    },
    {
     "data": {
      "application/vnd.jupyter.widget-view+json": {
       "model_id": "605a2e6b1b3f4d2a90ad161061d34cdd",
       "version_major": 2,
       "version_minor": 0
      },
      "text/plain": [
       "  0%|          | 0/353 [00:00<?, ?it/s]"
      ]
     },
     "metadata": {},
     "output_type": "display_data"
    },
    {
     "name": "stdout",
     "output_type": "stream",
     "text": [
      "Adjusting learning rate of group 0 to 1.0000e-06.\n",
      "epoch-25 train_loss:-0.6738566541806834 val_loss:-0.6722430264308162 corr_score:0.6722550988197327\n"
     ]
    },
    {
     "data": {
      "application/vnd.jupyter.widget-view+json": {
       "model_id": "08b2e0691c5b4a52a548bf50e317e04e",
       "version_major": 2,
       "version_minor": 0
      },
      "text/plain": [
       "  0%|          | 0/706 [00:00<?, ?it/s]"
      ]
     },
     "metadata": {},
     "output_type": "display_data"
    },
    {
     "data": {
      "application/vnd.jupyter.widget-view+json": {
       "model_id": "69070682217644e5a67ea6c1c558812b",
       "version_major": 2,
       "version_minor": 0
      },
      "text/plain": [
       "  0%|          | 0/353 [00:00<?, ?it/s]"
      ]
     },
     "metadata": {},
     "output_type": "display_data"
    },
    {
     "name": "stdout",
     "output_type": "stream",
     "text": [
      "Adjusting learning rate of group 0 to 1.0000e-06.\n",
      "epoch-26 train_loss:-0.6738627058250708 val_loss:-0.6722459225749159 corr_score:0.6722580194473267\n"
     ]
    },
    {
     "data": {
      "application/vnd.jupyter.widget-view+json": {
       "model_id": "99c78064103445a48a3af0cec463841d",
       "version_major": 2,
       "version_minor": 0
      },
      "text/plain": [
       "  0%|          | 0/706 [00:00<?, ?it/s]"
      ]
     },
     "metadata": {},
     "output_type": "display_data"
    },
    {
     "data": {
      "application/vnd.jupyter.widget-view+json": {
       "model_id": "3e6c807a83064c58a31991abb3fb85e5",
       "version_major": 2,
       "version_minor": 0
      },
      "text/plain": [
       "  0%|          | 0/353 [00:00<?, ?it/s]"
      ]
     },
     "metadata": {},
     "output_type": "display_data"
    },
    {
     "name": "stdout",
     "output_type": "stream",
     "text": [
      "Adjusting learning rate of group 0 to 1.0000e-06.\n",
      "epoch-27 train_loss:-0.6738686277913642 val_loss:-0.6722468735476054 corr_score:0.6722590923309326\n"
     ]
    },
    {
     "data": {
      "application/vnd.jupyter.widget-view+json": {
       "model_id": "b5491e769d1f4c4dad5b55da360f4591",
       "version_major": 2,
       "version_minor": 0
      },
      "text/plain": [
       "  0%|          | 0/706 [00:00<?, ?it/s]"
      ]
     },
     "metadata": {},
     "output_type": "display_data"
    },
    {
     "data": {
      "application/vnd.jupyter.widget-view+json": {
       "model_id": "d32d19d6cdb042bcac8edcde7d0136e0",
       "version_major": 2,
       "version_minor": 0
      },
      "text/plain": [
       "  0%|          | 0/353 [00:00<?, ?it/s]"
      ]
     },
     "metadata": {},
     "output_type": "display_data"
    },
    {
     "name": "stdout",
     "output_type": "stream",
     "text": [
      "Adjusting learning rate of group 0 to 1.0000e-06.\n",
      "epoch-28 train_loss:-0.6738713510313386 val_loss:-0.6722480838764828 corr_score:0.6722602248191833\n"
     ]
    },
    {
     "data": {
      "application/vnd.jupyter.widget-view+json": {
       "model_id": "701875aee9a3497f9fae22104d24f116",
       "version_major": 2,
       "version_minor": 0
      },
      "text/plain": [
       "  0%|          | 0/706 [00:00<?, ?it/s]"
      ]
     },
     "metadata": {},
     "output_type": "display_data"
    },
    {
     "data": {
      "application/vnd.jupyter.widget-view+json": {
       "model_id": "84df141d962541779229420edb7fa66f",
       "version_major": 2,
       "version_minor": 0
      },
      "text/plain": [
       "  0%|          | 0/353 [00:00<?, ?it/s]"
      ]
     },
     "metadata": {},
     "output_type": "display_data"
    },
    {
     "name": "stdout",
     "output_type": "stream",
     "text": [
      "Adjusting learning rate of group 0 to 1.0000e-07.\n",
      "epoch-29 train_loss:-0.6738755007303471 val_loss:-0.6722490780752036 corr_score:0.6722611784934998\n"
     ]
    },
    {
     "data": {
      "application/vnd.jupyter.widget-view+json": {
       "model_id": "d9f2f3f324d5429cb39867996799b0b9",
       "version_major": 2,
       "version_minor": 0
      },
      "text/plain": [
       "  0%|          | 0/706 [00:00<?, ?it/s]"
      ]
     },
     "metadata": {},
     "output_type": "display_data"
    },
    {
     "data": {
      "application/vnd.jupyter.widget-view+json": {
       "model_id": "a0b515d79ab049419f6d89c9b99d5e2f",
       "version_major": 2,
       "version_minor": 0
      },
      "text/plain": [
       "  0%|          | 0/353 [00:00<?, ?it/s]"
      ]
     },
     "metadata": {},
     "output_type": "display_data"
    },
    {
     "name": "stdout",
     "output_type": "stream",
     "text": [
      "Adjusting learning rate of group 0 to 1.0000e-07.\n",
      "epoch-30 train_loss:-0.6738768839633499 val_loss:-0.672249250979329 corr_score:0.6722614169120789\n"
     ]
    },
    {
     "data": {
      "application/vnd.jupyter.widget-view+json": {
       "model_id": "8d4c376435e148e193dbbbde712c82db",
       "version_major": 2,
       "version_minor": 0
      },
      "text/plain": [
       "  0%|          | 0/706 [00:00<?, ?it/s]"
      ]
     },
     "metadata": {},
     "output_type": "display_data"
    },
    {
     "data": {
      "application/vnd.jupyter.widget-view+json": {
       "model_id": "18e949faef6a436ba36a26001cc5c05a",
       "version_major": 2,
       "version_minor": 0
      },
      "text/plain": [
       "  0%|          | 0/353 [00:00<?, ?it/s]"
      ]
     },
     "metadata": {},
     "output_type": "display_data"
    },
    {
     "name": "stdout",
     "output_type": "stream",
     "text": [
      "Adjusting learning rate of group 0 to 1.0000e-07.\n",
      "epoch-31 train_loss:-0.6738890737041873 val_loss:-0.6722491213012349 corr_score:0.6722612977027893\n"
     ]
    },
    {
     "data": {
      "application/vnd.jupyter.widget-view+json": {
       "model_id": "b57bc14a36754185a0038fd374ba5333",
       "version_major": 2,
       "version_minor": 0
      },
      "text/plain": [
       "  0%|          | 0/706 [00:00<?, ?it/s]"
      ]
     },
     "metadata": {},
     "output_type": "display_data"
    },
    {
     "data": {
      "application/vnd.jupyter.widget-view+json": {
       "model_id": "f9f6e0f1b3b84692ad76b7f008361eeb",
       "version_major": 2,
       "version_minor": 0
      },
      "text/plain": [
       "  0%|          | 0/353 [00:00<?, ?it/s]"
      ]
     },
     "metadata": {},
     "output_type": "display_data"
    },
    {
     "name": "stdout",
     "output_type": "stream",
     "text": [
      "Adjusting learning rate of group 0 to 1.0000e-07.\n",
      "epoch-32 train_loss:-0.6738801691417315 val_loss:-0.6722489483971096 corr_score:0.6722612380981445\n"
     ]
    },
    {
     "data": {
      "application/vnd.jupyter.widget-view+json": {
       "model_id": "c02a326a7e00484fb8e6995d081248d2",
       "version_major": 2,
       "version_minor": 0
      },
      "text/plain": [
       "  0%|          | 0/706 [00:00<?, ?it/s]"
      ]
     },
     "metadata": {},
     "output_type": "display_data"
    },
    {
     "data": {
      "application/vnd.jupyter.widget-view+json": {
       "model_id": "2e30425de94f4cc69068065e25fe5072",
       "version_major": 2,
       "version_minor": 0
      },
      "text/plain": [
       "  0%|          | 0/353 [00:00<?, ?it/s]"
      ]
     },
     "metadata": {},
     "output_type": "display_data"
    },
    {
     "name": "stdout",
     "output_type": "stream",
     "text": [
      "Adjusting learning rate of group 0 to 1.0000e-07.\n",
      "epoch-33 train_loss:-0.6738780078401646 val_loss:-0.6722487754929842 corr_score:0.6722610592842102\n"
     ]
    },
    {
     "data": {
      "application/vnd.jupyter.widget-view+json": {
       "model_id": "22273ae70d6f4c15b3794a0fa057952a",
       "version_major": 2,
       "version_minor": 0
      },
      "text/plain": [
       "  0%|          | 0/706 [00:00<?, ?it/s]"
      ]
     },
     "metadata": {},
     "output_type": "display_data"
    },
    {
     "data": {
      "application/vnd.jupyter.widget-view+json": {
       "model_id": "7366bacef2e74b32b9a3fb961b3b97de",
       "version_major": 2,
       "version_minor": 0
      },
      "text/plain": [
       "  0%|          | 0/353 [00:00<?, ?it/s]"
      ]
     },
     "metadata": {},
     "output_type": "display_data"
    },
    {
     "name": "stdout",
     "output_type": "stream",
     "text": [
      "Adjusting learning rate of group 0 to 1.0000e-08.\n",
      "epoch-34 train_loss:-0.6738748955659083 val_loss:-0.6722488187190155 corr_score:0.672261118888855\n"
     ]
    },
    {
     "data": {
      "application/vnd.jupyter.widget-view+json": {
       "model_id": "89f2a5fda8524e6498a557c0b679e69b",
       "version_major": 2,
       "version_minor": 0
      },
      "text/plain": [
       "  0%|          | 0/706 [00:00<?, ?it/s]"
      ]
     },
     "metadata": {},
     "output_type": "display_data"
    },
    {
     "data": {
      "application/vnd.jupyter.widget-view+json": {
       "model_id": "e4228bdc251944bda837ead457f45355",
       "version_major": 2,
       "version_minor": 0
      },
      "text/plain": [
       "  0%|          | 0/353 [00:00<?, ?it/s]"
      ]
     },
     "metadata": {},
     "output_type": "display_data"
    },
    {
     "name": "stdout",
     "output_type": "stream",
     "text": [
      "Adjusting learning rate of group 0 to 1.0000e-08.\n",
      "epoch-35 train_loss:-0.673880731080139 val_loss:-0.6722488187190155 corr_score:0.672261118888855\n"
     ]
    },
    {
     "data": {
      "application/vnd.jupyter.widget-view+json": {
       "model_id": "614d00b032c54fd3911e6e94aca84e93",
       "version_major": 2,
       "version_minor": 0
      },
      "text/plain": [
       "  0%|          | 0/706 [00:00<?, ?it/s]"
      ]
     },
     "metadata": {},
     "output_type": "display_data"
    },
    {
     "data": {
      "application/vnd.jupyter.widget-view+json": {
       "model_id": "31d5f64df83b484a809a3075e394ec5c",
       "version_major": 2,
       "version_minor": 0
      },
      "text/plain": [
       "  0%|          | 0/353 [00:00<?, ?it/s]"
      ]
     },
     "metadata": {},
     "output_type": "display_data"
    },
    {
     "name": "stdout",
     "output_type": "stream",
     "text": [
      "Adjusting learning rate of group 0 to 1.0000e-08.\n",
      "epoch-36 train_loss:-0.6738872582108711 val_loss:-0.6722489051710783 corr_score:0.672261118888855\n",
      "out of patience\n",
      "Adjusting learning rate of group 0 to 1.0000e-04.\n"
     ]
    },
    {
     "data": {
      "application/vnd.jupyter.widget-view+json": {
       "model_id": "b28ae903abe94cddaef2fdc468ce80ad",
       "version_major": 2,
       "version_minor": 0
      },
      "text/plain": [
       "  0%|          | 0/100 [00:00<?, ?it/s]"
      ]
     },
     "metadata": {},
     "output_type": "display_data"
    },
    {
     "data": {
      "application/vnd.jupyter.widget-view+json": {
       "model_id": "fd0a0432ae4a4049a2fab4802ce2b0fc",
       "version_major": 2,
       "version_minor": 0
      },
      "text/plain": [
       "  0%|          | 0/706 [00:00<?, ?it/s]"
      ]
     },
     "metadata": {},
     "output_type": "display_data"
    },
    {
     "data": {
      "application/vnd.jupyter.widget-view+json": {
       "model_id": "5b5f51158544493dbbf82ca78637cdc3",
       "version_major": 2,
       "version_minor": 0
      },
      "text/plain": [
       "  0%|          | 0/353 [00:00<?, ?it/s]"
      ]
     },
     "metadata": {},
     "output_type": "display_data"
    },
    {
     "name": "stdout",
     "output_type": "stream",
     "text": [
      "Adjusting learning rate of group 0 to 1.0000e-04.\n",
      "epoch-0 train_loss:-0.6405331446834056 val_loss:-0.6668050620103355 corr_score:0.6668182611465454\n"
     ]
    },
    {
     "data": {
      "application/vnd.jupyter.widget-view+json": {
       "model_id": "d4c05f7b98764dd9a81f1644b455d6e2",
       "version_major": 2,
       "version_minor": 0
      },
      "text/plain": [
       "  0%|          | 0/706 [00:00<?, ?it/s]"
      ]
     },
     "metadata": {},
     "output_type": "display_data"
    },
    {
     "data": {
      "application/vnd.jupyter.widget-view+json": {
       "model_id": "98c9fe092e194bd59b449018fcbd4f6d",
       "version_major": 2,
       "version_minor": 0
      },
      "text/plain": [
       "  0%|          | 0/353 [00:00<?, ?it/s]"
      ]
     },
     "metadata": {},
     "output_type": "display_data"
    },
    {
     "name": "stdout",
     "output_type": "stream",
     "text": [
      "Adjusting learning rate of group 0 to 1.0000e-04.\n",
      "epoch-1 train_loss:-0.6616950102635889 val_loss:-0.6696277650827727 corr_score:0.6696407794952393\n"
     ]
    },
    {
     "data": {
      "application/vnd.jupyter.widget-view+json": {
       "model_id": "f28dbd9fbb574a8a91d059b40eedb6af",
       "version_major": 2,
       "version_minor": 0
      },
      "text/plain": [
       "  0%|          | 0/706 [00:00<?, ?it/s]"
      ]
     },
     "metadata": {},
     "output_type": "display_data"
    },
    {
     "data": {
      "application/vnd.jupyter.widget-view+json": {
       "model_id": "fd90f86281e940c0ab99851b4b570aee",
       "version_major": 2,
       "version_minor": 0
      },
      "text/plain": [
       "  0%|          | 0/353 [00:00<?, ?it/s]"
      ]
     },
     "metadata": {},
     "output_type": "display_data"
    },
    {
     "name": "stdout",
     "output_type": "stream",
     "text": [
      "Adjusting learning rate of group 0 to 1.0000e-04.\n",
      "epoch-2 train_loss:-0.6654840744926301 val_loss:-0.6706227418721229 corr_score:0.6706355214118958\n"
     ]
    },
    {
     "data": {
      "application/vnd.jupyter.widget-view+json": {
       "model_id": "d1efb4ccb8ee41afad8247904b0c2445",
       "version_major": 2,
       "version_minor": 0
      },
      "text/plain": [
       "  0%|          | 0/706 [00:00<?, ?it/s]"
      ]
     },
     "metadata": {},
     "output_type": "display_data"
    },
    {
     "data": {
      "application/vnd.jupyter.widget-view+json": {
       "model_id": "0c8c3dfb19d44c548198b37b0130dc47",
       "version_major": 2,
       "version_minor": 0
      },
      "text/plain": [
       "  0%|          | 0/353 [00:00<?, ?it/s]"
      ]
     },
     "metadata": {},
     "output_type": "display_data"
    },
    {
     "name": "stdout",
     "output_type": "stream",
     "text": [
      "Adjusting learning rate of group 0 to 1.0000e-04.\n",
      "epoch-3 train_loss:-0.6676355205244113 val_loss:-0.6711655743736721 corr_score:0.6711787581443787\n"
     ]
    },
    {
     "data": {
      "application/vnd.jupyter.widget-view+json": {
       "model_id": "6809d6ef185b4f9c8609f270dbe08888",
       "version_major": 2,
       "version_minor": 0
      },
      "text/plain": [
       "  0%|          | 0/706 [00:00<?, ?it/s]"
      ]
     },
     "metadata": {},
     "output_type": "display_data"
    },
    {
     "data": {
      "application/vnd.jupyter.widget-view+json": {
       "model_id": "7a5c3370b23a4fac8a173e000c1fc7e0",
       "version_major": 2,
       "version_minor": 0
      },
      "text/plain": [
       "  0%|          | 0/353 [00:00<?, ?it/s]"
      ]
     },
     "metadata": {},
     "output_type": "display_data"
    },
    {
     "name": "stdout",
     "output_type": "stream",
     "text": [
      "Adjusting learning rate of group 0 to 1.0000e-04.\n",
      "epoch-4 train_loss:-0.6690328884394918 val_loss:-0.6715955869334278 corr_score:0.671608567237854\n"
     ]
    },
    {
     "data": {
      "application/vnd.jupyter.widget-view+json": {
       "model_id": "d3e967636e654e08aa895f88fe1c7af8",
       "version_major": 2,
       "version_minor": 0
      },
      "text/plain": [
       "  0%|          | 0/706 [00:00<?, ?it/s]"
      ]
     },
     "metadata": {},
     "output_type": "display_data"
    },
    {
     "data": {
      "application/vnd.jupyter.widget-view+json": {
       "model_id": "9c0249eed485472db1fa887e6c3f9803",
       "version_major": 2,
       "version_minor": 0
      },
      "text/plain": [
       "  0%|          | 0/353 [00:00<?, ?it/s]"
      ]
     },
     "metadata": {},
     "output_type": "display_data"
    },
    {
     "name": "stdout",
     "output_type": "stream",
     "text": [
      "Adjusting learning rate of group 0 to 1.0000e-04.\n",
      "epoch-5 train_loss:-0.6697554115533153 val_loss:-0.6718676948007037 corr_score:0.671880304813385\n"
     ]
    },
    {
     "data": {
      "application/vnd.jupyter.widget-view+json": {
       "model_id": "0260a649f93848efbfcb3a13b7cc1c4f",
       "version_major": 2,
       "version_minor": 0
      },
      "text/plain": [
       "  0%|          | 0/706 [00:00<?, ?it/s]"
      ]
     },
     "metadata": {},
     "output_type": "display_data"
    },
    {
     "data": {
      "application/vnd.jupyter.widget-view+json": {
       "model_id": "d33a2fb8f4e24cb0b85b3a9617b6f237",
       "version_major": 2,
       "version_minor": 0
      },
      "text/plain": [
       "  0%|          | 0/353 [00:00<?, ?it/s]"
      ]
     },
     "metadata": {},
     "output_type": "display_data"
    },
    {
     "name": "stdout",
     "output_type": "stream",
     "text": [
      "Adjusting learning rate of group 0 to 1.0000e-04.\n",
      "epoch-6 train_loss:-0.6702692393878364 val_loss:-0.6721063024936924 corr_score:0.6721190214157104\n"
     ]
    },
    {
     "data": {
      "application/vnd.jupyter.widget-view+json": {
       "model_id": "0d86da6e01e84dd3890859a032a3b7b4",
       "version_major": 2,
       "version_minor": 0
      },
      "text/plain": [
       "  0%|          | 0/706 [00:00<?, ?it/s]"
      ]
     },
     "metadata": {},
     "output_type": "display_data"
    },
    {
     "data": {
      "application/vnd.jupyter.widget-view+json": {
       "model_id": "5deac1b8bd3c46aaab9d0e1aecde2787",
       "version_major": 2,
       "version_minor": 0
      },
      "text/plain": [
       "  0%|          | 0/353 [00:00<?, ?it/s]"
      ]
     },
     "metadata": {},
     "output_type": "display_data"
    },
    {
     "name": "stdout",
     "output_type": "stream",
     "text": [
      "Adjusting learning rate of group 0 to 1.0000e-04.\n",
      "epoch-7 train_loss:-0.6706034198361146 val_loss:-0.6721845848364465 corr_score:0.6721972823143005\n"
     ]
    },
    {
     "data": {
      "application/vnd.jupyter.widget-view+json": {
       "model_id": "f33eee8bde064b0d9c64898a8c75884e",
       "version_major": 2,
       "version_minor": 0
      },
      "text/plain": [
       "  0%|          | 0/706 [00:00<?, ?it/s]"
      ]
     },
     "metadata": {},
     "output_type": "display_data"
    },
    {
     "data": {
      "application/vnd.jupyter.widget-view+json": {
       "model_id": "eeae808d6b6248c1ba232f64fbc0a0cf",
       "version_major": 2,
       "version_minor": 0
      },
      "text/plain": [
       "  0%|          | 0/353 [00:00<?, ?it/s]"
      ]
     },
     "metadata": {},
     "output_type": "display_data"
    },
    {
     "name": "stdout",
     "output_type": "stream",
     "text": [
      "Adjusting learning rate of group 0 to 1.0000e-04.\n",
      "epoch-8 train_loss:-0.6709203098718572 val_loss:-0.672332763671875 corr_score:0.6723455786705017\n"
     ]
    },
    {
     "data": {
      "application/vnd.jupyter.widget-view+json": {
       "model_id": "4299a21c9249450e87bcbe85c39b55ab",
       "version_major": 2,
       "version_minor": 0
      },
      "text/plain": [
       "  0%|          | 0/706 [00:00<?, ?it/s]"
      ]
     },
     "metadata": {},
     "output_type": "display_data"
    },
    {
     "data": {
      "application/vnd.jupyter.widget-view+json": {
       "model_id": "eb201eb6aae34c38840cb9669d29b95c",
       "version_major": 2,
       "version_minor": 0
      },
      "text/plain": [
       "  0%|          | 0/353 [00:00<?, ?it/s]"
      ]
     },
     "metadata": {},
     "output_type": "display_data"
    },
    {
     "name": "stdout",
     "output_type": "stream",
     "text": [
      "Adjusting learning rate of group 0 to 1.0000e-04.\n",
      "epoch-9 train_loss:-0.6711498400982648 val_loss:-0.6724215931662757 corr_score:0.6724340915679932\n"
     ]
    },
    {
     "data": {
      "application/vnd.jupyter.widget-view+json": {
       "model_id": "425892fa6d544e189aabfa7fb1d3b7c5",
       "version_major": 2,
       "version_minor": 0
      },
      "text/plain": [
       "  0%|          | 0/706 [00:00<?, ?it/s]"
      ]
     },
     "metadata": {},
     "output_type": "display_data"
    },
    {
     "data": {
      "application/vnd.jupyter.widget-view+json": {
       "model_id": "aa4c1737f3d6405e9b1c731733fe29a1",
       "version_major": 2,
       "version_minor": 0
      },
      "text/plain": [
       "  0%|          | 0/353 [00:00<?, ?it/s]"
      ]
     },
     "metadata": {},
     "output_type": "display_data"
    },
    {
     "name": "stdout",
     "output_type": "stream",
     "text": [
      "Adjusting learning rate of group 0 to 1.0000e-04.\n",
      "epoch-10 train_loss:-0.6713906955448832 val_loss:-0.6725109845990838 corr_score:0.6725237965583801\n"
     ]
    },
    {
     "data": {
      "application/vnd.jupyter.widget-view+json": {
       "model_id": "d6fae1a30db84c08bcd3d3cdf465d8ad",
       "version_major": 2,
       "version_minor": 0
      },
      "text/plain": [
       "  0%|          | 0/706 [00:00<?, ?it/s]"
      ]
     },
     "metadata": {},
     "output_type": "display_data"
    },
    {
     "data": {
      "application/vnd.jupyter.widget-view+json": {
       "model_id": "b07017a186674760a14c6b52f43b0262",
       "version_major": 2,
       "version_minor": 0
      },
      "text/plain": [
       "  0%|          | 0/353 [00:00<?, ?it/s]"
      ]
     },
     "metadata": {},
     "output_type": "display_data"
    },
    {
     "name": "stdout",
     "output_type": "stream",
     "text": [
      "Adjusting learning rate of group 0 to 1.0000e-04.\n",
      "epoch-11 train_loss:-0.6715924746591714 val_loss:-0.6725514441644166 corr_score:0.6725640296936035\n"
     ]
    },
    {
     "data": {
      "application/vnd.jupyter.widget-view+json": {
       "model_id": "3ec13130e4f34c68a585984b83fae2b7",
       "version_major": 2,
       "version_minor": 0
      },
      "text/plain": [
       "  0%|          | 0/706 [00:00<?, ?it/s]"
      ]
     },
     "metadata": {},
     "output_type": "display_data"
    },
    {
     "data": {
      "application/vnd.jupyter.widget-view+json": {
       "model_id": "660f52c717444be3bc9d6861e4091ad0",
       "version_major": 2,
       "version_minor": 0
      },
      "text/plain": [
       "  0%|          | 0/353 [00:00<?, ?it/s]"
      ]
     },
     "metadata": {},
     "output_type": "display_data"
    },
    {
     "name": "stdout",
     "output_type": "stream",
     "text": [
      "Adjusting learning rate of group 0 to 1.0000e-04.\n",
      "epoch-12 train_loss:-0.6717564309960384 val_loss:-0.6726516421050593 corr_score:0.6726641654968262\n"
     ]
    },
    {
     "data": {
      "application/vnd.jupyter.widget-view+json": {
       "model_id": "5fe6b3e0e64247459d659e66169efae8",
       "version_major": 2,
       "version_minor": 0
      },
      "text/plain": [
       "  0%|          | 0/706 [00:00<?, ?it/s]"
      ]
     },
     "metadata": {},
     "output_type": "display_data"
    },
    {
     "data": {
      "application/vnd.jupyter.widget-view+json": {
       "model_id": "35a6ffe3ee924f50b6e2750be952c865",
       "version_major": 2,
       "version_minor": 0
      },
      "text/plain": [
       "  0%|          | 0/353 [00:00<?, ?it/s]"
      ]
     },
     "metadata": {},
     "output_type": "display_data"
    },
    {
     "name": "stdout",
     "output_type": "stream",
     "text": [
      "Adjusting learning rate of group 0 to 1.0000e-04.\n",
      "epoch-13 train_loss:-0.6719127363253585 val_loss:-0.6726503020980878 corr_score:0.6726630926132202\n"
     ]
    },
    {
     "data": {
      "application/vnd.jupyter.widget-view+json": {
       "model_id": "c2d91f2678e74ac88629698840da69bf",
       "version_major": 2,
       "version_minor": 0
      },
      "text/plain": [
       "  0%|          | 0/706 [00:00<?, ?it/s]"
      ]
     },
     "metadata": {},
     "output_type": "display_data"
    },
    {
     "data": {
      "application/vnd.jupyter.widget-view+json": {
       "model_id": "41560b2486dc4d5eb0e38e76c6e0b4cc",
       "version_major": 2,
       "version_minor": 0
      },
      "text/plain": [
       "  0%|          | 0/353 [00:00<?, ?it/s]"
      ]
     },
     "metadata": {},
     "output_type": "display_data"
    },
    {
     "name": "stdout",
     "output_type": "stream",
     "text": [
      "Adjusting learning rate of group 0 to 1.0000e-04.\n",
      "epoch-14 train_loss:-0.6720487686459808 val_loss:-0.6727174321247565 corr_score:0.6727299690246582\n"
     ]
    },
    {
     "data": {
      "application/vnd.jupyter.widget-view+json": {
       "model_id": "bfc6ed08654c4f54882f7a75e6dd635f",
       "version_major": 2,
       "version_minor": 0
      },
      "text/plain": [
       "  0%|          | 0/706 [00:00<?, ?it/s]"
      ]
     },
     "metadata": {},
     "output_type": "display_data"
    },
    {
     "data": {
      "application/vnd.jupyter.widget-view+json": {
       "model_id": "668dd4331d76494baf9f8f2da4fd48c6",
       "version_major": 2,
       "version_minor": 0
      },
      "text/plain": [
       "  0%|          | 0/353 [00:00<?, ?it/s]"
      ]
     },
     "metadata": {},
     "output_type": "display_data"
    },
    {
     "name": "stdout",
     "output_type": "stream",
     "text": [
      "Adjusting learning rate of group 0 to 1.0000e-04.\n",
      "epoch-15 train_loss:-0.672199324913133 val_loss:-0.6727514077853887 corr_score:0.6727640628814697\n"
     ]
    },
    {
     "data": {
      "application/vnd.jupyter.widget-view+json": {
       "model_id": "66e9f31fe2904f4aa20e09f17d833171",
       "version_major": 2,
       "version_minor": 0
      },
      "text/plain": [
       "  0%|          | 0/706 [00:00<?, ?it/s]"
      ]
     },
     "metadata": {},
     "output_type": "display_data"
    },
    {
     "data": {
      "application/vnd.jupyter.widget-view+json": {
       "model_id": "fc93da0a6ec0488b9559e020b9222a78",
       "version_major": 2,
       "version_minor": 0
      },
      "text/plain": [
       "  0%|          | 0/353 [00:00<?, ?it/s]"
      ]
     },
     "metadata": {},
     "output_type": "display_data"
    },
    {
     "name": "stdout",
     "output_type": "stream",
     "text": [
      "Adjusting learning rate of group 0 to 1.0000e-04.\n",
      "epoch-16 train_loss:-0.6723267120274876 val_loss:-0.6727292760573433 corr_score:0.6727415323257446\n"
     ]
    },
    {
     "data": {
      "application/vnd.jupyter.widget-view+json": {
       "model_id": "73865e13cf4f4577add5a076e40f06db",
       "version_major": 2,
       "version_minor": 0
      },
      "text/plain": [
       "  0%|          | 0/706 [00:00<?, ?it/s]"
      ]
     },
     "metadata": {},
     "output_type": "display_data"
    },
    {
     "data": {
      "application/vnd.jupyter.widget-view+json": {
       "model_id": "e575b1afa9c44a268de65bcd0b336180",
       "version_major": 2,
       "version_minor": 0
      },
      "text/plain": [
       "  0%|          | 0/353 [00:00<?, ?it/s]"
      ]
     },
     "metadata": {},
     "output_type": "display_data"
    },
    {
     "name": "stdout",
     "output_type": "stream",
     "text": [
      "Adjusting learning rate of group 0 to 1.0000e-04.\n",
      "epoch-17 train_loss:-0.672462874026204 val_loss:-0.6727465664698787 corr_score:0.6727595925331116\n"
     ]
    },
    {
     "data": {
      "application/vnd.jupyter.widget-view+json": {
       "model_id": "2bdfefada19546458caf211dd7218abd",
       "version_major": 2,
       "version_minor": 0
      },
      "text/plain": [
       "  0%|          | 0/706 [00:00<?, ?it/s]"
      ]
     },
     "metadata": {},
     "output_type": "display_data"
    },
    {
     "data": {
      "application/vnd.jupyter.widget-view+json": {
       "model_id": "cb5488360f6d451ebb261a082e65442d",
       "version_major": 2,
       "version_minor": 0
      },
      "text/plain": [
       "  0%|          | 0/353 [00:00<?, ?it/s]"
      ]
     },
     "metadata": {},
     "output_type": "display_data"
    },
    {
     "name": "stdout",
     "output_type": "stream",
     "text": [
      "Adjusting learning rate of group 0 to 1.0000e-04.\n",
      "epoch-18 train_loss:-0.6725800597971627 val_loss:-0.672820655887593 corr_score:0.6728331446647644\n"
     ]
    },
    {
     "data": {
      "application/vnd.jupyter.widget-view+json": {
       "model_id": "eed2e89d164a4fd1b4ebfc00277e4a94",
       "version_major": 2,
       "version_minor": 0
      },
      "text/plain": [
       "  0%|          | 0/706 [00:00<?, ?it/s]"
      ]
     },
     "metadata": {},
     "output_type": "display_data"
    },
    {
     "data": {
      "application/vnd.jupyter.widget-view+json": {
       "model_id": "0a39c114c9a94fb7aa174716fd2ee524",
       "version_major": 2,
       "version_minor": 0
      },
      "text/plain": [
       "  0%|          | 0/353 [00:00<?, ?it/s]"
      ]
     },
     "metadata": {},
     "output_type": "display_data"
    },
    {
     "name": "stdout",
     "output_type": "stream",
     "text": [
      "Adjusting learning rate of group 0 to 1.0000e-05.\n",
      "epoch-19 train_loss:-0.6726975913763722 val_loss:-0.6728225578329718 corr_score:0.672835111618042\n"
     ]
    },
    {
     "data": {
      "application/vnd.jupyter.widget-view+json": {
       "model_id": "fadf319e71034a8fb84b9f69a031edb7",
       "version_major": 2,
       "version_minor": 0
      },
      "text/plain": [
       "  0%|          | 0/706 [00:00<?, ?it/s]"
      ]
     },
     "metadata": {},
     "output_type": "display_data"
    },
    {
     "data": {
      "application/vnd.jupyter.widget-view+json": {
       "model_id": "d700b17454294da594a368575acc79a4",
       "version_major": 2,
       "version_minor": 0
      },
      "text/plain": [
       "  0%|          | 0/353 [00:00<?, ?it/s]"
      ]
     },
     "metadata": {},
     "output_type": "display_data"
    },
    {
     "name": "stdout",
     "output_type": "stream",
     "text": [
      "Adjusting learning rate of group 0 to 1.0000e-05.\n",
      "epoch-20 train_loss:-0.6732129753480214 val_loss:-0.6730662661976584 corr_score:0.6730790138244629\n"
     ]
    },
    {
     "data": {
      "application/vnd.jupyter.widget-view+json": {
       "model_id": "be4dc5e18bfa465b9f2aaafcbed60541",
       "version_major": 2,
       "version_minor": 0
      },
      "text/plain": [
       "  0%|          | 0/706 [00:00<?, ?it/s]"
      ]
     },
     "metadata": {},
     "output_type": "display_data"
    },
    {
     "data": {
      "application/vnd.jupyter.widget-view+json": {
       "model_id": "c5c867bf83b34a4e9e9885b81f0342de",
       "version_major": 2,
       "version_minor": 0
      },
      "text/plain": [
       "  0%|          | 0/353 [00:00<?, ?it/s]"
      ]
     },
     "metadata": {},
     "output_type": "display_data"
    },
    {
     "name": "stdout",
     "output_type": "stream",
     "text": [
      "Adjusting learning rate of group 0 to 1.0000e-05.\n",
      "epoch-21 train_loss:-0.6733108390829718 val_loss:-0.6730795798153107 corr_score:0.6730923056602478\n"
     ]
    },
    {
     "data": {
      "application/vnd.jupyter.widget-view+json": {
       "model_id": "7ce97254a36a4278bcfa1137f28d4245",
       "version_major": 2,
       "version_minor": 0
      },
      "text/plain": [
       "  0%|          | 0/706 [00:00<?, ?it/s]"
      ]
     },
     "metadata": {},
     "output_type": "display_data"
    },
    {
     "data": {
      "application/vnd.jupyter.widget-view+json": {
       "model_id": "9732afca5264495ebf6a2606992fd4c7",
       "version_major": 2,
       "version_minor": 0
      },
      "text/plain": [
       "  0%|          | 0/353 [00:00<?, ?it/s]"
      ]
     },
     "metadata": {},
     "output_type": "display_data"
    },
    {
     "name": "stdout",
     "output_type": "stream",
     "text": [
      "Adjusting learning rate of group 0 to 1.0000e-05.\n",
      "epoch-22 train_loss:-0.6733407514966581 val_loss:-0.6730793636851541 corr_score:0.6730917096138\n"
     ]
    },
    {
     "data": {
      "application/vnd.jupyter.widget-view+json": {
       "model_id": "29f18821cb4646f6a26af9c7d9d34e58",
       "version_major": 2,
       "version_minor": 0
      },
      "text/plain": [
       "  0%|          | 0/706 [00:00<?, ?it/s]"
      ]
     },
     "metadata": {},
     "output_type": "display_data"
    },
    {
     "data": {
      "application/vnd.jupyter.widget-view+json": {
       "model_id": "37fba72ebba140beb64ad68c6e633984",
       "version_major": 2,
       "version_minor": 0
      },
      "text/plain": [
       "  0%|          | 0/353 [00:00<?, ?it/s]"
      ]
     },
     "metadata": {},
     "output_type": "display_data"
    },
    {
     "name": "stdout",
     "output_type": "stream",
     "text": [
      "Adjusting learning rate of group 0 to 1.0000e-05.\n",
      "epoch-23 train_loss:-0.6733756781299797 val_loss:-0.6730741765613935 corr_score:0.6730868220329285\n"
     ]
    },
    {
     "data": {
      "application/vnd.jupyter.widget-view+json": {
       "model_id": "645f0bf3ccaa4d0091909873133cb4a3",
       "version_major": 2,
       "version_minor": 0
      },
      "text/plain": [
       "  0%|          | 0/706 [00:00<?, ?it/s]"
      ]
     },
     "metadata": {},
     "output_type": "display_data"
    },
    {
     "data": {
      "application/vnd.jupyter.widget-view+json": {
       "model_id": "2bbec4d033de44e8a2f1475585337d7c",
       "version_major": 2,
       "version_minor": 0
      },
      "text/plain": [
       "  0%|          | 0/353 [00:00<?, ?it/s]"
      ]
     },
     "metadata": {},
     "output_type": "display_data"
    },
    {
     "name": "stdout",
     "output_type": "stream",
     "text": [
      "Adjusting learning rate of group 0 to 1.0000e-06.\n",
      "epoch-24 train_loss:-0.6733987176046831 val_loss:-0.673079104328966 corr_score:0.6730915307998657\n"
     ]
    },
    {
     "data": {
      "application/vnd.jupyter.widget-view+json": {
       "model_id": "8e0f2d38abd9414e9a42b5b3f8a043dc",
       "version_major": 2,
       "version_minor": 0
      },
      "text/plain": [
       "  0%|          | 0/706 [00:00<?, ?it/s]"
      ]
     },
     "metadata": {},
     "output_type": "display_data"
    },
    {
     "data": {
      "application/vnd.jupyter.widget-view+json": {
       "model_id": "d84628435fa4498ea9938cde297924c7",
       "version_major": 2,
       "version_minor": 0
      },
      "text/plain": [
       "  0%|          | 0/353 [00:00<?, ?it/s]"
      ]
     },
     "metadata": {},
     "output_type": "display_data"
    },
    {
     "name": "stdout",
     "output_type": "stream",
     "text": [
      "Adjusting learning rate of group 0 to 1.0000e-06.\n",
      "epoch-25 train_loss:-0.6734524907876682 val_loss:-0.6730865824323876 corr_score:0.6730991005897522\n"
     ]
    },
    {
     "data": {
      "application/vnd.jupyter.widget-view+json": {
       "model_id": "0d2a420ea4304d1ba34cc5774e92f568",
       "version_major": 2,
       "version_minor": 0
      },
      "text/plain": [
       "  0%|          | 0/706 [00:00<?, ?it/s]"
      ]
     },
     "metadata": {},
     "output_type": "display_data"
    },
    {
     "data": {
      "application/vnd.jupyter.widget-view+json": {
       "model_id": "c9a04aa221af4935a6ef1b039fb63d2a",
       "version_major": 2,
       "version_minor": 0
      },
      "text/plain": [
       "  0%|          | 0/353 [00:00<?, ?it/s]"
      ]
     },
     "metadata": {},
     "output_type": "display_data"
    },
    {
     "name": "stdout",
     "output_type": "stream",
     "text": [
      "Adjusting learning rate of group 0 to 1.0000e-06.\n",
      "epoch-26 train_loss:-0.6734706024947991 val_loss:-0.6730893921244245 corr_score:0.673102080821991\n"
     ]
    },
    {
     "data": {
      "application/vnd.jupyter.widget-view+json": {
       "model_id": "94ee2f82cb2f44e6935cb51caa454996",
       "version_major": 2,
       "version_minor": 0
      },
      "text/plain": [
       "  0%|          | 0/706 [00:00<?, ?it/s]"
      ]
     },
     "metadata": {},
     "output_type": "display_data"
    },
    {
     "data": {
      "application/vnd.jupyter.widget-view+json": {
       "model_id": "723f877271ee41968d7d3085641942e6",
       "version_major": 2,
       "version_minor": 0
      },
      "text/plain": [
       "  0%|          | 0/353 [00:00<?, ?it/s]"
      ]
     },
     "metadata": {},
     "output_type": "display_data"
    },
    {
     "name": "stdout",
     "output_type": "stream",
     "text": [
      "Adjusting learning rate of group 0 to 1.0000e-06.\n",
      "epoch-27 train_loss:-0.6734748818719015 val_loss:-0.6730892192202992 corr_score:0.6731019616127014\n"
     ]
    },
    {
     "data": {
      "application/vnd.jupyter.widget-view+json": {
       "model_id": "4c4a7543dd704da18f1269c94670cfa4",
       "version_major": 2,
       "version_minor": 0
      },
      "text/plain": [
       "  0%|          | 0/706 [00:00<?, ?it/s]"
      ]
     },
     "metadata": {},
     "output_type": "display_data"
    },
    {
     "data": {
      "application/vnd.jupyter.widget-view+json": {
       "model_id": "6874bff64d9944b285028007136e9a90",
       "version_major": 2,
       "version_minor": 0
      },
      "text/plain": [
       "  0%|          | 0/353 [00:00<?, ?it/s]"
      ]
     },
     "metadata": {},
     "output_type": "display_data"
    },
    {
     "name": "stdout",
     "output_type": "stream",
     "text": [
      "Adjusting learning rate of group 0 to 1.0000e-06.\n",
      "epoch-28 train_loss:-0.6734725908922407 val_loss:-0.6730896947066439 corr_score:0.6731021404266357\n"
     ]
    },
    {
     "data": {
      "application/vnd.jupyter.widget-view+json": {
       "model_id": "72eb0da69ebb4113980d16edc453b8f1",
       "version_major": 2,
       "version_minor": 0
      },
      "text/plain": [
       "  0%|          | 0/706 [00:00<?, ?it/s]"
      ]
     },
     "metadata": {},
     "output_type": "display_data"
    },
    {
     "data": {
      "application/vnd.jupyter.widget-view+json": {
       "model_id": "b4076364fe144a92a30460fda0d22710",
       "version_major": 2,
       "version_minor": 0
      },
      "text/plain": [
       "  0%|          | 0/353 [00:00<?, ?it/s]"
      ]
     },
     "metadata": {},
     "output_type": "display_data"
    },
    {
     "name": "stdout",
     "output_type": "stream",
     "text": [
      "Adjusting learning rate of group 0 to 1.0000e-07.\n",
      "epoch-29 train_loss:-0.6734770863994998 val_loss:-0.6730896947066439 corr_score:0.6731023788452148\n"
     ]
    },
    {
     "data": {
      "application/vnd.jupyter.widget-view+json": {
       "model_id": "33a1e50a717849e98e48b94a5104f974",
       "version_major": 2,
       "version_minor": 0
      },
      "text/plain": [
       "  0%|          | 0/706 [00:00<?, ?it/s]"
      ]
     },
     "metadata": {},
     "output_type": "display_data"
    },
    {
     "data": {
      "application/vnd.jupyter.widget-view+json": {
       "model_id": "8969e97b6deb40f6a9f3b6a1d030a4ba",
       "version_major": 2,
       "version_minor": 0
      },
      "text/plain": [
       "  0%|          | 0/353 [00:00<?, ?it/s]"
      ]
     },
     "metadata": {},
     "output_type": "display_data"
    },
    {
     "name": "stdout",
     "output_type": "stream",
     "text": [
      "Adjusting learning rate of group 0 to 1.0000e-07.\n",
      "epoch-30 train_loss:-0.673491912928249 val_loss:-0.6730893921244245 corr_score:0.6731019616127014\n"
     ]
    },
    {
     "data": {
      "application/vnd.jupyter.widget-view+json": {
       "model_id": "79e18efde822401da499ed88c7e7c61d",
       "version_major": 2,
       "version_minor": 0
      },
      "text/plain": [
       "  0%|          | 0/706 [00:00<?, ?it/s]"
      ]
     },
     "metadata": {},
     "output_type": "display_data"
    },
    {
     "data": {
      "application/vnd.jupyter.widget-view+json": {
       "model_id": "df6cffd43d434dbe94625f771c432da3",
       "version_major": 2,
       "version_minor": 0
      },
      "text/plain": [
       "  0%|          | 0/353 [00:00<?, ?it/s]"
      ]
     },
     "metadata": {},
     "output_type": "display_data"
    },
    {
     "name": "stdout",
     "output_type": "stream",
     "text": [
      "Adjusting learning rate of group 0 to 1.0000e-07.\n",
      "epoch-31 train_loss:-0.6734883251676479 val_loss:-0.6730893921244245 corr_score:0.6731019616127014\n"
     ]
    },
    {
     "data": {
      "application/vnd.jupyter.widget-view+json": {
       "model_id": "3c58bdbce5544c4b953438ad0dd9f738",
       "version_major": 2,
       "version_minor": 0
      },
      "text/plain": [
       "  0%|          | 0/706 [00:00<?, ?it/s]"
      ]
     },
     "metadata": {},
     "output_type": "display_data"
    },
    {
     "data": {
      "application/vnd.jupyter.widget-view+json": {
       "model_id": "1e1a9f766c6843c3a71bd776d73ae1ad",
       "version_major": 2,
       "version_minor": 0
      },
      "text/plain": [
       "  0%|          | 0/353 [00:00<?, ?it/s]"
      ]
     },
     "metadata": {},
     "output_type": "display_data"
    },
    {
     "name": "stdout",
     "output_type": "stream",
     "text": [
      "Adjusting learning rate of group 0 to 1.0000e-07.\n",
      "epoch-32 train_loss:-0.6734859909619556 val_loss:-0.6730895218025186 corr_score:0.6731019020080566\n"
     ]
    },
    {
     "data": {
      "application/vnd.jupyter.widget-view+json": {
       "model_id": "c8e8db8612ec4199b51dfa7fc2d95fcb",
       "version_major": 2,
       "version_minor": 0
      },
      "text/plain": [
       "  0%|          | 0/706 [00:00<?, ?it/s]"
      ]
     },
     "metadata": {},
     "output_type": "display_data"
    },
    {
     "data": {
      "application/vnd.jupyter.widget-view+json": {
       "model_id": "e4c3bee3162241509944b9fab435bfde",
       "version_major": 2,
       "version_minor": 0
      },
      "text/plain": [
       "  0%|          | 0/353 [00:00<?, ?it/s]"
      ]
     },
     "metadata": {},
     "output_type": "display_data"
    },
    {
     "name": "stdout",
     "output_type": "stream",
     "text": [
      "Adjusting learning rate of group 0 to 1.0000e-07.\n",
      "epoch-33 train_loss:-0.6734732392827107 val_loss:-0.6730894785764873 corr_score:0.6731020212173462\n"
     ]
    },
    {
     "data": {
      "application/vnd.jupyter.widget-view+json": {
       "model_id": "d0f5e37071864e8394f9ed9f7fb7c470",
       "version_major": 2,
       "version_minor": 0
      },
      "text/plain": [
       "  0%|          | 0/706 [00:00<?, ?it/s]"
      ]
     },
     "metadata": {},
     "output_type": "display_data"
    },
    {
     "data": {
      "application/vnd.jupyter.widget-view+json": {
       "model_id": "d01b99cbb02e4dfdbe0d7d8c644dfa6d",
       "version_major": 2,
       "version_minor": 0
      },
      "text/plain": [
       "  0%|          | 0/353 [00:00<?, ?it/s]"
      ]
     },
     "metadata": {},
     "output_type": "display_data"
    },
    {
     "name": "stdout",
     "output_type": "stream",
     "text": [
      "Adjusting learning rate of group 0 to 1.0000e-08.\n",
      "epoch-34 train_loss:-0.6734802851258189 val_loss:-0.6730890030901425 corr_score:0.6731016039848328\n"
     ]
    },
    {
     "data": {
      "application/vnd.jupyter.widget-view+json": {
       "model_id": "3bdfa118f50a4ee4afa1a8b4061aced5",
       "version_major": 2,
       "version_minor": 0
      },
      "text/plain": [
       "  0%|          | 0/706 [00:00<?, ?it/s]"
      ]
     },
     "metadata": {},
     "output_type": "display_data"
    },
    {
     "data": {
      "application/vnd.jupyter.widget-view+json": {
       "model_id": "3762f00552464ad39c78b181e3312eb1",
       "version_major": 2,
       "version_minor": 0
      },
      "text/plain": [
       "  0%|          | 0/353 [00:00<?, ?it/s]"
      ]
     },
     "metadata": {},
     "output_type": "display_data"
    },
    {
     "name": "stdout",
     "output_type": "stream",
     "text": [
      "Adjusting learning rate of group 0 to 1.0000e-08.\n",
      "epoch-35 train_loss:-0.6734820141670724 val_loss:-0.6730890030901425 corr_score:0.6731017231941223\n",
      "out of patience\n",
      "\n",
      "\n",
      "Final average score is 0.6726819276809692\n"
     ]
    }
   ],
   "source": [
    "if torch.cuda.is_available():\n",
    "    device = torch.device(\"cuda:0\")\n",
    "    print(f\"machine has {torch.cuda.device_count()} cuda devices\")\n",
    "    print(f\"model of first cuda device is {torch.cuda.get_device_name(0)}\")\n",
    "else:\n",
    "    device = torch.device(\"cpu\")\n",
    "\n",
    "trainer = Multi_Trainer(device,config)\n",
    "kfold = KFold(n_splits=config[\"n_folds\"],shuffle=True, random_state=config[\"kfold_random_state\"]) #\n",
    "FOLDS_LIST = list(kfold.split(range(train_inputs.shape[0]))) #,groups= meta_train.donor\n",
    "print(\"Training started\")\n",
    "fold_scores = []\n",
    "for num_fold in config[\"folds_to_train\"]:\n",
    "    model = MLP(config)\n",
    "    best_score = trainer.train_one_fold(num_fold,FOLDS_LIST,train_inputs,train_targets,model,components)\n",
    "    fold_scores.append(best_score)\n",
    "print(\"\\n\")\n",
    "print(f\"Final average score is {sum(fold_scores)/len(fold_scores)}\")"
   ]
  },
  {
   "cell_type": "code",
   "execution_count": 27,
   "metadata": {},
   "outputs": [
    {
     "data": {
      "text/plain": [
       "0.6725666666666666"
      ]
     },
     "execution_count": 27,
     "metadata": {},
     "output_type": "execute_result"
    }
   ],
   "source": [
    "np.mean(fold_scores)"
   ]
  },
  {
   "cell_type": "code",
   "execution_count": null,
   "metadata": {},
   "outputs": [
    {
     "data": {
      "text/plain": [
       "[tensor(0.6720), tensor(0.6719), tensor(0.6727)]"
      ]
     },
     "execution_count": 18,
     "metadata": {},
     "output_type": "execute_result"
    }
   ],
   "source": [
    "# [tensor(0.6723),tensor(0.6723), tensor(0.6731)]"
   ]
  },
  {
   "cell_type": "code",
   "execution_count": 15,
   "metadata": {},
   "outputs": [],
   "source": [
    "fold_scores # [0.6723,0.6723,0.6731]"
   ]
  },
  {
   "cell_type": "code",
   "execution_count": 16,
   "metadata": {},
   "outputs": [],
   "source": [
    "class Tester:\n",
    "    def __init__(self,device,config):\n",
    "        self.device = device\n",
    "        self.config = config\n",
    "      \n",
    "    def std(self,x):\n",
    "        return (x - np.mean(x,axis=1).reshape(-1,1)) / np.std(x,axis=1).reshape(-1,1)\n",
    "\n",
    "    def test_fn_ensemble(self,model_list, dl_test):\n",
    "        \n",
    "        res = np.zeros(\n",
    "            (self.len, 23418), )\n",
    "        \n",
    "        for model in model_list:\n",
    "            model.eval()\n",
    "            \n",
    "        cur = 0\n",
    "        for inpt in tqdm(dl_test):\n",
    "            inpt = inpt[0]\n",
    "            \n",
    "            with torch.no_grad():\n",
    "                pred_list = []\n",
    "                inpt = inpt.to(self.device)\n",
    "                # print(\"inpt\",inpt.shape)\n",
    "                for id,model in enumerate(model_list):\n",
    "                    model.to(self.device)\n",
    "                    model.eval()\n",
    "                    pred = model(inpt)\n",
    "                    model.to(\"cpu\")\n",
    "                    # print(\"pred\",pred.shape)\n",
    "                    pred = self.std(pred.cpu().numpy()@pca2.components_) * self.weight[id]\n",
    "                    pred_list.append(pred)\n",
    "                pred = sum(pred_list)/len(pred_list)\n",
    "                \n",
    "            # print(res.shape, cur, cur+pred.shape[0], res[cur:cur+pred.shape[0]].shape, pred.shape)\n",
    "            res[cur:cur+pred.shape[0]] = pred\n",
    "            cur += pred.shape[0]\n",
    "                \n",
    "        return {\"preds\":res}\n",
    "\n",
    "    def load_model(self,path ):\n",
    "        model_list = []\n",
    "        for fn in tqdm(glob.glob(path)):\n",
    "            prefix = fn[:-len(\"_best_params.pth\")]\n",
    "            config_fn = prefix + \"_config.pkl\"\n",
    "            \n",
    "            config = pickle.load(open(config_fn, \"rb\"))\n",
    "\n",
    "            model = MLP(config)\n",
    "            model.to(\"cpu\")\n",
    "            \n",
    "            params = torch.load(fn)\n",
    "            model.load_state_dict(params)\n",
    "            \n",
    "            model_list.append(model)\n",
    "        print(\"model loaded\")\n",
    "        return model_list\n",
    "    \n",
    "    def load_data(self,ds_test ):\n",
    "        self.len = ds_test.shape[0]\n",
    "        return ds_test\n",
    "\n",
    "    def test(self,data_path,model_path = \"./*_best_params.pth\",weight = fold_scores):\n",
    "        self.weight = weight\n",
    "        model_list = self.load_model(model_path)\n",
    "        test_inputs = self.load_data(data_path)\n",
    "        ds_test = torch.utils.data.TensorDataset(test_inputs)\n",
    "        gc.collect()\n",
    "        dl_test = torch.utils.data.DataLoader(ds_test, batch_size=1024, shuffle=False, drop_last=False)\n",
    "        test_pred = self.test_fn_ensemble(model_list, dl_test)[\"preds\"]\n",
    "        del model_list\n",
    "        del dl_test\n",
    "        del test_inputs\n",
    "        gc.collect()\n",
    "        print(test_pred.shape)\n",
    "        np.save(\"test_pred.npy\",test_pred)\n",
    "        return test_pred\n",
    "        "
   ]
  },
  {
   "cell_type": "code",
   "execution_count": 15,
   "metadata": {},
   "outputs": [
    {
     "data": {
      "text/plain": [
       "torch.Size([55935, 514])"
      ]
     },
     "execution_count": 15,
     "metadata": {},
     "output_type": "execute_result"
    }
   ],
   "source": [
    "test = np.load(raw_path+\"new_multi_test_tsvd.npz\")[\"arr_0\"]  # tsvd\n",
    "test_index = np.load(f\"../../../input/multimodal-single-cell-as-sparse-matrix/test_multi_inputs_idxcol.npz\",allow_pickle=True)\n",
    "\n",
    "meta_test= meta.reindex(test_index[\"index\"])\n",
    "test_meta = meta_test[\"gender\"].values.reshape(-1, 1)\n",
    "test = np.concatenate([test,test_meta],axis= -1)\n",
    "test_meta = meta_test[\"cell_type\"].values.reshape(-1, 1)\n",
    "test = np.concatenate([test,test_meta],axis= -1)\n",
    "test = torch.tensor(test,dtype=torch.float)\n",
    "test.shape"
   ]
  },
  {
   "cell_type": "code",
   "execution_count": 23,
   "metadata": {},
   "outputs": [
    {
     "data": {
      "application/vnd.jupyter.widget-view+json": {
       "model_id": "1e947f91b5e04b29884ba609ffd039b7",
       "version_major": 2,
       "version_minor": 0
      },
      "text/plain": [
       "  0%|          | 0/3 [00:00<?, ?it/s]"
      ]
     },
     "metadata": {},
     "output_type": "display_data"
    },
    {
     "name": "stdout",
     "output_type": "stream",
     "text": [
      "model loaded\n"
     ]
    },
    {
     "data": {
      "application/vnd.jupyter.widget-view+json": {
       "model_id": "49c1794311954aebb60d3d950e72f966",
       "version_major": 2,
       "version_minor": 0
      },
      "text/plain": [
       "  0%|          | 0/55 [00:00<?, ?it/s]"
      ]
     },
     "metadata": {},
     "output_type": "display_data"
    },
    {
     "name": "stdout",
     "output_type": "stream",
     "text": [
      "(55935, 23418)\n"
     ]
    }
   ],
   "source": [
    "\n",
    "tester = Tester( torch.device(\"cuda\"),config)\n",
    "test_pred = tester.test(test)"
   ]
  },
  {
   "cell_type": "code",
   "execution_count": null,
   "metadata": {},
   "outputs": [],
   "source": []
  },
  {
   "cell_type": "code",
   "execution_count": 24,
   "metadata": {},
   "outputs": [
    {
     "data": {
      "text/plain": [
       "(55935, 23418)"
      ]
     },
     "execution_count": 24,
     "metadata": {},
     "output_type": "execute_result"
    }
   ],
   "source": [
    "import numpy as np\n",
    "import pandas as pd\n",
    "import gc\n",
    "# test_pred = np.load(\"test_pred.npy\")\n",
    "test_pred.shape"
   ]
  },
  {
   "cell_type": "code",
   "execution_count": 25,
   "metadata": {},
   "outputs": [],
   "source": [
    "def submit(test_pred,cite_path = r\"C:\\Users\\Olive\\Downloads\\Compressed\\submission_best.zip\"):\n",
    "    \n",
    "    # Read the table of rows and columns required for submission\n",
    "    eval_ids = pd.read_parquet(\"../data/others/evaluation.parquet\")\n",
    "\n",
    "    # Convert the string columns to more efficient categorical types\n",
    "    #eval_ids.cell_id = eval_ids.cell_id.apply(lambda s: int(s, base=16))\n",
    "\n",
    "    eval_ids.cell_id = eval_ids.cell_id.astype(pd.CategoricalDtype())\n",
    "    eval_ids.gene_id = eval_ids.gene_id.astype(pd.CategoricalDtype())\n",
    "\n",
    "    submission = pd.Series(name='target',\n",
    "                       index=pd.MultiIndex.from_frame(eval_ids), \n",
    "                       dtype=np.float32)\n",
    "    print(\"data loaded\")\n",
    "    y_columns = np.load(\"../data/others/train_multi_targets_idxcol.npz\",allow_pickle=True)[\"columns\"]\n",
    "    test_index = np.load(\"../data/others/test_multi_inputs_idxcol.npz\",allow_pickle=True)[\"index\"]\n",
    "\n",
    "    cell_dict = dict((k,v) for v,k in enumerate(test_index)) \n",
    "    assert len(cell_dict)  == len(test_index)\n",
    "\n",
    "    gene_dict = dict((k,v) for v,k in enumerate(y_columns))\n",
    "    assert len(gene_dict) == len(y_columns)\n",
    "\n",
    "    eval_ids_cell_num = eval_ids.cell_id.apply(lambda x:cell_dict.get(x, -1))\n",
    "    eval_ids_gene_num = eval_ids.gene_id.apply(lambda x:gene_dict.get(x, -1))\n",
    "\n",
    "    valid_multi_rows = (eval_ids_gene_num !=-1) & (eval_ids_cell_num!=-1)\n",
    "    valid_multi_rows = valid_multi_rows.to_numpy()\n",
    "    eval_ids_gene_num[valid_multi_rows].to_numpy()\n",
    "    \n",
    "    submission.iloc[valid_multi_rows] = test_pred[eval_ids_cell_num[valid_multi_rows].to_numpy(),\n",
    "    eval_ids_gene_num[valid_multi_rows].to_numpy()]\n",
    "\n",
    "    del eval_ids_cell_num, eval_ids_gene_num, valid_multi_rows, eval_ids, test_index, y_columns\n",
    "    gc.collect()\n",
    "\n",
    "    submission.reset_index(drop=True, inplace=True)\n",
    "    submission.index.name = 'row_id'\n",
    "\n",
    "    # Merging in the CITEseq submission\n",
    "    cite_submission = pd.read_csv(cite_path)\n",
    "    cite_submission = cite_submission.set_index(\"row_id\")\n",
    "    cite_submission = cite_submission[\"target\"]\n",
    "\n",
    "    submission[submission.isnull()] = cite_submission[submission.isnull()]\n",
    "    submission.isnull().any()\n",
    "    print(\"start -> submission.zip\")\n",
    "    submission.to_csv(\"submission.zip\")\n",
    "\n",
    "    print(\"submission.zip saved!\")\n"
   ]
  },
  {
   "cell_type": "code",
   "execution_count": 26,
   "metadata": {},
   "outputs": [
    {
     "name": "stdout",
     "output_type": "stream",
     "text": [
      "data loaded\n",
      "start -> submission.zip\n",
      "submission.zip saved!\n"
     ]
    }
   ],
   "source": [
    "submit(test_pred,cite_path=r\"D:\\python_project\\MSCI\\model_ensemble\\submission_best.zip\")"
   ]
  }
 ],
 "metadata": {
  "kernelspec": {
   "display_name": "Python 3.9.12 ('base')",
   "language": "python",
   "name": "python3"
  },
  "language_info": {
   "codemirror_mode": {
    "name": "ipython",
    "version": 3
   },
   "file_extension": ".py",
   "mimetype": "text/x-python",
   "name": "python",
   "nbconvert_exporter": "python",
   "pygments_lexer": "ipython3",
   "version": "3.9.12"
  },
  "vscode": {
   "interpreter": {
    "hash": "ad2bdc8ecc057115af97d19610ffacc2b4e99fae6737bb82f5d7fb13d2f2c186"
   }
  }
 },
 "nbformat": 4,
 "nbformat_minor": 4
}
